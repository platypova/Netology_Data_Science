{
 "cells": [
  {
   "cell_type": "markdown",
   "id": "f25a8396",
   "metadata": {},
   "source": [
    "# Домашнее задание"
   ]
  },
  {
   "cell_type": "markdown",
   "id": "4809b62b",
   "metadata": {},
   "source": [
    "### Классификация по тональности\n",
    "В этом домашнем задании вам предстоит классифицировать по тональности отзывы на банки с сайта banki.ru.\n",
    "\n",
    "Данные содержат непосредственно тексты отзывов, некоторую дополнительную информацию, а также оценку по шкале от 1 до 5.\n",
    "\n",
    "Тексты хранятся в json-ах в массиве responses.\n",
    "\n",
    "Посмотрим на примере отзыва: возьмите для удобства ноутбук, размещенный в папке репозитория.\n",
    "\n",
    "\n",
    "### Часть 1. Анализ текстов\n",
    "1. Посчитайте количество отзывов в разных городах и на разные банки\n",
    "2. Постройте гистограмы длин слов в символах и в словах\n",
    "3. Найдите 10 самых частых:\n",
    "- слов\n",
    "- слов без стоп-слов\n",
    "- лемм\n",
    "- существительных\n",
    "\n",
    "4. Постройте кривые Ципфа и Хипса\n",
    "5. Ответьте на следующие вопросы:\n",
    "- какое слово встречается чаще, \"сотрудник\" или \"клиент\"?\n",
    "- сколько раз встречается слова \"мошенничество\" и \"доверие\"?\n",
    "\n",
    "6. В поле \"rating_grade\" записана оценка отзыва по шкале от 1 до 5. Используйте меру $tf-idf$, для того, чтобы найти ключевые слова и биграмы для положительных отзывов (с оценкой 5) и отрицательных отзывов (с оценкой 1)\n",
    "\n",
    "### Часть 2. Тематическое моделирование\n",
    "1. Постройте несколько тематических моделей коллекции документов с разным числом тем. Приведите примеры понятных (интерпретируемых) тем.\n",
    "2. Найдите темы, в которых упомянуты конкретные банки (Сбербанк, ВТБ, другой банк). Можете ли вы их прокомментировать / объяснить?\n",
    "Эта часть задания может быть сделана с использованием gensim.\n",
    "\n",
    "### Часть 3. Классификация текстов\n",
    "Сформулируем для простоты задачу бинарной классификации: будем классифицировать на два класса, то есть, различать резко отрицательные отзывы (с оценкой 1) и положительные отзывы (с оценкой 5).\n",
    "\n",
    "1. Составьте обучающее и тестовое множество: выберите из всего набора данных N1 отзывов с оценкой 1 и N2 отзывов с оценкой 5 (значение N1 и N2 – на ваше усмотрение). Используйте sklearn.model_selection.train_test_split для разделения множества отобранных документов на обучающее и тестовое.\n",
    "2. Используйте любой известный вам алгоритм классификации текстов для решения задачи и получите baseline. Сравните разные варианты векторизации текста: использование только униграм, пар или троек слов или с использованием символьных $n$-грам.\n",
    "3. Сравните, как изменяется качество решения задачи при использовании скрытых тем в качестве признаков:\n",
    "- 1-ый вариант: $tf-idf$ преобразование (sklearn.feature_extraction.text.TfidfTransformer) и сингулярное разложение (оно же – латентый семантический анализ) (sklearn.decomposition.TruncatedSVD),\n",
    "- 2-ой вариант: тематические модели LDA (sklearn.decomposition.LatentDirichletAllocation).\n",
    "Используйте accuracy и F-measure для оценки качества классификации.\n",
    "\n",
    "В ноутбуке, размещенном в папке репозитория. написан примерный Pipeline для классификации текстов.\n",
    "\n",
    "Эта часть задания может быть сделана с использованием sklearn."
   ]
  },
  {
   "cell_type": "markdown",
   "id": "8621cb2f",
   "metadata": {},
   "source": [
    "## Посмотрим пример отзыва"
   ]
  },
  {
   "cell_type": "code",
   "execution_count": 1,
   "id": "067d823a",
   "metadata": {
    "scrolled": true
   },
   "outputs": [],
   "source": [
    "import json\n",
    "\n",
    "import bz2\n",
    "import regex\n",
    "from tqdm import tqdm\n",
    "from scipy import sparse\n",
    "import seaborn as sns\n",
    "import re\n",
    "from tqdm import tqdm_notebook as tqdm\n",
    "from collections import Counter"
   ]
  },
  {
   "cell_type": "code",
   "execution_count": 2,
   "id": "b1313c2a",
   "metadata": {
    "scrolled": true
   },
   "outputs": [
    {
     "name": "stdout",
     "output_type": "stream",
     "text": [
      "Populating the interactive namespace from numpy and matplotlib\n"
     ]
    }
   ],
   "source": [
    "import pandas as pd\n",
    "import numpy as np\n",
    "import nltk\n",
    "import matplotlib.pyplot as plt\n",
    "import seaborn as sns\n",
    "%matplotlib inline\n",
    "%pylab inline"
   ]
  },
  {
   "cell_type": "code",
   "execution_count": 3,
   "id": "ca1cae4c",
   "metadata": {
    "scrolled": true
   },
   "outputs": [
    {
     "name": "stderr",
     "output_type": "stream",
     "text": [
      "/home/polina/.local/lib/python3.6/site-packages/ipykernel_launcher.py:3: TqdmDeprecationWarning: This function will be removed in tqdm==5.0.0\n",
      "Please use `tqdm.notebook.tqdm` instead of `tqdm.tqdm_notebook`\n",
      "  This is separate from the ipykernel package so we can avoid doing imports until\n"
     ]
    },
    {
     "data": {
      "application/vnd.jupyter.widget-view+json": {
       "model_id": "800b7de2739c4030bc53d1728a370dad",
       "version_major": 2,
       "version_minor": 0
      },
      "text/plain": [
       "0it [00:00, ?it/s]"
      ]
     },
     "metadata": {},
     "output_type": "display_data"
    }
   ],
   "source": [
    "responses = []\n",
    "with bz2.BZ2File('banki_responses.json.bz2', 'r') as thefile:\n",
    "    for row in tqdm(thefile):\n",
    "        resp = json.loads(row)\n",
    "        if not resp['rating_not_checked'] and (len(resp['text'].split()) > 0):\n",
    "            responses.append(resp)"
   ]
  },
  {
   "cell_type": "code",
   "execution_count": 4,
   "id": "5e13dadd",
   "metadata": {
    "scrolled": true
   },
   "outputs": [
    {
     "data": {
      "text/plain": [
       "153499"
      ]
     },
     "execution_count": 4,
     "metadata": {},
     "output_type": "execute_result"
    }
   ],
   "source": [
    "# Сколько всего записей:\n",
    "len(responses)"
   ]
  },
  {
   "cell_type": "code",
   "execution_count": 5,
   "id": "97e4901f",
   "metadata": {
    "scrolled": true
   },
   "outputs": [
    {
     "data": {
      "text/plain": [
       "{'city': 'г. Воронеж',\n",
       " 'rating_not_checked': False,\n",
       " 'title': 'Платеж через терминал Сбербанка',\n",
       " 'num_comments': 0,\n",
       " 'bank_license': 'лицензия № 1481',\n",
       " 'author': 'nadivlasova',\n",
       " 'bank_name': 'Сбербанк России',\n",
       " 'datetime': '2015-05-24 18:28:14',\n",
       " 'text': 'Добрый день!  14.05.15 я оплатила наличными через терминал Сбербанка счет проводного интернета Билайн. Все данные были введены верно, однако платеж не поступил на счет. В колл-центре Сбербанка, куда я обратилась, мне сказали подождать 3 банковских (то есть рабочих) дня. Но и в течение 3х рабочих дней платеж не был зачислен.  20.05.15 я обратилась в отделение Сбербанка (г. Воронеж, доп.офис 9013/0139, ул. Новгородская, 121), где совершала платеж. Сотрудник Людмила Н-а, принявшая у меня паспорт и чек, сказала, что проверит информацию.  В итоге я ждала 20 минут, о времени ожидания меня не предупредили, о причинах задержки тоже. Начальник доп. офиса подошла к Людмиле Н-й и сделала ей замечание, так как, видимо, она слишком долго рассматривала мой вопрос. Людмила вызвала следующего клиента, а мои документы молча передала своей коллеге. Только мой вопрос: \"Что происходит?\" заставил ее выдавить из себя, что у нее \"висит\" компьютер и посмотреть информацию по платежу она не может. Другой сотрудник, Светлана С-а, тоже долго искала информацию (еще минут 20), потом и вовсе ушла, оставив мои документы на столе. Она вспомнила про меня только когда я ее окликнула, и сказала, что платеж был проведен с ошибкой, что она передаст информацию в бухгалтерию и в течение двух дней платеж будет зачислен, а мне придет смс о рассмотрении моего заявления. В итоге два дня прошли, платеж так и не был зачислен, смс о рассмотрении  заявления тоже не приходило.',\n",
       " 'rating_grade': 2}"
      ]
     },
     "execution_count": 5,
     "metadata": {},
     "output_type": "execute_result"
    }
   ],
   "source": [
    "# Пример отзыва:\n",
    "responses[1234]"
   ]
  },
  {
   "cell_type": "markdown",
   "id": "3e4b2402",
   "metadata": {},
   "source": [
    "### Часть 1. Анализ текстов"
   ]
  },
  {
   "cell_type": "code",
   "execution_count": 6,
   "id": "32e0559c",
   "metadata": {
    "scrolled": true
   },
   "outputs": [],
   "source": [
    "data = pd.DataFrame(responses)"
   ]
  },
  {
   "cell_type": "code",
   "execution_count": 7,
   "id": "167e8212",
   "metadata": {
    "scrolled": true
   },
   "outputs": [
    {
     "data": {
      "text/html": [
       "<div>\n",
       "<style scoped>\n",
       "    .dataframe tbody tr th:only-of-type {\n",
       "        vertical-align: middle;\n",
       "    }\n",
       "\n",
       "    .dataframe tbody tr th {\n",
       "        vertical-align: top;\n",
       "    }\n",
       "\n",
       "    .dataframe thead th {\n",
       "        text-align: right;\n",
       "    }\n",
       "</style>\n",
       "<table border=\"1\" class=\"dataframe\">\n",
       "  <thead>\n",
       "    <tr style=\"text-align: right;\">\n",
       "      <th></th>\n",
       "      <th>city</th>\n",
       "      <th>rating_not_checked</th>\n",
       "      <th>title</th>\n",
       "      <th>num_comments</th>\n",
       "      <th>bank_license</th>\n",
       "      <th>author</th>\n",
       "      <th>bank_name</th>\n",
       "      <th>datetime</th>\n",
       "      <th>text</th>\n",
       "      <th>rating_grade</th>\n",
       "    </tr>\n",
       "  </thead>\n",
       "  <tbody>\n",
       "    <tr>\n",
       "      <th>0</th>\n",
       "      <td>г. Москва</td>\n",
       "      <td>False</td>\n",
       "      <td>Жалоба</td>\n",
       "      <td>0</td>\n",
       "      <td>лицензия № 2562</td>\n",
       "      <td>uhnov1</td>\n",
       "      <td>Бинбанк</td>\n",
       "      <td>2015-06-08 12:50:54</td>\n",
       "      <td>Добрый день! Я не являюсь клиентом банка и пор...</td>\n",
       "      <td>NaN</td>\n",
       "    </tr>\n",
       "    <tr>\n",
       "      <th>1</th>\n",
       "      <td>г. Новосибирск</td>\n",
       "      <td>False</td>\n",
       "      <td>Не могу пользоваться услугой Сбербанк он-лайн</td>\n",
       "      <td>0</td>\n",
       "      <td>лицензия № 1481</td>\n",
       "      <td>Foryou</td>\n",
       "      <td>Сбербанк России</td>\n",
       "      <td>2015-06-08 11:09:57</td>\n",
       "      <td>Доброго дня! Являюсь держателем зарплатной кар...</td>\n",
       "      <td>NaN</td>\n",
       "    </tr>\n",
       "    <tr>\n",
       "      <th>2</th>\n",
       "      <td>г. Москва</td>\n",
       "      <td>False</td>\n",
       "      <td>Двойное списание за один товар.</td>\n",
       "      <td>1</td>\n",
       "      <td>лицензия № 2562</td>\n",
       "      <td>Vladimir84</td>\n",
       "      <td>Бинбанк</td>\n",
       "      <td>2015-06-05 20:14:28</td>\n",
       "      <td>Здравствуйте!  Дублирую свое заявление от 03.0...</td>\n",
       "      <td>NaN</td>\n",
       "    </tr>\n",
       "    <tr>\n",
       "      <th>3</th>\n",
       "      <td>г. Ставрополь</td>\n",
       "      <td>False</td>\n",
       "      <td>Меняют проценты комиссии  не предупредив и не ...</td>\n",
       "      <td>2</td>\n",
       "      <td>лицензия № 1481</td>\n",
       "      <td>643609</td>\n",
       "      <td>Сбербанк России</td>\n",
       "      <td>2015-06-05 13:51:01</td>\n",
       "      <td>Добрый день!! Я открыл расчетный счет в СберБа...</td>\n",
       "      <td>NaN</td>\n",
       "    </tr>\n",
       "    <tr>\n",
       "      <th>4</th>\n",
       "      <td>г. Челябинск</td>\n",
       "      <td>False</td>\n",
       "      <td>Верните денежные средства за страховку</td>\n",
       "      <td>1</td>\n",
       "      <td>лицензия № 2766</td>\n",
       "      <td>anfisa-2003</td>\n",
       "      <td>ОТП Банк</td>\n",
       "      <td>2015-06-05 10:58:12</td>\n",
       "      <td>04.03.2015 г. взяла кредит в вашем банке, заяв...</td>\n",
       "      <td>NaN</td>\n",
       "    </tr>\n",
       "  </tbody>\n",
       "</table>\n",
       "</div>"
      ],
      "text/plain": [
       "             city  rating_not_checked  \\\n",
       "0       г. Москва               False   \n",
       "1  г. Новосибирск               False   \n",
       "2       г. Москва               False   \n",
       "3   г. Ставрополь               False   \n",
       "4    г. Челябинск               False   \n",
       "\n",
       "                                               title  num_comments  \\\n",
       "0                                             Жалоба             0   \n",
       "1      Не могу пользоваться услугой Сбербанк он-лайн             0   \n",
       "2                    Двойное списание за один товар.             1   \n",
       "3  Меняют проценты комиссии  не предупредив и не ...             2   \n",
       "4             Верните денежные средства за страховку             1   \n",
       "\n",
       "      bank_license       author        bank_name             datetime  \\\n",
       "0  лицензия № 2562       uhnov1          Бинбанк  2015-06-08 12:50:54   \n",
       "1  лицензия № 1481       Foryou  Сбербанк России  2015-06-08 11:09:57   \n",
       "2  лицензия № 2562   Vladimir84          Бинбанк  2015-06-05 20:14:28   \n",
       "3  лицензия № 1481       643609  Сбербанк России  2015-06-05 13:51:01   \n",
       "4  лицензия № 2766  anfisa-2003         ОТП Банк  2015-06-05 10:58:12   \n",
       "\n",
       "                                                text  rating_grade  \n",
       "0  Добрый день! Я не являюсь клиентом банка и пор...           NaN  \n",
       "1  Доброго дня! Являюсь держателем зарплатной кар...           NaN  \n",
       "2  Здравствуйте!  Дублирую свое заявление от 03.0...           NaN  \n",
       "3  Добрый день!! Я открыл расчетный счет в СберБа...           NaN  \n",
       "4  04.03.2015 г. взяла кредит в вашем банке, заяв...           NaN  "
      ]
     },
     "execution_count": 7,
     "metadata": {},
     "output_type": "execute_result"
    }
   ],
   "source": [
    "data.head()"
   ]
  },
  {
   "cell_type": "code",
   "execution_count": 8,
   "id": "54a5896a",
   "metadata": {
    "scrolled": true
   },
   "outputs": [
    {
     "name": "stdout",
     "output_type": "stream",
     "text": [
      "<class 'pandas.core.frame.DataFrame'>\n",
      "RangeIndex: 153499 entries, 0 to 153498\n",
      "Data columns (total 10 columns):\n",
      " #   Column              Non-Null Count   Dtype  \n",
      "---  ------              --------------   -----  \n",
      " 0   city                138325 non-null  object \n",
      " 1   rating_not_checked  153499 non-null  bool   \n",
      " 2   title               153499 non-null  object \n",
      " 3   num_comments        153499 non-null  int64  \n",
      " 4   bank_license        153498 non-null  object \n",
      " 5   author              153479 non-null  object \n",
      " 6   bank_name           153499 non-null  object \n",
      " 7   datetime            153499 non-null  object \n",
      " 8   text                153499 non-null  object \n",
      " 9   rating_grade        88658 non-null   float64\n",
      "dtypes: bool(1), float64(1), int64(1), object(7)\n",
      "memory usage: 10.7+ MB\n"
     ]
    }
   ],
   "source": [
    "data.info()"
   ]
  },
  {
   "cell_type": "markdown",
   "id": "9f7039dc",
   "metadata": {},
   "source": [
    "#### 1. Посчитайте количество отзывов в разных городах и на разные банки"
   ]
  },
  {
   "cell_type": "code",
   "execution_count": 9,
   "id": "d71835c6",
   "metadata": {
    "scrolled": true
   },
   "outputs": [
    {
     "data": {
      "text/plain": [
       "670"
      ]
     },
     "execution_count": 9,
     "metadata": {},
     "output_type": "execute_result"
    }
   ],
   "source": [
    "# Всего банков\n",
    "len(data['bank_name'].unique())"
   ]
  },
  {
   "cell_type": "code",
   "execution_count": 10,
   "id": "7db4df83",
   "metadata": {
    "scrolled": true
   },
   "outputs": [
    {
     "data": {
      "text/plain": [
       "Сбербанк России                  26327\n",
       "Альфа-Банк                       10224\n",
       "ВТБ 24                            8185\n",
       "Русский Стандарт                  7943\n",
       "Хоум Кредит Банк                  7549\n",
       "                                 ...  \n",
       "Финанс Бизнес Банк                   1\n",
       "Независимый Банк Развития            1\n",
       "Алмазэргиэнбанк                      1\n",
       "Современные Стандарты Бизнеса        1\n",
       "Уралкапиталбанк                      1\n",
       "Name: bank_name, Length: 670, dtype: int64"
      ]
     },
     "execution_count": 10,
     "metadata": {},
     "output_type": "execute_result"
    }
   ],
   "source": [
    "# Количество отзывов по банкам:\n",
    "data['bank_name'].value_counts()"
   ]
  },
  {
   "cell_type": "code",
   "execution_count": 11,
   "id": "7c4b4442",
   "metadata": {
    "scrolled": true
   },
   "outputs": [],
   "source": [
    "# Количество отзывов по городам:\n",
    "#data['city'].value_counts()"
   ]
  },
  {
   "cell_type": "code",
   "execution_count": 12,
   "id": "960cda08",
   "metadata": {
    "scrolled": true
   },
   "outputs": [],
   "source": [
    "# Уберем строки, где поле город пустое\n",
    "data = data.dropna(subset = {'city'})"
   ]
  },
  {
   "cell_type": "code",
   "execution_count": 13,
   "id": "ca81f4b0",
   "metadata": {
    "scrolled": true
   },
   "outputs": [
    {
     "data": {
      "text/plain": [
       "5823"
      ]
     },
     "execution_count": 13,
     "metadata": {},
     "output_type": "execute_result"
    }
   ],
   "source": [
    "# Всего вариантов в поле \"Город\":\n",
    "len(unique(data['city']))"
   ]
  },
  {
   "cell_type": "markdown",
   "id": "5c2c4308",
   "metadata": {},
   "source": [
    "Используем библиотеку natasha, чтобы нормализовать названия городов:"
   ]
  },
  {
   "cell_type": "code",
   "execution_count": 14,
   "id": "d4459a5a",
   "metadata": {
    "scrolled": true
   },
   "outputs": [],
   "source": [
    "from natasha import (\n",
    "    Segmenter,\n",
    "    MorphVocab,\n",
    "    \n",
    "    NewsEmbedding,\n",
    "    NewsMorphTagger,\n",
    "    NewsSyntaxParser,\n",
    "    NewsNERTagger,\n",
    "    \n",
    "    PER,\n",
    "    NamesExtractor,\n",
    "    DatesExtractor,\n",
    "    MoneyExtractor,\n",
    "    AddrExtractor,\n",
    "\n",
    "    Doc\n",
    ")\n",
    "\n",
    "segmenter = Segmenter()\n",
    "morph_vocab = MorphVocab()\n",
    "emb = NewsEmbedding()\n",
    "morph_tagger = NewsMorphTagger(emb)\n",
    "syntax_parser = NewsSyntaxParser(emb)\n",
    "ner_tagger = NewsNERTagger(emb)"
   ]
  },
  {
   "cell_type": "code",
   "execution_count": 15,
   "id": "7c5c3c35",
   "metadata": {
    "scrolled": true
   },
   "outputs": [],
   "source": [
    "def normalize(text):\n",
    "    doc = Doc(text)\n",
    "    doc.segment(segmenter)\n",
    "    doc.tag_ner(ner_tagger)\n",
    "    normals = []\n",
    "    for span in doc.spans:\n",
    "        if span.type == 'LOC':\n",
    "            span.normalize(morph_vocab)\n",
    "            normals.append(span.normal)\n",
    "    normals_str = ' '.join((str(n) for n in normals))\n",
    "    normals_str = normals_str.lower()\n",
    "    return normals_str"
   ]
  },
  {
   "cell_type": "code",
   "execution_count": 16,
   "id": "31619495",
   "metadata": {
    "scrolled": true
   },
   "outputs": [],
   "source": [
    "data['city_normalized'] = data['city'].apply(lambda x: normalize(str(x)))"
   ]
  },
  {
   "cell_type": "code",
   "execution_count": 17,
   "id": "11d67ac1",
   "metadata": {
    "scrolled": true
   },
   "outputs": [
    {
     "data": {
      "text/html": [
       "<div>\n",
       "<style scoped>\n",
       "    .dataframe tbody tr th:only-of-type {\n",
       "        vertical-align: middle;\n",
       "    }\n",
       "\n",
       "    .dataframe tbody tr th {\n",
       "        vertical-align: top;\n",
       "    }\n",
       "\n",
       "    .dataframe thead th {\n",
       "        text-align: right;\n",
       "    }\n",
       "</style>\n",
       "<table border=\"1\" class=\"dataframe\">\n",
       "  <thead>\n",
       "    <tr style=\"text-align: right;\">\n",
       "      <th></th>\n",
       "      <th>city</th>\n",
       "      <th>rating_not_checked</th>\n",
       "      <th>title</th>\n",
       "      <th>num_comments</th>\n",
       "      <th>bank_license</th>\n",
       "      <th>author</th>\n",
       "      <th>bank_name</th>\n",
       "      <th>datetime</th>\n",
       "      <th>text</th>\n",
       "      <th>rating_grade</th>\n",
       "      <th>city_normalized</th>\n",
       "    </tr>\n",
       "  </thead>\n",
       "  <tbody>\n",
       "    <tr>\n",
       "      <th>0</th>\n",
       "      <td>г. Москва</td>\n",
       "      <td>False</td>\n",
       "      <td>Жалоба</td>\n",
       "      <td>0</td>\n",
       "      <td>лицензия № 2562</td>\n",
       "      <td>uhnov1</td>\n",
       "      <td>Бинбанк</td>\n",
       "      <td>2015-06-08 12:50:54</td>\n",
       "      <td>Добрый день! Я не являюсь клиентом банка и пор...</td>\n",
       "      <td>NaN</td>\n",
       "      <td>москва</td>\n",
       "    </tr>\n",
       "    <tr>\n",
       "      <th>1</th>\n",
       "      <td>г. Новосибирск</td>\n",
       "      <td>False</td>\n",
       "      <td>Не могу пользоваться услугой Сбербанк он-лайн</td>\n",
       "      <td>0</td>\n",
       "      <td>лицензия № 1481</td>\n",
       "      <td>Foryou</td>\n",
       "      <td>Сбербанк России</td>\n",
       "      <td>2015-06-08 11:09:57</td>\n",
       "      <td>Доброго дня! Являюсь держателем зарплатной кар...</td>\n",
       "      <td>NaN</td>\n",
       "      <td>новосибирск</td>\n",
       "    </tr>\n",
       "    <tr>\n",
       "      <th>2</th>\n",
       "      <td>г. Москва</td>\n",
       "      <td>False</td>\n",
       "      <td>Двойное списание за один товар.</td>\n",
       "      <td>1</td>\n",
       "      <td>лицензия № 2562</td>\n",
       "      <td>Vladimir84</td>\n",
       "      <td>Бинбанк</td>\n",
       "      <td>2015-06-05 20:14:28</td>\n",
       "      <td>Здравствуйте!  Дублирую свое заявление от 03.0...</td>\n",
       "      <td>NaN</td>\n",
       "      <td>москва</td>\n",
       "    </tr>\n",
       "    <tr>\n",
       "      <th>3</th>\n",
       "      <td>г. Ставрополь</td>\n",
       "      <td>False</td>\n",
       "      <td>Меняют проценты комиссии  не предупредив и не ...</td>\n",
       "      <td>2</td>\n",
       "      <td>лицензия № 1481</td>\n",
       "      <td>643609</td>\n",
       "      <td>Сбербанк России</td>\n",
       "      <td>2015-06-05 13:51:01</td>\n",
       "      <td>Добрый день!! Я открыл расчетный счет в СберБа...</td>\n",
       "      <td>NaN</td>\n",
       "      <td>ставрополь</td>\n",
       "    </tr>\n",
       "    <tr>\n",
       "      <th>4</th>\n",
       "      <td>г. Челябинск</td>\n",
       "      <td>False</td>\n",
       "      <td>Верните денежные средства за страховку</td>\n",
       "      <td>1</td>\n",
       "      <td>лицензия № 2766</td>\n",
       "      <td>anfisa-2003</td>\n",
       "      <td>ОТП Банк</td>\n",
       "      <td>2015-06-05 10:58:12</td>\n",
       "      <td>04.03.2015 г. взяла кредит в вашем банке, заяв...</td>\n",
       "      <td>NaN</td>\n",
       "      <td>челябинск</td>\n",
       "    </tr>\n",
       "  </tbody>\n",
       "</table>\n",
       "</div>"
      ],
      "text/plain": [
       "             city  rating_not_checked  \\\n",
       "0       г. Москва               False   \n",
       "1  г. Новосибирск               False   \n",
       "2       г. Москва               False   \n",
       "3   г. Ставрополь               False   \n",
       "4    г. Челябинск               False   \n",
       "\n",
       "                                               title  num_comments  \\\n",
       "0                                             Жалоба             0   \n",
       "1      Не могу пользоваться услугой Сбербанк он-лайн             0   \n",
       "2                    Двойное списание за один товар.             1   \n",
       "3  Меняют проценты комиссии  не предупредив и не ...             2   \n",
       "4             Верните денежные средства за страховку             1   \n",
       "\n",
       "      bank_license       author        bank_name             datetime  \\\n",
       "0  лицензия № 2562       uhnov1          Бинбанк  2015-06-08 12:50:54   \n",
       "1  лицензия № 1481       Foryou  Сбербанк России  2015-06-08 11:09:57   \n",
       "2  лицензия № 2562   Vladimir84          Бинбанк  2015-06-05 20:14:28   \n",
       "3  лицензия № 1481       643609  Сбербанк России  2015-06-05 13:51:01   \n",
       "4  лицензия № 2766  anfisa-2003         ОТП Банк  2015-06-05 10:58:12   \n",
       "\n",
       "                                                text  rating_grade  \\\n",
       "0  Добрый день! Я не являюсь клиентом банка и пор...           NaN   \n",
       "1  Доброго дня! Являюсь держателем зарплатной кар...           NaN   \n",
       "2  Здравствуйте!  Дублирую свое заявление от 03.0...           NaN   \n",
       "3  Добрый день!! Я открыл расчетный счет в СберБа...           NaN   \n",
       "4  04.03.2015 г. взяла кредит в вашем банке, заяв...           NaN   \n",
       "\n",
       "  city_normalized  \n",
       "0          москва  \n",
       "1     новосибирск  \n",
       "2          москва  \n",
       "3      ставрополь  \n",
       "4       челябинск  "
      ]
     },
     "execution_count": 17,
     "metadata": {},
     "output_type": "execute_result"
    }
   ],
   "source": [
    "data.head()"
   ]
  },
  {
   "cell_type": "code",
   "execution_count": 18,
   "id": "3e9406a9",
   "metadata": {
    "scrolled": true
   },
   "outputs": [
    {
     "data": {
      "text/plain": [
       "2828"
      ]
     },
     "execution_count": 18,
     "metadata": {},
     "output_type": "execute_result"
    }
   ],
   "source": [
    "# всего \"городов\" после обработки:\n",
    "len(unique(data['city_normalized']))"
   ]
  },
  {
   "cell_type": "code",
   "execution_count": 19,
   "id": "055b1540",
   "metadata": {
    "scrolled": true
   },
   "outputs": [
    {
     "data": {
      "text/plain": [
       "москва                          55702\n",
       "санкт-петербург                 14478\n",
       "                                 9205\n",
       "екатеринбург                     2353\n",
       "новосибирск                      2316\n",
       "                                ...  \n",
       "мильково                            1\n",
       "нижний новгород бор                 1\n",
       "балтийск калининградская обл        1\n",
       "ракитное                            1\n",
       "ковров владимирская область         1\n",
       "Name: city_normalized, Length: 2828, dtype: int64"
      ]
     },
     "execution_count": 19,
     "metadata": {},
     "output_type": "execute_result"
    }
   ],
   "source": [
    "#отзывы по городам:\n",
    "data['city_normalized'].value_counts()"
   ]
  },
  {
   "cell_type": "code",
   "execution_count": 20,
   "id": "c91a7a92",
   "metadata": {
    "scrolled": true
   },
   "outputs": [
    {
     "data": {
      "text/plain": [
       "1744"
      ]
     },
     "execution_count": 20,
     "metadata": {},
     "output_type": "execute_result"
    }
   ],
   "source": [
    "# посчитаем количество \"городов\" с одним отзывом:\n",
    "vals = data['city_normalized'].value_counts()\n",
    "vals = vals[vals < 2]\n",
    "len(vals)"
   ]
  },
  {
   "cell_type": "code",
   "execution_count": 21,
   "id": "304a953d",
   "metadata": {
    "scrolled": true
   },
   "outputs": [
    {
     "data": {
      "text/plain": [
       "138325"
      ]
     },
     "execution_count": 21,
     "metadata": {},
     "output_type": "execute_result"
    }
   ],
   "source": [
    "# всего записей:\n",
    "len(data)"
   ]
  },
  {
   "cell_type": "code",
   "execution_count": 22,
   "id": "c1776a20",
   "metadata": {
    "scrolled": true
   },
   "outputs": [
    {
     "data": {
      "text/plain": [
       "1.2607988433038135"
      ]
     },
     "execution_count": 22,
     "metadata": {},
     "output_type": "execute_result"
    }
   ],
   "source": [
    "len(vals)/len(data)*100"
   ]
  },
  {
   "cell_type": "markdown",
   "id": "a8734689",
   "metadata": {},
   "source": [
    "Все же видно, что этой обработки недостаточно, так как могут оставаться такие варианты, как \"новосибирк москва\",\"уфа ульяновск\" и другие. Однако доля таких записей от общего количества отзывов - всего 1,26 процента. Будем считать их выбросами, и что в какой-то момент можем их не учитывать."
   ]
  },
  {
   "cell_type": "markdown",
   "id": "dd11d53c",
   "metadata": {},
   "source": [
    "2. Постройте гистограмы длин слов в символах и в словах"
   ]
  },
  {
   "cell_type": "code",
   "execution_count": 23,
   "id": "ef96565d",
   "metadata": {
    "scrolled": true
   },
   "outputs": [
    {
     "data": {
      "image/png": "[encoded data removed]",
      "text/plain": [
       "<Figure size 1080x432 with 1 Axes>"
      ]
     },
     "metadata": {
      "needs_background": "light"
     },
     "output_type": "display_data"
    }
   ],
   "source": [
    "# В символах:\n",
    "symbols = data['text'].apply(len)\n",
    "rcParams['figure.figsize'] = 15, 6\n",
    "symbols.plot(kind='hist',bins=200, grid = 'on')\n",
    "plt.xlabel('Длина отзывов в символах')\n",
    "plt.ylabel('')\n",
    "plt.show()"
   ]
  },
  {
   "cell_type": "code",
   "execution_count": 24,
   "id": "22ad40fd",
   "metadata": {
    "scrolled": true
   },
   "outputs": [
    {
     "data": {
      "image/png": "[encoded data removed]",
      "text/plain": [
       "<Figure size 1080x432 with 1 Axes>"
      ]
     },
     "metadata": {
      "needs_background": "light"
     },
     "output_type": "display_data"
    }
   ],
   "source": [
    "# В словах:\n",
    "words =  data['text'].str.split().apply(len)\n",
    "rcParams['figure.figsize'] = 15, 6\n",
    "words.plot(kind='hist',bins=200, grid = 'on')\n",
    "plt.xlabel('Длина отзывов в словах')\n",
    "plt.ylabel('')\n",
    "plt.show()"
   ]
  },
  {
   "cell_type": "code",
   "execution_count": 25,
   "id": "bd02f176",
   "metadata": {
    "scrolled": false
   },
   "outputs": [
    {
     "data": {
      "image/png": "[encoded data removed]",
      "text/plain": [
       "<Figure size 1080x432 with 1 Axes>"
      ]
     },
     "metadata": {
      "needs_background": "light"
     },
     "output_type": "display_data"
    }
   ],
   "source": [
    "# В словах, где меньше 2000 слов:\n",
    "words =  data['text'].str.split().apply(len)\n",
    "rcParams['figure.figsize'] = 15, 6\n",
    "words[words<2000].plot(kind='hist',bins=200, grid = 'on')\n",
    "plt.xlabel('Длина отзывов в словах')\n",
    "plt.ylabel('')\n",
    "plt.show()"
   ]
  },
  {
   "cell_type": "markdown",
   "id": "d9c092d1",
   "metadata": {},
   "source": [
    "Найдите 10 самых частых:  \n",
    "- слов  \n",
    "- слов без стоп-слов  \n",
    "- лемм  \n",
    "- существительных  "
   ]
  },
  {
   "cell_type": "markdown",
   "id": "f63d1988",
   "metadata": {},
   "source": [
    "#### Слова"
   ]
  },
  {
   "cell_type": "code",
   "execution_count": 26,
   "id": "8d905720",
   "metadata": {
    "scrolled": true
   },
   "outputs": [
    {
     "data": {
      "text/plain": [
       "'Добрый день! Я не являюсь клиентом банка и поручителем по кредитному договору, а также не являюсь каким-либо другим лицом, письменно  оформившим отношения с банком по поводу урегулирования чьей-либо  задолженности.  Начиная с марта 2015 года начали приходить бесконечные письма из ООО \"Примо коллект\"на мой адрес: город Москва, Уваровский переулок, дом 10, квартира 111, с угрозами о возбуждении уголовного дела в отношении гражданина Филиппова Эдуарда Владимировича, который уклоняется от уплаты взятых им кредитов: договор № 81014 от 20.10.2013 года и договор № 2464946 от 09.10.2014 года. Со всей ответственностью\\xa0 хочу Вас заверить, что вышеуказанный гражданин, которого Вы разыскиваете, мне не знаком и никогда в моем адресе не был зарегистрирован. Каким образом Вы не удостоверившись в подлинности его документов оформили на его имя кредитный договор, мне по меньшей мере не понятно,\\xa0 и почему по Вашей милости я должна переживать и бояться за себе и свое имущество. Письма доставляют мне серьезные неудобства, нарушают мои гражданские права, а также нарушают закон о защите персональных данных. Убедительно прошу прекратить посылать на мой адрес письма с угрозами по вопросам, к которым я не имею отношения. В случае отклонения моей претензии буду вынуждена обратиться с жалобами в  другие органы: Росспотребнадзор, Центральный банк, Службу Финансового  омбудсмена. Кроме этого будет подано заявление в полицию и заявление в  суд возмещение причиненного мне морального вреда. Надеюсь на скорое решение моего вопроса.'"
      ]
     },
     "execution_count": 26,
     "metadata": {},
     "output_type": "execute_result"
    }
   ],
   "source": [
    "data['text'][0]"
   ]
  },
  {
   "cell_type": "code",
   "execution_count": 27,
   "id": "8bf603da",
   "metadata": {},
   "outputs": [],
   "source": [
    "segmenter = Segmenter()"
   ]
  },
  {
   "cell_type": "code",
   "execution_count": 28,
   "id": "c4f83dfe",
   "metadata": {},
   "outputs": [],
   "source": [
    "def extract_words(text):\n",
    "    doc_string = re.sub(r'[^\\w\\s]', '', text)\n",
    "    doc_string = doc_string.lower()\n",
    "    doc = Doc(doc_string)\n",
    "    doc.segment(segmenter)\n",
    "    tokens = []\n",
    "    for token in doc.tokens:\n",
    "        tokens.append(token.text)\n",
    "\n",
    "    return tokens"
   ]
  },
  {
   "cell_type": "code",
   "execution_count": 29,
   "id": "1b39e5d5",
   "metadata": {},
   "outputs": [],
   "source": [
    "words = pd.DataFrame(data['text'].apply(lambda x: extract_words(str(x))))"
   ]
  },
  {
   "cell_type": "code",
   "execution_count": 30,
   "id": "9cb56cef",
   "metadata": {
    "scrolled": true
   },
   "outputs": [
    {
     "data": {
      "text/html": [
       "<div>\n",
       "<style scoped>\n",
       "    .dataframe tbody tr th:only-of-type {\n",
       "        vertical-align: middle;\n",
       "    }\n",
       "\n",
       "    .dataframe tbody tr th {\n",
       "        vertical-align: top;\n",
       "    }\n",
       "\n",
       "    .dataframe thead th {\n",
       "        text-align: right;\n",
       "    }\n",
       "</style>\n",
       "<table border=\"1\" class=\"dataframe\">\n",
       "  <thead>\n",
       "    <tr style=\"text-align: right;\">\n",
       "      <th></th>\n",
       "      <th>text</th>\n",
       "    </tr>\n",
       "  </thead>\n",
       "  <tbody>\n",
       "    <tr>\n",
       "      <th>0</th>\n",
       "      <td>[добрый, день, я, не, являюсь, клиентом, банка...</td>\n",
       "    </tr>\n",
       "    <tr>\n",
       "      <th>1</th>\n",
       "      <td>[доброго, дня, являюсь, держателем, зарплатной...</td>\n",
       "    </tr>\n",
       "    <tr>\n",
       "      <th>2</th>\n",
       "      <td>[здравствуйте, дублирую, свое, заявление, от, ...</td>\n",
       "    </tr>\n",
       "    <tr>\n",
       "      <th>3</th>\n",
       "      <td>[добрый, день, я, открыл, расчетный, счет, в, ...</td>\n",
       "    </tr>\n",
       "    <tr>\n",
       "      <th>4</th>\n",
       "      <td>[04032015, г, взяла, кредит, в, вашем, банке, ...</td>\n",
       "    </tr>\n",
       "  </tbody>\n",
       "</table>\n",
       "</div>"
      ],
      "text/plain": [
       "                                                text\n",
       "0  [добрый, день, я, не, являюсь, клиентом, банка...\n",
       "1  [доброго, дня, являюсь, держателем, зарплатной...\n",
       "2  [здравствуйте, дублирую, свое, заявление, от, ...\n",
       "3  [добрый, день, я, открыл, расчетный, счет, в, ...\n",
       "4  [04032015, г, взяла, кредит, в, вашем, банке, ..."
      ]
     },
     "execution_count": 30,
     "metadata": {},
     "output_type": "execute_result"
    }
   ],
   "source": [
    "words.head()"
   ]
  },
  {
   "cell_type": "code",
   "execution_count": 31,
   "id": "b6968682",
   "metadata": {},
   "outputs": [],
   "source": [
    "cnt = Counter()"
   ]
  },
  {
   "cell_type": "code",
   "execution_count": 32,
   "id": "91b4934b",
   "metadata": {},
   "outputs": [],
   "source": [
    "for index, row in words.iterrows(): \n",
    "    cnt.update(row['text'])"
   ]
  },
  {
   "cell_type": "code",
   "execution_count": 33,
   "id": "213ccd38",
   "metadata": {},
   "outputs": [
    {
     "data": {
      "text/plain": [
       "[('в', 1204133),\n",
       " ('и', 958713),\n",
       " ('не', 777305),\n",
       " ('на', 641247),\n",
       " ('что', 566556),\n",
       " ('я', 527908),\n",
       " ('с', 416352),\n",
       " ('по', 336108),\n",
       " ('мне', 294850),\n",
       " ('банка', 244855)]"
      ]
     },
     "execution_count": 33,
     "metadata": {},
     "output_type": "execute_result"
    }
   ],
   "source": [
    "cnt.most_common(10) "
   ]
  },
  {
   "cell_type": "markdown",
   "id": "d86a888c",
   "metadata": {
    "scrolled": true
   },
   "source": [
    "#### Cлов без стоп-слов"
   ]
  },
  {
   "cell_type": "code",
   "execution_count": 34,
   "id": "b55d0509",
   "metadata": {
    "scrolled": true
   },
   "outputs": [],
   "source": [
    "from nltk.corpus import stopwords\n",
    "\n",
    "stopwords_ext = stopwords.words('russian') + ['это', 'наш' , 'тыс', 'млн', 'млрд', 'также', 'т', 'д', 'г']"
   ]
  },
  {
   "cell_type": "code",
   "execution_count": 35,
   "id": "b30d46da",
   "metadata": {},
   "outputs": [],
   "source": [
    "def remove_digits(parts):\n",
    "    for part in parts:\n",
    "        if part.isnumeric():\n",
    "            parts.remove(part)\n",
    "    return parts"
   ]
  },
  {
   "cell_type": "code",
   "execution_count": 36,
   "id": "44b0140a",
   "metadata": {
    "scrolled": true
   },
   "outputs": [],
   "source": [
    "def remove_stopwords(text, stopwords_list):\n",
    "    try:\n",
    "        text = remove_digits(text)\n",
    "        return \" \".join([word for word in text if not word in stopwords_list])\n",
    "    except:\n",
    "        return \"\""
   ]
  },
  {
   "cell_type": "code",
   "execution_count": 37,
   "id": "c0d6b9b6",
   "metadata": {},
   "outputs": [],
   "source": [
    "words_clean = words.copy()"
   ]
  },
  {
   "cell_type": "code",
   "execution_count": 38,
   "id": "486f7d81",
   "metadata": {
    "scrolled": true
   },
   "outputs": [],
   "source": [
    "words_clean['text_clean'] = words_clean['text'].apply(lambda x: remove_stopwords(x,stopwords_ext))"
   ]
  },
  {
   "cell_type": "code",
   "execution_count": 39,
   "id": "bea2134f",
   "metadata": {
    "scrolled": false
   },
   "outputs": [
    {
     "data": {
      "text/html": [
       "<div>\n",
       "<style scoped>\n",
       "    .dataframe tbody tr th:only-of-type {\n",
       "        vertical-align: middle;\n",
       "    }\n",
       "\n",
       "    .dataframe tbody tr th {\n",
       "        vertical-align: top;\n",
       "    }\n",
       "\n",
       "    .dataframe thead th {\n",
       "        text-align: right;\n",
       "    }\n",
       "</style>\n",
       "<table border=\"1\" class=\"dataframe\">\n",
       "  <thead>\n",
       "    <tr style=\"text-align: right;\">\n",
       "      <th></th>\n",
       "      <th>text</th>\n",
       "      <th>text_clean</th>\n",
       "    </tr>\n",
       "  </thead>\n",
       "  <tbody>\n",
       "    <tr>\n",
       "      <th>0</th>\n",
       "      <td>[добрый, день, я, не, являюсь, клиентом, банка...</td>\n",
       "      <td>добрый день являюсь клиентом банка поручителем...</td>\n",
       "    </tr>\n",
       "    <tr>\n",
       "      <th>1</th>\n",
       "      <td>[доброго, дня, являюсь, держателем, зарплатной...</td>\n",
       "      <td>доброго дня являюсь держателем зарплатной карт...</td>\n",
       "    </tr>\n",
       "    <tr>\n",
       "      <th>2</th>\n",
       "      <td>[здравствуйте, дублирую, свое, заявление, от, ...</td>\n",
       "      <td>здравствуйте дублирую свое заявление можайский...</td>\n",
       "    </tr>\n",
       "    <tr>\n",
       "      <th>3</th>\n",
       "      <td>[добрый, день, я, открыл, расчетный, счет, в, ...</td>\n",
       "      <td>добрый день открыл расчетный счет сбербанке юр...</td>\n",
       "    </tr>\n",
       "    <tr>\n",
       "      <th>4</th>\n",
       "      <td>[г, взяла, кредит, в, вашем, банке, заявленная...</td>\n",
       "      <td>взяла кредит вашем банке заявленная мною сумма...</td>\n",
       "    </tr>\n",
       "    <tr>\n",
       "      <th>...</th>\n",
       "      <td>...</td>\n",
       "      <td>...</td>\n",
       "    </tr>\n",
       "    <tr>\n",
       "      <th>138574</th>\n",
       "      <td>[являюсь, вкладчиком, павловского, осб, югозап...</td>\n",
       "      <td>являюсь вкладчиком павловского осб югозападног...</td>\n",
       "    </tr>\n",
       "    <tr>\n",
       "      <th>138576</th>\n",
       "      <td>[мая, года, внес, тыс, руб, через, банкомат, н...</td>\n",
       "      <td>мая года внес руб банкомат вр конверт июня обн...</td>\n",
       "    </tr>\n",
       "    <tr>\n",
       "      <th>138578</th>\n",
       "      <td>[почитала, я, тут, отзывы, о, своем, банке, ка...</td>\n",
       "      <td>почитала отзывы своем банке карта которого рук...</td>\n",
       "    </tr>\n",
       "    <tr>\n",
       "      <th>138585</th>\n",
       "      <td>[после, кражи, карты, предыдущего, банка, gemo...</td>\n",
       "      <td>кражи карты предыдущего банка gemoney решил во...</td>\n",
       "    </tr>\n",
       "    <tr>\n",
       "      <th>138946</th>\n",
       "      <td>[здравствуйте, закрыл, карту, метро, номер, 11...</td>\n",
       "      <td>здравствуйте закрыл карту метро номер 11062009...</td>\n",
       "    </tr>\n",
       "  </tbody>\n",
       "</table>\n",
       "<p>138325 rows × 2 columns</p>\n",
       "</div>"
      ],
      "text/plain": [
       "                                                     text  \\\n",
       "0       [добрый, день, я, не, являюсь, клиентом, банка...   \n",
       "1       [доброго, дня, являюсь, держателем, зарплатной...   \n",
       "2       [здравствуйте, дублирую, свое, заявление, от, ...   \n",
       "3       [добрый, день, я, открыл, расчетный, счет, в, ...   \n",
       "4       [г, взяла, кредит, в, вашем, банке, заявленная...   \n",
       "...                                                   ...   \n",
       "138574  [являюсь, вкладчиком, павловского, осб, югозап...   \n",
       "138576  [мая, года, внес, тыс, руб, через, банкомат, н...   \n",
       "138578  [почитала, я, тут, отзывы, о, своем, банке, ка...   \n",
       "138585  [после, кражи, карты, предыдущего, банка, gemo...   \n",
       "138946  [здравствуйте, закрыл, карту, метро, номер, 11...   \n",
       "\n",
       "                                               text_clean  \n",
       "0       добрый день являюсь клиентом банка поручителем...  \n",
       "1       доброго дня являюсь держателем зарплатной карт...  \n",
       "2       здравствуйте дублирую свое заявление можайский...  \n",
       "3       добрый день открыл расчетный счет сбербанке юр...  \n",
       "4       взяла кредит вашем банке заявленная мною сумма...  \n",
       "...                                                   ...  \n",
       "138574  являюсь вкладчиком павловского осб югозападног...  \n",
       "138576  мая года внес руб банкомат вр конверт июня обн...  \n",
       "138578  почитала отзывы своем банке карта которого рук...  \n",
       "138585  кражи карты предыдущего банка gemoney решил во...  \n",
       "138946  здравствуйте закрыл карту метро номер 11062009...  \n",
       "\n",
       "[138325 rows x 2 columns]"
      ]
     },
     "execution_count": 39,
     "metadata": {},
     "output_type": "execute_result"
    }
   ],
   "source": [
    "words_clean"
   ]
  },
  {
   "cell_type": "code",
   "execution_count": 40,
   "id": "5e8de877",
   "metadata": {
    "scrolled": true
   },
   "outputs": [],
   "source": [
    "cnt = Counter()\n",
    "\n",
    "for index, row in words_clean.iterrows(): \n",
    "    cnt.update(row['text_clean'].split())"
   ]
  },
  {
   "cell_type": "code",
   "execution_count": 41,
   "id": "d2b28f6d",
   "metadata": {
    "scrolled": true
   },
   "outputs": [
    {
     "data": {
      "text/plain": [
       "[('банка', 244855),\n",
       " ('банк', 180831),\n",
       " ('деньги', 119008),\n",
       " ('карту', 97238),\n",
       " ('карты', 94794),\n",
       " ('кредит', 72055),\n",
       " ('день', 69841),\n",
       " ('заявление', 65103),\n",
       " ('отделение', 60652),\n",
       " ('время', 59347)]"
      ]
     },
     "execution_count": 41,
     "metadata": {},
     "output_type": "execute_result"
    }
   ],
   "source": [
    "cnt.most_common(10) "
   ]
  },
  {
   "cell_type": "markdown",
   "id": "f804bb37",
   "metadata": {
    "scrolled": true
   },
   "source": [
    "#### Леммы"
   ]
  },
  {
   "cell_type": "code",
   "execution_count": 42,
   "id": "83b083f3",
   "metadata": {},
   "outputs": [],
   "source": [
    "from pymorphy2 import MorphAnalyzer\n",
    "from pymystem3 import Mystem"
   ]
  },
  {
   "cell_type": "code",
   "execution_count": 43,
   "id": "f12e04d2",
   "metadata": {},
   "outputs": [],
   "source": [
    "m = Mystem()\n",
    "\n",
    "def lemmatize(text, mystem=m):\n",
    "    try:\n",
    "        return \" \".join(m.lemmatize(text)).strip()  \n",
    "    except:\n",
    "        return \" \""
   ]
  },
  {
   "cell_type": "code",
   "execution_count": 44,
   "id": "c2c4656b",
   "metadata": {},
   "outputs": [],
   "source": [
    "words_clean['lemmatized'] = words_clean['text_clean'].apply(lemmatize)"
   ]
  },
  {
   "cell_type": "code",
   "execution_count": 45,
   "id": "1be5d665",
   "metadata": {
    "scrolled": true
   },
   "outputs": [
    {
     "data": {
      "text/plain": [
       "0         добрый   день   являться   клиент   банк   пор...\n",
       "1         добрый   день   являться   держатель   зарплат...\n",
       "2         здравствовать   дублировать   свой   заявление...\n",
       "3         добрый   день   открывать   расчетный   счет  ...\n",
       "4         взять   кредит   ваш   банк   заявлять   я   с...\n",
       "                                ...                        \n",
       "138574    являться   вкладчик   павловский   осб   югоза...\n",
       "138576    май   год   вносить   руб   банкомат   вр   ко...\n",
       "138578    почитать   отзыв   свой   банк   карта   котор...\n",
       "138585    кража   карта   предыдущий   банк   gemoney   ...\n",
       "138946    здравствовать   закрывать   карта   метро   но...\n",
       "Name: lemmatized, Length: 138325, dtype: object"
      ]
     },
     "execution_count": 45,
     "metadata": {},
     "output_type": "execute_result"
    }
   ],
   "source": [
    "words_clean['lemmatized']"
   ]
  },
  {
   "cell_type": "code",
   "execution_count": 46,
   "id": "8b4ee783",
   "metadata": {
    "scrolled": false
   },
   "outputs": [],
   "source": [
    "cnt = Counter()\n",
    "lemmas = []\n",
    "words_number = []\n",
    "all_tokens = []\n",
    "tokens = []\n",
    "\n",
    "for index, row in words_clean.iterrows():\n",
    "    tokens = row['lemmatized'].split()\n",
    "    cnt.update(tokens)\n",
    "    all_tokens+=tokens\n",
    "    lemmas.append(len(cnt))\n",
    "    words_number.append(sum(list(cnt.values())))"
   ]
  },
  {
   "cell_type": "code",
   "execution_count": 47,
   "id": "788b9d40",
   "metadata": {},
   "outputs": [
    {
     "data": {
      "text/plain": [
       "[('банк', 536209),\n",
       " ('карта', 308775),\n",
       " ('деньги', 162787),\n",
       " ('день', 158075),\n",
       " ('мой', 155982),\n",
       " ('кредит', 139955),\n",
       " ('который', 136719),\n",
       " ('отделение', 130000),\n",
       " ('счет', 127764),\n",
       " ('сотрудник', 124599)]"
      ]
     },
     "execution_count": 47,
     "metadata": {},
     "output_type": "execute_result"
    }
   ],
   "source": [
    "cnt.most_common(10) "
   ]
  },
  {
   "cell_type": "markdown",
   "id": "d173d66f",
   "metadata": {},
   "source": [
    "#### Существительные"
   ]
  },
  {
   "cell_type": "code",
   "execution_count": null,
   "id": "f4cf753f",
   "metadata": {},
   "outputs": [],
   "source": [
    "m=MorphAnalyzer()\n",
    "\n",
    "def to_noun(text):\n",
    "    m=MorphAnalyzer()\n",
    "    try:\n",
    "        res = \" \".join([noun for noun in text.split() if m.parse(noun)[0].tag.POS =='NOUN'])\n",
    "        return res\n",
    "    \n",
    "    except:\n",
    "        return []\n",
    "\n",
    "to_noun(words_clean['lemmatized'].iloc[10])"
   ]
  },
  {
   "cell_type": "code",
   "execution_count": null,
   "id": "984178fd",
   "metadata": {},
   "outputs": [],
   "source": [
    "words_clean['nouns'] = words_clean['lemmatized'].apply(lambda x: to_noun(x))"
   ]
  },
  {
   "cell_type": "code",
   "execution_count": null,
   "id": "3a4c8965",
   "metadata": {},
   "outputs": [],
   "source": [
    "for index, row in words_clean.iterrows():  \n",
    "    cnt.update(row['nouns'].split())"
   ]
  },
  {
   "cell_type": "code",
   "execution_count": null,
   "id": "ee30be85",
   "metadata": {},
   "outputs": [],
   "source": [
    "cnt.most_common(10) "
   ]
  },
  {
   "cell_type": "markdown",
   "id": "357ac016",
   "metadata": {},
   "source": [
    "### 4. Постройте кривые Ципфа и Хипса"
   ]
  },
  {
   "cell_type": "code",
   "execution_count": 48,
   "id": "cdc45ae8",
   "metadata": {},
   "outputs": [
    {
     "data": {
      "image/png": "[encoded data removed]",
      "text/plain": [
       "<Figure size 864x288 with 1 Axes>"
      ]
     },
     "metadata": {
      "needs_background": "light"
     },
     "output_type": "display_data"
    }
   ],
   "source": [
    "frequency = sorted(list(cnt.values()),reverse = True)\n",
    "\n",
    "fig, ax = plt.subplots(figsize=(12,4))\n",
    "ax.plot(frequency[:100], range(100))\n",
    "grid(visible = 'True')\n",
    "plt.xlabel('Порядковый номер слова')\n",
    "plt.ylabel('Частота встречаемости слова')\n",
    "plt.title('Кривая Ципфа')\n",
    "plt.show()"
   ]
  },
  {
   "cell_type": "code",
   "execution_count": 49,
   "id": "9d9a8577",
   "metadata": {},
   "outputs": [
    {
     "data": {
      "image/png": "[encoded data removed]",
      "text/plain": [
       "<Figure size 864x288 with 1 Axes>"
      ]
     },
     "metadata": {
      "needs_background": "light"
     },
     "output_type": "display_data"
    }
   ],
   "source": [
    "fig, ax = plt.subplots(figsize=(12,4))\n",
    "ax.plot(words_number,lemmas)\n",
    "grid(visible = 'True')\n",
    "plt.xlabel('Количество разных слов')\n",
    "plt.ylabel('Количество слов в тексте')\n",
    "plt.title('Кривая Хипса')\n",
    "plt.show()"
   ]
  },
  {
   "cell_type": "markdown",
   "id": "e6695ec4",
   "metadata": {},
   "source": [
    "### 5. Ответьте на следующие вопросы:\n",
    "* какое слово встречается чаще, \"сотрудник\" или \"клиент\"?\n",
    "* сколько раз встречается слова \"мошенничество\" и \"доверие\"?"
   ]
  },
  {
   "cell_type": "code",
   "execution_count": 50,
   "id": "3b81d59e",
   "metadata": {},
   "outputs": [],
   "source": [
    "from nltk import FreqDist\n",
    "Freq_Dist = FreqDist(all_tokens)"
   ]
  },
  {
   "cell_type": "code",
   "execution_count": 51,
   "id": "d7ab799b",
   "metadata": {},
   "outputs": [
    {
     "name": "stdout",
     "output_type": "stream",
     "text": [
      "Слово \"сотрудник\" встречается  {124599}  раз\n",
      "Слово \"клиент\" встречается  {120949}  раз\n",
      "Слово \"мошенничество\" встречается  {3105}  раз\n",
      "Слово \"доверие\" встречается  {1932} раз\n"
     ]
    }
   ],
   "source": [
    "print(f'Слово \"сотрудник\" встречается ', {Freq_Dist['сотрудник']},' раз')\n",
    "print(f'Слово \"клиент\" встречается ', {Freq_Dist['клиент']},' раз')\n",
    "print(f'Слово \"мошенничество\" встречается ',{Freq_Dist['мошенничество']}, ' раз')\n",
    "print(f'Слово \"доверие\" встречается ' ,{Freq_Dist['доверие']}, 'раз')"
   ]
  },
  {
   "cell_type": "markdown",
   "id": "dc98ceb7",
   "metadata": {},
   "source": [
    "### 6.\n",
    "В поле \"rating_grade\" записана оценка отзыва по шкале от 1 до 5. Используйте меру  𝑡𝑓−𝑖𝑑𝑓 , для того, чтобы найти ключевые слова и биграмы для положительных отзывов (с оценкой 5) и отрицательных отзывов (с оценкой 1)"
   ]
  },
  {
   "cell_type": "code",
   "execution_count": 52,
   "id": "a38e7f35",
   "metadata": {},
   "outputs": [
    {
     "data": {
      "text/plain": [
       "1.0    39855\n",
       "2.0    13252\n",
       "5.0    10511\n",
       "3.0     7521\n",
       "4.0     3571\n",
       "Name: rating_grade, dtype: int64"
      ]
     },
     "execution_count": 52,
     "metadata": {},
     "output_type": "execute_result"
    }
   ],
   "source": [
    "data['rating_grade'].value_counts()"
   ]
  },
  {
   "cell_type": "code",
   "execution_count": 53,
   "id": "8d5bbac7",
   "metadata": {},
   "outputs": [
    {
     "data": {
      "text/html": [
       "<div>\n",
       "<style scoped>\n",
       "    .dataframe tbody tr th:only-of-type {\n",
       "        vertical-align: middle;\n",
       "    }\n",
       "\n",
       "    .dataframe tbody tr th {\n",
       "        vertical-align: top;\n",
       "    }\n",
       "\n",
       "    .dataframe thead th {\n",
       "        text-align: right;\n",
       "    }\n",
       "</style>\n",
       "<table border=\"1\" class=\"dataframe\">\n",
       "  <thead>\n",
       "    <tr style=\"text-align: right;\">\n",
       "      <th></th>\n",
       "      <th>city</th>\n",
       "      <th>rating_not_checked</th>\n",
       "      <th>title</th>\n",
       "      <th>num_comments</th>\n",
       "      <th>bank_license</th>\n",
       "      <th>author</th>\n",
       "      <th>bank_name</th>\n",
       "      <th>datetime</th>\n",
       "      <th>text</th>\n",
       "      <th>rating_grade</th>\n",
       "      <th>city_normalized</th>\n",
       "    </tr>\n",
       "  </thead>\n",
       "  <tbody>\n",
       "    <tr>\n",
       "      <th>0</th>\n",
       "      <td>г. Москва</td>\n",
       "      <td>False</td>\n",
       "      <td>Жалоба</td>\n",
       "      <td>0</td>\n",
       "      <td>лицензия № 2562</td>\n",
       "      <td>uhnov1</td>\n",
       "      <td>Бинбанк</td>\n",
       "      <td>2015-06-08 12:50:54</td>\n",
       "      <td>Добрый день! Я не являюсь клиентом банка и пор...</td>\n",
       "      <td>NaN</td>\n",
       "      <td>москва</td>\n",
       "    </tr>\n",
       "  </tbody>\n",
       "</table>\n",
       "</div>"
      ],
      "text/plain": [
       "        city  rating_not_checked   title  num_comments     bank_license  \\\n",
       "0  г. Москва               False  Жалоба             0  лицензия № 2562   \n",
       "\n",
       "   author bank_name             datetime  \\\n",
       "0  uhnov1   Бинбанк  2015-06-08 12:50:54   \n",
       "\n",
       "                                                text  rating_grade  \\\n",
       "0  Добрый день! Я не являюсь клиентом банка и пор...           NaN   \n",
       "\n",
       "  city_normalized  \n",
       "0          москва  "
      ]
     },
     "execution_count": 53,
     "metadata": {},
     "output_type": "execute_result"
    }
   ],
   "source": [
    "dataset = data.copy()\n",
    "dataset.head(1)"
   ]
  },
  {
   "cell_type": "code",
   "execution_count": 54,
   "id": "2112c573",
   "metadata": {},
   "outputs": [],
   "source": [
    "dataset['text_clean'] = words_clean['text_clean']\n",
    "dataset['lemmatized'] = words_clean['lemmatized']"
   ]
  },
  {
   "cell_type": "code",
   "execution_count": 55,
   "id": "e0523e0f",
   "metadata": {},
   "outputs": [],
   "source": [
    "dataset = dataset.dropna(subset = {'rating_grade'})"
   ]
  },
  {
   "cell_type": "code",
   "execution_count": 56,
   "id": "c845f50e",
   "metadata": {},
   "outputs": [],
   "source": [
    "num=10000\n",
    "\n",
    "data_sample = dataset[(dataset['rating_grade']==1.0)].sample(n=num).copy()\n",
    "data_sample = data_sample.append(dataset[(dataset['rating_grade']==5.0)].sample(n=num))"
   ]
  },
  {
   "cell_type": "code",
   "execution_count": 57,
   "id": "3b40ee9f",
   "metadata": {},
   "outputs": [],
   "source": [
    "topic_tokens = []\n",
    "\n",
    "for rating in data_sample['rating_grade'].unique():\n",
    "    tokens=[]\n",
    "    sample=data_sample[data_sample['rating_grade']==rating]\n",
    "    \n",
    "    for i in range(len(sample)):\n",
    "        tokens += sample['lemmatized'].iloc[i].split()\n",
    "        \n",
    "    topic_tokens.append(tokens)"
   ]
  },
  {
   "cell_type": "code",
   "execution_count": 58,
   "id": "ee3d4e97",
   "metadata": {},
   "outputs": [
    {
     "data": {
      "text/html": [
       "<div>\n",
       "<style scoped>\n",
       "    .dataframe tbody tr th:only-of-type {\n",
       "        vertical-align: middle;\n",
       "    }\n",
       "\n",
       "    .dataframe tbody tr th {\n",
       "        vertical-align: top;\n",
       "    }\n",
       "\n",
       "    .dataframe thead th {\n",
       "        text-align: right;\n",
       "    }\n",
       "</style>\n",
       "<table border=\"1\" class=\"dataframe\">\n",
       "  <thead>\n",
       "    <tr style=\"text-align: right;\">\n",
       "      <th></th>\n",
       "      <th>city</th>\n",
       "      <th>rating_not_checked</th>\n",
       "      <th>title</th>\n",
       "      <th>num_comments</th>\n",
       "      <th>bank_license</th>\n",
       "      <th>author</th>\n",
       "      <th>bank_name</th>\n",
       "      <th>datetime</th>\n",
       "      <th>text</th>\n",
       "      <th>rating_grade</th>\n",
       "      <th>city_normalized</th>\n",
       "      <th>text_clean</th>\n",
       "      <th>lemmatized</th>\n",
       "    </tr>\n",
       "  </thead>\n",
       "  <tbody>\n",
       "    <tr>\n",
       "      <th>78705</th>\n",
       "      <td>г. Самара</td>\n",
       "      <td>False</td>\n",
       "      <td>Кредитное мошенничество</td>\n",
       "      <td>9</td>\n",
       "      <td>лицензия № 2766</td>\n",
       "      <td>ndk63</td>\n",
       "      <td>ОТП Банк</td>\n",
       "      <td>2013-07-17 21:47:00</td>\n",
       "      <td>Добрый день! Не буду повторяться, всем известн...</td>\n",
       "      <td>1.0</td>\n",
       "      <td>самара</td>\n",
       "      <td>добрый день буду повторяться всем известны мно...</td>\n",
       "      <td>добрый   день   быть   повторяться   все   изв...</td>\n",
       "    </tr>\n",
       "    <tr>\n",
       "      <th>129303</th>\n",
       "      <td>г. Москва</td>\n",
       "      <td>False</td>\n",
       "      <td>Москва</td>\n",
       "      <td>2</td>\n",
       "      <td>лицензия № 3292</td>\n",
       "      <td>hart99</td>\n",
       "      <td>Райффайзенбанк</td>\n",
       "      <td>2010-11-18 15:52:00</td>\n",
       "      <td>Уважаемые читающие, расскажу Вам историю, как ...</td>\n",
       "      <td>1.0</td>\n",
       "      <td>москва</td>\n",
       "      <td>уважаемые читающие расскажу историю кажется за...</td>\n",
       "      <td>уважаемый   читать   рассказывать   история   ...</td>\n",
       "    </tr>\n",
       "    <tr>\n",
       "      <th>86615</th>\n",
       "      <td>г. москва</td>\n",
       "      <td>False</td>\n",
       "      <td>Подключили страховку без согласия</td>\n",
       "      <td>3</td>\n",
       "      <td>лицензия № 2289</td>\n",
       "      <td>zavchik</td>\n",
       "      <td>Русский Стандарт</td>\n",
       "      <td>2013-04-06 21:26:00</td>\n",
       "      <td>Оформлял карту в отделении на Валовой улице в ...</td>\n",
       "      <td>1.0</td>\n",
       "      <td></td>\n",
       "      <td>оформлял карту отделении валовой улице москве ...</td>\n",
       "      <td>оформлять   карта   отделение   валовой   улиц...</td>\n",
       "    </tr>\n",
       "  </tbody>\n",
       "</table>\n",
       "</div>"
      ],
      "text/plain": [
       "             city  rating_not_checked                              title  \\\n",
       "78705   г. Самара               False            Кредитное мошенничество   \n",
       "129303  г. Москва               False                             Москва   \n",
       "86615   г. москва               False  Подключили страховку без согласия   \n",
       "\n",
       "        num_comments     bank_license   author         bank_name  \\\n",
       "78705              9  лицензия № 2766    ndk63          ОТП Банк   \n",
       "129303             2  лицензия № 3292   hart99    Райффайзенбанк   \n",
       "86615              3  лицензия № 2289  zavchik  Русский Стандарт   \n",
       "\n",
       "                   datetime  \\\n",
       "78705   2013-07-17 21:47:00   \n",
       "129303  2010-11-18 15:52:00   \n",
       "86615   2013-04-06 21:26:00   \n",
       "\n",
       "                                                     text  rating_grade  \\\n",
       "78705   Добрый день! Не буду повторяться, всем известн...           1.0   \n",
       "129303  Уважаемые читающие, расскажу Вам историю, как ...           1.0   \n",
       "86615   Оформлял карту в отделении на Валовой улице в ...           1.0   \n",
       "\n",
       "       city_normalized                                         text_clean  \\\n",
       "78705           самара  добрый день буду повторяться всем известны мно...   \n",
       "129303          москва  уважаемые читающие расскажу историю кажется за...   \n",
       "86615                   оформлял карту отделении валовой улице москве ...   \n",
       "\n",
       "                                               lemmatized  \n",
       "78705   добрый   день   быть   повторяться   все   изв...  \n",
       "129303  уважаемый   читать   рассказывать   история   ...  \n",
       "86615   оформлять   карта   отделение   валовой   улиц...  "
      ]
     },
     "execution_count": 58,
     "metadata": {},
     "output_type": "execute_result"
    }
   ],
   "source": [
    "data_sample.head(3)"
   ]
  },
  {
   "cell_type": "markdown",
   "id": "9485f274",
   "metadata": {},
   "source": [
    "### Униграммы"
   ]
  },
  {
   "cell_type": "code",
   "execution_count": 59,
   "id": "93ec94fd",
   "metadata": {},
   "outputs": [],
   "source": [
    "from sklearn.feature_extraction.text import TfidfVectorizer\n",
    "import numpy as np"
   ]
  },
  {
   "cell_type": "code",
   "execution_count": 60,
   "id": "46402b3c",
   "metadata": {},
   "outputs": [],
   "source": [
    "tfidf = TfidfVectorizer(analyzer='word', ngram_range=(1,1), min_df = 0)\n",
    "tfidf_matrix =  tfidf.fit_transform([' '.join(tokens) for tokens in topic_tokens])\n",
    "feature_names = tfidf.get_feature_names() \n",
    "tfidf_ranking_5 = []\n",
    "tfidf_ranking_1 = []\n",
    "dense = tfidf_matrix.todense()\n",
    "\n",
    "text = dense[1].tolist()[0]\n",
    "phrase_scores = [pair for pair in zip(range(0, len(text)), text) if pair[1] > 0]\n",
    "sorted_phrase_scores = sorted(phrase_scores, key=lambda t: t[1] * -1)\n",
    "phrases = []\n",
    "\n",
    "for phrase, score in [(feature_names[word_id], score) for (word_id, score) in sorted_phrase_scores][:70]:\n",
    "    tfidf_ranking_5.append(phrase)\n",
    "    \n",
    "text = dense[0].tolist()[0]\n",
    "phrase_scores = [pair for pair in zip(range(0, len(text)), text) if pair[1] > 0]\n",
    "sorted_phrase_scores = sorted(phrase_scores, key=lambda t: t[1] * -1)\n",
    "phrases = []\n",
    "\n",
    "for phrase, score in [(feature_names[word_id], score) for (word_id, score) in sorted_phrase_scores][:70]:\n",
    "    tfidf_ranking_1.append(phrase)"
   ]
  },
  {
   "cell_type": "code",
   "execution_count": 61,
   "id": "dc2bda96",
   "metadata": {},
   "outputs": [
    {
     "data": {
      "text/html": [
       "<div>\n",
       "<style scoped>\n",
       "    .dataframe tbody tr th:only-of-type {\n",
       "        vertical-align: middle;\n",
       "    }\n",
       "\n",
       "    .dataframe tbody tr th {\n",
       "        vertical-align: top;\n",
       "    }\n",
       "\n",
       "    .dataframe thead th {\n",
       "        text-align: right;\n",
       "    }\n",
       "</style>\n",
       "<table border=\"1\" class=\"dataframe\">\n",
       "  <thead>\n",
       "    <tr style=\"text-align: right;\">\n",
       "      <th></th>\n",
       "      <th>tfidf_ranking_5</th>\n",
       "      <th>tfidf_ranking_1</th>\n",
       "    </tr>\n",
       "  </thead>\n",
       "  <tbody>\n",
       "    <tr>\n",
       "      <th>0</th>\n",
       "      <td>банк</td>\n",
       "      <td>банк</td>\n",
       "    </tr>\n",
       "    <tr>\n",
       "      <th>1</th>\n",
       "      <td>карта</td>\n",
       "      <td>карта</td>\n",
       "    </tr>\n",
       "    <tr>\n",
       "      <th>2</th>\n",
       "      <td>очень</td>\n",
       "      <td>деньги</td>\n",
       "    </tr>\n",
       "    <tr>\n",
       "      <th>3</th>\n",
       "      <td>клиент</td>\n",
       "      <td>день</td>\n",
       "    </tr>\n",
       "    <tr>\n",
       "      <th>4</th>\n",
       "      <td>день</td>\n",
       "      <td>мой</td>\n",
       "    </tr>\n",
       "    <tr>\n",
       "      <th>5</th>\n",
       "      <td>сотрудник</td>\n",
       "      <td>отделение</td>\n",
       "    </tr>\n",
       "    <tr>\n",
       "      <th>6</th>\n",
       "      <td>который</td>\n",
       "      <td>который</td>\n",
       "    </tr>\n",
       "    <tr>\n",
       "      <th>7</th>\n",
       "      <td>кредит</td>\n",
       "      <td>сотрудник</td>\n",
       "    </tr>\n",
       "    <tr>\n",
       "      <th>8</th>\n",
       "      <td>отделение</td>\n",
       "      <td>счет</td>\n",
       "    </tr>\n",
       "    <tr>\n",
       "      <th>9</th>\n",
       "      <td>вклад</td>\n",
       "      <td>кредит</td>\n",
       "    </tr>\n",
       "  </tbody>\n",
       "</table>\n",
       "</div>"
      ],
      "text/plain": [
       "  tfidf_ranking_5 tfidf_ranking_1\n",
       "0            банк            банк\n",
       "1           карта           карта\n",
       "2           очень          деньги\n",
       "3          клиент            день\n",
       "4            день             мой\n",
       "5       сотрудник       отделение\n",
       "6         который         который\n",
       "7          кредит       сотрудник\n",
       "8       отделение            счет\n",
       "9           вклад          кредит"
      ]
     },
     "execution_count": 61,
     "metadata": {},
     "output_type": "execute_result"
    }
   ],
   "source": [
    "rank = pd.DataFrame({'tfidf_ranking_5': tfidf_ranking_5,'tfidf_ranking_1': tfidf_ranking_1})\n",
    "rank.head(10)"
   ]
  },
  {
   "cell_type": "code",
   "execution_count": 62,
   "id": "e4d2a227",
   "metadata": {},
   "outputs": [],
   "source": [
    "# Убираем пересечения"
   ]
  },
  {
   "cell_type": "code",
   "execution_count": 63,
   "id": "3774d3bd",
   "metadata": {},
   "outputs": [],
   "source": [
    "rank['tfidf_ranking_5_without_1']=rank.tfidf_ranking_5[~rank.tfidf_ranking_5.isin(rank.tfidf_ranking_1)]\n",
    "rank['tfidf_ranking_1_without_5']=rank.tfidf_ranking_1[~rank.tfidf_ranking_1.isin(rank.tfidf_ranking_5)]"
   ]
  },
  {
   "cell_type": "code",
   "execution_count": 64,
   "id": "1187c570",
   "metadata": {},
   "outputs": [
    {
     "data": {
      "text/html": [
       "<div>\n",
       "<style scoped>\n",
       "    .dataframe tbody tr th:only-of-type {\n",
       "        vertical-align: middle;\n",
       "    }\n",
       "\n",
       "    .dataframe tbody tr th {\n",
       "        vertical-align: top;\n",
       "    }\n",
       "\n",
       "    .dataframe thead th {\n",
       "        text-align: right;\n",
       "    }\n",
       "</style>\n",
       "<table border=\"1\" class=\"dataframe\">\n",
       "  <thead>\n",
       "    <tr style=\"text-align: right;\">\n",
       "      <th></th>\n",
       "      <th>tfidf_ranking_5_without_1</th>\n",
       "      <th>tfidf_ranking_1_without_5</th>\n",
       "    </tr>\n",
       "  </thead>\n",
       "  <tbody>\n",
       "    <tr>\n",
       "      <th>21</th>\n",
       "      <td>спасибо</td>\n",
       "      <td>ответ</td>\n",
       "    </tr>\n",
       "    <tr>\n",
       "      <th>31</th>\n",
       "      <td>быстро</td>\n",
       "      <td>номер</td>\n",
       "    </tr>\n",
       "    <tr>\n",
       "      <th>39</th>\n",
       "      <td>банка</td>\n",
       "      <td>средство</td>\n",
       "    </tr>\n",
       "    <tr>\n",
       "      <th>40</th>\n",
       "      <td>отзыв</td>\n",
       "      <td>говорить</td>\n",
       "    </tr>\n",
       "    <tr>\n",
       "      <th>42</th>\n",
       "      <td>хороший</td>\n",
       "      <td>рубль</td>\n",
       "    </tr>\n",
       "    <tr>\n",
       "      <th>53</th>\n",
       "      <td>услуга</td>\n",
       "      <td>претензия</td>\n",
       "    </tr>\n",
       "    <tr>\n",
       "      <th>56</th>\n",
       "      <td>процент</td>\n",
       "      <td>срок</td>\n",
       "    </tr>\n",
       "    <tr>\n",
       "      <th>57</th>\n",
       "      <td>новый</td>\n",
       "      <td>давать</td>\n",
       "    </tr>\n",
       "    <tr>\n",
       "      <th>58</th>\n",
       "      <td>самый</td>\n",
       "      <td>почему</td>\n",
       "    </tr>\n",
       "    <tr>\n",
       "      <th>64</th>\n",
       "      <td>предлагать</td>\n",
       "      <td>знать</td>\n",
       "    </tr>\n",
       "    <tr>\n",
       "      <th>65</th>\n",
       "      <td>весь</td>\n",
       "      <td>быть</td>\n",
       "    </tr>\n",
       "    <tr>\n",
       "      <th>68</th>\n",
       "      <td>становиться</td>\n",
       "      <td>тот</td>\n",
       "    </tr>\n",
       "  </tbody>\n",
       "</table>\n",
       "</div>"
      ],
      "text/plain": [
       "   tfidf_ranking_5_without_1 tfidf_ranking_1_without_5\n",
       "21                   спасибо                     ответ\n",
       "31                    быстро                     номер\n",
       "39                     банка                  средство\n",
       "40                     отзыв                  говорить\n",
       "42                   хороший                     рубль\n",
       "53                    услуга                 претензия\n",
       "56                   процент                      срок\n",
       "57                     новый                    давать\n",
       "58                     самый                    почему\n",
       "64                предлагать                     знать\n",
       "65                      весь                      быть\n",
       "68               становиться                       тот"
      ]
     },
     "execution_count": 64,
     "metadata": {},
     "output_type": "execute_result"
    }
   ],
   "source": [
    "rank.iloc[:,-2:].dropna()"
   ]
  },
  {
   "cell_type": "markdown",
   "id": "6a8f5297",
   "metadata": {},
   "source": [
    "### Биграммы"
   ]
  },
  {
   "cell_type": "code",
   "execution_count": 65,
   "id": "b1531d1f",
   "metadata": {},
   "outputs": [],
   "source": [
    "tfidf = TfidfVectorizer(analyzer='word', ngram_range=(2,2), min_df = 0)\n",
    "tfidf_matrix =  tfidf.fit_transform([' '.join(tokens) for tokens in topic_tokens])\n",
    "feature_names = tfidf.get_feature_names() \n",
    "tfidf_ranking_rank_is_5 = []\n",
    "tfidf_ranking_rank_is_1 = []\n",
    "dense = tfidf_matrix.todense()\n",
    "\n",
    "text = dense[1].tolist()[0]\n",
    "phrase_scores = [pair for pair in zip(range(0, len(text)), text) if pair[1] > 0]\n",
    "sorted_phrase_scores = sorted(phrase_scores, key=lambda t: t[1] * -1)\n",
    "phrases = []\n",
    "\n",
    "for phrase, score in [(feature_names[word_id], score) for (word_id, score) in sorted_phrase_scores][:70]:\n",
    "    tfidf_ranking_rank_is_5.append(phrase)\n",
    "    \n",
    "text = dense[0].tolist()[0]\n",
    "phrase_scores = [pair for pair in zip(range(0, len(text)), text) if pair[1] > 0]\n",
    "sorted_phrase_scores = sorted(phrase_scores, key=lambda t: t[1] * -1)\n",
    "phrases = []\n",
    "\n",
    "for phrase, score in [(feature_names[word_id], score) for (word_id, score) in sorted_phrase_scores][:70]:\n",
    "    tfidf_ranking_rank_is_1.append(phrase) "
   ]
  },
  {
   "cell_type": "code",
   "execution_count": 66,
   "id": "459dbc14",
   "metadata": {},
   "outputs": [
    {
     "data": {
      "text/html": [
       "<div>\n",
       "<style scoped>\n",
       "    .dataframe tbody tr th:only-of-type {\n",
       "        vertical-align: middle;\n",
       "    }\n",
       "\n",
       "    .dataframe tbody tr th {\n",
       "        vertical-align: top;\n",
       "    }\n",
       "\n",
       "    .dataframe thead th {\n",
       "        text-align: right;\n",
       "    }\n",
       "</style>\n",
       "<table border=\"1\" class=\"dataframe\">\n",
       "  <thead>\n",
       "    <tr style=\"text-align: right;\">\n",
       "      <th></th>\n",
       "      <th>tfidf_ranking_rank_is_5</th>\n",
       "      <th>tfidf_ranking_rank_is_1</th>\n",
       "    </tr>\n",
       "  </thead>\n",
       "  <tbody>\n",
       "    <tr>\n",
       "      <th>0</th>\n",
       "      <td>другой банк</td>\n",
       "      <td>сотрудник банк</td>\n",
       "    </tr>\n",
       "    <tr>\n",
       "      <th>1</th>\n",
       "      <td>сотрудник банк</td>\n",
       "      <td>отделение банк</td>\n",
       "    </tr>\n",
       "    <tr>\n",
       "      <th>2</th>\n",
       "      <td>кредитный карта</td>\n",
       "      <td>написать заявление</td>\n",
       "    </tr>\n",
       "    <tr>\n",
       "      <th>3</th>\n",
       "      <td>клиент банк</td>\n",
       "      <td>денежный средство</td>\n",
       "    </tr>\n",
       "    <tr>\n",
       "      <th>4</th>\n",
       "      <td>открывать вклад</td>\n",
       "      <td>кредитный карта</td>\n",
       "    </tr>\n",
       "    <tr>\n",
       "      <th>5</th>\n",
       "      <td>отделение банк</td>\n",
       "      <td>горячий линия</td>\n",
       "    </tr>\n",
       "    <tr>\n",
       "      <th>6</th>\n",
       "      <td>являться клиент</td>\n",
       "      <td>рабочий день</td>\n",
       "    </tr>\n",
       "    <tr>\n",
       "      <th>7</th>\n",
       "      <td>следующий день</td>\n",
       "      <td>ваш банк</td>\n",
       "    </tr>\n",
       "    <tr>\n",
       "      <th>8</th>\n",
       "      <td>добрый день</td>\n",
       "      <td>другой банк</td>\n",
       "    </tr>\n",
       "    <tr>\n",
       "      <th>9</th>\n",
       "      <td>дебетовый карта</td>\n",
       "      <td>следующий день</td>\n",
       "    </tr>\n",
       "  </tbody>\n",
       "</table>\n",
       "</div>"
      ],
      "text/plain": [
       "  tfidf_ranking_rank_is_5 tfidf_ranking_rank_is_1\n",
       "0             другой банк          сотрудник банк\n",
       "1          сотрудник банк          отделение банк\n",
       "2         кредитный карта      написать заявление\n",
       "3             клиент банк       денежный средство\n",
       "4         открывать вклад         кредитный карта\n",
       "5          отделение банк           горячий линия\n",
       "6         являться клиент            рабочий день\n",
       "7          следующий день                ваш банк\n",
       "8             добрый день             другой банк\n",
       "9         дебетовый карта          следующий день"
      ]
     },
     "execution_count": 66,
     "metadata": {},
     "output_type": "execute_result"
    }
   ],
   "source": [
    "rankings = pd.DataFrame({'tfidf_ranking_rank_is_5': tfidf_ranking_rank_is_5,'tfidf_ranking_rank_is_1': tfidf_ranking_rank_is_1})\n",
    "rankings.head(10)"
   ]
  },
  {
   "cell_type": "code",
   "execution_count": 67,
   "id": "ed522744",
   "metadata": {},
   "outputs": [],
   "source": [
    "rankings['tfidf_ranking_rank_is_5_without_1']=rankings.tfidf_ranking_rank_is_5[~rankings.tfidf_ranking_rank_is_5.isin(rankings.tfidf_ranking_rank_is_1)]\n",
    "rankings['tfidf_ranking_rank_is_1_without_5']=rankings.tfidf_ranking_rank_is_1[~rankings.tfidf_ranking_rank_is_1.isin(rankings.tfidf_ranking_rank_is_5)]"
   ]
  },
  {
   "cell_type": "code",
   "execution_count": 68,
   "id": "8c1781fe",
   "metadata": {},
   "outputs": [
    {
     "data": {
      "text/html": [
       "<div>\n",
       "<style scoped>\n",
       "    .dataframe tbody tr th:only-of-type {\n",
       "        vertical-align: middle;\n",
       "    }\n",
       "\n",
       "    .dataframe tbody tr th {\n",
       "        vertical-align: top;\n",
       "    }\n",
       "\n",
       "    .dataframe thead th {\n",
       "        text-align: right;\n",
       "    }\n",
       "</style>\n",
       "<table border=\"1\" class=\"dataframe\">\n",
       "  <thead>\n",
       "    <tr style=\"text-align: right;\">\n",
       "      <th></th>\n",
       "      <th>tfidf_ranking_rank_is_5_without_1</th>\n",
       "      <th>tfidf_ranking_rank_is_1_without_5</th>\n",
       "    </tr>\n",
       "  </thead>\n",
       "  <tbody>\n",
       "    <tr>\n",
       "      <th>12</th>\n",
       "      <td>хотеть выражать</td>\n",
       "      <td>сей пора</td>\n",
       "    </tr>\n",
       "    <tr>\n",
       "      <th>14</th>\n",
       "      <td>процентный ставка</td>\n",
       "      <td>получать ответ</td>\n",
       "    </tr>\n",
       "    <tr>\n",
       "      <th>18</th>\n",
       "      <td>год назад</td>\n",
       "      <td>кредитный договор</td>\n",
       "    </tr>\n",
       "    <tr>\n",
       "      <th>21</th>\n",
       "      <td>очень довольный</td>\n",
       "      <td>обращаться отделение</td>\n",
       "    </tr>\n",
       "    <tr>\n",
       "      <th>22</th>\n",
       "      <td>интернет банк</td>\n",
       "      <td>отделение сбербанк</td>\n",
       "    </tr>\n",
       "    <tr>\n",
       "      <th>23</th>\n",
       "      <td>мой вопрос</td>\n",
       "      <td>номер телефон</td>\n",
       "    </tr>\n",
       "    <tr>\n",
       "      <th>24</th>\n",
       "      <td>пользоваться услуга</td>\n",
       "      <td>писать заявление</td>\n",
       "    </tr>\n",
       "    <tr>\n",
       "      <th>26</th>\n",
       "      <td>банк очень</td>\n",
       "      <td>течение день</td>\n",
       "    </tr>\n",
       "    <tr>\n",
       "      <th>27</th>\n",
       "      <td>отношение клиент</td>\n",
       "      <td>мой карта</td>\n",
       "    </tr>\n",
       "    <tr>\n",
       "      <th>28</th>\n",
       "      <td>большой спасибо</td>\n",
       "      <td>мой деньги</td>\n",
       "    </tr>\n",
       "    <tr>\n",
       "      <th>34</th>\n",
       "      <td>качество обслуживание</td>\n",
       "      <td>свой деньги</td>\n",
       "    </tr>\n",
       "    <tr>\n",
       "      <th>35</th>\n",
       "      <td>услуга банк</td>\n",
       "      <td>000 рубль</td>\n",
       "    </tr>\n",
       "    <tr>\n",
       "      <th>39</th>\n",
       "      <td>хотеть отмечать</td>\n",
       "      <td>000 руб</td>\n",
       "    </tr>\n",
       "    <tr>\n",
       "      <th>40</th>\n",
       "      <td>новый год</td>\n",
       "      <td>деньги карта</td>\n",
       "    </tr>\n",
       "    <tr>\n",
       "      <th>44</th>\n",
       "      <td>банк год</td>\n",
       "      <td>ежемесячный платеж</td>\n",
       "    </tr>\n",
       "    <tr>\n",
       "      <th>46</th>\n",
       "      <td>открытие вклад</td>\n",
       "      <td>приходить отделение</td>\n",
       "    </tr>\n",
       "    <tr>\n",
       "      <th>48</th>\n",
       "      <td>мочь сказать</td>\n",
       "      <td>сайт банк</td>\n",
       "    </tr>\n",
       "    <tr>\n",
       "      <th>49</th>\n",
       "      <td>продукт банк</td>\n",
       "      <td>вопрос почему</td>\n",
       "    </tr>\n",
       "    <tr>\n",
       "      <th>50</th>\n",
       "      <td>хотеть сказать</td>\n",
       "      <td>звонить банк</td>\n",
       "    </tr>\n",
       "    <tr>\n",
       "      <th>55</th>\n",
       "      <td>хотеть поблагодарить</td>\n",
       "      <td>свой клиент</td>\n",
       "    </tr>\n",
       "    <tr>\n",
       "      <th>57</th>\n",
       "      <td>отдельный спасибо</td>\n",
       "      <td>заявление закрытие</td>\n",
       "    </tr>\n",
       "    <tr>\n",
       "      <th>58</th>\n",
       "      <td>качественный обслуживание</td>\n",
       "      <td>закрытие счет</td>\n",
       "    </tr>\n",
       "    <tr>\n",
       "      <th>59</th>\n",
       "      <td>очень понравиться</td>\n",
       "      <td>счет карта</td>\n",
       "    </tr>\n",
       "    <tr>\n",
       "      <th>61</th>\n",
       "      <td>подавать заявка</td>\n",
       "      <td>call центр</td>\n",
       "    </tr>\n",
       "    <tr>\n",
       "      <th>62</th>\n",
       "      <td>расчетный счет</td>\n",
       "      <td>написать претензия</td>\n",
       "    </tr>\n",
       "    <tr>\n",
       "      <th>66</th>\n",
       "      <td>мой проблема</td>\n",
       "      <td>мой счет</td>\n",
       "    </tr>\n",
       "    <tr>\n",
       "      <th>67</th>\n",
       "      <td>хоум кредит</td>\n",
       "      <td>срок действие</td>\n",
       "    </tr>\n",
       "  </tbody>\n",
       "</table>\n",
       "</div>"
      ],
      "text/plain": [
       "   tfidf_ranking_rank_is_5_without_1 tfidf_ranking_rank_is_1_without_5\n",
       "12                   хотеть выражать                          сей пора\n",
       "14                 процентный ставка                    получать ответ\n",
       "18                         год назад                 кредитный договор\n",
       "21                   очень довольный              обращаться отделение\n",
       "22                     интернет банк                отделение сбербанк\n",
       "23                        мой вопрос                     номер телефон\n",
       "24               пользоваться услуга                  писать заявление\n",
       "26                        банк очень                      течение день\n",
       "27                  отношение клиент                         мой карта\n",
       "28                   большой спасибо                        мой деньги\n",
       "34             качество обслуживание                       свой деньги\n",
       "35                       услуга банк                         000 рубль\n",
       "39                   хотеть отмечать                           000 руб\n",
       "40                         новый год                      деньги карта\n",
       "44                          банк год                ежемесячный платеж\n",
       "46                    открытие вклад               приходить отделение\n",
       "48                      мочь сказать                         сайт банк\n",
       "49                      продукт банк                     вопрос почему\n",
       "50                    хотеть сказать                      звонить банк\n",
       "55              хотеть поблагодарить                       свой клиент\n",
       "57                 отдельный спасибо                заявление закрытие\n",
       "58         качественный обслуживание                     закрытие счет\n",
       "59                 очень понравиться                        счет карта\n",
       "61                   подавать заявка                        call центр\n",
       "62                    расчетный счет                написать претензия\n",
       "66                      мой проблема                          мой счет\n",
       "67                       хоум кредит                     срок действие"
      ]
     },
     "execution_count": 68,
     "metadata": {},
     "output_type": "execute_result"
    }
   ],
   "source": [
    "rankings.iloc[:,-2:].dropna()"
   ]
  },
  {
   "cell_type": "markdown",
   "id": "17fcc4a6",
   "metadata": {},
   "source": [
    "### Часть 2. Тематическое моделирование"
   ]
  },
  {
   "cell_type": "markdown",
   "id": "eaa282aa",
   "metadata": {},
   "source": [
    "#### 1. Постройте несколько тематических моделей коллекции документов с разным числом тем. Приведите примеры понятных (интерпретируемых) тем."
   ]
  },
  {
   "cell_type": "code",
   "execution_count": 69,
   "id": "889940bf",
   "metadata": {},
   "outputs": [],
   "source": [
    "import gensim.corpora as corpora\n",
    "from gensim.models import ldamodel"
   ]
  },
  {
   "cell_type": "code",
   "execution_count": 70,
   "id": "d0ae8c44",
   "metadata": {},
   "outputs": [],
   "source": [
    "words_theme = words_clean.copy()\n",
    "texts = [words_theme['lemmatized'].iloc[i].split() for i in range(len(words_theme))]\n",
    "dictionary = corpora.Dictionary(texts)\n",
    "corpus = [dictionary.doc2bow(text) for text in texts]"
   ]
  },
  {
   "cell_type": "code",
   "execution_count": 71,
   "id": "973a29da",
   "metadata": {},
   "outputs": [],
   "source": [
    "random.seed(5)"
   ]
  },
  {
   "cell_type": "code",
   "execution_count": 72,
   "id": "5803bba7",
   "metadata": {},
   "outputs": [],
   "source": [
    "# построим модель для 20 тем\n",
    "lda20 = ldamodel.LdaModel(corpus=corpus, \n",
    "                        id2word=dictionary, \n",
    "                        num_topics=20, \n",
    "                        alpha='auto', \n",
    "                        eta='auto', \n",
    "                        iterations = 20, \n",
    "                        passes = 5)"
   ]
  },
  {
   "cell_type": "code",
   "execution_count": 73,
   "id": "0d23c79b",
   "metadata": {},
   "outputs": [
    {
     "data": {
      "text/plain": [
       "[(18,\n",
       "  '0.118*\"_\" + 0.092*\"курс\" + 0.082*\"доллар\" + 0.082*\"валюта\" + 0.072*\"евро\" + 0.035*\"валютный\" + 0.033*\"рубль\" + 0.032*\"рублевый\" + 0.026*\"конвертация\" + 0.017*\"сша\"'),\n",
       " (3,\n",
       "  '0.017*\"сказать\" + 0.016*\"деньги\" + 0.015*\"говорить\" + 0.011*\"звонить\" + 0.010*\"такой\" + 0.010*\"приходить\" + 0.010*\"знать\" + 0.010*\"мочь\" + 0.009*\"банк\" + 0.009*\"просто\"'),\n",
       " (5,\n",
       "  '0.062*\"банк\" + 0.023*\"клиент\" + 0.014*\"очень\" + 0.010*\"который\" + 0.010*\"свой\" + 0.009*\"время\" + 0.008*\"год\" + 0.008*\"другой\" + 0.007*\"работа\" + 0.007*\"проблема\"')]"
      ]
     },
     "execution_count": 73,
     "metadata": {},
     "output_type": "execute_result"
    }
   ],
   "source": [
    "# Посмотрим 3 темы:\n",
    "lda20.show_topics(3)"
   ]
  },
  {
   "cell_type": "markdown",
   "id": "6f436dc9",
   "metadata": {},
   "source": [
    "Темы:\n",
    "1. Судебные иски и влияние их на взаимодействие клиента с банком (просьбы об отсрочке и тд)\n",
    "2. Качество обслуживания клиентов сотрудниками банка\n",
    "3. Сложно интерпретировать эту тему, но, возможно, проблемы с кредитными выплатами у клиента."
   ]
  },
  {
   "cell_type": "code",
   "execution_count": 74,
   "id": "1ae090ba",
   "metadata": {},
   "outputs": [],
   "source": [
    "# построим модель для 10 тем\n",
    "lda10 = ldamodel.LdaModel(corpus=corpus, \n",
    "                        id2word=dictionary, \n",
    "                        num_topics=10, \n",
    "                        alpha='auto', \n",
    "                        eta='auto', \n",
    "                        iterations = 20, \n",
    "                        passes = 5)"
   ]
  },
  {
   "cell_type": "code",
   "execution_count": 75,
   "id": "f64d2a55",
   "metadata": {},
   "outputs": [
    {
     "data": {
      "text/plain": [
       "[(4,\n",
       "  '0.109*\"вклад\" + 0.041*\"открывать\" + 0.036*\"банк\" + 0.024*\"деньги\" + 0.023*\"процент\" + 0.023*\"депозит\" + 0.022*\"счет\" + 0.020*\"договор\" + 0.016*\"открытие\" + 0.013*\"условие\"'),\n",
       " (1,\n",
       "  '0.033*\"банк\" + 0.019*\"клиент\" + 0.012*\"очень\" + 0.010*\"очередь\" + 0.009*\"работать\" + 0.009*\"время\" + 0.009*\"работа\" + 0.008*\"который\" + 0.008*\"свой\" + 0.008*\"сотрудник\"'),\n",
       " (3,\n",
       "  '0.017*\"сказать\" + 0.014*\"день\" + 0.013*\"банк\" + 0.012*\"отделение\" + 0.010*\"говорить\" + 0.010*\"звонить\" + 0.010*\"позвонить\" + 0.009*\"приходить\" + 0.009*\"мочь\" + 0.009*\"девушка\"')]"
      ]
     },
     "execution_count": 75,
     "metadata": {},
     "output_type": "execute_result"
    }
   ],
   "source": [
    "# Посмотрим 3 темы:\n",
    "lda10.show_topics(3)"
   ]
  },
  {
   "cell_type": "markdown",
   "id": "391c1be7",
   "metadata": {},
   "source": [
    "Темы:\n",
    "1. Правовые вопросы при заключении договора с банком\n",
    "2. Возможные жалобы на время/качество работы отделений банка\n",
    "3. Отзывы на работу сотрудников банка"
   ]
  },
  {
   "cell_type": "code",
   "execution_count": 76,
   "id": "7cb3918c",
   "metadata": {},
   "outputs": [],
   "source": [
    "# построим модель для 5 тем\n",
    "lda5 = ldamodel.LdaModel(corpus=corpus, \n",
    "                        id2word=dictionary, \n",
    "                        num_topics=5, \n",
    "                        alpha='auto', \n",
    "                        eta='auto', \n",
    "                        iterations = 20, \n",
    "                        passes = 5)"
   ]
  },
  {
   "cell_type": "code",
   "execution_count": 77,
   "id": "3db690eb",
   "metadata": {},
   "outputs": [
    {
     "data": {
      "text/plain": [
       "[(0,\n",
       "  '0.038*\"банк\" + 0.018*\"мой\" + 0.014*\"сотрудник\" + 0.011*\"ваш\" + 0.010*\"телефон\" + 0.010*\"звонок\" + 0.010*\"данный\" + 0.009*\"который\" + 0.009*\"клиент\" + 0.008*\"номер\"'),\n",
       " (1,\n",
       "  '0.049*\"карта\" + 0.017*\"банк\" + 0.015*\"день\" + 0.013*\"заявление\" + 0.012*\"отделение\" + 0.011*\"деньги\" + 0.011*\"мой\" + 0.010*\"сказать\" + 0.009*\"получать\" + 0.009*\"позвонить\"'),\n",
       " (2,\n",
       "  '0.024*\"банк\" + 0.011*\"клиент\" + 0.008*\"отделение\" + 0.008*\"вклад\" + 0.007*\"очень\" + 0.007*\"работать\" + 0.007*\"время\" + 0.007*\"офис\" + 0.007*\"который\" + 0.006*\"свой\"')]"
      ]
     },
     "execution_count": 77,
     "metadata": {},
     "output_type": "execute_result"
    }
   ],
   "source": [
    "# Посмотрим 3 темы:\n",
    "lda5.show_topics(3)"
   ]
  },
  {
   "cell_type": "markdown",
   "id": "7f997159",
   "metadata": {},
   "source": [
    "1. Кредит в банке, кредитный договор\n",
    "2. Получение денег в банкомате и в отделении банка\n",
    "3. Сотрудник банка при работе с клинтом по вкладу"
   ]
  },
  {
   "cell_type": "markdown",
   "id": "46e7bcf2",
   "metadata": {},
   "source": [
    "### 2. Найдите темы, в которых упомянуты конкретные банки (Сбербанк, ВТБ, другой банк). Можете ли вы их прокомментировать / объяснить? Эта часть задания может быть сделана с использованием gensim."
   ]
  },
  {
   "cell_type": "code",
   "execution_count": 78,
   "id": "1cfb3331",
   "metadata": {},
   "outputs": [],
   "source": [
    "for theme in lda5.show_topics():\n",
    "    if theme[1].find('сбербанк')> 0:\n",
    "        print(theme)"
   ]
  },
  {
   "cell_type": "markdown",
   "id": "f437afe5",
   "metadata": {},
   "source": [
    "Получение, вопросы, связанные с получением денег  в банкомате Сбербанка и в отделении"
   ]
  },
  {
   "cell_type": "code",
   "execution_count": 79,
   "id": "96f7b09e",
   "metadata": {},
   "outputs": [],
   "source": [
    "for theme in lda20.show_topics():\n",
    "    if theme[1].find('сбербанк')> 0:\n",
    "        print(theme)"
   ]
  },
  {
   "cell_type": "markdown",
   "id": "f5f20b66",
   "metadata": {},
   "source": [
    "Вопросы, проблемы по смс-банкингу"
   ]
  },
  {
   "cell_type": "markdown",
   "id": "3931e9ba",
   "metadata": {},
   "source": [
    "## Часть 3. Классификация текстов"
   ]
  },
  {
   "cell_type": "markdown",
   "id": "5f39e3aa",
   "metadata": {},
   "source": [
    "Сформулируем для простоты задачу бинарной классификации: будем классифицировать на два класса, то есть, различать резко отрицательные отзывы (с оценкой 1) и положительные отзывы (с оценкой 5).\n",
    "\n",
    "1. Составьте обучающее и тестовое множество: выберите из всего набора данных N1 отзывов с оценкой 1 и N2 отзывов с оценкой 5 (значение N1 и N2 – на ваше усмотрение). \n",
    "\n",
    "2. Используйте sklearn.model_selection.train_test_split для разделения множества отобранных документов на обучающее и тестовое.  \n",
    "3. Используйте любой известный вам алгоритм классификации текстов для решения задачи и получите baseline. Сравните разные варианты векторизации текста: использование только униграм, пар или троек слов или с использованием символьных  𝑛 -грам.  \n",
    "4. Сравните, как изменяется качество решения задачи при использовании скрытых тем в качестве признаков:\n",
    "1-ый вариант:  𝑡𝑓−𝑖𝑑𝑓  преобразование (sklearn.feature_extraction.text.TfidfTransformer) и сингулярное разложение (оно же – латентый семантический анализ) (sklearn.decomposition.TruncatedSVD),\n",
    "2-ой вариант: тематические модели LDA (sklearn.decomposition.LatentDirichletAllocation). Используйте accuracy и F-measure для оценки качества классификации."
   ]
  },
  {
   "cell_type": "code",
   "execution_count": 80,
   "id": "5eba5f51",
   "metadata": {},
   "outputs": [],
   "source": [
    "from sklearn.model_selection import train_test_split, GridSearchCV\n",
    "from sklearn.pipeline import Pipeline, FeatureUnion\n",
    "from sklearn.base import BaseEstimator, TransformerMixin\n",
    "from sklearn.feature_extraction.text import CountVectorizer, TfidfTransformer\n",
    "from sklearn.feature_extraction import DictVectorizer\n",
    "from sklearn.preprocessing import StandardScaler, OneHotEncoder\n",
    "from sklearn.decomposition import TruncatedSVD, LatentDirichletAllocation\n",
    "from sklearn.ensemble import RandomForestClassifier\n",
    "from sklearn.metrics import precision_score, recall_score, f1_score, accuracy_score, classification_report, confusion_matrix\n",
    "\n",
    "from sklearn.naive_bayes import MultinomialNB\n",
    "from sklearn.feature_extraction.text import CountVectorizer\n",
    "from sklearn.linear_model import LogisticRegression\n",
    "from sklearn import svm\n",
    "from sklearn.pipeline import Pipeline\n",
    "from sklearn.ensemble import RandomForestClassifier"
   ]
  },
  {
   "cell_type": "code",
   "execution_count": 81,
   "id": "eabccc4a",
   "metadata": {},
   "outputs": [],
   "source": [
    "datacopy = data.copy()\n",
    "datacopy['text_clean'] = words_clean['text_clean']\n",
    "datacopy['lemmatized'] = words_clean['lemmatized']\n",
    "\n",
    "\n",
    "num=2000\n",
    "\n",
    "dataset = datacopy[(datacopy['rating_grade']==1.0)].sample(n=num).copy()\n",
    "dataset = dataset.append(datacopy[(datacopy['rating_grade']==5.0)].sample(n=num))"
   ]
  },
  {
   "cell_type": "code",
   "execution_count": 82,
   "id": "4902aedb",
   "metadata": {},
   "outputs": [
    {
     "data": {
      "text/html": [
       "<div>\n",
       "<style scoped>\n",
       "    .dataframe tbody tr th:only-of-type {\n",
       "        vertical-align: middle;\n",
       "    }\n",
       "\n",
       "    .dataframe tbody tr th {\n",
       "        vertical-align: top;\n",
       "    }\n",
       "\n",
       "    .dataframe thead th {\n",
       "        text-align: right;\n",
       "    }\n",
       "</style>\n",
       "<table border=\"1\" class=\"dataframe\">\n",
       "  <thead>\n",
       "    <tr style=\"text-align: right;\">\n",
       "      <th></th>\n",
       "      <th>city</th>\n",
       "      <th>rating_not_checked</th>\n",
       "      <th>title</th>\n",
       "      <th>num_comments</th>\n",
       "      <th>bank_license</th>\n",
       "      <th>author</th>\n",
       "      <th>bank_name</th>\n",
       "      <th>datetime</th>\n",
       "      <th>text</th>\n",
       "      <th>rating_grade</th>\n",
       "      <th>city_normalized</th>\n",
       "      <th>text_clean</th>\n",
       "      <th>lemmatized</th>\n",
       "    </tr>\n",
       "  </thead>\n",
       "  <tbody>\n",
       "    <tr>\n",
       "      <th>108226</th>\n",
       "      <td>г. Москва</td>\n",
       "      <td>False</td>\n",
       "      <td>Накопилось...</td>\n",
       "      <td>1</td>\n",
       "      <td>лицензия № 1623</td>\n",
       "      <td>advance</td>\n",
       "      <td>ВТБ 24</td>\n",
       "      <td>2012-05-13 17:14:00</td>\n",
       "      <td>Отношения с банком стартовали в 2006 г. Ипотеч...</td>\n",
       "      <td>1.0</td>\n",
       "      <td>москва</td>\n",
       "      <td>отношения банком стартовали ипотечный кредит т...</td>\n",
       "      <td>отношение   банк   стартовать   ипотечный   кр...</td>\n",
       "    </tr>\n",
       "  </tbody>\n",
       "</table>\n",
       "</div>"
      ],
      "text/plain": [
       "             city  rating_not_checked          title  num_comments  \\\n",
       "108226  г. Москва               False  Накопилось...             1   \n",
       "\n",
       "           bank_license   author bank_name             datetime  \\\n",
       "108226  лицензия № 1623  advance    ВТБ 24  2012-05-13 17:14:00   \n",
       "\n",
       "                                                     text  rating_grade  \\\n",
       "108226  Отношения с банком стартовали в 2006 г. Ипотеч...           1.0   \n",
       "\n",
       "       city_normalized                                         text_clean  \\\n",
       "108226          москва  отношения банком стартовали ипотечный кредит т...   \n",
       "\n",
       "                                               lemmatized  \n",
       "108226  отношение   банк   стартовать   ипотечный   кр...  "
      ]
     },
     "execution_count": 82,
     "metadata": {},
     "output_type": "execute_result"
    }
   ],
   "source": [
    "dataset.head(1)"
   ]
  },
  {
   "cell_type": "code",
   "execution_count": 83,
   "id": "cb9a97ad",
   "metadata": {},
   "outputs": [
    {
     "name": "stdout",
     "output_type": "stream",
     "text": [
      "<class 'pandas.core.frame.DataFrame'>\n",
      "Int64Index: 4000 entries, 108226 to 99497\n",
      "Data columns (total 13 columns):\n",
      " #   Column              Non-Null Count  Dtype  \n",
      "---  ------              --------------  -----  \n",
      " 0   city                4000 non-null   object \n",
      " 1   rating_not_checked  4000 non-null   bool   \n",
      " 2   title               4000 non-null   object \n",
      " 3   num_comments        4000 non-null   int64  \n",
      " 4   bank_license        4000 non-null   object \n",
      " 5   author              4000 non-null   object \n",
      " 6   bank_name           4000 non-null   object \n",
      " 7   datetime            4000 non-null   object \n",
      " 8   text                4000 non-null   object \n",
      " 9   rating_grade        4000 non-null   float64\n",
      " 10  city_normalized     4000 non-null   object \n",
      " 11  text_clean          4000 non-null   object \n",
      " 12  lemmatized          4000 non-null   object \n",
      "dtypes: bool(1), float64(1), int64(1), object(10)\n",
      "memory usage: 410.2+ KB\n"
     ]
    }
   ],
   "source": [
    "dataset.info()"
   ]
  },
  {
   "cell_type": "code",
   "execution_count": 84,
   "id": "62966c58",
   "metadata": {},
   "outputs": [],
   "source": [
    "X = dataset['lemmatized'].values\n",
    "y = dataset['rating_grade'].values"
   ]
  },
  {
   "cell_type": "code",
   "execution_count": 85,
   "id": "0db750e6",
   "metadata": {},
   "outputs": [],
   "source": [
    "X_train, X_test, y_train, y_test = train_test_split(X, y, test_size=0.3)"
   ]
  },
  {
   "cell_type": "markdown",
   "id": "db35d48b",
   "metadata": {},
   "source": [
    "#### Baseline:"
   ]
  },
  {
   "cell_type": "code",
   "execution_count": 86,
   "id": "2da9923b",
   "metadata": {},
   "outputs": [
    {
     "name": "stdout",
     "output_type": "stream",
     "text": [
      "Fitting 3 folds for each of 252 candidates, totalling 756 fits\n"
     ]
    },
    {
     "name": "stderr",
     "output_type": "stream",
     "text": [
      "/home/polina/.local/lib/python3.6/site-packages/sklearn/model_selection/_search.py:925: UserWarning: One or more of the test scores are non-finite: [       nan        nan        nan        nan        nan        nan\n",
      "        nan        nan        nan        nan        nan        nan\n",
      "        nan        nan        nan        nan        nan        nan\n",
      " 0.87749869 0.7857192  0.7332146  0.87464244 0.7857192  0.7332146\n",
      " 0.86856923 0.7857192  0.7332146  0.58392834 0.82678695 0.91250011\n",
      " 0.58428867 0.84928772 0.90857204 0.71929597 0.86142803 0.90107395\n",
      "        nan        nan        nan        nan        nan        nan\n",
      "        nan        nan        nan        nan        nan        nan\n",
      "        nan        nan        nan        nan        nan        nan\n",
      " 0.91214628 0.83393044 0.69928117 0.91321771 0.83393044 0.69928117\n",
      " 0.91286082 0.83393044 0.69928117 0.58392604 0.85178325 0.92000087\n",
      " 0.58321418 0.86928759 0.91357268 0.71286778 0.87642459 0.90750023\n",
      "        nan        nan        nan        nan        nan        nan\n",
      "        nan        nan        nan        nan        nan        nan\n",
      "        nan        nan        nan        nan        nan        nan\n",
      " 0.92357396 0.87071476 0.74142761 0.92393123 0.87071476 0.74142761\n",
      " 0.92428888 0.87071476 0.74142761 0.57428204 0.84678415 0.91357421\n",
      " 0.58035563 0.86571642 0.90857128 0.71322123 0.86249716 0.90321375\n",
      "        nan        nan        nan        nan        nan        nan\n",
      "        nan        nan        nan        nan        nan        nan\n",
      "        nan        nan        nan        nan        nan        nan\n",
      " 0.92714666 0.88357229 0.75464088 0.92571835 0.88357229 0.75464088\n",
      " 0.9257172  0.88357229 0.75464088 0.57535385 0.83535493 0.91178862\n",
      " 0.57642681 0.84893159 0.90392638 0.71893832 0.85892637 0.89857\n",
      "        nan        nan        nan        nan        nan        nan\n",
      "        nan        nan        nan        nan        nan        nan\n",
      "        nan        nan        nan        nan        nan        nan\n",
      " 0.92357549 0.88571477 0.75821167 0.92357549 0.88571477 0.75821167\n",
      " 0.92500381 0.88571477 0.75821167 0.57678216 0.80999906 0.90893008\n",
      " 0.57606915 0.84428593 0.89821273 0.71465337 0.85678542 0.89749781\n",
      "        nan        nan        nan        nan        nan        nan\n",
      "        nan        nan        nan        nan        nan        nan\n",
      "        nan        nan        nan        nan        nan        nan\n",
      " 0.92179105 0.88785762 0.75821167 0.92107651 0.88785762 0.75821167\n",
      " 0.92250406 0.88785762 0.75821167 0.57713943 0.80750008 0.90642995\n",
      " 0.57642604 0.84142891 0.8967848  0.71536638 0.85500022 0.89571184\n",
      "        nan        nan        nan        nan        nan        nan\n",
      "        nan        nan        nan        nan        nan        nan\n",
      "        nan        nan        nan        nan        nan        nan\n",
      " 0.92179067 0.88750112 0.76213935 0.92036235 0.88750112 0.76213935\n",
      " 0.91964743 0.88750112 0.76213935 0.57713943 0.80749931 0.90714526\n",
      " 0.57642604 0.83821539 0.89785622 0.71393997 0.85535634 0.89856924]\n",
      "  category=UserWarning\n",
      "/home/polina/.local/lib/python3.6/site-packages/sklearn/model_selection/_search.py:925: UserWarning: One or more of the test scores are non-finite: [       nan        nan        nan        nan        nan        nan\n",
      "        nan        nan        nan        nan        nan        nan\n",
      "        nan        nan        nan        nan        nan        nan\n",
      " 0.87514971 0.76210353 0.68890119 0.87186897 0.76210353 0.68890119\n",
      " 0.86629079 0.76210353 0.68890119 0.42444814 0.82059901 0.9133227\n",
      " 0.42755058 0.84744954 0.90998529 0.71720588 0.86152147 0.90272711\n",
      "        nan        nan        nan        nan        nan        nan\n",
      "        nan        nan        nan        nan        nan        nan\n",
      "        nan        nan        nan        nan        nan        nan\n",
      " 0.91313403 0.82506593 0.61239689 0.91427254 0.82506593 0.61239689\n",
      " 0.91402675 0.82506593 0.61239689 0.44819035 0.85228598 0.92101306\n",
      " 0.44794013 0.87000844 0.91491185 0.71106718 0.87703655 0.9085111\n",
      "        nan        nan        nan        nan        nan        nan\n",
      "        nan        nan        nan        nan        nan        nan\n",
      "        nan        nan        nan        nan        nan        nan\n",
      " 0.92461205 0.87041907 0.69489287 0.92504944 0.87041907 0.69489287\n",
      " 0.92556402 0.87041907 0.69489287 0.44434284 0.84680581 0.91429295\n",
      " 0.45184063 0.86625772 0.90991944 0.70912521 0.86285116 0.90410929\n",
      "        nan        nan        nan        nan        nan        nan\n",
      "        nan        nan        nan        nan        nan        nan\n",
      "        nan        nan        nan        nan        nan        nan\n",
      " 0.92812349 0.88503922 0.72337708 0.92675206 0.88503922 0.72337708\n",
      " 0.92686098 0.88503922 0.72337708 0.45025978 0.83549255 0.91223766\n",
      " 0.44869159 0.84824793 0.90490943 0.71510624 0.85967192 0.89947691\n",
      "        nan        nan        nan        nan        nan        nan\n",
      "        nan        nan        nan        nan        nan        nan\n",
      "        nan        nan        nan        nan        nan        nan\n",
      " 0.92469324 0.88761796 0.73227357 0.92456213 0.88761796 0.73227357\n",
      " 0.92597759 0.88761796 0.73227357 0.45206742 0.80856217 0.90932378\n",
      " 0.44840218 0.84404993 0.89903883 0.71180404 0.85776009 0.89846343\n",
      "        nan        nan        nan        nan        nan        nan\n",
      "        nan        nan        nan        nan        nan        nan\n",
      "        nan        nan        nan        nan        nan        nan\n",
      " 0.92265262 0.88980389 0.73450547 0.9219449  0.88980389 0.73450547\n",
      " 0.92341478 0.88980389 0.73450547 0.45284761 0.80646358 0.90674564\n",
      " 0.44863402 0.84140738 0.89762159 0.71417262 0.85572404 0.89664973\n",
      "        nan        nan        nan        nan        nan        nan\n",
      "        nan        nan        nan        nan        nan        nan\n",
      "        nan        nan        nan        nan        nan        nan\n",
      " 0.92243959 0.8895653  0.74023068 0.9211841  0.8895653  0.74023068\n",
      " 0.92042765 0.8895653  0.74023068 0.45284761 0.80525206 0.90740247\n",
      " 0.44863402 0.83780332 0.89864365 0.71122401 0.85654034 0.89924386]\n",
      "  category=UserWarning\n"
     ]
    },
    {
     "data": {
      "text/plain": [
       "GridSearchCV(cv=3,\n",
       "             estimator=Pipeline(steps=[('vect', CountVectorizer()),\n",
       "                                       ('clf', LogisticRegression())]),\n",
       "             n_jobs=-1,\n",
       "             param_grid={'clf__C': array([1.e-03, 1.e-02, 1.e-01, 1.e+00, 1.e+01, 1.e+02, 1.e+03]),\n",
       "                         'clf__penalty': ['l1', 'l2'],\n",
       "                         'vect__analyzer': ['word', 'char'],\n",
       "                         'vect__max_df': (0.5, 0.75, 1.0),\n",
       "                         'vect__ngram_range': ((1, 1), (2, 2), (3, 3))},\n",
       "             refit='accuracy', scoring=['accuracy', 'f1'], verbose=1)"
      ]
     },
     "execution_count": 86,
     "metadata": {},
     "output_type": "execute_result"
    }
   ],
   "source": [
    "clf_countvectorized = Pipeline([('vect', CountVectorizer()),('clf', LogisticRegression())])\n",
    "\n",
    "params_cntv = {\n",
    "    'vect__analyzer': ['word','char'],\n",
    "    'vect__max_df': (0.5, 0.75, 1.0),\n",
    "    'vect__ngram_range': ((1, 1), (2, 2), (3, 3)),\n",
    "    'clf__C': np.logspace(-3,3,7),\n",
    "    'clf__penalty': ['l1','l2']  \n",
    "}\n",
    "\n",
    "scores=['accuracy', 'f1']\n",
    "\n",
    "grid_cntv = GridSearchCV(\n",
    "    clf_countvectorized, \n",
    "    param_grid=params_cntv, \n",
    "    cv=3,\n",
    "    scoring=scores,\n",
    "    refit=scores[0],\n",
    "    n_jobs=-1, \n",
    "    verbose=1\n",
    ")\n",
    "\n",
    "grid_cntv.fit(X_train, y_train)"
   ]
  },
  {
   "cell_type": "code",
   "execution_count": 2,
   "id": "06811d66",
   "metadata": {},
   "outputs": [
    {
     "ename": "NameError",
     "evalue": "name 'grid_cntv' is not defined",
     "output_type": "error",
     "traceback": [
      "\u001b[0;31m---------------------------------------------------------------------------\u001b[0m",
      "\u001b[0;31mNameError\u001b[0m                                 Traceback (most recent call last)",
      "\u001b[0;32m<ipython-input-2-890dab8f99aa>\u001b[0m in \u001b[0;36m<module>\u001b[0;34m\u001b[0m\n\u001b[1;32m      1\u001b[0m \u001b[0;31m# print(grid_cntv.best_estimator_)\u001b[0m\u001b[0;34m\u001b[0m\u001b[0;34m\u001b[0m\u001b[0;34m\u001b[0m\u001b[0m\n\u001b[0;32m----> 2\u001b[0;31m \u001b[0mprint\u001b[0m\u001b[0;34m(\u001b[0m\u001b[0;34m\"Best score: %0.3f\"\u001b[0m \u001b[0;34m%\u001b[0m \u001b[0mgrid_cntv\u001b[0m\u001b[0;34m.\u001b[0m\u001b[0mbest_score_\u001b[0m\u001b[0;34m)\u001b[0m\u001b[0;34m\u001b[0m\u001b[0;34m\u001b[0m\u001b[0m\n\u001b[0m",
      "\u001b[0;31mNameError\u001b[0m: name 'grid_cntv' is not defined"
     ]
    }
   ],
   "source": [
    "# print(grid_cntv.best_estimator_)\n",
    "print(\"Best score: %0.3f\" % grid_cntv.best_score_)"
   ]
  },
  {
   "cell_type": "code",
   "execution_count": 3,
   "id": "4e85a124",
   "metadata": {},
   "outputs": [],
   "source": [
    "# print(grid_cntv.best_estimator_)\n",
    "#print(\"Best score: %0.3f\" % grid_cntv.best_score_)"
   ]
  },
  {
   "cell_type": "code",
   "execution_count": 4,
   "id": "de762e3d",
   "metadata": {},
   "outputs": [
    {
     "ename": "NameError",
     "evalue": "name 'grid_cntv' is not defined",
     "output_type": "error",
     "traceback": [
      "\u001b[0;31m---------------------------------------------------------------------------\u001b[0m",
      "\u001b[0;31mNameError\u001b[0m                                 Traceback (most recent call last)",
      "\u001b[0;32m<ipython-input-4-32db7fc34ef5>\u001b[0m in \u001b[0;36m<module>\u001b[0;34m\u001b[0m\n\u001b[0;32m----> 1\u001b[0;31m \u001b[0mpredictions\u001b[0m\u001b[0;34m=\u001b[0m\u001b[0mgrid_cntv\u001b[0m\u001b[0;34m.\u001b[0m\u001b[0mbest_estimator_\u001b[0m\u001b[0;34m.\u001b[0m\u001b[0mpredict\u001b[0m\u001b[0;34m(\u001b[0m\u001b[0mX_test\u001b[0m\u001b[0;34m)\u001b[0m\u001b[0;34m\u001b[0m\u001b[0;34m\u001b[0m\u001b[0m\n\u001b[0m",
      "\u001b[0;31mNameError\u001b[0m: name 'grid_cntv' is not defined"
     ]
    }
   ],
   "source": [
    "predictions=grid_cntv.best_estimator_.predict(X_test)"
   ]
  },
  {
   "cell_type": "code",
   "execution_count": 5,
   "id": "55aa7bfd",
   "metadata": {},
   "outputs": [
    {
     "ename": "NameError",
     "evalue": "name 'precision_score' is not defined",
     "output_type": "error",
     "traceback": [
      "\u001b[0;31m---------------------------------------------------------------------------\u001b[0m",
      "\u001b[0;31mNameError\u001b[0m                                 Traceback (most recent call last)",
      "\u001b[0;32m<ipython-input-5-30d96ade022f>\u001b[0m in \u001b[0;36m<module>\u001b[0;34m\u001b[0m\n\u001b[0;32m----> 1\u001b[0;31m \u001b[0mprint\u001b[0m\u001b[0;34m(\u001b[0m\u001b[0;34m\"Precision: {0:6.2f}\"\u001b[0m\u001b[0;34m.\u001b[0m\u001b[0mformat\u001b[0m\u001b[0;34m(\u001b[0m\u001b[0mprecision_score\u001b[0m\u001b[0;34m(\u001b[0m\u001b[0my_test\u001b[0m\u001b[0;34m,\u001b[0m \u001b[0mpredictions\u001b[0m\u001b[0;34m,\u001b[0m \u001b[0maverage\u001b[0m\u001b[0;34m=\u001b[0m\u001b[0;34m'macro'\u001b[0m\u001b[0;34m)\u001b[0m\u001b[0;34m)\u001b[0m\u001b[0;34m)\u001b[0m\u001b[0;34m\u001b[0m\u001b[0;34m\u001b[0m\u001b[0m\n\u001b[0m\u001b[1;32m      2\u001b[0m \u001b[0mprint\u001b[0m\u001b[0;34m(\u001b[0m\u001b[0;34m\"Recall:    {0:6.2f}\"\u001b[0m\u001b[0;34m.\u001b[0m\u001b[0mformat\u001b[0m\u001b[0;34m(\u001b[0m\u001b[0mrecall_score\u001b[0m\u001b[0;34m(\u001b[0m\u001b[0my_test\u001b[0m\u001b[0;34m,\u001b[0m \u001b[0mpredictions\u001b[0m\u001b[0;34m,\u001b[0m \u001b[0maverage\u001b[0m\u001b[0;34m=\u001b[0m\u001b[0;34m'macro'\u001b[0m\u001b[0;34m)\u001b[0m\u001b[0;34m)\u001b[0m\u001b[0;34m)\u001b[0m\u001b[0;34m\u001b[0m\u001b[0;34m\u001b[0m\u001b[0m\n\u001b[1;32m      3\u001b[0m \u001b[0mprint\u001b[0m\u001b[0;34m(\u001b[0m\u001b[0;34m\"F1_score:  {0:6.2f}\"\u001b[0m\u001b[0;34m.\u001b[0m\u001b[0mformat\u001b[0m\u001b[0;34m(\u001b[0m\u001b[0mf1_score\u001b[0m\u001b[0;34m(\u001b[0m\u001b[0my_test\u001b[0m\u001b[0;34m,\u001b[0m \u001b[0mpredictions\u001b[0m\u001b[0;34m,\u001b[0m \u001b[0maverage\u001b[0m\u001b[0;34m=\u001b[0m\u001b[0;34m'macro'\u001b[0m\u001b[0;34m)\u001b[0m\u001b[0;34m)\u001b[0m\u001b[0;34m)\u001b[0m\u001b[0;34m\u001b[0m\u001b[0;34m\u001b[0m\u001b[0m\n\u001b[1;32m      4\u001b[0m \u001b[0mprint\u001b[0m\u001b[0;34m(\u001b[0m\u001b[0;34m\"Accuracy:  {0:6.2f}\"\u001b[0m\u001b[0;34m.\u001b[0m\u001b[0mformat\u001b[0m\u001b[0;34m(\u001b[0m\u001b[0maccuracy_score\u001b[0m\u001b[0;34m(\u001b[0m\u001b[0my_test\u001b[0m\u001b[0;34m,\u001b[0m \u001b[0mpredictions\u001b[0m\u001b[0;34m)\u001b[0m\u001b[0;34m)\u001b[0m\u001b[0;34m)\u001b[0m\u001b[0;34m\u001b[0m\u001b[0;34m\u001b[0m\u001b[0m\n",
      "\u001b[0;31mNameError\u001b[0m: name 'precision_score' is not defined"
     ]
    }
   ],
   "source": [
    "print(\"Precision: {0:6.2f}\".format(precision_score(y_test, predictions, average='macro')))\n",
    "print(\"Recall:    {0:6.2f}\".format(recall_score(y_test, predictions, average='macro')))\n",
    "print(\"F1_score:  {0:6.2f}\".format(f1_score(y_test, predictions, average='macro')))\n",
    "print(\"Accuracy:  {0:6.2f}\".format(accuracy_score(y_test, predictions)))"
   ]
  },
  {
   "cell_type": "code",
   "execution_count": 6,
   "id": "062b2929",
   "metadata": {},
   "outputs": [
    {
     "ename": "NameError",
     "evalue": "name 'classification_report' is not defined",
     "output_type": "error",
     "traceback": [
      "\u001b[0;31m---------------------------------------------------------------------------\u001b[0m",
      "\u001b[0;31mNameError\u001b[0m                                 Traceback (most recent call last)",
      "\u001b[0;32m<ipython-input-6-260f9c51cbdf>\u001b[0m in \u001b[0;36m<module>\u001b[0;34m\u001b[0m\n\u001b[0;32m----> 1\u001b[0;31m \u001b[0mprint\u001b[0m\u001b[0;34m(\u001b[0m\u001b[0mclassification_report\u001b[0m\u001b[0;34m(\u001b[0m\u001b[0my_test\u001b[0m\u001b[0;34m,\u001b[0m \u001b[0mpredictions\u001b[0m\u001b[0;34m)\u001b[0m\u001b[0;34m)\u001b[0m\u001b[0;34m\u001b[0m\u001b[0;34m\u001b[0m\u001b[0m\n\u001b[0m",
      "\u001b[0;31mNameError\u001b[0m: name 'classification_report' is not defined"
     ]
    }
   ],
   "source": [
    "print(classification_report(y_test, predictions))"
   ]
  },
  {
   "cell_type": "markdown",
   "id": "af5add6a",
   "metadata": {},
   "source": [
    "- 1-ый вариант: \n",
    "$tf-idf$ преобразование (sklearn.feature_extraction.text.TfidfTransformer)"
   ]
  },
  {
   "cell_type": "code",
   "execution_count": 125,
   "id": "aa0bf895",
   "metadata": {},
   "outputs": [],
   "source": [
    "clf_tf_idf = Pipeline(\n",
    "    [('vect', CountVectorizer()),\n",
    "     ('tfidf', TfidfTransformer()),\n",
    "     ('clf', LogisticRegression())]\n",
    ")\n",
    "\n",
    "\n",
    "params_tf_idf={\n",
    "    'vect__analyzer': ['word'],\n",
    "    'vect__max_df': (0.5, 0.75, 1.0),\n",
    "    'vect__ngram_range': [(1, 1), (2, 2), (3, 3)],\n",
    "    'tfidf__use_idf': (True, False),\n",
    "    'clf__C': np.logspace(-3, 3, 7),\n",
    "    'clf__penalty': ['l1', 'l2']\n",
    "}\n",
    "\n",
    "scores=['accuracy','f1']"
   ]
  },
  {
   "cell_type": "code",
   "execution_count": 1,
   "id": "7034c185",
   "metadata": {},
   "outputs": [
    {
     "ename": "NameError",
     "evalue": "name 'GridSearchCV' is not defined",
     "output_type": "error",
     "traceback": [
      "\u001b[0;31m---------------------------------------------------------------------------\u001b[0m",
      "\u001b[0;31mNameError\u001b[0m                                 Traceback (most recent call last)",
      "\u001b[0;32m<ipython-input-1-96b5ac167d3b>\u001b[0m in \u001b[0;36m<module>\u001b[0;34m\u001b[0m\n\u001b[0;32m----> 1\u001b[0;31m grid_tf_idf = GridSearchCV(\n\u001b[0m\u001b[1;32m      2\u001b[0m     \u001b[0mclf_tf_idf\u001b[0m\u001b[0;34m,\u001b[0m\u001b[0;34m\u001b[0m\u001b[0;34m\u001b[0m\u001b[0m\n\u001b[1;32m      3\u001b[0m     \u001b[0mparam_grid\u001b[0m\u001b[0;34m=\u001b[0m\u001b[0mparams_tf_idf\u001b[0m\u001b[0;34m,\u001b[0m\u001b[0;34m\u001b[0m\u001b[0;34m\u001b[0m\u001b[0m\n\u001b[1;32m      4\u001b[0m     \u001b[0mcv\u001b[0m\u001b[0;34m=\u001b[0m\u001b[0;36m3\u001b[0m\u001b[0;34m,\u001b[0m\u001b[0;34m\u001b[0m\u001b[0;34m\u001b[0m\u001b[0m\n\u001b[1;32m      5\u001b[0m     \u001b[0mscoring\u001b[0m\u001b[0;34m=\u001b[0m\u001b[0mscores\u001b[0m\u001b[0;34m,\u001b[0m\u001b[0;34m\u001b[0m\u001b[0;34m\u001b[0m\u001b[0m\n",
      "\u001b[0;31mNameError\u001b[0m: name 'GridSearchCV' is not defined"
     ]
    }
   ],
   "source": [
    "grid_tf_idf = GridSearchCV(\n",
    "    clf_tf_idf, \n",
    "    param_grid=params_tf_idf, \n",
    "    cv=3,\n",
    "    scoring=scores,\n",
    "    refit=scores[0],\n",
    "    n_jobs=-1, \n",
    "    verbose=1\n",
    ")"
   ]
  },
  {
   "cell_type": "code",
   "execution_count": null,
   "id": "6562a1e7",
   "metadata": {},
   "outputs": [
    {
     "name": "stdout",
     "output_type": "stream",
     "text": [
      "Fitting 3 folds for each of 18 candidates, totalling 54 fits\n"
     ]
    }
   ],
   "source": [
    "grid_tf_idf.fit(X_train, y_train)"
   ]
  },
  {
   "cell_type": "code",
   "execution_count": null,
   "id": "874a4498",
   "metadata": {},
   "outputs": [],
   "source": [
    "print(\"Best score: %0.3f\" % grid_tf_idf.best_score_)\n",
    "predictions=grid_tf_idf.best_estimator_.predict(X_test)"
   ]
  },
  {
   "cell_type": "code",
   "execution_count": null,
   "id": "e31488cc",
   "metadata": {},
   "outputs": [],
   "source": [
    "print(\"Precision: {0:6.2f}\".format(precision_score(y_test, predictions, average='macro')))\n",
    "print(\"Recall:    {0:6.2f}\".format(recall_score(y_test, predictions, average='macro')))\n",
    "print(\"F1_score:  {0:6.2f}\".format(f1_score(y_test, predictions, average='macro')))\n",
    "print(\"Accuracy:  {0:6.2f}\".format(accuracy_score(y_test, predictions)))"
   ]
  },
  {
   "cell_type": "code",
   "execution_count": null,
   "id": "ebc51562",
   "metadata": {},
   "outputs": [],
   "source": [
    "print(classification_report(y_test, predictions))"
   ]
  },
  {
   "cell_type": "code",
   "execution_count": null,
   "id": "604728d1",
   "metadata": {},
   "outputs": [],
   "source": [
    "labels = grid_tf_idf.best_estimator_.classes_\n",
    "\n",
    "sns.heatmap(\n",
    "    data=confusion_matrix(y_test, predictions), \n",
    "    annot=True, \n",
    "    fmt=\"d\", \n",
    "    cbar=False, \n",
    "    xticklabels=labels, \n",
    "    yticklabels=labels\n",
    ")\n",
    "\n",
    "plt.title(\"Confusion matrix\")\n",
    "plt.show()"
   ]
  },
  {
   "cell_type": "markdown",
   "id": "67f2bd2c",
   "metadata": {},
   "source": [
    "- 1-ый вариант: \n",
    "сингулярное разложение (оно же – латентый семантический анализ) (sklearn.decomposition.TruncatedSVD),"
   ]
  },
  {
   "cell_type": "code",
   "execution_count": null,
   "id": "e5b60323",
   "metadata": {},
   "outputs": [],
   "source": [
    "clf_tf_idf_TruncatedSVD = Pipeline(\n",
    "    [('vect', CountVectorizer()),\n",
    "     ('tfidf', TfidfTransformer()),\n",
    "     ('tsvd', TruncatedSVD()),\n",
    "     ('clf', LogisticRegression())]\n",
    ")\n",
    "\n",
    "params_tf_idf_TruncatedSVD={\n",
    "    'vect__analyzer': ['word'],\n",
    "    'vect__ngram_range': [(1, 1), (2, 2), (3, 3)],\n",
    "    'tsvd__n_components': [5, 10, 25, 50, 100],\n",
    "    'clf__C': np.logspace(-3, 3, 7),\n",
    "    'clf__penalty': ['l1', 'l2']\n",
    "}\n",
    "\n",
    "scores=['accuracy','f1']"
   ]
  },
  {
   "cell_type": "code",
   "execution_count": null,
   "id": "d5814a75",
   "metadata": {},
   "outputs": [],
   "source": [
    "grid_tf_idf_TruncatedSVD = GridSearchCV(\n",
    "    clf_tf_idf_TruncatedSVD, \n",
    "    param_grid=params_tf_idf_TruncatedSVD, \n",
    "    cv=3,\n",
    "    scoring=scores,\n",
    "    refit=scores[0],\n",
    "    n_jobs=-1, \n",
    "    verbose=1\n",
    ")"
   ]
  },
  {
   "cell_type": "code",
   "execution_count": null,
   "id": "d1763953",
   "metadata": {},
   "outputs": [],
   "source": [
    "grid_tf_idf_TruncatedSVD.fit(X_train, y_train)"
   ]
  },
  {
   "cell_type": "code",
   "execution_count": null,
   "id": "1cb48979",
   "metadata": {},
   "outputs": [],
   "source": [
    "print(\"Best score: %0.3f\" % grid_tf_idf_TruncatedSVD.best_score_)"
   ]
  },
  {
   "cell_type": "code",
   "execution_count": null,
   "id": "822d98a6",
   "metadata": {},
   "outputs": [],
   "source": [
    "predictions=grid_tf_idf_TruncatedSVD.best_estimator_.predict(X_test)"
   ]
  },
  {
   "cell_type": "code",
   "execution_count": null,
   "id": "786e379a",
   "metadata": {},
   "outputs": [],
   "source": [
    "print(\"Precision: {0:6.2f}\".format(precision_score(y_test, predictions, average='macro')))\n",
    "print(\"Recall:    {0:6.2f}\".format(recall_score(y_test, predictions, average='macro')))\n",
    "print(\"F1_score:  {0:6.2f}\".format(f1_score(y_test, predictions, average='macro')))\n",
    "print(\"Accuracy:  {0:6.2f}\".format(accuracy_score(y_test, predictions)))"
   ]
  },
  {
   "cell_type": "code",
   "execution_count": null,
   "id": "8d189a12",
   "metadata": {},
   "outputs": [],
   "source": [
    "print(classification_report(y_test, predictions))"
   ]
  },
  {
   "cell_type": "code",
   "execution_count": null,
   "id": "26c85521",
   "metadata": {},
   "outputs": [],
   "source": [
    "labels = grid_tf_idf_TruncatedSVD.best_estimator_.classes_\n",
    "\n",
    "sns.heatmap(\n",
    "    data=confusion_matrix(y_test, predictions), \n",
    "    annot=True, \n",
    "    fmt=\"d\", \n",
    "    cbar=False, \n",
    "    xticklabels=labels, \n",
    "    yticklabels=labels\n",
    ")\n",
    "\n",
    "plt.title(\"Confusion matrix\")\n",
    "plt.show()"
   ]
  },
  {
   "cell_type": "markdown",
   "id": "7a06864b",
   "metadata": {},
   "source": [
    "- 2-й вариант. LDA"
   ]
  },
  {
   "cell_type": "code",
   "execution_count": null,
   "id": "ef5b4b41",
   "metadata": {},
   "outputs": [],
   "source": [
    "clf_tf_idf_LDA = Pipeline(\n",
    "    [('vect', CountVectorizer()),\n",
    "     ('lda', LatentDirichletAllocation()),\n",
    "     ('clf', LogisticRegression())]\n",
    ")\n",
    "\n",
    "params_tf_idf_LDA={\n",
    "    'vect__analyzer': ['word'],\n",
    "    'vect__max_df': [0.75],\n",
    "    'vect__ngram_range': [(1, 1)],\n",
    "    'lda__n_components' : [25, 50, 100],\n",
    "    'clf__C': np.logspace(-3, 3, 7),\n",
    "    'clf__penalty': ['l1']\n",
    "}\n",
    "\n",
    "scores=['accuracy', 'f1']"
   ]
  },
  {
   "cell_type": "code",
   "execution_count": null,
   "id": "ab7fd6fc",
   "metadata": {},
   "outputs": [],
   "source": [
    "grid_tf_idf_LDA = GridSearchCV(\n",
    "    clf_tf_idf_LDA, \n",
    "    param_grid=params_tf_idf_LDA, \n",
    "    cv=3,\n",
    "    scoring=scores,\n",
    "    refit=scores[0],\n",
    "    n_jobs=-1, \n",
    "    verbose=1\n",
    ")"
   ]
  },
  {
   "cell_type": "code",
   "execution_count": null,
   "id": "0f9fade8",
   "metadata": {},
   "outputs": [],
   "source": [
    "grid_tf_idf_LDA.fit(X_train, y_train)"
   ]
  },
  {
   "cell_type": "code",
   "execution_count": null,
   "id": "7238d4d0",
   "metadata": {},
   "outputs": [],
   "source": [
    "print(\"Best score: %0.3f\" % grid_tf_idf_LDA.best_score_)"
   ]
  },
  {
   "cell_type": "code",
   "execution_count": null,
   "id": "338a9bd5",
   "metadata": {},
   "outputs": [],
   "source": [
    "predictions=grid_tf_idf_LDA.best_estimator_.predict(X_test)"
   ]
  },
  {
   "cell_type": "code",
   "execution_count": null,
   "id": "9f2896a4",
   "metadata": {},
   "outputs": [],
   "source": [
    "print(\"Precision: {0:6.2f}\".format(precision_score(y_test, predictions, average='macro')))\n",
    "print(\"Recall:    {0:6.2f}\".format(recall_score(y_test, predictions, average='macro')))\n",
    "print(\"F1_score:  {0:6.2f}\".format(f1_score(y_test, predictions, average='macro')))\n",
    "print(\"Accuracy:  {0:6.2f}\".format(accuracy_score(y_test, predictions)))"
   ]
  },
  {
   "cell_type": "code",
   "execution_count": null,
   "id": "8f146942",
   "metadata": {},
   "outputs": [],
   "source": [
    "print(classification_report(y_test, predictions))"
   ]
  },
  {
   "cell_type": "code",
   "execution_count": null,
   "id": "c43bb976",
   "metadata": {},
   "outputs": [],
   "source": [
    "labels = grid_tf_idf_LDA.best_estimator_.classes_\n",
    "\n",
    "sns.heatmap(\n",
    "    data=confusion_matrix(y_test, predictions), \n",
    "    annot=True, \n",
    "    fmt=\"d\", \n",
    "    cbar=False,\n",
    "    xticklabels=labels,\n",
    "    yticklabels=labels\n",
    ")\n",
    "\n",
    "plt.title(\"Confusion matrix\")\n",
    "plt.show()"
   ]
  },
  {
   "cell_type": "code",
   "execution_count": null,
   "id": "dce29288",
   "metadata": {},
   "outputs": [],
   "source": [
    "### "
   ]
  },
  {
   "cell_type": "code",
   "execution_count": null,
   "id": "4807a465",
   "metadata": {},
   "outputs": [],
   "source": [
    "models=['grid_cntv', 'grid_tf_idf', 'grid_tf_idf_TruncatedSVD', 'grid_tf_idf_LDA']\n",
    "\n",
    "for model in models:\n",
    "    print(model[5:])\n",
    "    predictions=eval(model).best_estimator_.predict(X_test)\n",
    "    print(\"f1_score: {0:6.3f}\\nAccuracy: {0:6.3f}\\n\\n\".format(\n",
    "        f1_score(y_test, predictions, average='macro'), \n",
    "        accuracy_score(y_test, predictions)))"
   ]
  },
  {
   "cell_type": "code",
   "execution_count": null,
   "id": "7e0c47fc",
   "metadata": {},
   "outputs": [],
   "source": []
  },
  {
   "cell_type": "code",
   "execution_count": null,
   "id": "bb3ebd7d",
   "metadata": {},
   "outputs": [],
   "source": []
  },
  {
   "cell_type": "code",
   "execution_count": null,
   "id": "f50ac377",
   "metadata": {},
   "outputs": [],
   "source": []
  },
  {
   "cell_type": "code",
   "execution_count": null,
   "id": "10a08661",
   "metadata": {},
   "outputs": [],
   "source": []
  },
  {
   "cell_type": "code",
   "execution_count": null,
   "id": "942752b4",
   "metadata": {},
   "outputs": [],
   "source": []
  },
  {
   "cell_type": "code",
   "execution_count": null,
   "id": "cb73990f",
   "metadata": {},
   "outputs": [],
   "source": []
  },
  {
   "cell_type": "code",
   "execution_count": null,
   "id": "e38fb30e",
   "metadata": {},
   "outputs": [],
   "source": []
  },
  {
   "cell_type": "code",
   "execution_count": null,
   "id": "af294e57",
   "metadata": {},
   "outputs": [],
   "source": []
  },
  {
   "cell_type": "code",
   "execution_count": null,
   "id": "f987c9c2",
   "metadata": {},
   "outputs": [],
   "source": []
  },
  {
   "cell_type": "code",
   "execution_count": null,
   "id": "dd837733",
   "metadata": {},
   "outputs": [],
   "source": []
  },
  {
   "cell_type": "code",
   "execution_count": null,
   "id": "61e785b6",
   "metadata": {},
   "outputs": [],
   "source": []
  },
  {
   "cell_type": "code",
   "execution_count": null,
   "id": "b22fe08f",
   "metadata": {},
   "outputs": [],
   "source": []
  },
  {
   "cell_type": "code",
   "execution_count": null,
   "id": "2435292c",
   "metadata": {},
   "outputs": [],
   "source": []
  }
 ],
 "metadata": {
  "kernelspec": {
   "display_name": "Python 3",
   "language": "python",
   "name": "python3"
  },
  "language_info": {
   "codemirror_mode": {
    "name": "ipython",
    "version": 3
   },
   "file_extension": ".py",
   "mimetype": "text/x-python",
   "name": "python",
   "nbconvert_exporter": "python",
   "pygments_lexer": "ipython3",
   "version": "3.6.9"
  }
 },
 "nbformat": 4,
 "nbformat_minor": 5
}
