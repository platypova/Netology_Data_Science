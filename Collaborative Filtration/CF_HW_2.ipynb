{
 "cells": [
  {
   "cell_type": "markdown",
   "metadata": {
    "id": "P3j6IFsQveNs"
   },
   "source": [
    "https://bit.ly/RSML-3-colab"
   ]
  },
  {
   "cell_type": "markdown",
   "metadata": {
    "id": "cayIw6SoHSIR"
   },
   "source": [
    "# Коллаборативная фильтрация"
   ]
  },
  {
   "cell_type": "markdown",
   "metadata": {},
   "source": [
    "## Домашнее задание"
   ]
  },
  {
   "cell_type": "markdown",
   "metadata": {},
   "source": [
    "Пакет SURPRISE:\n",
    "\n",
    "    - используйте данные MovieLens 1M,\n",
    "    - можно использовать любые модели из пакета,\n",
    "    - получите RMSE на тестовом сете 0,87 и ниже.\n"
   ]
  },
  {
   "cell_type": "code",
   "execution_count": 1,
   "metadata": {
    "colab": {
     "base_uri": "https://localhost:8080/"
    },
    "id": "Di0xlzqJHGF3",
    "outputId": "7bd0869b-a0b6-40d2-c9f2-3cc35f527a9d"
   },
   "outputs": [
    {
     "name": "stdout",
     "output_type": "stream",
     "text": [
      "/usr/lib/python3/dist-packages/secretstorage/dhcrypto.py:15: CryptographyDeprecationWarning: int_from_bytes is deprecated, use int.from_bytes instead\n",
      "  from cryptography.utils import int_from_bytes\n",
      "/usr/lib/python3/dist-packages/secretstorage/util.py:19: CryptographyDeprecationWarning: int_from_bytes is deprecated, use int.from_bytes instead\n",
      "  from cryptography.utils import int_from_bytes\n",
      "Defaulting to user installation because normal site-packages is not writeable\n",
      "Requirement already satisfied: surprise in /home/polina/.local/lib/python3.6/site-packages (0.1)\n",
      "Requirement already satisfied: scikit-surprise in /home/polina/.local/lib/python3.6/site-packages (from surprise) (1.1.1)\n",
      "Requirement already satisfied: joblib>=0.11 in /home/polina/.local/lib/python3.6/site-packages (from scikit-surprise->surprise) (1.0.1)\n",
      "Requirement already satisfied: six>=1.10.0 in /home/polina/.local/lib/python3.6/site-packages (from scikit-surprise->surprise) (1.15.0)\n",
      "Requirement already satisfied: scipy>=1.0.0 in /home/polina/.local/lib/python3.6/site-packages (from scikit-surprise->surprise) (1.5.4)\n",
      "Requirement already satisfied: numpy>=1.11.2 in /home/polina/.local/lib/python3.6/site-packages (from scikit-surprise->surprise) (1.19.5)\n",
      "\u001b[33mWARNING: You are using pip version 21.2.4; however, version 21.3.1 is available.\n",
      "You should consider upgrading via the '/usr/bin/python3 -m pip install --upgrade pip' command.\u001b[0m\n"
     ]
    }
   ],
   "source": [
    "!pip3 install surprise"
   ]
  },
  {
   "cell_type": "code",
   "execution_count": 15,
   "metadata": {
    "id": "ZhnHAp_LG62J"
   },
   "outputs": [],
   "source": [
    "from surprise import KNNWithMeans, KNNBasic\n",
    "from surprise import Dataset\n",
    "from surprise import accuracy\n",
    "from surprise import Reader\n",
    "from surprise.model_selection import train_test_split\n",
    "from surprise import Dataset, SVD\n",
    "from surprise.model_selection import cross_validate\n",
    "from surprise.model_selection import train_test_split\n",
    "from surprise.model_selection import GridSearchCV\n",
    "\n",
    "import pandas as pd"
   ]
  },
  {
   "cell_type": "code",
   "execution_count": 6,
   "metadata": {},
   "outputs": [
    {
     "name": "stdout",
     "output_type": "stream",
     "text": [
      "--2023-05-17 13:56:48--  https://drive.google.com/uc?id=1m0rwReR09achL0xTM6QPoN4tykz5bOMx\n",
      "Resolving drive.google.com (drive.google.com)... 142.250.150.194\n",
      "Connecting to drive.google.com (drive.google.com)|142.250.150.194|:443... connected.\n",
      "HTTP request sent, awaiting response... 303 See Other\n",
      "Location: https://doc-0g-84-docs.googleusercontent.com/docs/securesc/ha0ro937gcuc7l7deffksulhg5h7mbp1/h9a3kgsb7f1qv5vj0gk6u0kvm699srqj/1684320975000/02611596255248067438/*/1m0rwReR09achL0xTM6QPoN4tykz5bOMx?uuid=091455e4-2e5e-4359-8641-7998d3484b2c [following]\n",
      "Warning: wildcards not supported in HTTP.\n",
      "--2023-05-17 13:56:50--  https://doc-0g-84-docs.googleusercontent.com/docs/securesc/ha0ro937gcuc7l7deffksulhg5h7mbp1/h9a3kgsb7f1qv5vj0gk6u0kvm699srqj/1684320975000/02611596255248067438/*/1m0rwReR09achL0xTM6QPoN4tykz5bOMx?uuid=091455e4-2e5e-4359-8641-7998d3484b2c\n",
      "Resolving doc-0g-84-docs.googleusercontent.com (doc-0g-84-docs.googleusercontent.com)... 108.177.14.132\n",
      "Connecting to doc-0g-84-docs.googleusercontent.com (doc-0g-84-docs.googleusercontent.com)|108.177.14.132|:443... connected.\n",
      "HTTP request sent, awaiting response... 200 OK\n",
      "Length: 847695 (828K) [application/zip]\n",
      "Saving to: ‘MovieLens.zip’\n",
      "\n",
      "MovieLens.zip       100%[===================>] 827,83K   734KB/s    in 1,1s    \n",
      "\n",
      "2023-05-17 13:56:52 (734 KB/s) - ‘MovieLens.zip’ saved [847695/847695]\n",
      "\n",
      "Archive:  MovieLens.zip\n",
      "  inflating: links.csv               \n",
      "  inflating: movies.csv              \n",
      "  inflating: ratings.csv             \n",
      "  inflating: tags.csv                \n"
     ]
    }
   ],
   "source": [
    "!wget 'https://drive.google.com/uc?id=1m0rwReR09achL0xTM6QPoN4tykz5bOMx' -O MovieLens.zip\n",
    "!unzip MovieLens.zip"
   ]
  },
  {
   "cell_type": "code",
   "execution_count": 7,
   "metadata": {},
   "outputs": [],
   "source": [
    "movies = pd.read_csv('movies.csv')\n",
    "ratings = pd.read_csv('ratings.csv')"
   ]
  },
  {
   "cell_type": "code",
   "execution_count": 8,
   "metadata": {},
   "outputs": [
    {
     "data": {
      "text/html": [
       "<div>\n",
       "<style scoped>\n",
       "    .dataframe tbody tr th:only-of-type {\n",
       "        vertical-align: middle;\n",
       "    }\n",
       "\n",
       "    .dataframe tbody tr th {\n",
       "        vertical-align: top;\n",
       "    }\n",
       "\n",
       "    .dataframe thead th {\n",
       "        text-align: right;\n",
       "    }\n",
       "</style>\n",
       "<table border=\"1\" class=\"dataframe\">\n",
       "  <thead>\n",
       "    <tr style=\"text-align: right;\">\n",
       "      <th></th>\n",
       "      <th>movieId</th>\n",
       "      <th>title</th>\n",
       "      <th>genres</th>\n",
       "      <th>userId</th>\n",
       "      <th>rating</th>\n",
       "      <th>timestamp</th>\n",
       "    </tr>\n",
       "  </thead>\n",
       "  <tbody>\n",
       "    <tr>\n",
       "      <th>0</th>\n",
       "      <td>1</td>\n",
       "      <td>Toy Story (1995)</td>\n",
       "      <td>Adventure|Animation|Children|Comedy|Fantasy</td>\n",
       "      <td>1</td>\n",
       "      <td>4.0</td>\n",
       "      <td>964982703</td>\n",
       "    </tr>\n",
       "    <tr>\n",
       "      <th>1</th>\n",
       "      <td>1</td>\n",
       "      <td>Toy Story (1995)</td>\n",
       "      <td>Adventure|Animation|Children|Comedy|Fantasy</td>\n",
       "      <td>5</td>\n",
       "      <td>4.0</td>\n",
       "      <td>847434962</td>\n",
       "    </tr>\n",
       "    <tr>\n",
       "      <th>2</th>\n",
       "      <td>1</td>\n",
       "      <td>Toy Story (1995)</td>\n",
       "      <td>Adventure|Animation|Children|Comedy|Fantasy</td>\n",
       "      <td>7</td>\n",
       "      <td>4.5</td>\n",
       "      <td>1106635946</td>\n",
       "    </tr>\n",
       "    <tr>\n",
       "      <th>3</th>\n",
       "      <td>1</td>\n",
       "      <td>Toy Story (1995)</td>\n",
       "      <td>Adventure|Animation|Children|Comedy|Fantasy</td>\n",
       "      <td>15</td>\n",
       "      <td>2.5</td>\n",
       "      <td>1510577970</td>\n",
       "    </tr>\n",
       "    <tr>\n",
       "      <th>4</th>\n",
       "      <td>1</td>\n",
       "      <td>Toy Story (1995)</td>\n",
       "      <td>Adventure|Animation|Children|Comedy|Fantasy</td>\n",
       "      <td>17</td>\n",
       "      <td>4.5</td>\n",
       "      <td>1305696483</td>\n",
       "    </tr>\n",
       "  </tbody>\n",
       "</table>\n",
       "</div>"
      ],
      "text/plain": [
       "   movieId             title                                       genres  \\\n",
       "0        1  Toy Story (1995)  Adventure|Animation|Children|Comedy|Fantasy   \n",
       "1        1  Toy Story (1995)  Adventure|Animation|Children|Comedy|Fantasy   \n",
       "2        1  Toy Story (1995)  Adventure|Animation|Children|Comedy|Fantasy   \n",
       "3        1  Toy Story (1995)  Adventure|Animation|Children|Comedy|Fantasy   \n",
       "4        1  Toy Story (1995)  Adventure|Animation|Children|Comedy|Fantasy   \n",
       "\n",
       "   userId  rating   timestamp  \n",
       "0       1     4.0   964982703  \n",
       "1       5     4.0   847434962  \n",
       "2       7     4.5  1106635946  \n",
       "3      15     2.5  1510577970  \n",
       "4      17     4.5  1305696483  "
      ]
     },
     "execution_count": 8,
     "metadata": {},
     "output_type": "execute_result"
    }
   ],
   "source": [
    "movies_with_ratings = movies.merge(ratings, on='movieId').reset_index(drop=True)\n",
    "movies_with_ratings.dropna(inplace=True)\n",
    "movies_with_ratings.head()"
   ]
  },
  {
   "cell_type": "code",
   "execution_count": 12,
   "metadata": {},
   "outputs": [],
   "source": [
    "dataset = pd.DataFrame({\n",
    "    'userID': movies_with_ratings.userId,\n",
    "    'item': movies_with_ratings.title,\n",
    "    'rating': movies_with_ratings.rating\n",
    "})"
   ]
  },
  {
   "cell_type": "code",
   "execution_count": 13,
   "metadata": {},
   "outputs": [],
   "source": [
    "reader = Reader(rating_scale=(1, 5))\n",
    "data = Dataset.load_from_df(dataset[['userID', 'item', 'rating']], reader)"
   ]
  },
  {
   "cell_type": "code",
   "execution_count": 16,
   "metadata": {},
   "outputs": [
    {
     "name": "stdout",
     "output_type": "stream",
     "text": [
      "BEST RMSE: \t 0.8746119817957847\n",
      "BEST MAE: \t 0.6717313233569084\n",
      "BEST params: \t {'n_epochs': 20, 'lr_all': 0.005, 'reg_all': 0.02}\n"
     ]
    }
   ],
   "source": [
    "# param_grid = {\n",
    "#     \"n_epochs\": [5, 10, 15, 20, 30, 40, 50, 100],\n",
    "#     \"lr_all\": [0.001, 0.002, 0.005],\n",
    "#     \"reg_all\": [0.02, 0.08, 0.4, 0.6]\n",
    "# }\n",
    "\n",
    "# smaller grid for testing\n",
    "param_grid = {\n",
    "    \"n_epochs\": [10, 20],\n",
    "    \"lr_all\": [0.002, 0.005],\n",
    "    \"reg_all\": [0.02]\n",
    "}\n",
    "gs = GridSearchCV(SVD, param_grid, measures=[\"rmse\", \"mae\"], refit=True, cv=5)\n",
    "\n",
    "gs.fit(data)\n",
    "\n",
    "training_parameters = gs.best_params[\"rmse\"]\n",
    "\n",
    "print(\"BEST RMSE: \\t\", gs.best_score[\"rmse\"])\n",
    "print(\"BEST MAE: \\t\", gs.best_score[\"mae\"])\n",
    "print(\"BEST params: \\t\", gs.best_params[\"rmse\"])"
   ]
  },
  {
   "cell_type": "code",
   "execution_count": 18,
   "metadata": {},
   "outputs": [
    {
     "name": "stdout",
     "output_type": "stream",
     "text": [
      "{'n_epochs': 20, 'lr_all': 0.005, 'reg_all': 0.02}\n",
      "\n",
      "\n",
      "\t\t STARTING\n",
      "\n",
      "\n",
      "> Loading data...\n",
      "> OK\n",
      "> Creating trainset...\n",
      "> OK\n",
      "> Training...\n",
      "> OK \t\t It Took:  4 seconds\n",
      ">> DONE \t\t It Took 4 seconds\n"
     ]
    }
   ],
   "source": [
    "from datetime import datetime\n",
    "print(training_parameters)\n",
    "reader = Reader(rating_scale=(1, 5))\n",
    "\n",
    "print(\"\\n\\n\\t\\t STARTING\\n\\n\")\n",
    "start = datetime.now()\n",
    "\n",
    "print(\"> Loading data...\")\n",
    "data = Dataset.load_from_df(dataset[['userID', 'item', 'rating']], reader)\n",
    "print(\"> OK\")\n",
    "\n",
    "print(\"> Creating trainset...\")\n",
    "trainset = data.build_full_trainset()\n",
    "print(\"> OK\")\n",
    "\n",
    "\n",
    "startTraining = datetime.now()\n",
    "print(\"> Training...\")\n",
    "\n",
    "algo = SVD(n_epochs = training_parameters['n_epochs'], lr_all = training_parameters['lr_all'], reg_all = training_parameters['reg_all'])\n",
    "\n",
    "algo.fit(trainset)\n",
    "\n",
    "endTraining = datetime.now()\n",
    "print(\"> OK \\t\\t It Took: \", (endTraining-startTraining).seconds, \"seconds\")\n",
    "\n",
    "end = datetime.now()\n",
    "print (\">> DONE \\t\\t It Took\", (end-start).seconds, \"seconds\" )"
   ]
  },
  {
   "cell_type": "code",
   "execution_count": 19,
   "metadata": {},
   "outputs": [
    {
     "name": "stdout",
     "output_type": "stream",
     "text": [
      ">> Starting dump\n",
      ">> Dump done\n",
      "./model.pickle\n"
     ]
    }
   ],
   "source": [
    "## SAVING TRAINED MODEL\n",
    "from surprise import dump\n",
    "import os\n",
    "model_filename = \"./model.pickle\"\n",
    "print (\">> Starting dump\")\n",
    "# Dump algorithm and reload it.\n",
    "file_name = os.path.expanduser(model_filename)\n",
    "dump.dump(file_name, algo=algo)\n",
    "print (\">> Dump done\")\n",
    "print(model_filename)"
   ]
  },
  {
   "cell_type": "code",
   "execution_count": 20,
   "metadata": {},
   "outputs": [],
   "source": [
    "## LOAD SAVED MODEL\n",
    "def load_model(model_filename):\n",
    "    print (\">> Loading dump\")\n",
    "    from surprise import dump\n",
    "    import os\n",
    "    file_name = os.path.expanduser(model_filename)\n",
    "    _, loaded_model = dump.load(file_name)\n",
    "    print (\">> Loaded dump\")\n",
    "    return loaded_model"
   ]
  },
  {
   "cell_type": "code",
   "execution_count": 21,
   "metadata": {},
   "outputs": [
    {
     "name": "stdout",
     "output_type": "stream",
     "text": [
      ">> Loading dump\n",
      ">> Loaded dump\n",
      "user: 610        item: 10         r_ui = None   est = 3.50   {'was_impossible': False}\n",
      "{'details': {'was_impossible': False},\n",
      " 'iid': '10',\n",
      " 'item': '10',\n",
      " 'rating': 3.501556983616962,\n",
      " 'true': None,\n",
      " 'uid': '610',\n",
      " 'user': '610'}\n",
      "\n",
      "\n",
      "\n",
      "{'user': '610', 'item': '10', 'rating': 3.501556983616962, 'details': {'was_impossible': False}, 'uid': '610', 'iid': '10', 'true': None}\n"
     ]
    }
   ],
   "source": [
    "# predicitng\n",
    "from pprint import pprint as pp\n",
    "model_filename = \"./model.pickle\"\n",
    "def itemRating(user, item):\n",
    "    uid = str(user)\n",
    "    iid = str(item) \n",
    "    loaded_model = load_model(model_filename)\n",
    "    prediction = loaded_model.predict(user, item, verbose=True)\n",
    "    rating = prediction.est\n",
    "    details = prediction.details\n",
    "    uid = prediction.uid\n",
    "    iid = prediction.iid\n",
    "    true = prediction.r_ui\n",
    "    ret = {\n",
    "        'user': user, \n",
    "        'item': item, \n",
    "        'rating': rating, \n",
    "        'details': details,\n",
    "        'uid': uid,\n",
    "        'iid': iid,\n",
    "        'true': true\n",
    "        }\n",
    "    pp (ret)\n",
    "    print ('\\n\\n')\n",
    "    return ret\n",
    "print(itemRating(user = \"610\", item = \"10\"))"
   ]
  },
  {
   "cell_type": "code",
   "execution_count": null,
   "metadata": {},
   "outputs": [],
   "source": []
  }
 ],
 "metadata": {
  "colab": {
   "provenance": [],
   "toc_visible": true
  },
  "kernelspec": {
   "display_name": "Python 3",
   "language": "python",
   "name": "python3"
  },
  "language_info": {
   "codemirror_mode": {
    "name": "ipython",
    "version": 3
   },
   "file_extension": ".py",
   "mimetype": "text/x-python",
   "name": "python",
   "nbconvert_exporter": "python",
   "pygments_lexer": "ipython3",
   "version": "3.6.9"
  }
 },
 "nbformat": 4,
 "nbformat_minor": 1
}
