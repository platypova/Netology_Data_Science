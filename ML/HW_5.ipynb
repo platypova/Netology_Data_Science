{
 "cells": [
  {
   "cell_type": "markdown",
   "id": "af3981d8",
   "metadata": {},
   "source": [
    "# Домашнее задание по теме \"Работа с переменными\""
   ]
  },
  {
   "cell_type": "markdown",
   "id": "e390d5e0",
   "metadata": {},
   "source": [
    "Задание  \n",
    "Потренируем навыки, полученные на практическом занятии. Пользуясь новыми знаниями, проведите эксплоративный   анализ данных на данных недвижимости Бостона, и попытайтесь обучить линейную модель наиболее качественно. Все  ваши действия и решения описывайте в markdown.  \n",
    "Данные вы сможете получить исполнив следующий код:  \n",
    "from sklearn.datasets import load_boston  \n",
    "import pandas as pd  \n",
    "data = pd.read_csv(load_boston()[‘filename’], skiprows=1)  \n",
    "Переменная, которую надо предсказать - ’MEDV’.  \n",
    "Прочитать информацию о содержимом датасета:  \n",
    "print(load_boston()[‘DESCR’])  \n",
    "Если вы неудовлетворенны результатом, но лучшего решения предложить не можете, то высылайте задание на проверку.  \n",
    "Цель задания - закрепить полученные навыки.  "
   ]
  },
  {
   "cell_type": "code",
   "execution_count": 491,
   "id": "19f5fabd",
   "metadata": {},
   "outputs": [],
   "source": [
    "from sklearn.datasets import load_boston\n",
    "import pandas as pd\n",
    "import seaborn as sns\n",
    "import matplotlib.pyplot as plt"
   ]
  },
  {
   "cell_type": "markdown",
   "id": "e09291ea",
   "metadata": {},
   "source": [
    "# 1. Получим данные:"
   ]
  },
  {
   "cell_type": "code",
   "execution_count": 492,
   "id": "98eabd40",
   "metadata": {},
   "outputs": [],
   "source": [
    "data = pd.read_csv(load_boston()['filename'], skiprows=1)"
   ]
  },
  {
   "cell_type": "markdown",
   "id": "6a0548d0",
   "metadata": {},
   "source": [
    "# 2. Описание данных:"
   ]
  },
  {
   "cell_type": "code",
   "execution_count": 493,
   "id": "ee5434ff",
   "metadata": {},
   "outputs": [
    {
     "name": "stdout",
     "output_type": "stream",
     "text": [
      "<class 'pandas.core.frame.DataFrame'>\n",
      "RangeIndex: 506 entries, 0 to 505\n",
      "Data columns (total 14 columns):\n",
      " #   Column   Non-Null Count  Dtype  \n",
      "---  ------   --------------  -----  \n",
      " 0   CRIM     506 non-null    float64\n",
      " 1   ZN       506 non-null    float64\n",
      " 2   INDUS    506 non-null    float64\n",
      " 3   CHAS     506 non-null    int64  \n",
      " 4   NOX      506 non-null    float64\n",
      " 5   RM       506 non-null    float64\n",
      " 6   AGE      506 non-null    float64\n",
      " 7   DIS      506 non-null    float64\n",
      " 8   RAD      506 non-null    int64  \n",
      " 9   TAX      506 non-null    int64  \n",
      " 10  PTRATIO  506 non-null    float64\n",
      " 11  B        506 non-null    float64\n",
      " 12  LSTAT    506 non-null    float64\n",
      " 13  MEDV     506 non-null    float64\n",
      "dtypes: float64(11), int64(3)\n",
      "memory usage: 55.5 KB\n"
     ]
    }
   ],
   "source": [
    "data.info()"
   ]
  },
  {
   "cell_type": "code",
   "execution_count": 494,
   "id": "aaea4144",
   "metadata": {},
   "outputs": [
    {
     "data": {
      "text/html": [
       "<div>\n",
       "<style scoped>\n",
       "    .dataframe tbody tr th:only-of-type {\n",
       "        vertical-align: middle;\n",
       "    }\n",
       "\n",
       "    .dataframe tbody tr th {\n",
       "        vertical-align: top;\n",
       "    }\n",
       "\n",
       "    .dataframe thead th {\n",
       "        text-align: right;\n",
       "    }\n",
       "</style>\n",
       "<table border=\"1\" class=\"dataframe\">\n",
       "  <thead>\n",
       "    <tr style=\"text-align: right;\">\n",
       "      <th></th>\n",
       "      <th>CRIM</th>\n",
       "      <th>ZN</th>\n",
       "      <th>INDUS</th>\n",
       "      <th>CHAS</th>\n",
       "      <th>NOX</th>\n",
       "      <th>RM</th>\n",
       "      <th>AGE</th>\n",
       "      <th>DIS</th>\n",
       "      <th>RAD</th>\n",
       "      <th>TAX</th>\n",
       "      <th>PTRATIO</th>\n",
       "      <th>B</th>\n",
       "      <th>LSTAT</th>\n",
       "      <th>MEDV</th>\n",
       "    </tr>\n",
       "  </thead>\n",
       "  <tbody>\n",
       "    <tr>\n",
       "      <th>0</th>\n",
       "      <td>0.00632</td>\n",
       "      <td>18.0</td>\n",
       "      <td>2.31</td>\n",
       "      <td>0</td>\n",
       "      <td>0.538</td>\n",
       "      <td>6.575</td>\n",
       "      <td>65.2</td>\n",
       "      <td>4.0900</td>\n",
       "      <td>1</td>\n",
       "      <td>296</td>\n",
       "      <td>15.3</td>\n",
       "      <td>396.90</td>\n",
       "      <td>4.98</td>\n",
       "      <td>24.0</td>\n",
       "    </tr>\n",
       "    <tr>\n",
       "      <th>1</th>\n",
       "      <td>0.02731</td>\n",
       "      <td>0.0</td>\n",
       "      <td>7.07</td>\n",
       "      <td>0</td>\n",
       "      <td>0.469</td>\n",
       "      <td>6.421</td>\n",
       "      <td>78.9</td>\n",
       "      <td>4.9671</td>\n",
       "      <td>2</td>\n",
       "      <td>242</td>\n",
       "      <td>17.8</td>\n",
       "      <td>396.90</td>\n",
       "      <td>9.14</td>\n",
       "      <td>21.6</td>\n",
       "    </tr>\n",
       "    <tr>\n",
       "      <th>2</th>\n",
       "      <td>0.02729</td>\n",
       "      <td>0.0</td>\n",
       "      <td>7.07</td>\n",
       "      <td>0</td>\n",
       "      <td>0.469</td>\n",
       "      <td>7.185</td>\n",
       "      <td>61.1</td>\n",
       "      <td>4.9671</td>\n",
       "      <td>2</td>\n",
       "      <td>242</td>\n",
       "      <td>17.8</td>\n",
       "      <td>392.83</td>\n",
       "      <td>4.03</td>\n",
       "      <td>34.7</td>\n",
       "    </tr>\n",
       "    <tr>\n",
       "      <th>3</th>\n",
       "      <td>0.03237</td>\n",
       "      <td>0.0</td>\n",
       "      <td>2.18</td>\n",
       "      <td>0</td>\n",
       "      <td>0.458</td>\n",
       "      <td>6.998</td>\n",
       "      <td>45.8</td>\n",
       "      <td>6.0622</td>\n",
       "      <td>3</td>\n",
       "      <td>222</td>\n",
       "      <td>18.7</td>\n",
       "      <td>394.63</td>\n",
       "      <td>2.94</td>\n",
       "      <td>33.4</td>\n",
       "    </tr>\n",
       "    <tr>\n",
       "      <th>4</th>\n",
       "      <td>0.06905</td>\n",
       "      <td>0.0</td>\n",
       "      <td>2.18</td>\n",
       "      <td>0</td>\n",
       "      <td>0.458</td>\n",
       "      <td>7.147</td>\n",
       "      <td>54.2</td>\n",
       "      <td>6.0622</td>\n",
       "      <td>3</td>\n",
       "      <td>222</td>\n",
       "      <td>18.7</td>\n",
       "      <td>396.90</td>\n",
       "      <td>5.33</td>\n",
       "      <td>36.2</td>\n",
       "    </tr>\n",
       "  </tbody>\n",
       "</table>\n",
       "</div>"
      ],
      "text/plain": [
       "      CRIM    ZN  INDUS  CHAS    NOX     RM   AGE     DIS  RAD  TAX  PTRATIO  \\\n",
       "0  0.00632  18.0   2.31     0  0.538  6.575  65.2  4.0900    1  296     15.3   \n",
       "1  0.02731   0.0   7.07     0  0.469  6.421  78.9  4.9671    2  242     17.8   \n",
       "2  0.02729   0.0   7.07     0  0.469  7.185  61.1  4.9671    2  242     17.8   \n",
       "3  0.03237   0.0   2.18     0  0.458  6.998  45.8  6.0622    3  222     18.7   \n",
       "4  0.06905   0.0   2.18     0  0.458  7.147  54.2  6.0622    3  222     18.7   \n",
       "\n",
       "        B  LSTAT  MEDV  \n",
       "0  396.90   4.98  24.0  \n",
       "1  396.90   9.14  21.6  \n",
       "2  392.83   4.03  34.7  \n",
       "3  394.63   2.94  33.4  \n",
       "4  396.90   5.33  36.2  "
      ]
     },
     "execution_count": 494,
     "metadata": {},
     "output_type": "execute_result"
    }
   ],
   "source": [
    "data.head()"
   ]
  },
  {
   "cell_type": "code",
   "execution_count": 495,
   "id": "bae511c8",
   "metadata": {},
   "outputs": [
    {
     "name": "stdout",
     "output_type": "stream",
     "text": [
      ".. _boston_dataset:\n",
      "\n",
      "Boston house prices dataset\n",
      "---------------------------\n",
      "\n",
      "**Data Set Characteristics:**  \n",
      "\n",
      "    :Number of Instances: 506 \n",
      "\n",
      "    :Number of Attributes: 13 numeric/categorical predictive. Median Value (attribute 14) is usually the target.\n",
      "\n",
      "    :Attribute Information (in order):\n",
      "        - CRIM     per capita crime rate by town\n",
      "        - ZN       proportion of residential land zoned for lots over 25,000 sq.ft.\n",
      "        - INDUS    proportion of non-retail business acres per town\n",
      "        - CHAS     Charles River dummy variable (= 1 if tract bounds river; 0 otherwise)\n",
      "        - NOX      nitric oxides concentration (parts per 10 million)\n",
      "        - RM       average number of rooms per dwelling\n",
      "        - AGE      proportion of owner-occupied units built prior to 1940\n",
      "        - DIS      weighted distances to five Boston employment centres\n",
      "        - RAD      index of accessibility to radial highways\n",
      "        - TAX      full-value property-tax rate per $10,000\n",
      "        - PTRATIO  pupil-teacher ratio by town\n",
      "        - B        1000(Bk - 0.63)^2 where Bk is the proportion of black people by town\n",
      "        - LSTAT    % lower status of the population\n",
      "        - MEDV     Median value of owner-occupied homes in $1000's\n",
      "\n",
      "    :Missing Attribute Values: None\n",
      "\n",
      "    :Creator: Harrison, D. and Rubinfeld, D.L.\n",
      "\n",
      "This is a copy of UCI ML housing dataset.\n",
      "https://archive.ics.uci.edu/ml/machine-learning-databases/housing/\n",
      "\n",
      "\n",
      "This dataset was taken from the StatLib library which is maintained at Carnegie Mellon University.\n",
      "\n",
      "The Boston house-price data of Harrison, D. and Rubinfeld, D.L. 'Hedonic\n",
      "prices and the demand for clean air', J. Environ. Economics & Management,\n",
      "vol.5, 81-102, 1978.   Used in Belsley, Kuh & Welsch, 'Regression diagnostics\n",
      "...', Wiley, 1980.   N.B. Various transformations are used in the table on\n",
      "pages 244-261 of the latter.\n",
      "\n",
      "The Boston house-price data has been used in many machine learning papers that address regression\n",
      "problems.   \n",
      "     \n",
      ".. topic:: References\n",
      "\n",
      "   - Belsley, Kuh & Welsch, 'Regression diagnostics: Identifying Influential Data and Sources of Collinearity', Wiley, 1980. 244-261.\n",
      "   - Quinlan,R. (1993). Combining Instance-Based and Model-Based Learning. In Proceedings on the Tenth International Conference of Machine Learning, 236-243, University of Massachusetts, Amherst. Morgan Kaufmann.\n",
      "\n"
     ]
    }
   ],
   "source": [
    "print(load_boston()['DESCR'])"
   ]
  },
  {
   "cell_type": "markdown",
   "id": "5aab4043",
   "metadata": {},
   "source": [
    "Видим, что в пропусков в данных нет. Есть нулевые значения, и, возможно, выбросы (это проверим дальше)."
   ]
  },
  {
   "cell_type": "markdown",
   "id": "82ea6ec3",
   "metadata": {},
   "source": [
    "# 3. Будем использовать линейную регрессию для тестирования качества данных"
   ]
  },
  {
   "cell_type": "code",
   "execution_count": 578,
   "id": "3b5caab3",
   "metadata": {},
   "outputs": [],
   "source": [
    "from sklearn.model_selection import train_test_split\n",
    "from sklearn.linear_model import LinearRegression\n",
    "from sklearn.metrics import mean_absolute_error"
   ]
  },
  {
   "cell_type": "code",
   "execution_count": 579,
   "id": "a74c0deb",
   "metadata": {},
   "outputs": [],
   "source": [
    "def get_score(X,y, random_seed=42, model=None):\n",
    "      if model is None:\n",
    "        model = LinearRegression()\n",
    "        X_train, X_test, y_train, y_test = train_test_split(X, y, test_size=0.3, random_state=random_seed )  \n",
    "        model.fit(X_train, y_train)\n",
    "        pred = model.predict(X_test)\n",
    "        return model.score(X_test, y_test), mean_absolute_error(y_test, pred)"
   ]
  },
  {
   "cell_type": "code",
   "execution_count": 580,
   "id": "b2ae013b",
   "metadata": {},
   "outputs": [
    {
     "data": {
      "text/plain": [
       "Index(['CRIM', 'ZN', 'INDUS', 'CHAS', 'NOX', 'RM', 'DIS', 'RAD', 'TAX',\n",
       "       'PTRATIO', 'LSTAT', 'MEDV'],\n",
       "      dtype='object')"
      ]
     },
     "execution_count": 580,
     "metadata": {},
     "output_type": "execute_result"
    }
   ],
   "source": [
    "data.columns"
   ]
  },
  {
   "cell_type": "code",
   "execution_count": 581,
   "id": "3c6b5987",
   "metadata": {},
   "outputs": [],
   "source": [
    "cols = ['CRIM', 'ZN', 'INDUS', 'CHAS', 'NOX', 'RM', 'AGE', 'DIS', 'RAD', 'TAX',\n",
    "       'PTRATIO', 'B', 'LSTAT']"
   ]
  },
  {
   "cell_type": "markdown",
   "id": "983b836a",
   "metadata": {},
   "source": [
    "# 4. Оценим качество на \"сырых\" данных"
   ]
  },
  {
   "cell_type": "code",
   "execution_count": 582,
   "id": "2fc9113e",
   "metadata": {},
   "outputs": [
    {
     "ename": "KeyError",
     "evalue": "\"['B', 'AGE'] not in index\"",
     "output_type": "error",
     "traceback": [
      "\u001b[0;31m---------------------------------------------------------------------------\u001b[0m",
      "\u001b[0;31mKeyError\u001b[0m                                  Traceback (most recent call last)",
      "\u001b[0;32m<ipython-input-582-c27262b231c9>\u001b[0m in \u001b[0;36m<module>\u001b[0;34m\u001b[0m\n\u001b[0;32m----> 1\u001b[0;31m \u001b[0mget_score\u001b[0m\u001b[0;34m(\u001b[0m\u001b[0mdata\u001b[0m\u001b[0;34m.\u001b[0m\u001b[0mdropna\u001b[0m\u001b[0;34m(\u001b[0m\u001b[0;34m)\u001b[0m\u001b[0;34m[\u001b[0m\u001b[0mcols\u001b[0m\u001b[0;34m]\u001b[0m\u001b[0;34m,\u001b[0m \u001b[0mdata\u001b[0m\u001b[0;34m.\u001b[0m\u001b[0mdropna\u001b[0m\u001b[0;34m(\u001b[0m\u001b[0;34m)\u001b[0m\u001b[0;34m[\u001b[0m\u001b[0;34m'MEDV'\u001b[0m\u001b[0;34m]\u001b[0m\u001b[0;34m)\u001b[0m\u001b[0;34m\u001b[0m\u001b[0;34m\u001b[0m\u001b[0m\n\u001b[0m",
      "\u001b[0;32m~/.local/lib/python3.6/site-packages/pandas/core/frame.py\u001b[0m in \u001b[0;36m__getitem__\u001b[0;34m(self, key)\u001b[0m\n\u001b[1;32m   2910\u001b[0m             \u001b[0;32mif\u001b[0m \u001b[0mis_iterator\u001b[0m\u001b[0;34m(\u001b[0m\u001b[0mkey\u001b[0m\u001b[0;34m)\u001b[0m\u001b[0;34m:\u001b[0m\u001b[0;34m\u001b[0m\u001b[0;34m\u001b[0m\u001b[0m\n\u001b[1;32m   2911\u001b[0m                 \u001b[0mkey\u001b[0m \u001b[0;34m=\u001b[0m \u001b[0mlist\u001b[0m\u001b[0;34m(\u001b[0m\u001b[0mkey\u001b[0m\u001b[0;34m)\u001b[0m\u001b[0;34m\u001b[0m\u001b[0;34m\u001b[0m\u001b[0m\n\u001b[0;32m-> 2912\u001b[0;31m             \u001b[0mindexer\u001b[0m \u001b[0;34m=\u001b[0m \u001b[0mself\u001b[0m\u001b[0;34m.\u001b[0m\u001b[0mloc\u001b[0m\u001b[0;34m.\u001b[0m\u001b[0m_get_listlike_indexer\u001b[0m\u001b[0;34m(\u001b[0m\u001b[0mkey\u001b[0m\u001b[0;34m,\u001b[0m \u001b[0maxis\u001b[0m\u001b[0;34m=\u001b[0m\u001b[0;36m1\u001b[0m\u001b[0;34m,\u001b[0m \u001b[0mraise_missing\u001b[0m\u001b[0;34m=\u001b[0m\u001b[0;32mTrue\u001b[0m\u001b[0;34m)\u001b[0m\u001b[0;34m[\u001b[0m\u001b[0;36m1\u001b[0m\u001b[0;34m]\u001b[0m\u001b[0;34m\u001b[0m\u001b[0;34m\u001b[0m\u001b[0m\n\u001b[0m\u001b[1;32m   2913\u001b[0m \u001b[0;34m\u001b[0m\u001b[0m\n\u001b[1;32m   2914\u001b[0m         \u001b[0;31m# take() does not accept boolean indexers\u001b[0m\u001b[0;34m\u001b[0m\u001b[0;34m\u001b[0m\u001b[0;34m\u001b[0m\u001b[0m\n",
      "\u001b[0;32m~/.local/lib/python3.6/site-packages/pandas/core/indexing.py\u001b[0m in \u001b[0;36m_get_listlike_indexer\u001b[0;34m(self, key, axis, raise_missing)\u001b[0m\n\u001b[1;32m   1252\u001b[0m             \u001b[0mkeyarr\u001b[0m\u001b[0;34m,\u001b[0m \u001b[0mindexer\u001b[0m\u001b[0;34m,\u001b[0m \u001b[0mnew_indexer\u001b[0m \u001b[0;34m=\u001b[0m \u001b[0max\u001b[0m\u001b[0;34m.\u001b[0m\u001b[0m_reindex_non_unique\u001b[0m\u001b[0;34m(\u001b[0m\u001b[0mkeyarr\u001b[0m\u001b[0;34m)\u001b[0m\u001b[0;34m\u001b[0m\u001b[0;34m\u001b[0m\u001b[0m\n\u001b[1;32m   1253\u001b[0m \u001b[0;34m\u001b[0m\u001b[0m\n\u001b[0;32m-> 1254\u001b[0;31m         \u001b[0mself\u001b[0m\u001b[0;34m.\u001b[0m\u001b[0m_validate_read_indexer\u001b[0m\u001b[0;34m(\u001b[0m\u001b[0mkeyarr\u001b[0m\u001b[0;34m,\u001b[0m \u001b[0mindexer\u001b[0m\u001b[0;34m,\u001b[0m \u001b[0maxis\u001b[0m\u001b[0;34m,\u001b[0m \u001b[0mraise_missing\u001b[0m\u001b[0;34m=\u001b[0m\u001b[0mraise_missing\u001b[0m\u001b[0;34m)\u001b[0m\u001b[0;34m\u001b[0m\u001b[0;34m\u001b[0m\u001b[0m\n\u001b[0m\u001b[1;32m   1255\u001b[0m         \u001b[0;32mreturn\u001b[0m \u001b[0mkeyarr\u001b[0m\u001b[0;34m,\u001b[0m \u001b[0mindexer\u001b[0m\u001b[0;34m\u001b[0m\u001b[0;34m\u001b[0m\u001b[0m\n\u001b[1;32m   1256\u001b[0m \u001b[0;34m\u001b[0m\u001b[0m\n",
      "\u001b[0;32m~/.local/lib/python3.6/site-packages/pandas/core/indexing.py\u001b[0m in \u001b[0;36m_validate_read_indexer\u001b[0;34m(self, key, indexer, axis, raise_missing)\u001b[0m\n\u001b[1;32m   1302\u001b[0m             \u001b[0;32mif\u001b[0m \u001b[0mraise_missing\u001b[0m\u001b[0;34m:\u001b[0m\u001b[0;34m\u001b[0m\u001b[0;34m\u001b[0m\u001b[0m\n\u001b[1;32m   1303\u001b[0m                 \u001b[0mnot_found\u001b[0m \u001b[0;34m=\u001b[0m \u001b[0mlist\u001b[0m\u001b[0;34m(\u001b[0m\u001b[0mset\u001b[0m\u001b[0;34m(\u001b[0m\u001b[0mkey\u001b[0m\u001b[0;34m)\u001b[0m \u001b[0;34m-\u001b[0m \u001b[0mset\u001b[0m\u001b[0;34m(\u001b[0m\u001b[0max\u001b[0m\u001b[0;34m)\u001b[0m\u001b[0;34m)\u001b[0m\u001b[0;34m\u001b[0m\u001b[0;34m\u001b[0m\u001b[0m\n\u001b[0;32m-> 1304\u001b[0;31m                 \u001b[0;32mraise\u001b[0m \u001b[0mKeyError\u001b[0m\u001b[0;34m(\u001b[0m\u001b[0;34mf\"{not_found} not in index\"\u001b[0m\u001b[0;34m)\u001b[0m\u001b[0;34m\u001b[0m\u001b[0;34m\u001b[0m\u001b[0m\n\u001b[0m\u001b[1;32m   1305\u001b[0m \u001b[0;34m\u001b[0m\u001b[0m\n\u001b[1;32m   1306\u001b[0m             \u001b[0;31m# we skip the warning on Categorical\u001b[0m\u001b[0;34m\u001b[0m\u001b[0;34m\u001b[0m\u001b[0;34m\u001b[0m\u001b[0m\n",
      "\u001b[0;31mKeyError\u001b[0m: \"['B', 'AGE'] not in index\""
     ]
    }
   ],
   "source": [
    "get_score(data.dropna()[cols], data.dropna()['MEDV'])"
   ]
  },
  {
   "cell_type": "markdown",
   "id": "2e22c6ff",
   "metadata": {},
   "source": [
    "# 5. Качество нас не устраивает, постараемся его улучшить"
   ]
  },
  {
   "cell_type": "markdown",
   "id": "1c7835fb",
   "metadata": {},
   "source": [
    "Для поиска выбросов будем использовать boxplot"
   ]
  },
  {
   "cell_type": "code",
   "execution_count": 506,
   "id": "40c8a3a2",
   "metadata": {},
   "outputs": [],
   "source": [
    "def get_boxplot(X, columns=[]):\n",
    "      for i in columns:\n",
    "        sns.boxplot(x=X[i])\n",
    "        pass  \n",
    "\n",
    "def get_pairplot(X, columns=None):\n",
    "      if columns is None:\n",
    "        columns = list(X.columns)\n",
    "        sns.pairplot(X[columns])\n",
    "        pass"
   ]
  },
  {
   "cell_type": "code",
   "execution_count": 507,
   "id": "edbebe62",
   "metadata": {},
   "outputs": [
    {
     "data": {
      "text/plain": [
       "['CRIM',\n",
       " 'ZN',\n",
       " 'INDUS',\n",
       " 'CHAS',\n",
       " 'NOX',\n",
       " 'RM',\n",
       " 'AGE',\n",
       " 'DIS',\n",
       " 'RAD',\n",
       " 'TAX',\n",
       " 'PTRATIO',\n",
       " 'B',\n",
       " 'LSTAT']"
      ]
     },
     "execution_count": 507,
     "metadata": {},
     "output_type": "execute_result"
    }
   ],
   "source": [
    "cols"
   ]
  },
  {
   "cell_type": "markdown",
   "id": "ca58f123",
   "metadata": {},
   "source": [
    "### Масштабируем признаки:"
   ]
  },
  {
   "cell_type": "code",
   "execution_count": 508,
   "id": "c816c7b7",
   "metadata": {},
   "outputs": [],
   "source": [
    "data_trial = data.copy()\n",
    "for col in data_trial.columns:\n",
    "    if col != 'MEDV':\n",
    "        data_trial[col] = (data_trial[col] - data_trial[col].min())/(data_trial[col].max() - data_trial[col].min())"
   ]
  },
  {
   "cell_type": "code",
   "execution_count": 509,
   "id": "c2704f67",
   "metadata": {},
   "outputs": [
    {
     "data": {
      "text/html": [
       "<div>\n",
       "<style scoped>\n",
       "    .dataframe tbody tr th:only-of-type {\n",
       "        vertical-align: middle;\n",
       "    }\n",
       "\n",
       "    .dataframe tbody tr th {\n",
       "        vertical-align: top;\n",
       "    }\n",
       "\n",
       "    .dataframe thead th {\n",
       "        text-align: right;\n",
       "    }\n",
       "</style>\n",
       "<table border=\"1\" class=\"dataframe\">\n",
       "  <thead>\n",
       "    <tr style=\"text-align: right;\">\n",
       "      <th></th>\n",
       "      <th>CRIM</th>\n",
       "      <th>ZN</th>\n",
       "      <th>INDUS</th>\n",
       "      <th>CHAS</th>\n",
       "      <th>NOX</th>\n",
       "      <th>RM</th>\n",
       "      <th>AGE</th>\n",
       "      <th>DIS</th>\n",
       "      <th>RAD</th>\n",
       "      <th>TAX</th>\n",
       "      <th>PTRATIO</th>\n",
       "      <th>B</th>\n",
       "      <th>LSTAT</th>\n",
       "      <th>MEDV</th>\n",
       "    </tr>\n",
       "  </thead>\n",
       "  <tbody>\n",
       "    <tr>\n",
       "      <th>0</th>\n",
       "      <td>0.000000</td>\n",
       "      <td>0.18</td>\n",
       "      <td>0.067815</td>\n",
       "      <td>0.0</td>\n",
       "      <td>0.314815</td>\n",
       "      <td>0.577505</td>\n",
       "      <td>0.641607</td>\n",
       "      <td>0.269203</td>\n",
       "      <td>0.000000</td>\n",
       "      <td>0.208015</td>\n",
       "      <td>0.287234</td>\n",
       "      <td>1.000000</td>\n",
       "      <td>0.089680</td>\n",
       "      <td>24.0</td>\n",
       "    </tr>\n",
       "    <tr>\n",
       "      <th>1</th>\n",
       "      <td>0.000236</td>\n",
       "      <td>0.00</td>\n",
       "      <td>0.242302</td>\n",
       "      <td>0.0</td>\n",
       "      <td>0.172840</td>\n",
       "      <td>0.547998</td>\n",
       "      <td>0.782698</td>\n",
       "      <td>0.348962</td>\n",
       "      <td>0.043478</td>\n",
       "      <td>0.104962</td>\n",
       "      <td>0.553191</td>\n",
       "      <td>1.000000</td>\n",
       "      <td>0.204470</td>\n",
       "      <td>21.6</td>\n",
       "    </tr>\n",
       "    <tr>\n",
       "      <th>2</th>\n",
       "      <td>0.000236</td>\n",
       "      <td>0.00</td>\n",
       "      <td>0.242302</td>\n",
       "      <td>0.0</td>\n",
       "      <td>0.172840</td>\n",
       "      <td>0.694386</td>\n",
       "      <td>0.599382</td>\n",
       "      <td>0.348962</td>\n",
       "      <td>0.043478</td>\n",
       "      <td>0.104962</td>\n",
       "      <td>0.553191</td>\n",
       "      <td>0.989737</td>\n",
       "      <td>0.063466</td>\n",
       "      <td>34.7</td>\n",
       "    </tr>\n",
       "    <tr>\n",
       "      <th>3</th>\n",
       "      <td>0.000293</td>\n",
       "      <td>0.00</td>\n",
       "      <td>0.063050</td>\n",
       "      <td>0.0</td>\n",
       "      <td>0.150206</td>\n",
       "      <td>0.658555</td>\n",
       "      <td>0.441813</td>\n",
       "      <td>0.448545</td>\n",
       "      <td>0.086957</td>\n",
       "      <td>0.066794</td>\n",
       "      <td>0.648936</td>\n",
       "      <td>0.994276</td>\n",
       "      <td>0.033389</td>\n",
       "      <td>33.4</td>\n",
       "    </tr>\n",
       "    <tr>\n",
       "      <th>4</th>\n",
       "      <td>0.000705</td>\n",
       "      <td>0.00</td>\n",
       "      <td>0.063050</td>\n",
       "      <td>0.0</td>\n",
       "      <td>0.150206</td>\n",
       "      <td>0.687105</td>\n",
       "      <td>0.528321</td>\n",
       "      <td>0.448545</td>\n",
       "      <td>0.086957</td>\n",
       "      <td>0.066794</td>\n",
       "      <td>0.648936</td>\n",
       "      <td>1.000000</td>\n",
       "      <td>0.099338</td>\n",
       "      <td>36.2</td>\n",
       "    </tr>\n",
       "  </tbody>\n",
       "</table>\n",
       "</div>"
      ],
      "text/plain": [
       "       CRIM    ZN     INDUS  CHAS       NOX        RM       AGE       DIS  \\\n",
       "0  0.000000  0.18  0.067815   0.0  0.314815  0.577505  0.641607  0.269203   \n",
       "1  0.000236  0.00  0.242302   0.0  0.172840  0.547998  0.782698  0.348962   \n",
       "2  0.000236  0.00  0.242302   0.0  0.172840  0.694386  0.599382  0.348962   \n",
       "3  0.000293  0.00  0.063050   0.0  0.150206  0.658555  0.441813  0.448545   \n",
       "4  0.000705  0.00  0.063050   0.0  0.150206  0.687105  0.528321  0.448545   \n",
       "\n",
       "        RAD       TAX   PTRATIO         B     LSTAT  MEDV  \n",
       "0  0.000000  0.208015  0.287234  1.000000  0.089680  24.0  \n",
       "1  0.043478  0.104962  0.553191  1.000000  0.204470  21.6  \n",
       "2  0.043478  0.104962  0.553191  0.989737  0.063466  34.7  \n",
       "3  0.086957  0.066794  0.648936  0.994276  0.033389  33.4  \n",
       "4  0.086957  0.066794  0.648936  1.000000  0.099338  36.2  "
      ]
     },
     "execution_count": 509,
     "metadata": {},
     "output_type": "execute_result"
    }
   ],
   "source": [
    "data_trial.head()"
   ]
  },
  {
   "cell_type": "code",
   "execution_count": 510,
   "id": "dafe5773",
   "metadata": {},
   "outputs": [
    {
     "data": {
      "text/plain": [
       "(0.7112260057484956, 3.162709871457383)"
      ]
     },
     "execution_count": 510,
     "metadata": {},
     "output_type": "execute_result"
    }
   ],
   "source": [
    "get_score(data[cols], data['MEDV'])"
   ]
  },
  {
   "cell_type": "code",
   "execution_count": 511,
   "id": "e5ced3e8",
   "metadata": {},
   "outputs": [
    {
     "data": {
      "text/plain": [
       "(0.7112260057484923, 3.1627098714574107)"
      ]
     },
     "execution_count": 511,
     "metadata": {},
     "output_type": "execute_result"
    }
   ],
   "source": [
    "get_score(data_trial[cols], data_trial['MEDV'])"
   ]
  },
  {
   "cell_type": "markdown",
   "id": "43addc45",
   "metadata": {},
   "source": [
    "Разницы почти нет."
   ]
  },
  {
   "cell_type": "markdown",
   "id": "f79c8c26",
   "metadata": {},
   "source": [
    "### Проверим, нет ли \"лишних\" столбцов"
   ]
  },
  {
   "cell_type": "markdown",
   "id": "9d392caf",
   "metadata": {},
   "source": [
    "Нет ли столбцов, наличие которых не влияет на качество предсказания, или ухудшает его."
   ]
  },
  {
   "cell_type": "code",
   "execution_count": 512,
   "id": "37586ded",
   "metadata": {},
   "outputs": [
    {
     "name": "stdout",
     "output_type": "stream",
     "text": [
      "['CRIM', 'ZN', 'INDUS', 'CHAS', 'NOX', 'RM', 'AGE', 'DIS', 'RAD', 'TAX', 'PTRATIO', 'B', 'LSTAT']\n"
     ]
    }
   ],
   "source": [
    "print(cols)"
   ]
  },
  {
   "cell_type": "code",
   "execution_count": 516,
   "id": "a8d8236c",
   "metadata": {},
   "outputs": [
    {
     "name": "stdout",
     "output_type": "stream",
     "text": [
      "Column: CRIM\n",
      "Score: 0.7150613796634314\n",
      "Delta: -0.0038353739149358246\n",
      "\n",
      "Column: ZN\n",
      "Score: 0.6978310920990278\n",
      "Delta: 0.013394913649467766\n",
      "\n",
      "Column: INDUS\n",
      "Score: 0.7124101740617512\n",
      "Delta: -0.001184168313255629\n",
      "\n",
      "Column: CHAS\n",
      "Score: 0.7088141357902249\n",
      "Delta: 0.002411869958270696\n",
      "\n",
      "Column: NOX\n",
      "Score: 0.6905371882001332\n",
      "Delta: 0.02068881754836238\n",
      "\n",
      "Column: RM\n",
      "Score: 0.6830523215989459\n",
      "Delta: 0.028173684149549683\n",
      "\n",
      "Column: AGE\n",
      "Score: 0.7138676903216816\n",
      "Delta: -0.0026416845731860317\n",
      "\n",
      "Column: DIS\n",
      "Score: 0.6701994769614268\n",
      "Delta: 0.041026528787068806\n",
      "\n",
      "Column: RAD\n",
      "Score: 0.6883010754490937\n",
      "Delta: 0.022924930299401902\n",
      "\n",
      "Column: TAX\n",
      "Score: 0.6983850039833555\n",
      "Delta: 0.012841001765140136\n",
      "\n",
      "Column: PTRATIO\n",
      "Score: 0.6764211979458749\n",
      "Delta: 0.03480480780262074\n",
      "\n",
      "Column: B\n",
      "Score: 0.7166209449097775\n",
      "Delta: -0.005394939161281864\n",
      "\n",
      "Column: LSTAT\n",
      "Score: 0.6752477487969473\n",
      "Delta: 0.035978256951548326\n",
      "\n"
     ]
    }
   ],
   "source": [
    "for col in cols:\n",
    "    reduced  = list(set(cols) - set([col]))\n",
    "    print(f'Column: {col}')\n",
    "    score = get_score(data[reduced], data['MEDV'])[0]\n",
    "    delta = get_score(data[cols], data['MEDV'])[0] - score\n",
    "    print(f'Score: {score}')\n",
    "    print(f'Delta: {delta}')\n",
    "    print()\n",
    "    "
   ]
  },
  {
   "cell_type": "code",
   "execution_count": 517,
   "id": "6e199ded",
   "metadata": {},
   "outputs": [
    {
     "data": {
      "text/plain": [
       "(0.7180964922948232, 3.1346159594135763)"
      ]
     },
     "execution_count": 517,
     "metadata": {},
     "output_type": "execute_result"
    }
   ],
   "source": [
    "cols_new = ['ZN', 'INDUS', 'CHAS', 'NOX', 'RM', 'DIS', 'RAD', 'TAX', 'PTRATIO', 'LSTAT']\n",
    "get_score(data[cols_new], data['MEDV'])"
   ]
  },
  {
   "cell_type": "markdown",
   "id": "3512eb84",
   "metadata": {},
   "source": [
    "Признак CRIM не будем убирать, так как по смыслу он кажется важным, и может быть связан с другими признаками тоже (хотя на первый взгляд может показаться, что без него качество может быть лучше).\n",
    "Он описывает уровень преступности на душу населения по районам. Такой показатель должен влиять на стоимость недвижимости."
   ]
  },
  {
   "cell_type": "code",
   "execution_count": 518,
   "id": "7a2a396a",
   "metadata": {},
   "outputs": [
    {
     "data": {
      "text/plain": [
       "(0.7190673146383938, 3.1617144375520936)"
      ]
     },
     "execution_count": 518,
     "metadata": {},
     "output_type": "execute_result"
    }
   ],
   "source": [
    "cols_new = ['CRIM','ZN', 'INDUS', 'CHAS', 'NOX', 'RM', 'DIS', 'RAD', 'TAX', 'PTRATIO', 'LSTAT']\n",
    "get_score(data[cols_new], data['MEDV'])"
   ]
  },
  {
   "cell_type": "code",
   "execution_count": 519,
   "id": "fe09e5e4",
   "metadata": {},
   "outputs": [
    {
     "data": {
      "text/plain": [
       "(0.7195930224733418, 3.151282812623047)"
      ]
     },
     "execution_count": 519,
     "metadata": {},
     "output_type": "execute_result"
    }
   ],
   "source": [
    "cols_new = ['CRIM','ZN', 'CHAS', 'NOX', 'RM', 'DIS','RAD','TAX', 'PTRATIO', 'LSTAT']\n",
    "get_score(data[cols_new], data['MEDV'])"
   ]
  },
  {
   "cell_type": "markdown",
   "id": "f64a88ec",
   "metadata": {},
   "source": [
    "Рассмотрим признаки \"AGE\", \"B\", \"INDUS\"."
   ]
  },
  {
   "cell_type": "markdown",
   "id": "1d425bb1",
   "metadata": {},
   "source": [
    "- AGE - доля занятых владельцами помещений, построенных до 1940 года "
   ]
  },
  {
   "cell_type": "code",
   "execution_count": 520,
   "id": "6ea4ebd2",
   "metadata": {},
   "outputs": [
    {
     "data": {
      "image/png": "[encoded data removed]",
      "text/plain": [
       "<Figure size 360x360 with 6 Axes>"
      ]
     },
     "metadata": {},
     "output_type": "display_data"
    }
   ],
   "source": [
    "sns.set(font_scale=1) \n",
    "get_pairplot(data[['AGE','MEDV']])"
   ]
  },
  {
   "cell_type": "markdown",
   "id": "0f600bd2",
   "metadata": {},
   "source": [
    "Сложно сказать,насколько сильно этот показатель влияет на стоимость жилья. Старые, но хорошие, красивые, культурно ценные дома могут стоить дорого. Так же старые дома могут быть дешевле новых, если у них низкое качество, и они требуют больших вложений.  \n",
    "Очевидной взаимосвязи с целевой переменной по графику так же нет.  "
   ]
  },
  {
   "cell_type": "markdown",
   "id": "e756e977",
   "metadata": {},
   "source": [
    "- B - 1000 (Bk - 0.63)^2 где Bk-доля афроамериканцев по городам  "
   ]
  },
  {
   "cell_type": "code",
   "execution_count": 521,
   "id": "5f5f05df",
   "metadata": {},
   "outputs": [
    {
     "data": {
      "image/png": "[encoded data removed]",
      "text/plain": [
       "<Figure size 360x360 with 6 Axes>"
      ]
     },
     "metadata": {},
     "output_type": "display_data"
    }
   ],
   "source": [
    "sns.set(font_scale=1) \n",
    "get_pairplot(data[['B','MEDV']])"
   ]
  },
  {
   "cell_type": "markdown",
   "id": "e70d798d",
   "metadata": {},
   "source": [
    "Может показаться, что этот показатель должен влиять на стоимость жилья, но как видим по графикам, это происходит далеко не всегда, и ситуация не так однозначна."
   ]
  },
  {
   "cell_type": "markdown",
   "id": "5cbd5772",
   "metadata": {},
   "source": [
    "- INDUS - доля площадей, занятых под не розничный бизнес, по городам"
   ]
  },
  {
   "cell_type": "code",
   "execution_count": 522,
   "id": "e152c5ec",
   "metadata": {},
   "outputs": [
    {
     "data": {
      "image/png": "[encoded data removed]",
      "text/plain": [
       "<Figure size 360x360 with 6 Axes>"
      ]
     },
     "metadata": {},
     "output_type": "display_data"
    }
   ],
   "source": [
    "sns.set(font_scale=1) \n",
    "get_pairplot(data[['INDUS','MEDV']])"
   ]
  },
  {
   "cell_type": "markdown",
   "id": "147c213c",
   "metadata": {},
   "source": [
    "Этот признак, кажется, может и повышать, и понижать стоимость жилья. Зависит от того, чем заняты эти площади."
   ]
  },
  {
   "cell_type": "code",
   "execution_count": 523,
   "id": "1e081e8b",
   "metadata": {},
   "outputs": [],
   "source": [
    "cols_new = ['CRIM','ZN', 'CHAS', 'NOX', 'RM', 'DIS','RAD','TAX', 'PTRATIO', 'LSTAT','INDUS']"
   ]
  },
  {
   "cell_type": "markdown",
   "id": "254df703",
   "metadata": {},
   "source": [
    "Итак, продолжим исследование без признаков \"AGE\" и \"B\"."
   ]
  },
  {
   "cell_type": "code",
   "execution_count": 524,
   "id": "a916796b",
   "metadata": {},
   "outputs": [
    {
     "data": {
      "text/html": [
       "<div>\n",
       "<style scoped>\n",
       "    .dataframe tbody tr th:only-of-type {\n",
       "        vertical-align: middle;\n",
       "    }\n",
       "\n",
       "    .dataframe tbody tr th {\n",
       "        vertical-align: top;\n",
       "    }\n",
       "\n",
       "    .dataframe thead th {\n",
       "        text-align: right;\n",
       "    }\n",
       "</style>\n",
       "<table border=\"1\" class=\"dataframe\">\n",
       "  <thead>\n",
       "    <tr style=\"text-align: right;\">\n",
       "      <th></th>\n",
       "      <th>CRIM</th>\n",
       "      <th>ZN</th>\n",
       "      <th>INDUS</th>\n",
       "      <th>CHAS</th>\n",
       "      <th>NOX</th>\n",
       "      <th>RM</th>\n",
       "      <th>DIS</th>\n",
       "      <th>RAD</th>\n",
       "      <th>TAX</th>\n",
       "      <th>PTRATIO</th>\n",
       "      <th>LSTAT</th>\n",
       "      <th>MEDV</th>\n",
       "    </tr>\n",
       "  </thead>\n",
       "  <tbody>\n",
       "    <tr>\n",
       "      <th>0</th>\n",
       "      <td>0.00632</td>\n",
       "      <td>18.0</td>\n",
       "      <td>2.31</td>\n",
       "      <td>0</td>\n",
       "      <td>0.538</td>\n",
       "      <td>6.575</td>\n",
       "      <td>4.0900</td>\n",
       "      <td>1</td>\n",
       "      <td>296</td>\n",
       "      <td>15.3</td>\n",
       "      <td>4.98</td>\n",
       "      <td>24.0</td>\n",
       "    </tr>\n",
       "    <tr>\n",
       "      <th>1</th>\n",
       "      <td>0.02731</td>\n",
       "      <td>0.0</td>\n",
       "      <td>7.07</td>\n",
       "      <td>0</td>\n",
       "      <td>0.469</td>\n",
       "      <td>6.421</td>\n",
       "      <td>4.9671</td>\n",
       "      <td>2</td>\n",
       "      <td>242</td>\n",
       "      <td>17.8</td>\n",
       "      <td>9.14</td>\n",
       "      <td>21.6</td>\n",
       "    </tr>\n",
       "    <tr>\n",
       "      <th>2</th>\n",
       "      <td>0.02729</td>\n",
       "      <td>0.0</td>\n",
       "      <td>7.07</td>\n",
       "      <td>0</td>\n",
       "      <td>0.469</td>\n",
       "      <td>7.185</td>\n",
       "      <td>4.9671</td>\n",
       "      <td>2</td>\n",
       "      <td>242</td>\n",
       "      <td>17.8</td>\n",
       "      <td>4.03</td>\n",
       "      <td>34.7</td>\n",
       "    </tr>\n",
       "    <tr>\n",
       "      <th>3</th>\n",
       "      <td>0.03237</td>\n",
       "      <td>0.0</td>\n",
       "      <td>2.18</td>\n",
       "      <td>0</td>\n",
       "      <td>0.458</td>\n",
       "      <td>6.998</td>\n",
       "      <td>6.0622</td>\n",
       "      <td>3</td>\n",
       "      <td>222</td>\n",
       "      <td>18.7</td>\n",
       "      <td>2.94</td>\n",
       "      <td>33.4</td>\n",
       "    </tr>\n",
       "    <tr>\n",
       "      <th>4</th>\n",
       "      <td>0.06905</td>\n",
       "      <td>0.0</td>\n",
       "      <td>2.18</td>\n",
       "      <td>0</td>\n",
       "      <td>0.458</td>\n",
       "      <td>7.147</td>\n",
       "      <td>6.0622</td>\n",
       "      <td>3</td>\n",
       "      <td>222</td>\n",
       "      <td>18.7</td>\n",
       "      <td>5.33</td>\n",
       "      <td>36.2</td>\n",
       "    </tr>\n",
       "  </tbody>\n",
       "</table>\n",
       "</div>"
      ],
      "text/plain": [
       "      CRIM    ZN  INDUS  CHAS    NOX     RM     DIS  RAD  TAX  PTRATIO  LSTAT  \\\n",
       "0  0.00632  18.0   2.31     0  0.538  6.575  4.0900    1  296     15.3   4.98   \n",
       "1  0.02731   0.0   7.07     0  0.469  6.421  4.9671    2  242     17.8   9.14   \n",
       "2  0.02729   0.0   7.07     0  0.469  7.185  4.9671    2  242     17.8   4.03   \n",
       "3  0.03237   0.0   2.18     0  0.458  6.998  6.0622    3  222     18.7   2.94   \n",
       "4  0.06905   0.0   2.18     0  0.458  7.147  6.0622    3  222     18.7   5.33   \n",
       "\n",
       "   MEDV  \n",
       "0  24.0  \n",
       "1  21.6  \n",
       "2  34.7  \n",
       "3  33.4  \n",
       "4  36.2  "
      ]
     },
     "execution_count": 524,
     "metadata": {},
     "output_type": "execute_result"
    }
   ],
   "source": [
    "data = data.drop(['AGE', 'B'], axis=1)\n",
    "data.head()"
   ]
  },
  {
   "cell_type": "markdown",
   "id": "b8f5e36d",
   "metadata": {},
   "source": [
    "### Проанализируем данные на наличие выбросов. "
   ]
  },
  {
   "cell_type": "code",
   "execution_count": 525,
   "id": "c3aeadc8",
   "metadata": {},
   "outputs": [
    {
     "data": {
      "text/html": [
       "<div>\n",
       "<style scoped>\n",
       "    .dataframe tbody tr th:only-of-type {\n",
       "        vertical-align: middle;\n",
       "    }\n",
       "\n",
       "    .dataframe tbody tr th {\n",
       "        vertical-align: top;\n",
       "    }\n",
       "\n",
       "    .dataframe thead th {\n",
       "        text-align: right;\n",
       "    }\n",
       "</style>\n",
       "<table border=\"1\" class=\"dataframe\">\n",
       "  <thead>\n",
       "    <tr style=\"text-align: right;\">\n",
       "      <th></th>\n",
       "      <th>CRIM</th>\n",
       "      <th>ZN</th>\n",
       "      <th>INDUS</th>\n",
       "      <th>CHAS</th>\n",
       "      <th>NOX</th>\n",
       "      <th>RM</th>\n",
       "      <th>DIS</th>\n",
       "      <th>RAD</th>\n",
       "      <th>TAX</th>\n",
       "      <th>PTRATIO</th>\n",
       "      <th>LSTAT</th>\n",
       "      <th>MEDV</th>\n",
       "    </tr>\n",
       "  </thead>\n",
       "  <tbody>\n",
       "    <tr>\n",
       "      <th>count</th>\n",
       "      <td>506.000000</td>\n",
       "      <td>506.000000</td>\n",
       "      <td>506.000000</td>\n",
       "      <td>506.000000</td>\n",
       "      <td>506.000000</td>\n",
       "      <td>506.000000</td>\n",
       "      <td>506.000000</td>\n",
       "      <td>506.000000</td>\n",
       "      <td>506.000000</td>\n",
       "      <td>506.000000</td>\n",
       "      <td>506.000000</td>\n",
       "      <td>506.000000</td>\n",
       "    </tr>\n",
       "    <tr>\n",
       "      <th>mean</th>\n",
       "      <td>3.613524</td>\n",
       "      <td>11.363636</td>\n",
       "      <td>11.136779</td>\n",
       "      <td>0.069170</td>\n",
       "      <td>0.554695</td>\n",
       "      <td>6.284634</td>\n",
       "      <td>3.795043</td>\n",
       "      <td>9.549407</td>\n",
       "      <td>408.237154</td>\n",
       "      <td>18.455534</td>\n",
       "      <td>12.653063</td>\n",
       "      <td>22.532806</td>\n",
       "    </tr>\n",
       "    <tr>\n",
       "      <th>std</th>\n",
       "      <td>8.601545</td>\n",
       "      <td>23.322453</td>\n",
       "      <td>6.860353</td>\n",
       "      <td>0.253994</td>\n",
       "      <td>0.115878</td>\n",
       "      <td>0.702617</td>\n",
       "      <td>2.105710</td>\n",
       "      <td>8.707259</td>\n",
       "      <td>168.537116</td>\n",
       "      <td>2.164946</td>\n",
       "      <td>7.141062</td>\n",
       "      <td>9.197104</td>\n",
       "    </tr>\n",
       "    <tr>\n",
       "      <th>min</th>\n",
       "      <td>0.006320</td>\n",
       "      <td>0.000000</td>\n",
       "      <td>0.460000</td>\n",
       "      <td>0.000000</td>\n",
       "      <td>0.385000</td>\n",
       "      <td>3.561000</td>\n",
       "      <td>1.129600</td>\n",
       "      <td>1.000000</td>\n",
       "      <td>187.000000</td>\n",
       "      <td>12.600000</td>\n",
       "      <td>1.730000</td>\n",
       "      <td>5.000000</td>\n",
       "    </tr>\n",
       "    <tr>\n",
       "      <th>25%</th>\n",
       "      <td>0.082045</td>\n",
       "      <td>0.000000</td>\n",
       "      <td>5.190000</td>\n",
       "      <td>0.000000</td>\n",
       "      <td>0.449000</td>\n",
       "      <td>5.885500</td>\n",
       "      <td>2.100175</td>\n",
       "      <td>4.000000</td>\n",
       "      <td>279.000000</td>\n",
       "      <td>17.400000</td>\n",
       "      <td>6.950000</td>\n",
       "      <td>17.025000</td>\n",
       "    </tr>\n",
       "    <tr>\n",
       "      <th>50%</th>\n",
       "      <td>0.256510</td>\n",
       "      <td>0.000000</td>\n",
       "      <td>9.690000</td>\n",
       "      <td>0.000000</td>\n",
       "      <td>0.538000</td>\n",
       "      <td>6.208500</td>\n",
       "      <td>3.207450</td>\n",
       "      <td>5.000000</td>\n",
       "      <td>330.000000</td>\n",
       "      <td>19.050000</td>\n",
       "      <td>11.360000</td>\n",
       "      <td>21.200000</td>\n",
       "    </tr>\n",
       "    <tr>\n",
       "      <th>75%</th>\n",
       "      <td>3.677082</td>\n",
       "      <td>12.500000</td>\n",
       "      <td>18.100000</td>\n",
       "      <td>0.000000</td>\n",
       "      <td>0.624000</td>\n",
       "      <td>6.623500</td>\n",
       "      <td>5.188425</td>\n",
       "      <td>24.000000</td>\n",
       "      <td>666.000000</td>\n",
       "      <td>20.200000</td>\n",
       "      <td>16.955000</td>\n",
       "      <td>25.000000</td>\n",
       "    </tr>\n",
       "    <tr>\n",
       "      <th>max</th>\n",
       "      <td>88.976200</td>\n",
       "      <td>100.000000</td>\n",
       "      <td>27.740000</td>\n",
       "      <td>1.000000</td>\n",
       "      <td>0.871000</td>\n",
       "      <td>8.780000</td>\n",
       "      <td>12.126500</td>\n",
       "      <td>24.000000</td>\n",
       "      <td>711.000000</td>\n",
       "      <td>22.000000</td>\n",
       "      <td>37.970000</td>\n",
       "      <td>50.000000</td>\n",
       "    </tr>\n",
       "  </tbody>\n",
       "</table>\n",
       "</div>"
      ],
      "text/plain": [
       "             CRIM          ZN       INDUS        CHAS         NOX          RM  \\\n",
       "count  506.000000  506.000000  506.000000  506.000000  506.000000  506.000000   \n",
       "mean     3.613524   11.363636   11.136779    0.069170    0.554695    6.284634   \n",
       "std      8.601545   23.322453    6.860353    0.253994    0.115878    0.702617   \n",
       "min      0.006320    0.000000    0.460000    0.000000    0.385000    3.561000   \n",
       "25%      0.082045    0.000000    5.190000    0.000000    0.449000    5.885500   \n",
       "50%      0.256510    0.000000    9.690000    0.000000    0.538000    6.208500   \n",
       "75%      3.677082   12.500000   18.100000    0.000000    0.624000    6.623500   \n",
       "max     88.976200  100.000000   27.740000    1.000000    0.871000    8.780000   \n",
       "\n",
       "              DIS         RAD         TAX     PTRATIO       LSTAT        MEDV  \n",
       "count  506.000000  506.000000  506.000000  506.000000  506.000000  506.000000  \n",
       "mean     3.795043    9.549407  408.237154   18.455534   12.653063   22.532806  \n",
       "std      2.105710    8.707259  168.537116    2.164946    7.141062    9.197104  \n",
       "min      1.129600    1.000000  187.000000   12.600000    1.730000    5.000000  \n",
       "25%      2.100175    4.000000  279.000000   17.400000    6.950000   17.025000  \n",
       "50%      3.207450    5.000000  330.000000   19.050000   11.360000   21.200000  \n",
       "75%      5.188425   24.000000  666.000000   20.200000   16.955000   25.000000  \n",
       "max     12.126500   24.000000  711.000000   22.000000   37.970000   50.000000  "
      ]
     },
     "execution_count": 525,
     "metadata": {},
     "output_type": "execute_result"
    }
   ],
   "source": [
    "data.describe()"
   ]
  },
  {
   "cell_type": "markdown",
   "id": "347ad346",
   "metadata": {},
   "source": [
    "По этой таблице можем предположить, что нужно уделить внимание проверке выбросов у следующих признаков:\n",
    "- CRIM (макс. значение заметно отличается от основной массы)   \n",
    "- ZN (аналогично)  \n",
    "- DIS (аналогично) \n",
    "- LSTAT (аналогично)"
   ]
  },
  {
   "cell_type": "markdown",
   "id": "db60f6d6",
   "metadata": {},
   "source": [
    "Остальные показатели выглядят нормальными."
   ]
  },
  {
   "cell_type": "markdown",
   "id": "303d5489",
   "metadata": {},
   "source": [
    "CRIM"
   ]
  },
  {
   "cell_type": "code",
   "execution_count": 526,
   "id": "da00166d",
   "metadata": {},
   "outputs": [
    {
     "data": {
      "image/png": "[encoded data removed]",
      "text/plain": [
       "<Figure size 432x288 with 1 Axes>"
      ]
     },
     "metadata": {},
     "output_type": "display_data"
    }
   ],
   "source": [
    "get_boxplot(data[cols_new],[cols_new[0]])"
   ]
  },
  {
   "cell_type": "markdown",
   "id": "847ad452",
   "metadata": {},
   "source": [
    "Видим длинный хвост справа. Посмотрим, какие там данные."
   ]
  },
  {
   "cell_type": "markdown",
   "id": "045d53cb",
   "metadata": {},
   "source": [
    "Выберем порог для признака:"
   ]
  },
  {
   "cell_type": "code",
   "execution_count": 527,
   "id": "bc7c6955",
   "metadata": {},
   "outputs": [],
   "source": [
    "threshold = 15"
   ]
  },
  {
   "cell_type": "code",
   "execution_count": 528,
   "id": "374b99b3",
   "metadata": {},
   "outputs": [
    {
     "data": {
      "text/html": [
       "<div>\n",
       "<style scoped>\n",
       "    .dataframe tbody tr th:only-of-type {\n",
       "        vertical-align: middle;\n",
       "    }\n",
       "\n",
       "    .dataframe tbody tr th {\n",
       "        vertical-align: top;\n",
       "    }\n",
       "\n",
       "    .dataframe thead th {\n",
       "        text-align: right;\n",
       "    }\n",
       "</style>\n",
       "<table border=\"1\" class=\"dataframe\">\n",
       "  <thead>\n",
       "    <tr style=\"text-align: right;\">\n",
       "      <th></th>\n",
       "      <th>CRIM</th>\n",
       "      <th>ZN</th>\n",
       "      <th>INDUS</th>\n",
       "      <th>CHAS</th>\n",
       "      <th>NOX</th>\n",
       "      <th>RM</th>\n",
       "      <th>DIS</th>\n",
       "      <th>RAD</th>\n",
       "      <th>TAX</th>\n",
       "      <th>PTRATIO</th>\n",
       "      <th>LSTAT</th>\n",
       "      <th>MEDV</th>\n",
       "    </tr>\n",
       "  </thead>\n",
       "  <tbody>\n",
       "    <tr>\n",
       "      <th>count</th>\n",
       "      <td>30.000000</td>\n",
       "      <td>30.0</td>\n",
       "      <td>3.000000e+01</td>\n",
       "      <td>30.0</td>\n",
       "      <td>30.000000</td>\n",
       "      <td>30.000000</td>\n",
       "      <td>30.000000</td>\n",
       "      <td>30.0</td>\n",
       "      <td>30.0</td>\n",
       "      <td>3.000000e+01</td>\n",
       "      <td>30.000000</td>\n",
       "      <td>30.000000</td>\n",
       "    </tr>\n",
       "    <tr>\n",
       "      <th>mean</th>\n",
       "      <td>29.509060</td>\n",
       "      <td>0.0</td>\n",
       "      <td>1.810000e+01</td>\n",
       "      <td>0.0</td>\n",
       "      <td>0.672367</td>\n",
       "      <td>5.623533</td>\n",
       "      <td>1.613690</td>\n",
       "      <td>24.0</td>\n",
       "      <td>666.0</td>\n",
       "      <td>2.020000e+01</td>\n",
       "      <td>24.643667</td>\n",
       "      <td>10.586667</td>\n",
       "    </tr>\n",
       "    <tr>\n",
       "      <th>std</th>\n",
       "      <td>18.846821</td>\n",
       "      <td>0.0</td>\n",
       "      <td>3.613448e-15</td>\n",
       "      <td>0.0</td>\n",
       "      <td>0.039025</td>\n",
       "      <td>0.818402</td>\n",
       "      <td>0.333936</td>\n",
       "      <td>0.0</td>\n",
       "      <td>0.0</td>\n",
       "      <td>3.613448e-15</td>\n",
       "      <td>6.622735</td>\n",
       "      <td>3.654636</td>\n",
       "    </tr>\n",
       "    <tr>\n",
       "      <th>min</th>\n",
       "      <td>15.023400</td>\n",
       "      <td>0.0</td>\n",
       "      <td>1.810000e+01</td>\n",
       "      <td>0.0</td>\n",
       "      <td>0.580000</td>\n",
       "      <td>4.138000</td>\n",
       "      <td>1.137000</td>\n",
       "      <td>24.0</td>\n",
       "      <td>666.0</td>\n",
       "      <td>2.020000e+01</td>\n",
       "      <td>10.110000</td>\n",
       "      <td>5.000000</td>\n",
       "    </tr>\n",
       "    <tr>\n",
       "      <th>25%</th>\n",
       "      <td>17.921175</td>\n",
       "      <td>0.0</td>\n",
       "      <td>1.810000e+01</td>\n",
       "      <td>0.0</td>\n",
       "      <td>0.671000</td>\n",
       "      <td>5.185500</td>\n",
       "      <td>1.418725</td>\n",
       "      <td>24.0</td>\n",
       "      <td>666.0</td>\n",
       "      <td>2.020000e+01</td>\n",
       "      <td>20.735000</td>\n",
       "      <td>8.300000</td>\n",
       "    </tr>\n",
       "    <tr>\n",
       "      <th>50%</th>\n",
       "      <td>22.324100</td>\n",
       "      <td>0.0</td>\n",
       "      <td>1.810000e+01</td>\n",
       "      <td>0.0</td>\n",
       "      <td>0.679000</td>\n",
       "      <td>5.720000</td>\n",
       "      <td>1.536550</td>\n",
       "      <td>24.0</td>\n",
       "      <td>666.0</td>\n",
       "      <td>2.020000e+01</td>\n",
       "      <td>24.040000</td>\n",
       "      <td>10.400000</td>\n",
       "    </tr>\n",
       "    <tr>\n",
       "      <th>75%</th>\n",
       "      <td>35.410375</td>\n",
       "      <td>0.0</td>\n",
       "      <td>1.810000e+01</td>\n",
       "      <td>0.0</td>\n",
       "      <td>0.693000</td>\n",
       "      <td>6.189500</td>\n",
       "      <td>1.777650</td>\n",
       "      <td>24.0</td>\n",
       "      <td>666.0</td>\n",
       "      <td>2.020000e+01</td>\n",
       "      <td>28.857500</td>\n",
       "      <td>12.825000</td>\n",
       "    </tr>\n",
       "    <tr>\n",
       "      <th>max</th>\n",
       "      <td>88.976200</td>\n",
       "      <td>0.0</td>\n",
       "      <td>1.810000e+01</td>\n",
       "      <td>0.0</td>\n",
       "      <td>0.740000</td>\n",
       "      <td>7.313000</td>\n",
       "      <td>2.908400</td>\n",
       "      <td>24.0</td>\n",
       "      <td>666.0</td>\n",
       "      <td>2.020000e+01</td>\n",
       "      <td>37.970000</td>\n",
       "      <td>19.100000</td>\n",
       "    </tr>\n",
       "  </tbody>\n",
       "</table>\n",
       "</div>"
      ],
      "text/plain": [
       "            CRIM    ZN         INDUS  CHAS        NOX         RM        DIS  \\\n",
       "count  30.000000  30.0  3.000000e+01  30.0  30.000000  30.000000  30.000000   \n",
       "mean   29.509060   0.0  1.810000e+01   0.0   0.672367   5.623533   1.613690   \n",
       "std    18.846821   0.0  3.613448e-15   0.0   0.039025   0.818402   0.333936   \n",
       "min    15.023400   0.0  1.810000e+01   0.0   0.580000   4.138000   1.137000   \n",
       "25%    17.921175   0.0  1.810000e+01   0.0   0.671000   5.185500   1.418725   \n",
       "50%    22.324100   0.0  1.810000e+01   0.0   0.679000   5.720000   1.536550   \n",
       "75%    35.410375   0.0  1.810000e+01   0.0   0.693000   6.189500   1.777650   \n",
       "max    88.976200   0.0  1.810000e+01   0.0   0.740000   7.313000   2.908400   \n",
       "\n",
       "        RAD    TAX       PTRATIO      LSTAT       MEDV  \n",
       "count  30.0   30.0  3.000000e+01  30.000000  30.000000  \n",
       "mean   24.0  666.0  2.020000e+01  24.643667  10.586667  \n",
       "std     0.0    0.0  3.613448e-15   6.622735   3.654636  \n",
       "min    24.0  666.0  2.020000e+01  10.110000   5.000000  \n",
       "25%    24.0  666.0  2.020000e+01  20.735000   8.300000  \n",
       "50%    24.0  666.0  2.020000e+01  24.040000  10.400000  \n",
       "75%    24.0  666.0  2.020000e+01  28.857500  12.825000  \n",
       "max    24.0  666.0  2.020000e+01  37.970000  19.100000  "
      ]
     },
     "execution_count": 528,
     "metadata": {},
     "output_type": "execute_result"
    }
   ],
   "source": [
    "data[data['CRIM'] > threshold].describe()"
   ]
  },
  {
   "cell_type": "code",
   "execution_count": 529,
   "id": "9c66480f",
   "metadata": {},
   "outputs": [
    {
     "data": {
      "text/plain": [
       "30"
      ]
     },
     "execution_count": 529,
     "metadata": {},
     "output_type": "execute_result"
    }
   ],
   "source": [
    "len(data[data['CRIM'] > threshold]) "
   ]
  },
  {
   "cell_type": "code",
   "execution_count": 530,
   "id": "8440bfa5",
   "metadata": {},
   "outputs": [
    {
     "data": {
      "text/plain": [
       "5.928853754940711"
      ]
     },
     "execution_count": 530,
     "metadata": {},
     "output_type": "execute_result"
    }
   ],
   "source": [
    "#  Посмотрим, сколько у нас таких записей в процентах от общего количества:\n",
    "len(data[data['CRIM'] > threshold])/len(data)*100"
   ]
  },
  {
   "cell_type": "markdown",
   "id": "231da768",
   "metadata": {},
   "source": [
    "Таких значений не очень много, можем позволить себе их дальше не учитывать. Также видим, что на этиъ выборсаъ ряд переменных почти не меняется - ZN, TAX, INDUS"
   ]
  },
  {
   "cell_type": "code",
   "execution_count": 531,
   "id": "d0a97cec",
   "metadata": {},
   "outputs": [
    {
     "data": {
      "text/plain": [
       "(0.7971230443374159, 2.9883018824850005)"
      ]
     },
     "execution_count": 531,
     "metadata": {},
     "output_type": "execute_result"
    }
   ],
   "source": [
    "data_red = data.copy()\n",
    "data_red = data[data['CRIM'] < threshold]\n",
    "get_score(data_red[cols_new], data_red['MEDV'])"
   ]
  },
  {
   "cell_type": "markdown",
   "id": "250b56fe",
   "metadata": {},
   "source": [
    "Убрав выбросы этого признака, получили значительный рост качества."
   ]
  },
  {
   "cell_type": "markdown",
   "id": "51a694a0",
   "metadata": {},
   "source": [
    "ZN"
   ]
  },
  {
   "cell_type": "code",
   "execution_count": 532,
   "id": "ccb6a917",
   "metadata": {},
   "outputs": [
    {
     "data": {
      "image/png": "[encoded data removed]",
      "text/plain": [
       "<Figure size 432x288 with 1 Axes>"
      ]
     },
     "metadata": {},
     "output_type": "display_data"
    }
   ],
   "source": [
    "get_boxplot(data_red[cols_new],['ZN'])"
   ]
  },
  {
   "cell_type": "code",
   "execution_count": 533,
   "id": "790fa288",
   "metadata": {},
   "outputs": [],
   "source": [
    "# Выберем порог для признака:\n",
    "threshold = 50"
   ]
  },
  {
   "cell_type": "code",
   "execution_count": 534,
   "id": "1b2d54df",
   "metadata": {},
   "outputs": [
    {
     "data": {
      "text/html": [
       "<div>\n",
       "<style scoped>\n",
       "    .dataframe tbody tr th:only-of-type {\n",
       "        vertical-align: middle;\n",
       "    }\n",
       "\n",
       "    .dataframe tbody tr th {\n",
       "        vertical-align: top;\n",
       "    }\n",
       "\n",
       "    .dataframe thead th {\n",
       "        text-align: right;\n",
       "    }\n",
       "</style>\n",
       "<table border=\"1\" class=\"dataframe\">\n",
       "  <thead>\n",
       "    <tr style=\"text-align: right;\">\n",
       "      <th></th>\n",
       "      <th>CRIM</th>\n",
       "      <th>ZN</th>\n",
       "      <th>INDUS</th>\n",
       "      <th>CHAS</th>\n",
       "      <th>NOX</th>\n",
       "      <th>RM</th>\n",
       "      <th>DIS</th>\n",
       "      <th>RAD</th>\n",
       "      <th>TAX</th>\n",
       "      <th>PTRATIO</th>\n",
       "      <th>LSTAT</th>\n",
       "      <th>MEDV</th>\n",
       "    </tr>\n",
       "  </thead>\n",
       "  <tbody>\n",
       "    <tr>\n",
       "      <th>count</th>\n",
       "      <td>45.000000</td>\n",
       "      <td>45.000000</td>\n",
       "      <td>45.000000</td>\n",
       "      <td>45.000000</td>\n",
       "      <td>45.000000</td>\n",
       "      <td>45.000000</td>\n",
       "      <td>45.000000</td>\n",
       "      <td>45.000000</td>\n",
       "      <td>45.000000</td>\n",
       "      <td>45.000000</td>\n",
       "      <td>45.000000</td>\n",
       "      <td>45.000000</td>\n",
       "    </tr>\n",
       "    <tr>\n",
       "      <th>mean</th>\n",
       "      <td>0.034260</td>\n",
       "      <td>76.944444</td>\n",
       "      <td>2.730000</td>\n",
       "      <td>0.022222</td>\n",
       "      <td>0.410693</td>\n",
       "      <td>6.741689</td>\n",
       "      <td>7.435493</td>\n",
       "      <td>3.377778</td>\n",
       "      <td>306.577778</td>\n",
       "      <td>16.600000</td>\n",
       "      <td>5.927333</td>\n",
       "      <td>29.466667</td>\n",
       "    </tr>\n",
       "    <tr>\n",
       "      <th>std</th>\n",
       "      <td>0.020905</td>\n",
       "      <td>13.108907</td>\n",
       "      <td>1.306976</td>\n",
       "      <td>0.149071</td>\n",
       "      <td>0.019121</td>\n",
       "      <td>0.597162</td>\n",
       "      <td>1.741321</td>\n",
       "      <td>1.541677</td>\n",
       "      <td>63.073006</td>\n",
       "      <td>2.206293</td>\n",
       "      <td>2.635090</td>\n",
       "      <td>8.843822</td>\n",
       "    </tr>\n",
       "    <tr>\n",
       "      <th>min</th>\n",
       "      <td>0.009060</td>\n",
       "      <td>52.500000</td>\n",
       "      <td>0.460000</td>\n",
       "      <td>0.000000</td>\n",
       "      <td>0.385000</td>\n",
       "      <td>5.663000</td>\n",
       "      <td>5.116700</td>\n",
       "      <td>1.000000</td>\n",
       "      <td>187.000000</td>\n",
       "      <td>12.600000</td>\n",
       "      <td>1.980000</td>\n",
       "      <td>18.200000</td>\n",
       "    </tr>\n",
       "    <tr>\n",
       "      <th>25%</th>\n",
       "      <td>0.017780</td>\n",
       "      <td>70.000000</td>\n",
       "      <td>1.690000</td>\n",
       "      <td>0.000000</td>\n",
       "      <td>0.401000</td>\n",
       "      <td>6.315000</td>\n",
       "      <td>6.219600</td>\n",
       "      <td>2.000000</td>\n",
       "      <td>252.000000</td>\n",
       "      <td>14.800000</td>\n",
       "      <td>4.320000</td>\n",
       "      <td>23.100000</td>\n",
       "    </tr>\n",
       "    <tr>\n",
       "      <th>50%</th>\n",
       "      <td>0.033590</td>\n",
       "      <td>80.000000</td>\n",
       "      <td>2.250000</td>\n",
       "      <td>0.000000</td>\n",
       "      <td>0.405000</td>\n",
       "      <td>6.696000</td>\n",
       "      <td>7.309000</td>\n",
       "      <td>4.000000</td>\n",
       "      <td>313.000000</td>\n",
       "      <td>16.600000</td>\n",
       "      <td>5.030000</td>\n",
       "      <td>28.500000</td>\n",
       "    </tr>\n",
       "    <tr>\n",
       "      <th>75%</th>\n",
       "      <td>0.043010</td>\n",
       "      <td>85.000000</td>\n",
       "      <td>3.640000</td>\n",
       "      <td>0.000000</td>\n",
       "      <td>0.413000</td>\n",
       "      <td>7.107000</td>\n",
       "      <td>8.344000</td>\n",
       "      <td>4.000000</td>\n",
       "      <td>348.000000</td>\n",
       "      <td>17.900000</td>\n",
       "      <td>7.430000</td>\n",
       "      <td>33.300000</td>\n",
       "    </tr>\n",
       "    <tr>\n",
       "      <th>max</th>\n",
       "      <td>0.106590</td>\n",
       "      <td>100.000000</td>\n",
       "      <td>5.320000</td>\n",
       "      <td>1.000000</td>\n",
       "      <td>0.484000</td>\n",
       "      <td>8.034000</td>\n",
       "      <td>12.126500</td>\n",
       "      <td>6.000000</td>\n",
       "      <td>469.000000</td>\n",
       "      <td>22.000000</td>\n",
       "      <td>14.800000</td>\n",
       "      <td>50.000000</td>\n",
       "    </tr>\n",
       "  </tbody>\n",
       "</table>\n",
       "</div>"
      ],
      "text/plain": [
       "            CRIM          ZN      INDUS       CHAS        NOX         RM  \\\n",
       "count  45.000000   45.000000  45.000000  45.000000  45.000000  45.000000   \n",
       "mean    0.034260   76.944444   2.730000   0.022222   0.410693   6.741689   \n",
       "std     0.020905   13.108907   1.306976   0.149071   0.019121   0.597162   \n",
       "min     0.009060   52.500000   0.460000   0.000000   0.385000   5.663000   \n",
       "25%     0.017780   70.000000   1.690000   0.000000   0.401000   6.315000   \n",
       "50%     0.033590   80.000000   2.250000   0.000000   0.405000   6.696000   \n",
       "75%     0.043010   85.000000   3.640000   0.000000   0.413000   7.107000   \n",
       "max     0.106590  100.000000   5.320000   1.000000   0.484000   8.034000   \n",
       "\n",
       "             DIS        RAD         TAX    PTRATIO      LSTAT       MEDV  \n",
       "count  45.000000  45.000000   45.000000  45.000000  45.000000  45.000000  \n",
       "mean    7.435493   3.377778  306.577778  16.600000   5.927333  29.466667  \n",
       "std     1.741321   1.541677   63.073006   2.206293   2.635090   8.843822  \n",
       "min     5.116700   1.000000  187.000000  12.600000   1.980000  18.200000  \n",
       "25%     6.219600   2.000000  252.000000  14.800000   4.320000  23.100000  \n",
       "50%     7.309000   4.000000  313.000000  16.600000   5.030000  28.500000  \n",
       "75%     8.344000   4.000000  348.000000  17.900000   7.430000  33.300000  \n",
       "max    12.126500   6.000000  469.000000  22.000000  14.800000  50.000000  "
      ]
     },
     "execution_count": 534,
     "metadata": {},
     "output_type": "execute_result"
    }
   ],
   "source": [
    "data_red[data_red['ZN'] > threshold].describe()"
   ]
  },
  {
   "cell_type": "code",
   "execution_count": 535,
   "id": "b3439eac",
   "metadata": {},
   "outputs": [
    {
     "data": {
      "text/plain": [
       "9.453781512605042"
      ]
     },
     "execution_count": 535,
     "metadata": {},
     "output_type": "execute_result"
    }
   ],
   "source": [
    "#  Посмотрим, сколько у нас таких записей в процентах от общего количества:\n",
    "len(data_red[data_red['ZN'] > threshold])/len(data_red)*100"
   ]
  },
  {
   "cell_type": "code",
   "execution_count": 536,
   "id": "85e7bcda",
   "metadata": {},
   "outputs": [
    {
     "data": {
      "text/plain": [
       "(0.7632372602373981, 2.9454698511472333)"
      ]
     },
     "execution_count": 536,
     "metadata": {},
     "output_type": "execute_result"
    }
   ],
   "source": [
    "get_score(data_red[cols_new][data_red['ZN'] < threshold], data_red['MEDV'][data_red['ZN'] < threshold])"
   ]
  },
  {
   "cell_type": "code",
   "execution_count": 537,
   "id": "efd654b1",
   "metadata": {},
   "outputs": [],
   "source": [
    "# Качество упало. Поменяем порог:"
   ]
  },
  {
   "cell_type": "code",
   "execution_count": 538,
   "id": "8e2829cf",
   "metadata": {},
   "outputs": [],
   "source": [
    "threshold = 80"
   ]
  },
  {
   "cell_type": "code",
   "execution_count": 539,
   "id": "59b77044",
   "metadata": {},
   "outputs": [
    {
     "data": {
      "text/plain": [
       "(0.7251238432986258, 3.0250151793408326)"
      ]
     },
     "execution_count": 539,
     "metadata": {},
     "output_type": "execute_result"
    }
   ],
   "source": [
    "get_score(data_red[cols_new][data_red['ZN'] < threshold], data_red['MEDV'][data_red['ZN'] < threshold])"
   ]
  },
  {
   "cell_type": "markdown",
   "id": "69fd4bf1",
   "metadata": {},
   "source": [
    "Не будем ничего менять. Оставим этот признак в изначальном виде. Кроме того, данные выглядят нормальными, что подтверждает, что их можно оставить."
   ]
  },
  {
   "cell_type": "markdown",
   "id": "81fa2b3c",
   "metadata": {},
   "source": [
    "DIS"
   ]
  },
  {
   "cell_type": "code",
   "execution_count": 540,
   "id": "f15c9e1a",
   "metadata": {},
   "outputs": [
    {
     "data": {
      "image/png": "[encoded data removed]",
      "text/plain": [
       "<Figure size 432x288 with 1 Axes>"
      ]
     },
     "metadata": {},
     "output_type": "display_data"
    }
   ],
   "source": [
    "get_boxplot(data_red[cols_new],['DIS'])"
   ]
  },
  {
   "cell_type": "code",
   "execution_count": 541,
   "id": "4f7ae06b",
   "metadata": {},
   "outputs": [],
   "source": [
    "threshold = 10"
   ]
  },
  {
   "cell_type": "code",
   "execution_count": 542,
   "id": "b9941bb8",
   "metadata": {},
   "outputs": [
    {
     "data": {
      "text/html": [
       "<div>\n",
       "<style scoped>\n",
       "    .dataframe tbody tr th:only-of-type {\n",
       "        vertical-align: middle;\n",
       "    }\n",
       "\n",
       "    .dataframe tbody tr th {\n",
       "        vertical-align: top;\n",
       "    }\n",
       "\n",
       "    .dataframe thead th {\n",
       "        text-align: right;\n",
       "    }\n",
       "</style>\n",
       "<table border=\"1\" class=\"dataframe\">\n",
       "  <thead>\n",
       "    <tr style=\"text-align: right;\">\n",
       "      <th></th>\n",
       "      <th>CRIM</th>\n",
       "      <th>ZN</th>\n",
       "      <th>INDUS</th>\n",
       "      <th>CHAS</th>\n",
       "      <th>NOX</th>\n",
       "      <th>RM</th>\n",
       "      <th>DIS</th>\n",
       "      <th>RAD</th>\n",
       "      <th>TAX</th>\n",
       "      <th>PTRATIO</th>\n",
       "      <th>LSTAT</th>\n",
       "      <th>MEDV</th>\n",
       "    </tr>\n",
       "  </thead>\n",
       "  <tbody>\n",
       "    <tr>\n",
       "      <th>count</th>\n",
       "      <td>5.000000</td>\n",
       "      <td>5.000000</td>\n",
       "      <td>5.00000</td>\n",
       "      <td>5.0</td>\n",
       "      <td>5.000000</td>\n",
       "      <td>5.000000</td>\n",
       "      <td>5.000000</td>\n",
       "      <td>5.000000</td>\n",
       "      <td>5.000000</td>\n",
       "      <td>5.000000</td>\n",
       "      <td>5.000000</td>\n",
       "      <td>5.000000</td>\n",
       "    </tr>\n",
       "    <tr>\n",
       "      <th>mean</th>\n",
       "      <td>0.063726</td>\n",
       "      <td>74.000000</td>\n",
       "      <td>1.84400</td>\n",
       "      <td>0.0</td>\n",
       "      <td>0.411600</td>\n",
       "      <td>6.158000</td>\n",
       "      <td>10.943700</td>\n",
       "      <td>4.200000</td>\n",
       "      <td>335.400000</td>\n",
       "      <td>19.520000</td>\n",
       "      <td>6.280000</td>\n",
       "      <td>22.320000</td>\n",
       "    </tr>\n",
       "    <tr>\n",
       "      <th>std</th>\n",
       "      <td>0.034519</td>\n",
       "      <td>13.416408</td>\n",
       "      <td>0.14758</td>\n",
       "      <td>0.0</td>\n",
       "      <td>0.001342</td>\n",
       "      <td>0.466778</td>\n",
       "      <td>0.664134</td>\n",
       "      <td>0.447214</td>\n",
       "      <td>91.456547</td>\n",
       "      <td>2.325296</td>\n",
       "      <td>1.558012</td>\n",
       "      <td>4.936294</td>\n",
       "    </tr>\n",
       "    <tr>\n",
       "      <th>min</th>\n",
       "      <td>0.017090</td>\n",
       "      <td>60.000000</td>\n",
       "      <td>1.69000</td>\n",
       "      <td>0.0</td>\n",
       "      <td>0.410000</td>\n",
       "      <td>5.663000</td>\n",
       "      <td>10.585700</td>\n",
       "      <td>4.000000</td>\n",
       "      <td>187.000000</td>\n",
       "      <td>17.000000</td>\n",
       "      <td>4.500000</td>\n",
       "      <td>18.200000</td>\n",
       "    </tr>\n",
       "    <tr>\n",
       "      <th>25%</th>\n",
       "      <td>0.043010</td>\n",
       "      <td>60.000000</td>\n",
       "      <td>1.69000</td>\n",
       "      <td>0.0</td>\n",
       "      <td>0.411000</td>\n",
       "      <td>5.884000</td>\n",
       "      <td>10.585700</td>\n",
       "      <td>4.000000</td>\n",
       "      <td>334.000000</td>\n",
       "      <td>18.300000</td>\n",
       "      <td>5.490000</td>\n",
       "      <td>18.600000</td>\n",
       "    </tr>\n",
       "    <tr>\n",
       "      <th>50%</th>\n",
       "      <td>0.072440</td>\n",
       "      <td>80.000000</td>\n",
       "      <td>1.91000</td>\n",
       "      <td>0.0</td>\n",
       "      <td>0.411000</td>\n",
       "      <td>5.936000</td>\n",
       "      <td>10.710300</td>\n",
       "      <td>4.000000</td>\n",
       "      <td>334.000000</td>\n",
       "      <td>18.300000</td>\n",
       "      <td>5.570000</td>\n",
       "      <td>20.600000</td>\n",
       "    </tr>\n",
       "    <tr>\n",
       "      <th>75%</th>\n",
       "      <td>0.079500</td>\n",
       "      <td>80.000000</td>\n",
       "      <td>1.91000</td>\n",
       "      <td>0.0</td>\n",
       "      <td>0.413000</td>\n",
       "      <td>6.579000</td>\n",
       "      <td>10.710300</td>\n",
       "      <td>4.000000</td>\n",
       "      <td>411.000000</td>\n",
       "      <td>22.000000</td>\n",
       "      <td>7.790000</td>\n",
       "      <td>24.100000</td>\n",
       "    </tr>\n",
       "    <tr>\n",
       "      <th>max</th>\n",
       "      <td>0.106590</td>\n",
       "      <td>90.000000</td>\n",
       "      <td>2.02000</td>\n",
       "      <td>0.0</td>\n",
       "      <td>0.413000</td>\n",
       "      <td>6.728000</td>\n",
       "      <td>12.126500</td>\n",
       "      <td>5.000000</td>\n",
       "      <td>411.000000</td>\n",
       "      <td>22.000000</td>\n",
       "      <td>8.050000</td>\n",
       "      <td>30.100000</td>\n",
       "    </tr>\n",
       "  </tbody>\n",
       "</table>\n",
       "</div>"
      ],
      "text/plain": [
       "           CRIM         ZN    INDUS  CHAS       NOX        RM        DIS  \\\n",
       "count  5.000000   5.000000  5.00000   5.0  5.000000  5.000000   5.000000   \n",
       "mean   0.063726  74.000000  1.84400   0.0  0.411600  6.158000  10.943700   \n",
       "std    0.034519  13.416408  0.14758   0.0  0.001342  0.466778   0.664134   \n",
       "min    0.017090  60.000000  1.69000   0.0  0.410000  5.663000  10.585700   \n",
       "25%    0.043010  60.000000  1.69000   0.0  0.411000  5.884000  10.585700   \n",
       "50%    0.072440  80.000000  1.91000   0.0  0.411000  5.936000  10.710300   \n",
       "75%    0.079500  80.000000  1.91000   0.0  0.413000  6.579000  10.710300   \n",
       "max    0.106590  90.000000  2.02000   0.0  0.413000  6.728000  12.126500   \n",
       "\n",
       "            RAD         TAX    PTRATIO     LSTAT       MEDV  \n",
       "count  5.000000    5.000000   5.000000  5.000000   5.000000  \n",
       "mean   4.200000  335.400000  19.520000  6.280000  22.320000  \n",
       "std    0.447214   91.456547   2.325296  1.558012   4.936294  \n",
       "min    4.000000  187.000000  17.000000  4.500000  18.200000  \n",
       "25%    4.000000  334.000000  18.300000  5.490000  18.600000  \n",
       "50%    4.000000  334.000000  18.300000  5.570000  20.600000  \n",
       "75%    4.000000  411.000000  22.000000  7.790000  24.100000  \n",
       "max    5.000000  411.000000  22.000000  8.050000  30.100000  "
      ]
     },
     "execution_count": 542,
     "metadata": {},
     "output_type": "execute_result"
    }
   ],
   "source": [
    "data_red[data_red['DIS'] > threshold].describe()"
   ]
  },
  {
   "cell_type": "code",
   "execution_count": 543,
   "id": "8a86bbbb",
   "metadata": {},
   "outputs": [
    {
     "data": {
      "text/plain": [
       "(0.7348516029559115, 2.9259708143270715)"
      ]
     },
     "execution_count": 543,
     "metadata": {},
     "output_type": "execute_result"
    }
   ],
   "source": [
    "get_score(data_red[cols_new][data_red['DIS'] < threshold], data_red['MEDV'][data_red['DIS'] < threshold])"
   ]
  },
  {
   "cell_type": "markdown",
   "id": "110d818c",
   "metadata": {},
   "source": [
    "Не будем ничего менять. Оставим этот признак в изначальном виде. Кроме того, данные выглядят нормальными, что подтверждает, что их можно оставить."
   ]
  },
  {
   "cell_type": "markdown",
   "id": "ea9ebae0",
   "metadata": {},
   "source": [
    "LSTAT"
   ]
  },
  {
   "cell_type": "code",
   "execution_count": 544,
   "id": "a5b240a6",
   "metadata": {},
   "outputs": [
    {
     "data": {
      "image/png": "[encoded data removed]",
      "text/plain": [
       "<Figure size 432x288 with 1 Axes>"
      ]
     },
     "metadata": {},
     "output_type": "display_data"
    }
   ],
   "source": [
    "get_boxplot(data_red[cols_new],['LSTAT'])"
   ]
  },
  {
   "cell_type": "code",
   "execution_count": 545,
   "id": "13e2a90b",
   "metadata": {},
   "outputs": [],
   "source": [
    "threshold = 31"
   ]
  },
  {
   "cell_type": "code",
   "execution_count": 546,
   "id": "8a42b90c",
   "metadata": {},
   "outputs": [
    {
     "data": {
      "text/html": [
       "<div>\n",
       "<style scoped>\n",
       "    .dataframe tbody tr th:only-of-type {\n",
       "        vertical-align: middle;\n",
       "    }\n",
       "\n",
       "    .dataframe tbody tr th {\n",
       "        vertical-align: top;\n",
       "    }\n",
       "\n",
       "    .dataframe thead th {\n",
       "        text-align: right;\n",
       "    }\n",
       "</style>\n",
       "<table border=\"1\" class=\"dataframe\">\n",
       "  <thead>\n",
       "    <tr style=\"text-align: right;\">\n",
       "      <th></th>\n",
       "      <th>CRIM</th>\n",
       "      <th>ZN</th>\n",
       "      <th>INDUS</th>\n",
       "      <th>CHAS</th>\n",
       "      <th>NOX</th>\n",
       "      <th>RM</th>\n",
       "      <th>DIS</th>\n",
       "      <th>RAD</th>\n",
       "      <th>TAX</th>\n",
       "      <th>PTRATIO</th>\n",
       "      <th>LSTAT</th>\n",
       "      <th>MEDV</th>\n",
       "    </tr>\n",
       "  </thead>\n",
       "  <tbody>\n",
       "    <tr>\n",
       "      <th>count</th>\n",
       "      <td>3.000000</td>\n",
       "      <td>3.0</td>\n",
       "      <td>3.000000</td>\n",
       "      <td>3.0</td>\n",
       "      <td>3.000000</td>\n",
       "      <td>3.000000</td>\n",
       "      <td>3.000000</td>\n",
       "      <td>3.000000</td>\n",
       "      <td>3.000000</td>\n",
       "      <td>3.000000</td>\n",
       "      <td>3.0000</td>\n",
       "      <td>3.000000</td>\n",
       "    </tr>\n",
       "    <tr>\n",
       "      <th>mean</th>\n",
       "      <td>8.804947</td>\n",
       "      <td>0.0</td>\n",
       "      <td>19.363333</td>\n",
       "      <td>0.0</td>\n",
       "      <td>0.677333</td>\n",
       "      <td>5.286667</td>\n",
       "      <td>1.478067</td>\n",
       "      <td>17.333333</td>\n",
       "      <td>589.666667</td>\n",
       "      <td>20.533333</td>\n",
       "      <td>34.4000</td>\n",
       "      <td>12.200000</td>\n",
       "    </tr>\n",
       "    <tr>\n",
       "      <th>std</th>\n",
       "      <td>6.346318</td>\n",
       "      <td>0.0</td>\n",
       "      <td>2.188158</td>\n",
       "      <td>0.0</td>\n",
       "      <td>0.058561</td>\n",
       "      <td>0.564309</td>\n",
       "      <td>0.324930</td>\n",
       "      <td>11.547005</td>\n",
       "      <td>132.213212</td>\n",
       "      <td>0.577350</td>\n",
       "      <td>0.3751</td>\n",
       "      <td>3.304542</td>\n",
       "    </tr>\n",
       "    <tr>\n",
       "      <th>min</th>\n",
       "      <td>1.628640</td>\n",
       "      <td>0.0</td>\n",
       "      <td>18.100000</td>\n",
       "      <td>0.0</td>\n",
       "      <td>0.624000</td>\n",
       "      <td>4.906000</td>\n",
       "      <td>1.174200</td>\n",
       "      <td>4.000000</td>\n",
       "      <td>437.000000</td>\n",
       "      <td>20.200000</td>\n",
       "      <td>34.0200</td>\n",
       "      <td>8.400000</td>\n",
       "    </tr>\n",
       "    <tr>\n",
       "      <th>25%</th>\n",
       "      <td>6.368370</td>\n",
       "      <td>0.0</td>\n",
       "      <td>18.100000</td>\n",
       "      <td>0.0</td>\n",
       "      <td>0.646000</td>\n",
       "      <td>4.962500</td>\n",
       "      <td>1.306800</td>\n",
       "      <td>14.000000</td>\n",
       "      <td>551.500000</td>\n",
       "      <td>20.200000</td>\n",
       "      <td>34.2150</td>\n",
       "      <td>11.100000</td>\n",
       "    </tr>\n",
       "    <tr>\n",
       "      <th>50%</th>\n",
       "      <td>11.108100</td>\n",
       "      <td>0.0</td>\n",
       "      <td>18.100000</td>\n",
       "      <td>0.0</td>\n",
       "      <td>0.668000</td>\n",
       "      <td>5.019000</td>\n",
       "      <td>1.439400</td>\n",
       "      <td>24.000000</td>\n",
       "      <td>666.000000</td>\n",
       "      <td>20.200000</td>\n",
       "      <td>34.4100</td>\n",
       "      <td>13.800000</td>\n",
       "    </tr>\n",
       "    <tr>\n",
       "      <th>75%</th>\n",
       "      <td>12.393100</td>\n",
       "      <td>0.0</td>\n",
       "      <td>19.995000</td>\n",
       "      <td>0.0</td>\n",
       "      <td>0.704000</td>\n",
       "      <td>5.477000</td>\n",
       "      <td>1.630000</td>\n",
       "      <td>24.000000</td>\n",
       "      <td>666.000000</td>\n",
       "      <td>20.700000</td>\n",
       "      <td>34.5900</td>\n",
       "      <td>14.100000</td>\n",
       "    </tr>\n",
       "    <tr>\n",
       "      <th>max</th>\n",
       "      <td>13.678100</td>\n",
       "      <td>0.0</td>\n",
       "      <td>21.890000</td>\n",
       "      <td>0.0</td>\n",
       "      <td>0.740000</td>\n",
       "      <td>5.935000</td>\n",
       "      <td>1.820600</td>\n",
       "      <td>24.000000</td>\n",
       "      <td>666.000000</td>\n",
       "      <td>21.200000</td>\n",
       "      <td>34.7700</td>\n",
       "      <td>14.400000</td>\n",
       "    </tr>\n",
       "  </tbody>\n",
       "</table>\n",
       "</div>"
      ],
      "text/plain": [
       "            CRIM   ZN      INDUS  CHAS       NOX        RM       DIS  \\\n",
       "count   3.000000  3.0   3.000000   3.0  3.000000  3.000000  3.000000   \n",
       "mean    8.804947  0.0  19.363333   0.0  0.677333  5.286667  1.478067   \n",
       "std     6.346318  0.0   2.188158   0.0  0.058561  0.564309  0.324930   \n",
       "min     1.628640  0.0  18.100000   0.0  0.624000  4.906000  1.174200   \n",
       "25%     6.368370  0.0  18.100000   0.0  0.646000  4.962500  1.306800   \n",
       "50%    11.108100  0.0  18.100000   0.0  0.668000  5.019000  1.439400   \n",
       "75%    12.393100  0.0  19.995000   0.0  0.704000  5.477000  1.630000   \n",
       "max    13.678100  0.0  21.890000   0.0  0.740000  5.935000  1.820600   \n",
       "\n",
       "             RAD         TAX    PTRATIO    LSTAT       MEDV  \n",
       "count   3.000000    3.000000   3.000000   3.0000   3.000000  \n",
       "mean   17.333333  589.666667  20.533333  34.4000  12.200000  \n",
       "std    11.547005  132.213212   0.577350   0.3751   3.304542  \n",
       "min     4.000000  437.000000  20.200000  34.0200   8.400000  \n",
       "25%    14.000000  551.500000  20.200000  34.2150  11.100000  \n",
       "50%    24.000000  666.000000  20.200000  34.4100  13.800000  \n",
       "75%    24.000000  666.000000  20.700000  34.5900  14.100000  \n",
       "max    24.000000  666.000000  21.200000  34.7700  14.400000  "
      ]
     },
     "execution_count": 546,
     "metadata": {},
     "output_type": "execute_result"
    }
   ],
   "source": [
    "data_red[data_red['LSTAT'] > threshold].describe()"
   ]
  },
  {
   "cell_type": "code",
   "execution_count": 547,
   "id": "1606bcb8",
   "metadata": {},
   "outputs": [
    {
     "data": {
      "text/plain": [
       "(0.6342478963485724, 3.1861876254757946)"
      ]
     },
     "execution_count": 547,
     "metadata": {},
     "output_type": "execute_result"
    }
   ],
   "source": [
    "get_score(data_red[cols_new][data_red['LSTAT'] < threshold], data_red['MEDV'][data_red['LSTAT'] < threshold])"
   ]
  },
  {
   "cell_type": "markdown",
   "id": "b9a37938",
   "metadata": {},
   "source": [
    "Не будем ничего менять. Оставим этот признак в изначальном виде. Кроме того, данные выглядят нормальными, что подтверждает, что их можно оставить."
   ]
  },
  {
   "cell_type": "code",
   "execution_count": 548,
   "id": "4e56a24d",
   "metadata": {},
   "outputs": [
    {
     "data": {
      "text/plain": [
       "(0.7971230443374159, 2.9883018824850005)"
      ]
     },
     "execution_count": 548,
     "metadata": {},
     "output_type": "execute_result"
    }
   ],
   "source": [
    "get_score(data_red[cols_new], data_red['MEDV'])"
   ]
  },
  {
   "cell_type": "markdown",
   "id": "a1cad476",
   "metadata": {},
   "source": [
    "Итак, по итогам проведенной работы нам удалось повысить точность и уменьшить ошибку. Данные изначально были неплохого качества (не было пропусков, мало выбросов). Возможно, дополнительная работа или другая модель помогут достичь более высоких результатов."
   ]
  }
 ],
 "metadata": {
  "kernelspec": {
   "display_name": "Python 3",
   "language": "python",
   "name": "python3"
  },
  "language_info": {
   "codemirror_mode": {
    "name": "ipython",
    "version": 3
   },
   "file_extension": ".py",
   "mimetype": "text/x-python",
   "name": "python",
   "nbconvert_exporter": "python",
   "pygments_lexer": "ipython3",
   "version": "3.6.9"
  }
 },
 "nbformat": 4,
 "nbformat_minor": 5
}
