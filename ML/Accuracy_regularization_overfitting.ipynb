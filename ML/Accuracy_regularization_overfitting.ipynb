{
 "cells": [
  {
   "cell_type": "markdown",
   "id": "e10ed757",
   "metadata": {},
   "source": [
    "# Домашняя работа \"Оценка точности модели, переобучение, регуляризация\""
   ]
  },
  {
   "cell_type": "markdown",
   "id": "7c38019b",
   "metadata": {},
   "source": [
    "Задание:   \n",
    "Посчитать tpr и fpr в ноутбуке к лекции.  \n",
    "Убедиться, что график ROC AUC получается таким же, как и штатными средствами.  \n",
    "Построить график Precision - Recall на этих же данных.  "
   ]
  },
  {
   "cell_type": "code",
   "execution_count": null,
   "id": "5146f5df",
   "metadata": {},
   "outputs": [],
   "source": []
  },
  {
   "cell_type": "code",
   "execution_count": null,
   "id": "6efab2eb",
   "metadata": {},
   "outputs": [],
   "source": []
  },
  {
   "cell_type": "code",
   "execution_count": null,
   "id": "d60e2a1a",
   "metadata": {},
   "outputs": [],
   "source": []
  },
  {
   "cell_type": "code",
   "execution_count": null,
   "id": "ad3a5edc",
   "metadata": {},
   "outputs": [],
   "source": []
  },
  {
   "cell_type": "code",
   "execution_count": null,
   "id": "9cbea9f6",
   "metadata": {},
   "outputs": [],
   "source": []
  },
  {
   "cell_type": "code",
   "execution_count": null,
   "id": "375935e8",
   "metadata": {},
   "outputs": [],
   "source": []
  }
 ],
 "metadata": {
  "kernelspec": {
   "display_name": "Python 3",
   "language": "python",
   "name": "python3"
  },
  "language_info": {
   "codemirror_mode": {
    "name": "ipython",
    "version": 3
   },
   "file_extension": ".py",
   "mimetype": "text/x-python",
   "name": "python",
   "nbconvert_exporter": "python",
   "pygments_lexer": "ipython3",
   "version": "3.6.9"
  }
 },
 "nbformat": 4,
 "nbformat_minor": 5
}
