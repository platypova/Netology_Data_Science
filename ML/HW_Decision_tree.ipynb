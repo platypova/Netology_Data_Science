{
 "cells": [
  {
   "cell_type": "markdown",
   "id": "5cae7cf0",
   "metadata": {},
   "source": [
    "# Домашнее задание «Деревья решений»"
   ]
  },
  {
   "cell_type": "markdown",
   "id": "5987cd84",
   "metadata": {},
   "source": [
    "Для выполнения домашнего задания необходимо взять файл boston house-prices datase (sklearn.datasets.load_boston) и построить модель.  \n",
    "По аналогии задания к лекции «Классификация: Логистическая регрессия и SVM».  \n",
    "А именно построить модель регрессии, дерево решений, оптимизировать параметры и сравнить результаты.  "
   ]
  },
  {
   "cell_type": "code",
   "execution_count": 66,
   "id": "e3bda407",
   "metadata": {},
   "outputs": [],
   "source": [
    "from sklearn.datasets import load_boston\n",
    "import pandas as pd\n",
    "import seaborn as sns\n",
    "import matplotlib.pyplot as plt\n",
    "\n",
    "from sklearn.model_selection import train_test_split\n",
    "from sklearn.linear_model import LogisticRegression\n",
    "from sklearn.metrics import mean_absolute_error\n",
    "\n",
    "import numpy as np\n",
    "from sklearn.tree import DecisionTreeRegressor"
   ]
  },
  {
   "cell_type": "code",
   "execution_count": 67,
   "id": "872f22e2",
   "metadata": {},
   "outputs": [
    {
     "name": "stdout",
     "output_type": "stream",
     "text": [
      "(506, 13)\n"
     ]
    }
   ],
   "source": [
    "import warnings\n",
    "from sklearn.datasets import load_boston\n",
    "with warnings.catch_warnings():\n",
    "# You should probably not use this dataset.\n",
    "    warnings.filterwarnings(\"ignore\")\n",
    "    X, y = load_boston(return_X_y=True)\n",
    "    \n",
    "    print(X.shape)"
   ]
  },
  {
   "cell_type": "code",
   "execution_count": 68,
   "id": "4337711d",
   "metadata": {},
   "outputs": [],
   "source": [
    " X_train, X_test, y_train, y_test = train_test_split(X, y, test_size=0.3, random_state=42 )  "
   ]
  },
  {
   "cell_type": "markdown",
   "id": "37a4ade0",
   "metadata": {},
   "source": [
    "# Decision tree regressor"
   ]
  },
  {
   "cell_type": "markdown",
   "id": "4ef95088",
   "metadata": {},
   "source": [
    "### Создадим и обучим модель (для разных параметров):"
   ]
  },
  {
   "cell_type": "markdown",
   "id": "66fe62af",
   "metadata": {},
   "source": [
    "#### для разных глубин"
   ]
  },
  {
   "cell_type": "code",
   "execution_count": 137,
   "id": "adcb3ca2",
   "metadata": {},
   "outputs": [],
   "source": [
    "# Обучим модель для набора параметров:\n",
    "list_depth = [1,2,3,4,5,7,10,15,20] #\n",
    "dt_regs = {}\n",
    "for i in list_depth:\n",
    "    dt_regs[f'depth={i}'] = DecisionTreeRegressor(max_depth=i,splitter = 'best').fit(X_train, y_train)\n",
    "dt_regs['depth=inf'] = DecisionTreeRegressor().fit(X_train, y_train)\n",
    "\n",
    "# Оценим точность:\n",
    "pred_list = {}\n",
    "score_list = {}\n",
    "for key, cur_dt_reg in dt_regs.items():\n",
    "          pred_list[key] = cur_dt_reg.predict(X_test)\n",
    "          score_list[key] = cur_dt_reg.score(X_test,y_test)"
   ]
  },
  {
   "cell_type": "code",
   "execution_count": 138,
   "id": "68cfbea1",
   "metadata": {},
   "outputs": [
    {
     "data": {
      "text/plain": [
       "{'depth=1': 0.4158767119483332,\n",
       " 'depth=2': 0.6758436094969433,\n",
       " 'depth=3': 0.7728151817263731,\n",
       " 'depth=4': 0.7255536066517965,\n",
       " 'depth=5': 0.8495598452462355,\n",
       " 'depth=7': 0.7499986924360498,\n",
       " 'depth=10': 0.7928420887047312,\n",
       " 'depth=15': 0.8460238037147105,\n",
       " 'depth=20': 0.8421277153776999,\n",
       " 'depth=inf': 0.8457150395861739}"
      ]
     },
     "execution_count": 138,
     "metadata": {},
     "output_type": "execute_result"
    }
   ],
   "source": [
    "score_list"
   ]
  },
  {
   "cell_type": "markdown",
   "id": "4f078189",
   "metadata": {},
   "source": [
    "#### splitter = 'random' (the strategy used to choose the split at each node)"
   ]
  },
  {
   "cell_type": "code",
   "execution_count": 139,
   "id": "6d2ac05a",
   "metadata": {},
   "outputs": [],
   "source": [
    "# Обучим модель для набора параметров и для параметра splitter = 'random':\n",
    "list_depth = [1,2,3,4,5,7,10,15,20] #\n",
    "dt_regs = {}\n",
    "for i in list_depth:\n",
    "    dt_regs[f'depth={i}'] = DecisionTreeRegressor(max_depth=i,splitter = 'random').fit(X_train, y_train)\n",
    "dt_regs['depth=inf'] = DecisionTreeRegressor().fit(X_train, y_train)\n",
    "\n",
    "# Оценим точность:\n",
    "pred_list = {}\n",
    "score_list = {}\n",
    "for key, cur_dt_reg in dt_regs.items():\n",
    "          pred_list[key] = cur_dt_reg.predict(X_test)\n",
    "          score_list[key] = cur_dt_reg.score(X_test,y_test)"
   ]
  },
  {
   "cell_type": "code",
   "execution_count": 140,
   "id": "4ae8003e",
   "metadata": {},
   "outputs": [
    {
     "data": {
      "text/plain": [
       "{'depth=1': 0.3853568427375488,\n",
       " 'depth=2': 0.6135715547473951,\n",
       " 'depth=3': 0.43956340213080036,\n",
       " 'depth=4': 0.7498854338633101,\n",
       " 'depth=5': 0.7853931469081101,\n",
       " 'depth=7': 0.7572299040906376,\n",
       " 'depth=10': 0.7140348265933524,\n",
       " 'depth=15': 0.6801623622111659,\n",
       " 'depth=20': 0.6844523230267485,\n",
       " 'depth=inf': 0.7913604117441663}"
      ]
     },
     "execution_count": 140,
     "metadata": {},
     "output_type": "execute_result"
    }
   ],
   "source": [
    "score_list"
   ]
  },
  {
   "cell_type": "markdown",
   "id": "8e8a3fee",
   "metadata": {},
   "source": [
    "#### min_samples_split (the minimum number of samples required to split an internal node)"
   ]
  },
  {
   "cell_type": "code",
   "execution_count": 125,
   "id": "54e23f30",
   "metadata": {},
   "outputs": [],
   "source": [
    "# Обучим модель для набора параметров min_samples_split и глубины = 10\n",
    "list_depth = [10] #\n",
    "min_samples_split_list = [2,3,5,10,100]\n",
    "dt_regs = {}\n",
    "for i in min_samples_split_list:\n",
    "    dt_regs[f'min_samples_split={i}'] = DecisionTreeRegressor(max_depth=list_depth[0],min_samples_split = i).fit(X_train, y_train)\n",
    "\n",
    "\n",
    "# Оценим точность:\n",
    "pred_list = {}\n",
    "score_list = {}\n",
    "for key, cur_dt_reg in dt_regs.items():\n",
    "          pred_list[key] = cur_dt_reg.predict(X_test)\n",
    "          score_list[key] = cur_dt_reg.score(X_test,y_test)"
   ]
  },
  {
   "cell_type": "code",
   "execution_count": 126,
   "id": "a5e8ebda",
   "metadata": {},
   "outputs": [
    {
     "data": {
      "text/plain": [
       "{'min_samples_split=2': 0.8589468477772733,\n",
       " 'min_samples_split=3': 0.7856008468971778,\n",
       " 'min_samples_split=5': 0.8625883982951583,\n",
       " 'min_samples_split=10': 0.8853201259669772,\n",
       " 'min_samples_split=100': 0.718531802855358}"
      ]
     },
     "execution_count": 126,
     "metadata": {},
     "output_type": "execute_result"
    }
   ],
   "source": [
    "score_list"
   ]
  },
  {
   "cell_type": "markdown",
   "id": "aca7b6f6",
   "metadata": {},
   "source": [
    "#### min_samples_leaf (the minimum number of samples required to be at a leaf node)"
   ]
  },
  {
   "cell_type": "code",
   "execution_count": 133,
   "id": "6feb9685",
   "metadata": {},
   "outputs": [],
   "source": [
    "# Обучим модель для набора параметров и глубины = 10\n",
    "list_depth = [10] #\n",
    "min_samples_leaf_list = [1,2,5,10,15,20]\n",
    "dt_regs = {}\n",
    "for i in min_samples_leaf_list:\n",
    "    dt_regs[f'min_samples_leaf={i}'] = DecisionTreeRegressor(max_depth=list_depth[0],min_samples_leaf = i).fit(X_train, y_train)\n",
    "\n",
    "\n",
    "# Оценим точность:\n",
    "pred_list = {}\n",
    "score_list = {}\n",
    "for key, cur_dt_reg in dt_regs.items():\n",
    "          pred_list[key] = cur_dt_reg.predict(X_test)\n",
    "          score_list[key] = cur_dt_reg.score(X_test,y_test)"
   ]
  },
  {
   "cell_type": "code",
   "execution_count": 134,
   "id": "fd3612b0",
   "metadata": {},
   "outputs": [
    {
     "data": {
      "text/plain": [
       "{'min_samples_leaf=1': 0.8439341309209579,\n",
       " 'min_samples_leaf=2': 0.8036926241769236,\n",
       " 'min_samples_leaf=5': 0.7717271090301903,\n",
       " 'min_samples_leaf=10': 0.7693921830832291,\n",
       " 'min_samples_leaf=15': 0.7430807063747571,\n",
       " 'min_samples_leaf=20': 0.7372099970752846}"
      ]
     },
     "execution_count": 134,
     "metadata": {},
     "output_type": "execute_result"
    }
   ],
   "source": [
    "score_list"
   ]
  },
  {
   "cell_type": "markdown",
   "id": "a410b5f2",
   "metadata": {},
   "source": [
    "#### max_features (the number of features to consider when looking for the best split)"
   ]
  },
  {
   "cell_type": "code",
   "execution_count": 135,
   "id": "c2b9d26e",
   "metadata": {},
   "outputs": [],
   "source": [
    "# Обучим модель для набора параметров и глубины = 10\n",
    "list_depth = [10] #\n",
    "max_features_list = [1,2,5,10,13,'auto','sqrt','log2']\n",
    "dt_regs = {}\n",
    "for i in max_features_list:\n",
    "    dt_regs[f'max_features={i}'] = DecisionTreeRegressor(max_depth=list_depth[0],max_features = i).fit(X_train, y_train)\n",
    "\n",
    "# Оценим точность:\n",
    "pred_list = {}\n",
    "score_list = {}\n",
    "for key, cur_dt_reg in dt_regs.items():\n",
    "          pred_list[key] = cur_dt_reg.predict(X_test)\n",
    "          score_list[key] = cur_dt_reg.score(X_test,y_test)"
   ]
  },
  {
   "cell_type": "code",
   "execution_count": 136,
   "id": "4603ee40",
   "metadata": {},
   "outputs": [
    {
     "data": {
      "text/plain": [
       "{'max_features=1': 0.7129366155934397,\n",
       " 'max_features=2': 0.712774901229616,\n",
       " 'max_features=5': 0.7607852471210484,\n",
       " 'max_features=10': 0.7910007844217604,\n",
       " 'max_features=13': 0.8522910404166757,\n",
       " 'max_features=auto': 0.8638027389816665,\n",
       " 'max_features=sqrt': 0.6054582953361489,\n",
       " 'max_features=log2': 0.6832593009535504}"
      ]
     },
     "execution_count": 136,
     "metadata": {},
     "output_type": "execute_result"
    }
   ],
   "source": [
    "score_list"
   ]
  },
  {
   "cell_type": "markdown",
   "id": "5b68d3b8",
   "metadata": {},
   "source": [
    "Видим, что лучшее качество получается при max_features=13 (автоматический выбор совпадает. При уменьшении качество падает), min_samples_leaf = 1 (с увеличением качество падает), min_samples_split = 2 (c увеличением качество падает), глубине 15 и больше. "
   ]
  },
  {
   "cell_type": "code",
   "execution_count": 150,
   "id": "10ae4d07",
   "metadata": {},
   "outputs": [],
   "source": [
    "list_depth = [1,2,3,4,5,7,10,15,20,100,200]"
   ]
  },
  {
   "cell_type": "code",
   "execution_count": 151,
   "id": "21187c69",
   "metadata": {},
   "outputs": [],
   "source": [
    "min_samples_split_list = [2,3,5,10,100]"
   ]
  },
  {
   "cell_type": "code",
   "execution_count": 152,
   "id": "44cda173",
   "metadata": {},
   "outputs": [],
   "source": [
    "min_samples_leaf_list = [1,2,5,10, 15,20]"
   ]
  },
  {
   "cell_type": "code",
   "execution_count": 153,
   "id": "d2ae794c",
   "metadata": {},
   "outputs": [],
   "source": [
    "max_features_list = [1,2,5,10,13,'auto','sqrt','log2']"
   ]
  },
  {
   "cell_type": "code",
   "execution_count": 154,
   "id": "a198df86",
   "metadata": {},
   "outputs": [],
   "source": [
    "max_score = 0"
   ]
  },
  {
   "cell_type": "code",
   "execution_count": 155,
   "id": "ef0c3082",
   "metadata": {},
   "outputs": [],
   "source": [
    "parameters = {}"
   ]
  },
  {
   "cell_type": "code",
   "execution_count": 156,
   "id": "243580b5",
   "metadata": {},
   "outputs": [],
   "source": [
    "for depth in list_depth:\n",
    "    for samp_split in min_samples_split_list:\n",
    "        for samp_leaf in min_samples_leaf_list:\n",
    "            for max_feature in max_features_list:\n",
    "                dt_regs = DecisionTreeRegressor(max_depth=depth,max_features = max_feature,min_samples_split = samp_split,min_samples_leaf = samp_leaf).fit(X_train, y_train)\n",
    "                score = dt_regs.score(X_test,y_test)\n",
    "                if score > max_score:\n",
    "                    max_score = score\n",
    "                    parameters['max_depth'] = depth\n",
    "                    parameters['max_feature'] = max_feature\n",
    "                    parameters['min_samples_split'] = samp_split\n",
    "                    parameters['min_samples_leaf'] = samp_leaf"
   ]
  },
  {
   "cell_type": "code",
   "execution_count": 157,
   "id": "4ad77b35",
   "metadata": {},
   "outputs": [
    {
     "data": {
      "text/plain": [
       "0.8815975315806154"
      ]
     },
     "execution_count": 157,
     "metadata": {},
     "output_type": "execute_result"
    }
   ],
   "source": [
    "max_score"
   ]
  },
  {
   "cell_type": "code",
   "execution_count": 158,
   "id": "b8cb861f",
   "metadata": {},
   "outputs": [
    {
     "data": {
      "text/plain": [
       "{'max_depth': 200,\n",
       " 'max_feature': 'auto',\n",
       " 'min_samples_split': 10,\n",
       " 'min_samples_leaf': 1}"
      ]
     },
     "execution_count": 158,
     "metadata": {},
     "output_type": "execute_result"
    }
   ],
   "source": [
    "parameters"
   ]
  },
  {
   "cell_type": "code",
   "execution_count": null,
   "id": "5306413d",
   "metadata": {},
   "outputs": [],
   "source": []
  }
 ],
 "metadata": {
  "kernelspec": {
   "display_name": "Python 3",
   "language": "python",
   "name": "python3"
  },
  "language_info": {
   "codemirror_mode": {
    "name": "ipython",
    "version": 3
   },
   "file_extension": ".py",
   "mimetype": "text/x-python",
   "name": "python",
   "nbconvert_exporter": "python",
   "pygments_lexer": "ipython3",
   "version": "3.6.9"
  }
 },
 "nbformat": 4,
 "nbformat_minor": 5
}
