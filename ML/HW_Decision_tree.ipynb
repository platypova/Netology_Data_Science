{
 "cells": [
  {
   "cell_type": "markdown",
   "id": "4c59f17d",
   "metadata": {},
   "source": [
    "# Домашнее задание «Деревья решений»"
   ]
  },
  {
   "cell_type": "markdown",
   "id": "1b61cd40",
   "metadata": {},
   "source": [
    "Для выполнения домашнего задания необходимо взять файл boston house-prices datase (sklearn.datasets.load_boston) и построить модель.  \n",
    "По аналогии задания к лекции «Классификация: Логистическая регрессия и SVM».  \n",
    "А именно построить модель регрессии, дерево решений, оптимизировать параметры и сравнить результаты.  "
   ]
  },
  {
   "cell_type": "code",
   "execution_count": 66,
   "id": "6918ae2d",
   "metadata": {},
   "outputs": [],
   "source": [
    "from sklearn.datasets import load_boston\n",
    "import pandas as pd\n",
    "import seaborn as sns\n",
    "import matplotlib.pyplot as plt\n",
    "\n",
    "from sklearn.model_selection import train_test_split\n",
    "from sklearn.linear_model import LogisticRegression\n",
    "from sklearn.metrics import mean_absolute_error\n",
    "\n",
    "import numpy as np\n",
    "from sklearn.tree import DecisionTreeRegressor"
   ]
  },
  {
   "cell_type": "code",
   "execution_count": 67,
   "id": "0027470a",
   "metadata": {},
   "outputs": [
    {
     "name": "stdout",
     "output_type": "stream",
     "text": [
      "(506, 13)\n"
     ]
    }
   ],
   "source": [
    "import warnings\n",
    "from sklearn.datasets import load_boston\n",
    "with warnings.catch_warnings():\n",
    "# You should probably not use this dataset.\n",
    "    warnings.filterwarnings(\"ignore\")\n",
    "    X, y = load_boston(return_X_y=True)\n",
    "    \n",
    "    print(X.shape)"
   ]
  },
  {
   "cell_type": "code",
   "execution_count": 68,
   "id": "f5ab16b4",
   "metadata": {},
   "outputs": [],
   "source": [
    " X_train, X_test, y_train, y_test = train_test_split(X, y, test_size=0.3, random_state=42 )  "
   ]
  },
  {
   "cell_type": "markdown",
   "id": "d17096a4",
   "metadata": {},
   "source": [
    "# Decision tree regressor"
   ]
  },
  {
   "cell_type": "markdown",
   "id": "7340ad3c",
   "metadata": {},
   "source": [
    "### Создадим и обучим модель (для разных параметров):"
   ]
  },
  {
   "cell_type": "markdown",
   "id": "71c1cf31",
   "metadata": {},
   "source": [
    "#### для разных глубин"
   ]
  },
  {
   "cell_type": "code",
   "execution_count": 137,
   "id": "3dca109f",
   "metadata": {},
   "outputs": [],
   "source": [
    "# Обучим модель для набора параметров:\n",
    "list_depth = [1,2,3,4,5,7,10,15,20] #\n",
    "dt_regs = {}\n",
    "for i in list_depth:\n",
    "    dt_regs[f'depth={i}'] = DecisionTreeRegressor(max_depth=i,splitter = 'best').fit(X_train, y_train)\n",
    "dt_regs['depth=inf'] = DecisionTreeRegressor().fit(X_train, y_train)\n",
    "\n",
    "# Оценим точность:\n",
    "pred_list = {}\n",
    "score_list = {}\n",
    "for key, cur_dt_reg in dt_regs.items():\n",
    "          pred_list[key] = cur_dt_reg.predict(X_test)\n",
    "          score_list[key] = cur_dt_reg.score(X_test,y_test)"
   ]
  },
  {
   "cell_type": "code",
   "execution_count": 138,
   "id": "34eb15c2",
   "metadata": {},
   "outputs": [
    {
     "data": {
      "text/plain": [
       "{'depth=1': 0.4158767119483332,\n",
       " 'depth=2': 0.6758436094969433,\n",
       " 'depth=3': 0.7728151817263731,\n",
       " 'depth=4': 0.7255536066517965,\n",
       " 'depth=5': 0.8495598452462355,\n",
       " 'depth=7': 0.7499986924360498,\n",
       " 'depth=10': 0.7928420887047312,\n",
       " 'depth=15': 0.8460238037147105,\n",
       " 'depth=20': 0.8421277153776999,\n",
       " 'depth=inf': 0.8457150395861739}"
      ]
     },
     "execution_count": 138,
     "metadata": {},
     "output_type": "execute_result"
    }
   ],
   "source": [
    "score_list"
   ]
  },
  {
   "cell_type": "markdown",
   "id": "a40f6e06",
   "metadata": {},
   "source": [
    "Можно заметить несколько максимумов при увеличении глубины."
   ]
  },
  {
   "cell_type": "markdown",
   "id": "a3c54440",
   "metadata": {},
   "source": [
    "#### splitter = 'random' (the strategy used to choose the split at each node)"
   ]
  },
  {
   "cell_type": "code",
   "execution_count": 139,
   "id": "80f38415",
   "metadata": {},
   "outputs": [],
   "source": [
    "# Обучим модель для набора параметров и для параметра splitter = 'random':\n",
    "list_depth = [1,2,3,4,5,7,10,15,20] #\n",
    "dt_regs = {}\n",
    "for i in list_depth:\n",
    "    dt_regs[f'depth={i}'] = DecisionTreeRegressor(max_depth=i,splitter = 'random').fit(X_train, y_train)\n",
    "dt_regs['depth=inf'] = DecisionTreeRegressor().fit(X_train, y_train)\n",
    "\n",
    "# Оценим точность:\n",
    "pred_list = {}\n",
    "score_list = {}\n",
    "for key, cur_dt_reg in dt_regs.items():\n",
    "          pred_list[key] = cur_dt_reg.predict(X_test)\n",
    "          score_list[key] = cur_dt_reg.score(X_test,y_test)"
   ]
  },
  {
   "cell_type": "code",
   "execution_count": 140,
   "id": "f108db3c",
   "metadata": {},
   "outputs": [
    {
     "data": {
      "text/plain": [
       "{'depth=1': 0.3853568427375488,\n",
       " 'depth=2': 0.6135715547473951,\n",
       " 'depth=3': 0.43956340213080036,\n",
       " 'depth=4': 0.7498854338633101,\n",
       " 'depth=5': 0.7853931469081101,\n",
       " 'depth=7': 0.7572299040906376,\n",
       " 'depth=10': 0.7140348265933524,\n",
       " 'depth=15': 0.6801623622111659,\n",
       " 'depth=20': 0.6844523230267485,\n",
       " 'depth=inf': 0.7913604117441663}"
      ]
     },
     "execution_count": 140,
     "metadata": {},
     "output_type": "execute_result"
    }
   ],
   "source": [
    "score_list"
   ]
  },
  {
   "cell_type": "markdown",
   "id": "35a5da31",
   "metadata": {},
   "source": [
    "Видим, что качество хуже, чем при splitter = 'best'"
   ]
  },
  {
   "cell_type": "markdown",
   "id": "1ed9faf7",
   "metadata": {},
   "source": [
    "#### min_samples_split (the minimum number of samples required to split an internal node)"
   ]
  },
  {
   "cell_type": "code",
   "execution_count": 125,
   "id": "db4a580d",
   "metadata": {},
   "outputs": [],
   "source": [
    "# Обучим модель для набора параметров min_samples_split и глубины = 10\n",
    "list_depth = [10] #\n",
    "min_samples_split_list = [2,3,5,10,100]\n",
    "dt_regs = {}\n",
    "for i in min_samples_split_list:\n",
    "    dt_regs[f'min_samples_split={i}'] = DecisionTreeRegressor(max_depth=list_depth[0],min_samples_split = i).fit(X_train, y_train)\n",
    "\n",
    "\n",
    "# Оценим точность:\n",
    "pred_list = {}\n",
    "score_list = {}\n",
    "for key, cur_dt_reg in dt_regs.items():\n",
    "          pred_list[key] = cur_dt_reg.predict(X_test)\n",
    "          score_list[key] = cur_dt_reg.score(X_test,y_test)"
   ]
  },
  {
   "cell_type": "code",
   "execution_count": 126,
   "id": "0d357808",
   "metadata": {},
   "outputs": [
    {
     "data": {
      "text/plain": [
       "{'min_samples_split=2': 0.8589468477772733,\n",
       " 'min_samples_split=3': 0.7856008468971778,\n",
       " 'min_samples_split=5': 0.8625883982951583,\n",
       " 'min_samples_split=10': 0.8853201259669772,\n",
       " 'min_samples_split=100': 0.718531802855358}"
      ]
     },
     "execution_count": 126,
     "metadata": {},
     "output_type": "execute_result"
    }
   ],
   "source": [
    "score_list"
   ]
  },
  {
   "cell_type": "markdown",
   "id": "1d7ec0f7",
   "metadata": {},
   "source": [
    "Можем увидеть, что при min_samples_split=10 качество самое лучшее."
   ]
  },
  {
   "cell_type": "markdown",
   "id": "15e889c7",
   "metadata": {},
   "source": [
    "#### min_samples_leaf (the minimum number of samples required to be at a leaf node)"
   ]
  },
  {
   "cell_type": "code",
   "execution_count": 133,
   "id": "5d91e2bf",
   "metadata": {},
   "outputs": [],
   "source": [
    "# Обучим модель для набора параметров и глубины = 10\n",
    "list_depth = [10] #\n",
    "min_samples_leaf_list = [1,2,5,10,15,20]\n",
    "dt_regs = {}\n",
    "for i in min_samples_leaf_list:\n",
    "    dt_regs[f'min_samples_leaf={i}'] = DecisionTreeRegressor(max_depth=list_depth[0],min_samples_leaf = i).fit(X_train, y_train)\n",
    "\n",
    "\n",
    "# Оценим точность:\n",
    "pred_list = {}\n",
    "score_list = {}\n",
    "for key, cur_dt_reg in dt_regs.items():\n",
    "          pred_list[key] = cur_dt_reg.predict(X_test)\n",
    "          score_list[key] = cur_dt_reg.score(X_test,y_test)"
   ]
  },
  {
   "cell_type": "code",
   "execution_count": 134,
   "id": "310be289",
   "metadata": {},
   "outputs": [
    {
     "data": {
      "text/plain": [
       "{'min_samples_leaf=1': 0.8439341309209579,\n",
       " 'min_samples_leaf=2': 0.8036926241769236,\n",
       " 'min_samples_leaf=5': 0.7717271090301903,\n",
       " 'min_samples_leaf=10': 0.7693921830832291,\n",
       " 'min_samples_leaf=15': 0.7430807063747571,\n",
       " 'min_samples_leaf=20': 0.7372099970752846}"
      ]
     },
     "execution_count": 134,
     "metadata": {},
     "output_type": "execute_result"
    }
   ],
   "source": [
    "score_list"
   ]
  },
  {
   "cell_type": "markdown",
   "id": "1fce2217",
   "metadata": {},
   "source": [
    "Видим, что с ростом параметра качество падает."
   ]
  },
  {
   "cell_type": "markdown",
   "id": "8a72759f",
   "metadata": {},
   "source": [
    "#### max_features (the number of features to consider when looking for the best split)"
   ]
  },
  {
   "cell_type": "code",
   "execution_count": 135,
   "id": "c4b3ec1c",
   "metadata": {},
   "outputs": [],
   "source": [
    "# Обучим модель для набора параметров и глубины = 10\n",
    "list_depth = [10] #\n",
    "max_features_list = [1,2,5,10,13,'auto','sqrt','log2']\n",
    "dt_regs = {}\n",
    "for i in max_features_list:\n",
    "    dt_regs[f'max_features={i}'] = DecisionTreeRegressor(max_depth=list_depth[0],max_features = i).fit(X_train, y_train)\n",
    "\n",
    "# Оценим точность:\n",
    "pred_list = {}\n",
    "score_list = {}\n",
    "for key, cur_dt_reg in dt_regs.items():\n",
    "          pred_list[key] = cur_dt_reg.predict(X_test)\n",
    "          score_list[key] = cur_dt_reg.score(X_test,y_test)"
   ]
  },
  {
   "cell_type": "code",
   "execution_count": 136,
   "id": "bd5e512b",
   "metadata": {},
   "outputs": [
    {
     "data": {
      "text/plain": [
       "{'max_features=1': 0.7129366155934397,\n",
       " 'max_features=2': 0.712774901229616,\n",
       " 'max_features=5': 0.7607852471210484,\n",
       " 'max_features=10': 0.7910007844217604,\n",
       " 'max_features=13': 0.8522910404166757,\n",
       " 'max_features=auto': 0.8638027389816665,\n",
       " 'max_features=sqrt': 0.6054582953361489,\n",
       " 'max_features=log2': 0.6832593009535504}"
      ]
     },
     "execution_count": 136,
     "metadata": {},
     "output_type": "execute_result"
    }
   ],
   "source": [
    "score_list"
   ]
  },
  {
   "cell_type": "markdown",
   "id": "15499c89",
   "metadata": {},
   "source": [
    "Видим, что качество лучшее при автоматическом выборе (и близко к max_features=13)"
   ]
  },
  {
   "cell_type": "markdown",
   "id": "575d2af4",
   "metadata": {},
   "source": [
    "Видим, как качество меняется при разных параметрах.  \n",
    "Теперь попробуем подобрать оптимальные параметры перебором:  "
   ]
  },
  {
   "cell_type": "code",
   "execution_count": 228,
   "id": "cb40419b",
   "metadata": {},
   "outputs": [],
   "source": [
    "list_depth = list(range(1,50))\n",
    "min_samples_split_list = list(range(2,10))\n",
    "min_samples_leaf_list = list(range(1,5))\n",
    "max_features_list = [1,2,5,10,13,'auto','sqrt','log2']"
   ]
  },
  {
   "cell_type": "code",
   "execution_count": 229,
   "id": "35a33576",
   "metadata": {},
   "outputs": [],
   "source": [
    "max_score = 0"
   ]
  },
  {
   "cell_type": "code",
   "execution_count": 230,
   "id": "f87a5eae",
   "metadata": {},
   "outputs": [],
   "source": [
    "parameters = {}"
   ]
  },
  {
   "cell_type": "code",
   "execution_count": 231,
   "id": "0927d0a9",
   "metadata": {},
   "outputs": [],
   "source": [
    "for depth in list_depth:\n",
    "    for samp_split in min_samples_split_list:\n",
    "        for samp_leaf in min_samples_leaf_list:\n",
    "            for max_feature in max_features_list:\n",
    "                dt_regs = DecisionTreeRegressor(max_depth=depth,max_features = max_feature,min_samples_split = samp_split,min_samples_leaf = samp_leaf).fit(X_train, y_train)\n",
    "                score = dt_regs.score(X_test,y_test)\n",
    "                if score > max_score:\n",
    "                    max_score = score\n",
    "                    parameters['max_depth'] = depth\n",
    "                    parameters['max_feature'] = max_feature\n",
    "                    parameters['min_samples_split'] = samp_split\n",
    "                    parameters['min_samples_leaf'] = samp_leaf"
   ]
  },
  {
   "cell_type": "code",
   "execution_count": 232,
   "id": "7b03aeb6",
   "metadata": {},
   "outputs": [
    {
     "data": {
      "text/plain": [
       "0.8848814210264808"
      ]
     },
     "execution_count": 232,
     "metadata": {},
     "output_type": "execute_result"
    }
   ],
   "source": [
    "# Получаем точность:\n",
    "max_score"
   ]
  },
  {
   "cell_type": "code",
   "execution_count": 233,
   "id": "0d4b65b4",
   "metadata": {},
   "outputs": [
    {
     "data": {
      "text/plain": [
       "{'max_depth': 8,\n",
       " 'max_feature': 10,\n",
       " 'min_samples_split': 6,\n",
       " 'min_samples_leaf': 1}"
      ]
     },
     "execution_count": 233,
     "metadata": {},
     "output_type": "execute_result"
    }
   ],
   "source": [
    "# При следующих параметрах:\n",
    "parameters"
   ]
  },
  {
   "cell_type": "code",
   "execution_count": null,
   "id": "69061707",
   "metadata": {},
   "outputs": [],
   "source": []
  }
 ],
 "metadata": {
  "kernelspec": {
   "display_name": "Python 3",
   "language": "python",
   "name": "python3"
  },
  "language_info": {
   "codemirror_mode": {
    "name": "ipython",
    "version": 3
   },
   "file_extension": ".py",
   "mimetype": "text/x-python",
   "name": "python",
   "nbconvert_exporter": "python",
   "pygments_lexer": "ipython3",
   "version": "3.6.9"
  }
 },
 "nbformat": 4,
 "nbformat_minor": 5
}
