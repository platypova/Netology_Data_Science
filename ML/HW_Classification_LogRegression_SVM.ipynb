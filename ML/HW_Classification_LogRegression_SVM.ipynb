{
 "cells": [
  {
   "cell_type": "markdown",
   "id": "f504bb8b",
   "metadata": {},
   "source": [
    "# Классификация: Логистическая регрессия и SVM"
   ]
  },
  {
   "cell_type": "code",
   "execution_count": 139,
   "id": "eb8a27c3",
   "metadata": {},
   "outputs": [],
   "source": [
    "import pandas as pd\n",
    "import matplotlib.pyplot as plt\n",
    "from sklearn import datasets, linear_model"
   ]
  },
  {
   "cell_type": "code",
   "execution_count": 140,
   "id": "05aa47a9",
   "metadata": {},
   "outputs": [],
   "source": [
    "dataset = pd.read_csv('adult.csv')"
   ]
  },
  {
   "cell_type": "markdown",
   "id": "7f5592ca",
   "metadata": {},
   "source": [
    "### Сделаем обзор датасета:"
   ]
  },
  {
   "cell_type": "code",
   "execution_count": 141,
   "id": "0b38a26c",
   "metadata": {},
   "outputs": [
    {
     "name": "stdout",
     "output_type": "stream",
     "text": [
      "<class 'pandas.core.frame.DataFrame'>\n",
      "RangeIndex: 48842 entries, 0 to 48841\n",
      "Data columns (total 15 columns):\n",
      " #   Column           Non-Null Count  Dtype \n",
      "---  ------           --------------  ----- \n",
      " 0   age              48842 non-null  int64 \n",
      " 1   workclass        48842 non-null  object\n",
      " 2   fnlwgt           48842 non-null  int64 \n",
      " 3   education        48842 non-null  object\n",
      " 4   educational-num  48842 non-null  int64 \n",
      " 5   marital-status   48842 non-null  object\n",
      " 6   occupation       48842 non-null  object\n",
      " 7   relationship     48842 non-null  object\n",
      " 8   race             48842 non-null  object\n",
      " 9   gender           48842 non-null  object\n",
      " 10  capital-gain     48842 non-null  int64 \n",
      " 11  capital-loss     48842 non-null  int64 \n",
      " 12  hours-per-week   48842 non-null  int64 \n",
      " 13  native-country   48842 non-null  object\n",
      " 14  income           48842 non-null  object\n",
      "dtypes: int64(6), object(9)\n",
      "memory usage: 5.6+ MB\n"
     ]
    }
   ],
   "source": [
    "dataset.info()"
   ]
  },
  {
   "cell_type": "code",
   "execution_count": 142,
   "id": "78582db8",
   "metadata": {},
   "outputs": [
    {
     "data": {
      "text/html": [
       "<div>\n",
       "<style scoped>\n",
       "    .dataframe tbody tr th:only-of-type {\n",
       "        vertical-align: middle;\n",
       "    }\n",
       "\n",
       "    .dataframe tbody tr th {\n",
       "        vertical-align: top;\n",
       "    }\n",
       "\n",
       "    .dataframe thead th {\n",
       "        text-align: right;\n",
       "    }\n",
       "</style>\n",
       "<table border=\"1\" class=\"dataframe\">\n",
       "  <thead>\n",
       "    <tr style=\"text-align: right;\">\n",
       "      <th></th>\n",
       "      <th>age</th>\n",
       "      <th>workclass</th>\n",
       "      <th>fnlwgt</th>\n",
       "      <th>education</th>\n",
       "      <th>educational-num</th>\n",
       "      <th>marital-status</th>\n",
       "      <th>occupation</th>\n",
       "      <th>relationship</th>\n",
       "      <th>race</th>\n",
       "      <th>gender</th>\n",
       "      <th>capital-gain</th>\n",
       "      <th>capital-loss</th>\n",
       "      <th>hours-per-week</th>\n",
       "      <th>native-country</th>\n",
       "      <th>income</th>\n",
       "    </tr>\n",
       "  </thead>\n",
       "  <tbody>\n",
       "    <tr>\n",
       "      <th>0</th>\n",
       "      <td>25</td>\n",
       "      <td>Private</td>\n",
       "      <td>226802</td>\n",
       "      <td>11th</td>\n",
       "      <td>7</td>\n",
       "      <td>Never-married</td>\n",
       "      <td>Machine-op-inspct</td>\n",
       "      <td>Own-child</td>\n",
       "      <td>Black</td>\n",
       "      <td>Male</td>\n",
       "      <td>0</td>\n",
       "      <td>0</td>\n",
       "      <td>40</td>\n",
       "      <td>United-States</td>\n",
       "      <td>&lt;=50K</td>\n",
       "    </tr>\n",
       "    <tr>\n",
       "      <th>1</th>\n",
       "      <td>38</td>\n",
       "      <td>Private</td>\n",
       "      <td>89814</td>\n",
       "      <td>HS-grad</td>\n",
       "      <td>9</td>\n",
       "      <td>Married-civ-spouse</td>\n",
       "      <td>Farming-fishing</td>\n",
       "      <td>Husband</td>\n",
       "      <td>White</td>\n",
       "      <td>Male</td>\n",
       "      <td>0</td>\n",
       "      <td>0</td>\n",
       "      <td>50</td>\n",
       "      <td>United-States</td>\n",
       "      <td>&lt;=50K</td>\n",
       "    </tr>\n",
       "    <tr>\n",
       "      <th>2</th>\n",
       "      <td>28</td>\n",
       "      <td>Local-gov</td>\n",
       "      <td>336951</td>\n",
       "      <td>Assoc-acdm</td>\n",
       "      <td>12</td>\n",
       "      <td>Married-civ-spouse</td>\n",
       "      <td>Protective-serv</td>\n",
       "      <td>Husband</td>\n",
       "      <td>White</td>\n",
       "      <td>Male</td>\n",
       "      <td>0</td>\n",
       "      <td>0</td>\n",
       "      <td>40</td>\n",
       "      <td>United-States</td>\n",
       "      <td>&gt;50K</td>\n",
       "    </tr>\n",
       "  </tbody>\n",
       "</table>\n",
       "</div>"
      ],
      "text/plain": [
       "   age  workclass  fnlwgt   education  educational-num      marital-status  \\\n",
       "0   25    Private  226802        11th                7       Never-married   \n",
       "1   38    Private   89814     HS-grad                9  Married-civ-spouse   \n",
       "2   28  Local-gov  336951  Assoc-acdm               12  Married-civ-spouse   \n",
       "\n",
       "          occupation relationship   race gender  capital-gain  capital-loss  \\\n",
       "0  Machine-op-inspct    Own-child  Black   Male             0             0   \n",
       "1    Farming-fishing      Husband  White   Male             0             0   \n",
       "2    Protective-serv      Husband  White   Male             0             0   \n",
       "\n",
       "   hours-per-week native-country income  \n",
       "0              40  United-States  <=50K  \n",
       "1              50  United-States  <=50K  \n",
       "2              40  United-States   >50K  "
      ]
     },
     "execution_count": 142,
     "metadata": {},
     "output_type": "execute_result"
    }
   ],
   "source": [
    "dataset.head(3)"
   ]
  },
  {
   "cell_type": "code",
   "execution_count": 143,
   "id": "6ae756fe",
   "metadata": {},
   "outputs": [
    {
     "data": {
      "text/plain": [
       "<=50K    37155\n",
       ">50K     11687\n",
       "Name: income, dtype: int64"
      ]
     },
     "execution_count": 143,
     "metadata": {},
     "output_type": "execute_result"
    }
   ],
   "source": [
    "dataset['income'].value_counts()"
   ]
  },
  {
   "cell_type": "code",
   "execution_count": 144,
   "id": "b069f83c",
   "metadata": {},
   "outputs": [
    {
     "data": {
      "text/plain": [
       "Private             33906\n",
       "Self-emp-not-inc     3862\n",
       "Local-gov            3136\n",
       "?                    2799\n",
       "State-gov            1981\n",
       "Self-emp-inc         1695\n",
       "Federal-gov          1432\n",
       "Without-pay            21\n",
       "Never-worked           10\n",
       "Name: workclass, dtype: int64"
      ]
     },
     "execution_count": 144,
     "metadata": {},
     "output_type": "execute_result"
    }
   ],
   "source": [
    "dataset['workclass'].value_counts()"
   ]
  },
  {
   "cell_type": "code",
   "execution_count": 145,
   "id": "2abc17fa",
   "metadata": {},
   "outputs": [
    {
     "data": {
      "text/plain": [
       "HS-grad         15784\n",
       "Some-college    10878\n",
       "Bachelors        8025\n",
       "Masters          2657\n",
       "Assoc-voc        2061\n",
       "11th             1812\n",
       "Assoc-acdm       1601\n",
       "10th             1389\n",
       "7th-8th           955\n",
       "Prof-school       834\n",
       "9th               756\n",
       "12th              657\n",
       "Doctorate         594\n",
       "5th-6th           509\n",
       "1st-4th           247\n",
       "Preschool          83\n",
       "Name: education, dtype: int64"
      ]
     },
     "execution_count": 145,
     "metadata": {},
     "output_type": "execute_result"
    }
   ],
   "source": [
    "dataset['education'].value_counts()"
   ]
  },
  {
   "cell_type": "code",
   "execution_count": 146,
   "id": "cb5ea2d1",
   "metadata": {},
   "outputs": [
    {
     "data": {
      "text/plain": [
       "Prof-specialty       6172\n",
       "Craft-repair         6112\n",
       "Exec-managerial      6086\n",
       "Adm-clerical         5611\n",
       "Sales                5504\n",
       "Other-service        4923\n",
       "Machine-op-inspct    3022\n",
       "?                    2809\n",
       "Transport-moving     2355\n",
       "Handlers-cleaners    2072\n",
       "Farming-fishing      1490\n",
       "Tech-support         1446\n",
       "Protective-serv       983\n",
       "Priv-house-serv       242\n",
       "Armed-Forces           15\n",
       "Name: occupation, dtype: int64"
      ]
     },
     "execution_count": 146,
     "metadata": {},
     "output_type": "execute_result"
    }
   ],
   "source": [
    "dataset['occupation'].value_counts()"
   ]
  },
  {
   "cell_type": "code",
   "execution_count": 147,
   "id": "48b1514b",
   "metadata": {},
   "outputs": [
    {
     "data": {
      "text/plain": [
       "Husband           19716\n",
       "Not-in-family     12583\n",
       "Own-child          7581\n",
       "Unmarried          5125\n",
       "Wife               2331\n",
       "Other-relative     1506\n",
       "Name: relationship, dtype: int64"
      ]
     },
     "execution_count": 147,
     "metadata": {},
     "output_type": "execute_result"
    }
   ],
   "source": [
    "dataset['relationship'].value_counts()"
   ]
  },
  {
   "cell_type": "code",
   "execution_count": 148,
   "id": "93ce9fc0",
   "metadata": {},
   "outputs": [
    {
     "data": {
      "text/plain": [
       "White                 41762\n",
       "Black                  4685\n",
       "Asian-Pac-Islander     1519\n",
       "Amer-Indian-Eskimo      470\n",
       "Other                   406\n",
       "Name: race, dtype: int64"
      ]
     },
     "execution_count": 148,
     "metadata": {},
     "output_type": "execute_result"
    }
   ],
   "source": [
    "dataset['race'].value_counts()"
   ]
  },
  {
   "cell_type": "code",
   "execution_count": 149,
   "id": "37744bcb",
   "metadata": {},
   "outputs": [
    {
     "data": {
      "text/plain": [
       "Male      32650\n",
       "Female    16192\n",
       "Name: gender, dtype: int64"
      ]
     },
     "execution_count": 149,
     "metadata": {},
     "output_type": "execute_result"
    }
   ],
   "source": [
    "dataset['gender'].value_counts()"
   ]
  },
  {
   "cell_type": "code",
   "execution_count": 150,
   "id": "ef8ec2a0",
   "metadata": {},
   "outputs": [
    {
     "data": {
      "text/plain": [
       "0        44807\n",
       "15024      513\n",
       "7688       410\n",
       "7298       364\n",
       "99999      244\n",
       "         ...  \n",
       "2387         1\n",
       "22040        1\n",
       "6612         1\n",
       "1111         1\n",
       "1639         1\n",
       "Name: capital-gain, Length: 123, dtype: int64"
      ]
     },
     "execution_count": 150,
     "metadata": {},
     "output_type": "execute_result"
    }
   ],
   "source": [
    "dataset['capital-gain'].value_counts()"
   ]
  },
  {
   "cell_type": "code",
   "execution_count": 151,
   "id": "b0fbedb3",
   "metadata": {},
   "outputs": [
    {
     "data": {
      "text/plain": [
       "0       46560\n",
       "1902      304\n",
       "1977      253\n",
       "1887      233\n",
       "2415       72\n",
       "        ...  \n",
       "1539        1\n",
       "2489        1\n",
       "2201        1\n",
       "1421        1\n",
       "1870        1\n",
       "Name: capital-loss, Length: 99, dtype: int64"
      ]
     },
     "execution_count": 151,
     "metadata": {},
     "output_type": "execute_result"
    }
   ],
   "source": [
    "dataset['capital-loss'].value_counts()"
   ]
  },
  {
   "cell_type": "code",
   "execution_count": 152,
   "id": "e0ceb9b9",
   "metadata": {},
   "outputs": [
    {
     "data": {
      "text/plain": [
       "40    22803\n",
       "50     4246\n",
       "45     2717\n",
       "60     2177\n",
       "35     1937\n",
       "      ...  \n",
       "69        1\n",
       "94        1\n",
       "79        1\n",
       "82        1\n",
       "87        1\n",
       "Name: hours-per-week, Length: 96, dtype: int64"
      ]
     },
     "execution_count": 152,
     "metadata": {},
     "output_type": "execute_result"
    }
   ],
   "source": [
    "dataset['hours-per-week'].value_counts()"
   ]
  },
  {
   "cell_type": "code",
   "execution_count": 173,
   "id": "0b5167ed",
   "metadata": {},
   "outputs": [
    {
     "data": {
      "text/plain": [
       "United-States                 43832\n",
       "Mexico                          951\n",
       "Other                           857\n",
       "Philippines                     295\n",
       "Germany                         206\n",
       "Puerto-Rico                     184\n",
       "Canada                          182\n",
       "El-Salvador                     155\n",
       "India                           151\n",
       "Cuba                            138\n",
       "England                         127\n",
       "China                           122\n",
       "South                           115\n",
       "Jamaica                         106\n",
       "Italy                           105\n",
       "Dominican-Republic              103\n",
       "Japan                            92\n",
       "Guatemala                        88\n",
       "Poland                           87\n",
       "Vietnam                          86\n",
       "Columbia                         85\n",
       "Haiti                            75\n",
       "Portugal                         67\n",
       "Taiwan                           65\n",
       "Iran                             59\n",
       "Greece                           49\n",
       "Nicaragua                        49\n",
       "Peru                             46\n",
       "Ecuador                          45\n",
       "France                           38\n",
       "Ireland                          37\n",
       "Hong                             30\n",
       "Thailand                         30\n",
       "Cambodia                         28\n",
       "Trinadad&Tobago                  27\n",
       "Laos                             23\n",
       "Yugoslavia                       23\n",
       "Outlying-US(Guam-USVI-etc)       23\n",
       "Scotland                         21\n",
       "Honduras                         20\n",
       "Hungary                          19\n",
       "Holand-Netherlands                1\n",
       "Name: native-country, dtype: int64"
      ]
     },
     "execution_count": 173,
     "metadata": {},
     "output_type": "execute_result"
    }
   ],
   "source": [
    "dataset['native-country'].value_counts()"
   ]
  },
  {
   "cell_type": "markdown",
   "id": "666b3910",
   "metadata": {},
   "source": [
    "# Логичстическая регрессия:"
   ]
  },
  {
   "cell_type": "markdown",
   "id": "0d0372a2",
   "metadata": {},
   "source": [
    "### Следующий этап - это обработка пропущенных значений и кодирование категориальных признаков."
   ]
  },
  {
   "cell_type": "markdown",
   "id": "7cca9b7c",
   "metadata": {},
   "source": [
    "Нулевых значений в датасете нет. Но есть значения '?', что означает, что значения пропущены."
   ]
  },
  {
   "cell_type": "code",
   "execution_count": 174,
   "id": "d2620759",
   "metadata": {},
   "outputs": [],
   "source": [
    "categorical_cols = ['workclass','education','marital-status','occupation','relationship','race','gender','native-country']\n"
   ]
  },
  {
   "cell_type": "code",
   "execution_count": 177,
   "id": "9dfe8c81",
   "metadata": {},
   "outputs": [],
   "source": [
    "# Заменим вопросы на категорию \"Other\""
   ]
  },
  {
   "cell_type": "code",
   "execution_count": 178,
   "id": "7dfbb8f2",
   "metadata": {},
   "outputs": [],
   "source": [
    "for col in categorical_cols:\n",
    "    dataset.loc[dataset[col] == '?', col] = 'Other'"
   ]
  },
  {
   "cell_type": "code",
   "execution_count": 179,
   "id": "32c48e75",
   "metadata": {},
   "outputs": [],
   "source": [
    "from sklearn.linear_model import LogisticRegression\n",
    "from sklearn.preprocessing import LabelEncoder\n",
    "LabEnc = LabelEncoder()"
   ]
  },
  {
   "cell_type": "code",
   "execution_count": 180,
   "id": "e95ff91b",
   "metadata": {},
   "outputs": [
    {
     "data": {
      "text/plain": [
       "0    0\n",
       "1    0\n",
       "2    1\n",
       "3    1\n",
       "4    0\n",
       "dtype: int64"
      ]
     },
     "execution_count": 180,
     "metadata": {},
     "output_type": "execute_result"
    }
   ],
   "source": [
    "# Выделим целевую переменную income в переменную y и закодируем значениями 0 и 1:\n",
    "LabEnc.fit( dataset['income'] )\n",
    "LabEnc.classes_\n",
    "LabEnc.transform( dataset['income'] )\n",
    "y = pd.Series( data = LabEnc.transform(dataset['income'] ) )\n",
    "y.head()"
   ]
  },
  {
   "cell_type": "markdown",
   "id": "ee2bc8bd",
   "metadata": {},
   "source": [
    "Рассмотрим основной способ преоборазования категориальных признаков в вещественные: one-hot encoding. "
   ]
  },
  {
   "cell_type": "code",
   "execution_count": 181,
   "id": "27797209",
   "metadata": {},
   "outputs": [
    {
     "data": {
      "text/html": [
       "<div>\n",
       "<style scoped>\n",
       "    .dataframe tbody tr th:only-of-type {\n",
       "        vertical-align: middle;\n",
       "    }\n",
       "\n",
       "    .dataframe tbody tr th {\n",
       "        vertical-align: top;\n",
       "    }\n",
       "\n",
       "    .dataframe thead th {\n",
       "        text-align: right;\n",
       "    }\n",
       "</style>\n",
       "<table border=\"1\" class=\"dataframe\">\n",
       "  <thead>\n",
       "    <tr style=\"text-align: right;\">\n",
       "      <th></th>\n",
       "      <th>age</th>\n",
       "      <th>workclass</th>\n",
       "      <th>fnlwgt</th>\n",
       "      <th>education</th>\n",
       "      <th>educational-num</th>\n",
       "      <th>marital-status</th>\n",
       "      <th>occupation</th>\n",
       "      <th>relationship</th>\n",
       "      <th>race</th>\n",
       "      <th>gender</th>\n",
       "      <th>capital-gain</th>\n",
       "      <th>capital-loss</th>\n",
       "      <th>hours-per-week</th>\n",
       "      <th>native-country</th>\n",
       "      <th>income</th>\n",
       "    </tr>\n",
       "  </thead>\n",
       "  <tbody>\n",
       "    <tr>\n",
       "      <th>0</th>\n",
       "      <td>25</td>\n",
       "      <td>Private</td>\n",
       "      <td>226802</td>\n",
       "      <td>11th</td>\n",
       "      <td>7</td>\n",
       "      <td>Never-married</td>\n",
       "      <td>Machine-op-inspct</td>\n",
       "      <td>Own-child</td>\n",
       "      <td>Black</td>\n",
       "      <td>Male</td>\n",
       "      <td>0</td>\n",
       "      <td>0</td>\n",
       "      <td>40</td>\n",
       "      <td>United-States</td>\n",
       "      <td>&lt;=50K</td>\n",
       "    </tr>\n",
       "  </tbody>\n",
       "</table>\n",
       "</div>"
      ],
      "text/plain": [
       "   age workclass  fnlwgt education  educational-num marital-status  \\\n",
       "0   25   Private  226802      11th                7  Never-married   \n",
       "\n",
       "          occupation relationship   race gender  capital-gain  capital-loss  \\\n",
       "0  Machine-op-inspct    Own-child  Black   Male             0             0   \n",
       "\n",
       "   hours-per-week native-country income  \n",
       "0              40  United-States  <=50K  "
      ]
     },
     "execution_count": 181,
     "metadata": {},
     "output_type": "execute_result"
    }
   ],
   "source": [
    "dataset.head(1)"
   ]
  },
  {
   "cell_type": "markdown",
   "id": "a5bcbaa4",
   "metadata": {},
   "source": [
    "Выделим все остальные признаки в X:"
   ]
  },
  {
   "cell_type": "code",
   "execution_count": 209,
   "id": "1fbf060b",
   "metadata": {},
   "outputs": [],
   "source": [
    "X = pd.get_dummies( dataset.drop('income', 1), columns = categorical_cols)"
   ]
  },
  {
   "cell_type": "code",
   "execution_count": 210,
   "id": "264a0709",
   "metadata": {},
   "outputs": [
    {
     "data": {
      "text/plain": [
       "(48842, 108)"
      ]
     },
     "execution_count": 210,
     "metadata": {},
     "output_type": "execute_result"
    }
   ],
   "source": [
    "X.shape"
   ]
  },
  {
   "cell_type": "code",
   "execution_count": 212,
   "id": "f78221f2",
   "metadata": {},
   "outputs": [
    {
     "data": {
      "text/html": [
       "<div>\n",
       "<style scoped>\n",
       "    .dataframe tbody tr th:only-of-type {\n",
       "        vertical-align: middle;\n",
       "    }\n",
       "\n",
       "    .dataframe tbody tr th {\n",
       "        vertical-align: top;\n",
       "    }\n",
       "\n",
       "    .dataframe thead th {\n",
       "        text-align: right;\n",
       "    }\n",
       "</style>\n",
       "<table border=\"1\" class=\"dataframe\">\n",
       "  <thead>\n",
       "    <tr style=\"text-align: right;\">\n",
       "      <th></th>\n",
       "      <th>age</th>\n",
       "      <th>fnlwgt</th>\n",
       "      <th>educational-num</th>\n",
       "      <th>capital-gain</th>\n",
       "      <th>capital-loss</th>\n",
       "      <th>hours-per-week</th>\n",
       "      <th>workclass_Federal-gov</th>\n",
       "      <th>workclass_Local-gov</th>\n",
       "      <th>workclass_Never-worked</th>\n",
       "      <th>workclass_Other</th>\n",
       "      <th>...</th>\n",
       "      <th>native-country_Portugal</th>\n",
       "      <th>native-country_Puerto-Rico</th>\n",
       "      <th>native-country_Scotland</th>\n",
       "      <th>native-country_South</th>\n",
       "      <th>native-country_Taiwan</th>\n",
       "      <th>native-country_Thailand</th>\n",
       "      <th>native-country_Trinadad&amp;Tobago</th>\n",
       "      <th>native-country_United-States</th>\n",
       "      <th>native-country_Vietnam</th>\n",
       "      <th>native-country_Yugoslavia</th>\n",
       "    </tr>\n",
       "  </thead>\n",
       "  <tbody>\n",
       "    <tr>\n",
       "      <th>0</th>\n",
       "      <td>25</td>\n",
       "      <td>226802</td>\n",
       "      <td>7</td>\n",
       "      <td>0</td>\n",
       "      <td>0</td>\n",
       "      <td>40</td>\n",
       "      <td>0</td>\n",
       "      <td>0</td>\n",
       "      <td>0</td>\n",
       "      <td>0</td>\n",
       "      <td>...</td>\n",
       "      <td>0</td>\n",
       "      <td>0</td>\n",
       "      <td>0</td>\n",
       "      <td>0</td>\n",
       "      <td>0</td>\n",
       "      <td>0</td>\n",
       "      <td>0</td>\n",
       "      <td>1</td>\n",
       "      <td>0</td>\n",
       "      <td>0</td>\n",
       "    </tr>\n",
       "    <tr>\n",
       "      <th>1</th>\n",
       "      <td>38</td>\n",
       "      <td>89814</td>\n",
       "      <td>9</td>\n",
       "      <td>0</td>\n",
       "      <td>0</td>\n",
       "      <td>50</td>\n",
       "      <td>0</td>\n",
       "      <td>0</td>\n",
       "      <td>0</td>\n",
       "      <td>0</td>\n",
       "      <td>...</td>\n",
       "      <td>0</td>\n",
       "      <td>0</td>\n",
       "      <td>0</td>\n",
       "      <td>0</td>\n",
       "      <td>0</td>\n",
       "      <td>0</td>\n",
       "      <td>0</td>\n",
       "      <td>1</td>\n",
       "      <td>0</td>\n",
       "      <td>0</td>\n",
       "    </tr>\n",
       "    <tr>\n",
       "      <th>2</th>\n",
       "      <td>28</td>\n",
       "      <td>336951</td>\n",
       "      <td>12</td>\n",
       "      <td>0</td>\n",
       "      <td>0</td>\n",
       "      <td>40</td>\n",
       "      <td>0</td>\n",
       "      <td>1</td>\n",
       "      <td>0</td>\n",
       "      <td>0</td>\n",
       "      <td>...</td>\n",
       "      <td>0</td>\n",
       "      <td>0</td>\n",
       "      <td>0</td>\n",
       "      <td>0</td>\n",
       "      <td>0</td>\n",
       "      <td>0</td>\n",
       "      <td>0</td>\n",
       "      <td>1</td>\n",
       "      <td>0</td>\n",
       "      <td>0</td>\n",
       "    </tr>\n",
       "  </tbody>\n",
       "</table>\n",
       "<p>3 rows × 108 columns</p>\n",
       "</div>"
      ],
      "text/plain": [
       "   age  fnlwgt  educational-num  capital-gain  capital-loss  hours-per-week  \\\n",
       "0   25  226802                7             0             0              40   \n",
       "1   38   89814                9             0             0              50   \n",
       "2   28  336951               12             0             0              40   \n",
       "\n",
       "   workclass_Federal-gov  workclass_Local-gov  workclass_Never-worked  \\\n",
       "0                      0                    0                       0   \n",
       "1                      0                    0                       0   \n",
       "2                      0                    1                       0   \n",
       "\n",
       "   workclass_Other  ...  native-country_Portugal  native-country_Puerto-Rico  \\\n",
       "0                0  ...                        0                           0   \n",
       "1                0  ...                        0                           0   \n",
       "2                0  ...                        0                           0   \n",
       "\n",
       "   native-country_Scotland  native-country_South  native-country_Taiwan  \\\n",
       "0                        0                     0                      0   \n",
       "1                        0                     0                      0   \n",
       "2                        0                     0                      0   \n",
       "\n",
       "   native-country_Thailand  native-country_Trinadad&Tobago  \\\n",
       "0                        0                               0   \n",
       "1                        0                               0   \n",
       "2                        0                               0   \n",
       "\n",
       "   native-country_United-States  native-country_Vietnam  \\\n",
       "0                             1                       0   \n",
       "1                             1                       0   \n",
       "2                             1                       0   \n",
       "\n",
       "   native-country_Yugoslavia  \n",
       "0                          0  \n",
       "1                          0  \n",
       "2                          0  \n",
       "\n",
       "[3 rows x 108 columns]"
      ]
     },
     "execution_count": 212,
     "metadata": {},
     "output_type": "execute_result"
    }
   ],
   "source": [
    "X.head(3)"
   ]
  },
  {
   "cell_type": "markdown",
   "id": "3f096508",
   "metadata": {},
   "source": [
    "Так же стоит провести масштабирование вещественных признаков, так как у ряда признаков довольно большие значения"
   ]
  },
  {
   "cell_type": "code",
   "execution_count": 224,
   "id": "299880e1",
   "metadata": {},
   "outputs": [],
   "source": [
    "num_cols = list(set(dataset.columns) - set(categorical_cols) - set(['income']))"
   ]
  },
  {
   "cell_type": "code",
   "execution_count": 225,
   "id": "f94a12d1",
   "metadata": {},
   "outputs": [
    {
     "data": {
      "text/plain": [
       "['educational-num',\n",
       " 'capital-loss',\n",
       " 'hours-per-week',\n",
       " 'fnlwgt',\n",
       " 'capital-gain',\n",
       " 'age']"
      ]
     },
     "execution_count": 225,
     "metadata": {},
     "output_type": "execute_result"
    }
   ],
   "source": [
    "num_cols"
   ]
  },
  {
   "cell_type": "code",
   "execution_count": 405,
   "id": "2858a533",
   "metadata": {},
   "outputs": [],
   "source": [
    "X_num = X[num_cols]"
   ]
  },
  {
   "cell_type": "code",
   "execution_count": 406,
   "id": "c49d104b",
   "metadata": {},
   "outputs": [],
   "source": [
    "from sklearn.preprocessing import StandardScaler\n",
    "scaler = StandardScaler()\n",
    "scaler.fit(X_num)\n",
    "X_num_scaled = scaler.transform(X_num)"
   ]
  },
  {
   "cell_type": "code",
   "execution_count": 407,
   "id": "af5f8be6",
   "metadata": {},
   "outputs": [],
   "source": [
    "X_num_scaled = pd.DataFrame(data = X_num_scaled, columns = num_cols)"
   ]
  },
  {
   "cell_type": "code",
   "execution_count": 408,
   "id": "671144cd",
   "metadata": {},
   "outputs": [
    {
     "data": {
      "text/html": [
       "<div>\n",
       "<style scoped>\n",
       "    .dataframe tbody tr th:only-of-type {\n",
       "        vertical-align: middle;\n",
       "    }\n",
       "\n",
       "    .dataframe tbody tr th {\n",
       "        vertical-align: top;\n",
       "    }\n",
       "\n",
       "    .dataframe thead th {\n",
       "        text-align: right;\n",
       "    }\n",
       "</style>\n",
       "<table border=\"1\" class=\"dataframe\">\n",
       "  <thead>\n",
       "    <tr style=\"text-align: right;\">\n",
       "      <th></th>\n",
       "      <th>educational-num</th>\n",
       "      <th>capital-loss</th>\n",
       "      <th>hours-per-week</th>\n",
       "      <th>fnlwgt</th>\n",
       "      <th>capital-gain</th>\n",
       "      <th>age</th>\n",
       "    </tr>\n",
       "  </thead>\n",
       "  <tbody>\n",
       "    <tr>\n",
       "      <th>0</th>\n",
       "      <td>-1.197259</td>\n",
       "      <td>-0.217127</td>\n",
       "      <td>-0.034087</td>\n",
       "      <td>0.351675</td>\n",
       "      <td>-0.144804</td>\n",
       "      <td>-0.995129</td>\n",
       "    </tr>\n",
       "    <tr>\n",
       "      <th>1</th>\n",
       "      <td>-0.419335</td>\n",
       "      <td>-0.217127</td>\n",
       "      <td>0.772930</td>\n",
       "      <td>-0.945524</td>\n",
       "      <td>-0.144804</td>\n",
       "      <td>-0.046942</td>\n",
       "    </tr>\n",
       "    <tr>\n",
       "      <th>2</th>\n",
       "      <td>0.747550</td>\n",
       "      <td>-0.217127</td>\n",
       "      <td>-0.034087</td>\n",
       "      <td>1.394723</td>\n",
       "      <td>-0.144804</td>\n",
       "      <td>-0.776316</td>\n",
       "    </tr>\n",
       "  </tbody>\n",
       "</table>\n",
       "</div>"
      ],
      "text/plain": [
       "   educational-num  capital-loss  hours-per-week    fnlwgt  capital-gain  \\\n",
       "0        -1.197259     -0.217127       -0.034087  0.351675     -0.144804   \n",
       "1        -0.419335     -0.217127        0.772930 -0.945524     -0.144804   \n",
       "2         0.747550     -0.217127       -0.034087  1.394723     -0.144804   \n",
       "\n",
       "        age  \n",
       "0 -0.995129  \n",
       "1 -0.046942  \n",
       "2 -0.776316  "
      ]
     },
     "execution_count": 408,
     "metadata": {},
     "output_type": "execute_result"
    }
   ],
   "source": [
    "X_num_scaled.head(3)"
   ]
  },
  {
   "cell_type": "code",
   "execution_count": 433,
   "id": "5f164c3c",
   "metadata": {},
   "outputs": [],
   "source": [
    "X_cat = X[list(set(X.columns) - set(X_num_scaled.columns))]"
   ]
  },
  {
   "cell_type": "code",
   "execution_count": 434,
   "id": "c1be7f23",
   "metadata": {},
   "outputs": [],
   "source": [
    "dataset_modif = X_num_scaled"
   ]
  },
  {
   "cell_type": "code",
   "execution_count": 435,
   "id": "58e9e449",
   "metadata": {},
   "outputs": [],
   "source": [
    "# Получаем датасет, признаки в котором выполняют все требования логистической регрессии:"
   ]
  },
  {
   "cell_type": "code",
   "execution_count": 436,
   "id": "1dd0ab18",
   "metadata": {},
   "outputs": [],
   "source": [
    "result_X = X_cat.join(X_num_scaled, how=\"outer\")"
   ]
  },
  {
   "cell_type": "code",
   "execution_count": 437,
   "id": "140aac53",
   "metadata": {},
   "outputs": [
    {
     "data": {
      "text/html": [
       "<div>\n",
       "<style scoped>\n",
       "    .dataframe tbody tr th:only-of-type {\n",
       "        vertical-align: middle;\n",
       "    }\n",
       "\n",
       "    .dataframe tbody tr th {\n",
       "        vertical-align: top;\n",
       "    }\n",
       "\n",
       "    .dataframe thead th {\n",
       "        text-align: right;\n",
       "    }\n",
       "</style>\n",
       "<table border=\"1\" class=\"dataframe\">\n",
       "  <thead>\n",
       "    <tr style=\"text-align: right;\">\n",
       "      <th></th>\n",
       "      <th>occupation_Armed-Forces</th>\n",
       "      <th>native-country_Philippines</th>\n",
       "      <th>education_Bachelors</th>\n",
       "      <th>native-country_Canada</th>\n",
       "      <th>education_HS-grad</th>\n",
       "      <th>occupation_Farming-fishing</th>\n",
       "      <th>marital-status_Separated</th>\n",
       "      <th>marital-status_Widowed</th>\n",
       "      <th>native-country_Greece</th>\n",
       "      <th>occupation_Other-service</th>\n",
       "      <th>...</th>\n",
       "      <th>native-country_Germany</th>\n",
       "      <th>occupation_Adm-clerical</th>\n",
       "      <th>education_5th-6th</th>\n",
       "      <th>education_1st-4th</th>\n",
       "      <th>educational-num</th>\n",
       "      <th>capital-loss</th>\n",
       "      <th>hours-per-week</th>\n",
       "      <th>fnlwgt</th>\n",
       "      <th>capital-gain</th>\n",
       "      <th>age</th>\n",
       "    </tr>\n",
       "  </thead>\n",
       "  <tbody>\n",
       "    <tr>\n",
       "      <th>0</th>\n",
       "      <td>0</td>\n",
       "      <td>0</td>\n",
       "      <td>0</td>\n",
       "      <td>0</td>\n",
       "      <td>0</td>\n",
       "      <td>0</td>\n",
       "      <td>0</td>\n",
       "      <td>0</td>\n",
       "      <td>0</td>\n",
       "      <td>0</td>\n",
       "      <td>...</td>\n",
       "      <td>0</td>\n",
       "      <td>0</td>\n",
       "      <td>0</td>\n",
       "      <td>0</td>\n",
       "      <td>-1.197259</td>\n",
       "      <td>-0.217127</td>\n",
       "      <td>-0.034087</td>\n",
       "      <td>0.351675</td>\n",
       "      <td>-0.144804</td>\n",
       "      <td>-0.995129</td>\n",
       "    </tr>\n",
       "    <tr>\n",
       "      <th>1</th>\n",
       "      <td>0</td>\n",
       "      <td>0</td>\n",
       "      <td>0</td>\n",
       "      <td>0</td>\n",
       "      <td>1</td>\n",
       "      <td>1</td>\n",
       "      <td>0</td>\n",
       "      <td>0</td>\n",
       "      <td>0</td>\n",
       "      <td>0</td>\n",
       "      <td>...</td>\n",
       "      <td>0</td>\n",
       "      <td>0</td>\n",
       "      <td>0</td>\n",
       "      <td>0</td>\n",
       "      <td>-0.419335</td>\n",
       "      <td>-0.217127</td>\n",
       "      <td>0.772930</td>\n",
       "      <td>-0.945524</td>\n",
       "      <td>-0.144804</td>\n",
       "      <td>-0.046942</td>\n",
       "    </tr>\n",
       "    <tr>\n",
       "      <th>2</th>\n",
       "      <td>0</td>\n",
       "      <td>0</td>\n",
       "      <td>0</td>\n",
       "      <td>0</td>\n",
       "      <td>0</td>\n",
       "      <td>0</td>\n",
       "      <td>0</td>\n",
       "      <td>0</td>\n",
       "      <td>0</td>\n",
       "      <td>0</td>\n",
       "      <td>...</td>\n",
       "      <td>0</td>\n",
       "      <td>0</td>\n",
       "      <td>0</td>\n",
       "      <td>0</td>\n",
       "      <td>0.747550</td>\n",
       "      <td>-0.217127</td>\n",
       "      <td>-0.034087</td>\n",
       "      <td>1.394723</td>\n",
       "      <td>-0.144804</td>\n",
       "      <td>-0.776316</td>\n",
       "    </tr>\n",
       "  </tbody>\n",
       "</table>\n",
       "<p>3 rows × 108 columns</p>\n",
       "</div>"
      ],
      "text/plain": [
       "   occupation_Armed-Forces  native-country_Philippines  education_Bachelors  \\\n",
       "0                        0                           0                    0   \n",
       "1                        0                           0                    0   \n",
       "2                        0                           0                    0   \n",
       "\n",
       "   native-country_Canada  education_HS-grad  occupation_Farming-fishing  \\\n",
       "0                      0                  0                           0   \n",
       "1                      0                  1                           1   \n",
       "2                      0                  0                           0   \n",
       "\n",
       "   marital-status_Separated  marital-status_Widowed  native-country_Greece  \\\n",
       "0                         0                       0                      0   \n",
       "1                         0                       0                      0   \n",
       "2                         0                       0                      0   \n",
       "\n",
       "   occupation_Other-service  ...  native-country_Germany  \\\n",
       "0                         0  ...                       0   \n",
       "1                         0  ...                       0   \n",
       "2                         0  ...                       0   \n",
       "\n",
       "   occupation_Adm-clerical  education_5th-6th  education_1st-4th  \\\n",
       "0                        0                  0                  0   \n",
       "1                        0                  0                  0   \n",
       "2                        0                  0                  0   \n",
       "\n",
       "   educational-num  capital-loss  hours-per-week    fnlwgt  capital-gain  \\\n",
       "0        -1.197259     -0.217127       -0.034087  0.351675     -0.144804   \n",
       "1        -0.419335     -0.217127        0.772930 -0.945524     -0.144804   \n",
       "2         0.747550     -0.217127       -0.034087  1.394723     -0.144804   \n",
       "\n",
       "        age  \n",
       "0 -0.995129  \n",
       "1 -0.046942  \n",
       "2 -0.776316  \n",
       "\n",
       "[3 rows x 108 columns]"
      ]
     },
     "execution_count": 437,
     "metadata": {},
     "output_type": "execute_result"
    }
   ],
   "source": [
    "result_X.head(3)"
   ]
  },
  {
   "cell_type": "code",
   "execution_count": 438,
   "id": "a4544f24",
   "metadata": {},
   "outputs": [
    {
     "data": {
      "text/plain": [
       "(48842, 108)"
      ]
     },
     "execution_count": 438,
     "metadata": {},
     "output_type": "execute_result"
    }
   ],
   "source": [
    "result_X.shape"
   ]
  },
  {
   "cell_type": "markdown",
   "id": "f63c6f3e",
   "metadata": {},
   "source": [
    "### Необходимо разделить выборку на тренировочную и тестовую:"
   ]
  },
  {
   "cell_type": "code",
   "execution_count": 439,
   "id": "2e182c8f",
   "metadata": {},
   "outputs": [],
   "source": [
    "from sklearn.model_selection import train_test_split\n",
    "\n",
    "(X_train, X_test,y_train, y_test) = train_test_split(result_X, y, test_size=0.3, random_state=0)"
   ]
  },
  {
   "cell_type": "markdown",
   "id": "82cd5832",
   "metadata": {},
   "source": [
    "### Создадим и обучим модель:"
   ]
  },
  {
   "cell_type": "code",
   "execution_count": 440,
   "id": "5e0ec06a",
   "metadata": {},
   "outputs": [
    {
     "name": "stderr",
     "output_type": "stream",
     "text": [
      "/home/polina/.local/lib/python3.6/site-packages/sklearn/linear_model/_logistic.py:765: ConvergenceWarning: lbfgs failed to converge (status=1):\n",
      "STOP: TOTAL NO. of ITERATIONS REACHED LIMIT.\n",
      "\n",
      "Increase the number of iterations (max_iter) or scale the data as shown in:\n",
      "    https://scikit-learn.org/stable/modules/preprocessing.html\n",
      "Please also refer to the documentation for alternative solver options:\n",
      "    https://scikit-learn.org/stable/modules/linear_model.html#logistic-regression\n",
      "  extra_warning_msg=_LOGISTIC_SOLVER_CONVERGENCE_MSG)\n"
     ]
    }
   ],
   "source": [
    "model = LogisticRegression(random_state=0).fit(X_train, y_train)\n",
    "predictions = model.predict(X_test)\n",
    "predictions_proba = model.predict_proba(X_test)"
   ]
  },
  {
   "cell_type": "markdown",
   "id": "9067f801",
   "metadata": {},
   "source": [
    "###  Оценим точность модели:"
   ]
  },
  {
   "cell_type": "code",
   "execution_count": 441,
   "id": "1e044f46",
   "metadata": {},
   "outputs": [
    {
     "data": {
      "text/plain": [
       "0.8511567597079096"
      ]
     },
     "execution_count": 441,
     "metadata": {},
     "output_type": "execute_result"
    }
   ],
   "source": [
    "model.score(X_test, y_test)"
   ]
  },
  {
   "cell_type": "code",
   "execution_count": 442,
   "id": "2c0e1482",
   "metadata": {},
   "outputs": [],
   "source": [
    "# Попробуем уменьшить кол-во признаков с помощью Principal Component Analysis"
   ]
  },
  {
   "cell_type": "code",
   "execution_count": 443,
   "id": "075da20d",
   "metadata": {},
   "outputs": [
    {
     "name": "stdout",
     "output_type": "stream",
     "text": [
      "(48842, 50)\n"
     ]
    }
   ],
   "source": [
    "from sklearn.decomposition import PCA\n",
    "# pca - keep 99% of variance\n",
    "pca = PCA(0.99)\n",
    "principal_components = pca.fit_transform(result_X)\n",
    "principal_df = pd.DataFrame(data = principal_components)\n",
    "print(principal_df.shape)"
   ]
  },
  {
   "cell_type": "code",
   "execution_count": 444,
   "id": "3291ec8b",
   "metadata": {},
   "outputs": [],
   "source": [
    "from sklearn.model_selection import train_test_split\n",
    "\n",
    "(X_train, X_test,y_train, y_test) = train_test_split(principal_df, y, test_size=0.3, random_state=0)"
   ]
  },
  {
   "cell_type": "code",
   "execution_count": 445,
   "id": "d5266cef",
   "metadata": {},
   "outputs": [],
   "source": [
    "model = LogisticRegression(random_state=0).fit(X_train, y_train)\n",
    "predictions = model.predict(X_test)\n",
    "predictions_proba = model.predict_proba(X_test)"
   ]
  },
  {
   "cell_type": "code",
   "execution_count": 446,
   "id": "cd125ff4",
   "metadata": {},
   "outputs": [
    {
     "data": {
      "text/plain": [
       "0.8512932505289019"
      ]
     },
     "execution_count": 446,
     "metadata": {},
     "output_type": "execute_result"
    }
   ],
   "source": [
    "model.score(X_test, y_test)"
   ]
  },
  {
   "cell_type": "markdown",
   "id": "76266f92",
   "metadata": {},
   "source": [
    "Точность незначительно изменилась. Значит, нужно искать другие способы повышения точности (и обработки признаков)"
   ]
  },
  {
   "cell_type": "markdown",
   "id": "ab4774f1",
   "metadata": {},
   "source": [
    " # SVM"
   ]
  },
  {
   "cell_type": "code",
   "execution_count": 455,
   "id": "4eb34656",
   "metadata": {},
   "outputs": [],
   "source": [
    "from sklearn import svm"
   ]
  },
  {
   "cell_type": "code",
   "execution_count": 457,
   "id": "62bddc1d",
   "metadata": {},
   "outputs": [],
   "source": [
    "model = svm.SVC(random_state=0).fit(X_train, y_train)\n",
    "predictions = model.predict(X_test)\n",
    "#predictions_proba = model.predict_proba(X_test)"
   ]
  },
  {
   "cell_type": "code",
   "execution_count": 458,
   "id": "6d6b88d9",
   "metadata": {},
   "outputs": [
    {
     "data": {
      "text/plain": [
       "0.8573670920630587"
      ]
     },
     "execution_count": 458,
     "metadata": {},
     "output_type": "execute_result"
    }
   ],
   "source": [
    "model.score(X_test, y_test)"
   ]
  },
  {
   "cell_type": "markdown",
   "id": "5c96a6d4",
   "metadata": {},
   "source": [
    "Видим, что на аналогичном датасете точность мало отличается. Нужны другие способы обработки данных, отбора признаков и тд"
   ]
  }
 ],
 "metadata": {
  "kernelspec": {
   "display_name": "Python 3",
   "language": "python",
   "name": "python3"
  },
  "language_info": {
   "codemirror_mode": {
    "name": "ipython",
    "version": 3
   },
   "file_extension": ".py",
   "mimetype": "text/x-python",
   "name": "python",
   "nbconvert_exporter": "python",
   "pygments_lexer": "ipython3",
   "version": "3.6.9"
  }
 },
 "nbformat": 4,
 "nbformat_minor": 5
}
