{
 "cells": [
  {
   "cell_type": "markdown",
   "id": "5bbff2de",
   "metadata": {},
   "source": [
    "# Домашнее задание \"Функции потерь и оптимизация\""
   ]
  },
  {
   "cell_type": "markdown",
   "id": "55f7234b",
   "metadata": {},
   "source": [
    "Задание  \n",
    "Преподаватель: Даниил Корбут, Наталья Баданина, Александр Миленькин, Анастасия Успенская  \n",
    "Прочитать про методы оптимизации для нейронных сетей https://habr.com/post/318970/  \n",
    "Реализовать самостоятельно логистическую регрессию  \n",
    "Обучить ее методом градиентного спуска  \n",
    "Методом nesterov momentum  \n",
    "Методом rmsprop  \n",
    "\n",
    "Дополнительное задание *  \n",
    "В качестве dataset’а взять Iris, оставив 2 класса:  \n",
    "Iris Versicolor  \n",
    "Iris Virginica  "
   ]
  },
  {
   "cell_type": "code",
   "execution_count": 210,
   "id": "f934ae49",
   "metadata": {},
   "outputs": [],
   "source": [
    "from sklearn import datasets\n",
    "import numpy as np\n",
    "from matplotlib import pyplot as plt\n",
    "%matplotlib inline\n",
    "import pandas as pd\n",
    "import numpy as np"
   ]
  },
  {
   "cell_type": "markdown",
   "id": "29e29e7d",
   "metadata": {},
   "source": [
    "### Загрузим датасет iris:"
   ]
  },
  {
   "cell_type": "code",
   "execution_count": 211,
   "id": "3010cc2b",
   "metadata": {},
   "outputs": [],
   "source": [
    "iris = datasets.load_iris()"
   ]
  },
  {
   "cell_type": "code",
   "execution_count": 212,
   "id": "60d2a006",
   "metadata": {},
   "outputs": [
    {
     "name": "stdout",
     "output_type": "stream",
     "text": [
      "['setosa' 'versicolor' 'virginica']\n"
     ]
    }
   ],
   "source": [
    "print(iris.target_names)"
   ]
  },
  {
   "cell_type": "code",
   "execution_count": 213,
   "id": "70edd8c4",
   "metadata": {},
   "outputs": [
    {
     "data": {
      "text/html": [
       "<div>\n",
       "<style scoped>\n",
       "    .dataframe tbody tr th:only-of-type {\n",
       "        vertical-align: middle;\n",
       "    }\n",
       "\n",
       "    .dataframe tbody tr th {\n",
       "        vertical-align: top;\n",
       "    }\n",
       "\n",
       "    .dataframe thead th {\n",
       "        text-align: right;\n",
       "    }\n",
       "</style>\n",
       "<table border=\"1\" class=\"dataframe\">\n",
       "  <thead>\n",
       "    <tr style=\"text-align: right;\">\n",
       "      <th></th>\n",
       "      <th>sepal_length</th>\n",
       "      <th>sepal_width</th>\n",
       "      <th>petal_length</th>\n",
       "      <th>petal_width</th>\n",
       "    </tr>\n",
       "  </thead>\n",
       "  <tbody>\n",
       "    <tr>\n",
       "      <th>0</th>\n",
       "      <td>5.1</td>\n",
       "      <td>3.5</td>\n",
       "      <td>1.4</td>\n",
       "      <td>0.2</td>\n",
       "    </tr>\n",
       "    <tr>\n",
       "      <th>1</th>\n",
       "      <td>4.9</td>\n",
       "      <td>3.0</td>\n",
       "      <td>1.4</td>\n",
       "      <td>0.2</td>\n",
       "    </tr>\n",
       "    <tr>\n",
       "      <th>2</th>\n",
       "      <td>4.7</td>\n",
       "      <td>3.2</td>\n",
       "      <td>1.3</td>\n",
       "      <td>0.2</td>\n",
       "    </tr>\n",
       "    <tr>\n",
       "      <th>3</th>\n",
       "      <td>4.6</td>\n",
       "      <td>3.1</td>\n",
       "      <td>1.5</td>\n",
       "      <td>0.2</td>\n",
       "    </tr>\n",
       "    <tr>\n",
       "      <th>4</th>\n",
       "      <td>5.0</td>\n",
       "      <td>3.6</td>\n",
       "      <td>1.4</td>\n",
       "      <td>0.2</td>\n",
       "    </tr>\n",
       "  </tbody>\n",
       "</table>\n",
       "</div>"
      ],
      "text/plain": [
       "   sepal_length  sepal_width  petal_length  petal_width\n",
       "0           5.1          3.5           1.4          0.2\n",
       "1           4.9          3.0           1.4          0.2\n",
       "2           4.7          3.2           1.3          0.2\n",
       "3           4.6          3.1           1.5          0.2\n",
       "4           5.0          3.6           1.4          0.2"
      ]
     },
     "execution_count": 213,
     "metadata": {},
     "output_type": "execute_result"
    }
   ],
   "source": [
    "data = pd.DataFrame(iris.data)\n",
    "data.columns = ['sepal_length', 'sepal_width', 'petal_length', 'petal_width']\n",
    "data.head()"
   ]
  },
  {
   "cell_type": "code",
   "execution_count": 214,
   "id": "63e3e7de",
   "metadata": {},
   "outputs": [
    {
     "data": {
      "text/html": [
       "<div>\n",
       "<style scoped>\n",
       "    .dataframe tbody tr th:only-of-type {\n",
       "        vertical-align: middle;\n",
       "    }\n",
       "\n",
       "    .dataframe tbody tr th {\n",
       "        vertical-align: top;\n",
       "    }\n",
       "\n",
       "    .dataframe thead th {\n",
       "        text-align: right;\n",
       "    }\n",
       "</style>\n",
       "<table border=\"1\" class=\"dataframe\">\n",
       "  <thead>\n",
       "    <tr style=\"text-align: right;\">\n",
       "      <th></th>\n",
       "      <th>target</th>\n",
       "    </tr>\n",
       "  </thead>\n",
       "  <tbody>\n",
       "    <tr>\n",
       "      <th>0</th>\n",
       "      <td>0</td>\n",
       "    </tr>\n",
       "    <tr>\n",
       "      <th>1</th>\n",
       "      <td>0</td>\n",
       "    </tr>\n",
       "    <tr>\n",
       "      <th>2</th>\n",
       "      <td>0</td>\n",
       "    </tr>\n",
       "    <tr>\n",
       "      <th>3</th>\n",
       "      <td>0</td>\n",
       "    </tr>\n",
       "    <tr>\n",
       "      <th>4</th>\n",
       "      <td>0</td>\n",
       "    </tr>\n",
       "  </tbody>\n",
       "</table>\n",
       "</div>"
      ],
      "text/plain": [
       "   target\n",
       "0       0\n",
       "1       0\n",
       "2       0\n",
       "3       0\n",
       "4       0"
      ]
     },
     "execution_count": 214,
     "metadata": {},
     "output_type": "execute_result"
    }
   ],
   "source": [
    "target = pd.DataFrame(iris.target)\n",
    "#Lets rename the column so that we know that these values refer to the target values\n",
    "target = target.rename(columns = {0: 'target'})\n",
    "target.head()\n",
    "#0 is Iris Setosa\n",
    "#1 is Iris Versicolour\n",
    "#2 is Iris Virginica"
   ]
  },
  {
   "cell_type": "markdown",
   "id": "8042b72e",
   "metadata": {},
   "source": [
    "### Удалим данные для класса Iris Setosa:"
   ]
  },
  {
   "cell_type": "code",
   "execution_count": 215,
   "id": "50152c33",
   "metadata": {},
   "outputs": [],
   "source": [
    "target = target[target['target'] != 0]\n",
    "data = data[data.index.isin(target.index)]"
   ]
  },
  {
   "cell_type": "code",
   "execution_count": 216,
   "id": "8e41d816",
   "metadata": {},
   "outputs": [
    {
     "data": {
      "text/html": [
       "<div>\n",
       "<style scoped>\n",
       "    .dataframe tbody tr th:only-of-type {\n",
       "        vertical-align: middle;\n",
       "    }\n",
       "\n",
       "    .dataframe tbody tr th {\n",
       "        vertical-align: top;\n",
       "    }\n",
       "\n",
       "    .dataframe thead th {\n",
       "        text-align: right;\n",
       "    }\n",
       "</style>\n",
       "<table border=\"1\" class=\"dataframe\">\n",
       "  <thead>\n",
       "    <tr style=\"text-align: right;\">\n",
       "      <th></th>\n",
       "      <th>sepal_length</th>\n",
       "      <th>sepal_width</th>\n",
       "      <th>petal_length</th>\n",
       "      <th>petal_width</th>\n",
       "    </tr>\n",
       "  </thead>\n",
       "  <tbody>\n",
       "    <tr>\n",
       "      <th>50</th>\n",
       "      <td>7.0</td>\n",
       "      <td>3.2</td>\n",
       "      <td>4.7</td>\n",
       "      <td>1.4</td>\n",
       "    </tr>\n",
       "    <tr>\n",
       "      <th>51</th>\n",
       "      <td>6.4</td>\n",
       "      <td>3.2</td>\n",
       "      <td>4.5</td>\n",
       "      <td>1.5</td>\n",
       "    </tr>\n",
       "    <tr>\n",
       "      <th>52</th>\n",
       "      <td>6.9</td>\n",
       "      <td>3.1</td>\n",
       "      <td>4.9</td>\n",
       "      <td>1.5</td>\n",
       "    </tr>\n",
       "  </tbody>\n",
       "</table>\n",
       "</div>"
      ],
      "text/plain": [
       "    sepal_length  sepal_width  petal_length  petal_width\n",
       "50           7.0          3.2           4.7          1.4\n",
       "51           6.4          3.2           4.5          1.5\n",
       "52           6.9          3.1           4.9          1.5"
      ]
     },
     "execution_count": 216,
     "metadata": {},
     "output_type": "execute_result"
    }
   ],
   "source": [
    "data.head(3)"
   ]
  },
  {
   "cell_type": "code",
   "execution_count": 217,
   "id": "db6cb62b",
   "metadata": {},
   "outputs": [],
   "source": [
    "target.loc[target['target'] == 1, 'target'] = 0\n",
    "target.loc[target['target'] == 2, 'target'] = 1"
   ]
  },
  {
   "cell_type": "markdown",
   "id": "9f5e035f",
   "metadata": {},
   "source": [
    "###  Реализуем логистическую регрессию"
   ]
  },
  {
   "cell_type": "code",
   "execution_count": 218,
   "id": "19e69645",
   "metadata": {},
   "outputs": [],
   "source": [
    "# Функция классификации и сигмоидная функция\n",
    "def predict(th, X):\n",
    "    predict = th[0] +th[1] * X[:, 0] + th[2] * X[:, 1] + th[3] * X[:, 2] + th[4] * X[:, 3]\n",
    "    sigm = 1 / (1 + np.exp(-predict))\n",
    "    return sigm"
   ]
  },
  {
   "cell_type": "code",
   "execution_count": 219,
   "id": "53e53ebe",
   "metadata": {},
   "outputs": [],
   "source": [
    "X = data[:].values"
   ]
  },
  {
   "cell_type": "code",
   "execution_count": 220,
   "id": "1ac505a3",
   "metadata": {},
   "outputs": [],
   "source": [
    "Y = target['target'].values"
   ]
  },
  {
   "cell_type": "markdown",
   "id": "9a0f641e",
   "metadata": {},
   "source": [
    "### Обучим методом градиентного спуска:"
   ]
  },
  {
   "cell_type": "code",
   "execution_count": 289,
   "id": "bfaf5f6b",
   "metadata": {},
   "outputs": [],
   "source": [
    "lr = 0.05\n",
    "th = []\n",
    "loss_gradient = []\n",
    "n_epochs = 100"
   ]
  },
  {
   "cell_type": "code",
   "execution_count": 290,
   "id": "34c0cbf2",
   "metadata": {},
   "outputs": [],
   "source": [
    "#th = np.random.normal(size=(5))"
   ]
  },
  {
   "cell_type": "code",
   "execution_count": 291,
   "id": "3bdd23ad",
   "metadata": {},
   "outputs": [],
   "source": [
    "# Зафиксируем случайные значения для использования с другими методами:\n",
    "th = [-0.44394065,  0.01092931, -1.6787832 ,  0.18464182,  0.97016149]"
   ]
  },
  {
   "cell_type": "code",
   "execution_count": 292,
   "id": "3cd79cce",
   "metadata": {},
   "outputs": [],
   "source": [
    "new_th = np.zeros(5)"
   ]
  },
  {
   "cell_type": "code",
   "execution_count": 293,
   "id": "06e5b4d7",
   "metadata": {},
   "outputs": [],
   "source": [
    "for _ in range(n_epochs):\n",
    "    sigm = predict(th, X)\n",
    "    new_th[0] = th[0] - lr * np.sum(sigm - Y)/len(sigm)\n",
    "    for i in range (1,5):\n",
    "        new_th[i] = th[i] - lr * np.sum((sigm - Y) * X[:, i-1])/len(sigm)\n",
    "    loss_value = - np.mean(np.log(sigm) * Y + np.log(1 - sigm) * (1 - Y))\n",
    "    th = new_th\n",
    "    loss_gradient.append(loss_value)\n"
   ]
  },
  {
   "cell_type": "code",
   "execution_count": 294,
   "id": "62b263b3",
   "metadata": {},
   "outputs": [
    {
     "data": {
      "text/plain": [
       "5.0"
      ]
     },
     "execution_count": 294,
     "metadata": {},
     "output_type": "execute_result"
    }
   ],
   "source": [
    "# Посчитаем количество ошибок:\n",
    "np.sum(np.abs(np.around(predict(th, X)) - Y))"
   ]
  },
  {
   "cell_type": "markdown",
   "id": "a2ed3f94",
   "metadata": {},
   "source": [
    "### Обучим методом Nesterov momentum:"
   ]
  },
  {
   "cell_type": "code",
   "execution_count": 323,
   "id": "78f1144b",
   "metadata": {},
   "outputs": [],
   "source": [
    "lr = 0.05\n",
    "gamma = 0.9\n",
    "loss_nest_moment = []"
   ]
  },
  {
   "cell_type": "code",
   "execution_count": 324,
   "id": "9bbf84e1",
   "metadata": {},
   "outputs": [],
   "source": [
    "th = [-0.44394065,  0.01092931, -1.6787832 ,  0.18464182,  0.97016149]"
   ]
  },
  {
   "cell_type": "code",
   "execution_count": 325,
   "id": "7f252365",
   "metadata": {},
   "outputs": [],
   "source": [
    "v = np.zeros(5)\n",
    "new_v = np.zeros(5)"
   ]
  },
  {
   "cell_type": "code",
   "execution_count": 326,
   "id": "f0efcd47",
   "metadata": {},
   "outputs": [],
   "source": [
    "for _ in range(n_epochs):\n",
    "    sigm = predict(th, X)\n",
    "    loss_value = - np.mean(np.log(sigm) * Y + np.log(1 - sigm) * (1 - Y))\n",
    "    loss_nest_moment.append(loss_value)\n",
    "    \n",
    "    sigm = predict(th - gamma * v, X)\n",
    "    \n",
    "    new_v[0] = (gamma * v[0] + lr * np.sum(sigm - Y))/len(sigm)\n",
    "    for i in range (1,5):\n",
    "        new_v[i] = (gamma * v[i] + lr * np.sum((sigm - Y) * X[:, i-1]))/len(sigm)\n",
    "\n",
    "    th -= new_v\n",
    "    v = new_v"
   ]
  },
  {
   "cell_type": "code",
   "execution_count": 327,
   "id": "a23258af",
   "metadata": {},
   "outputs": [
    {
     "data": {
      "text/plain": [
       "9.0"
      ]
     },
     "execution_count": 327,
     "metadata": {},
     "output_type": "execute_result"
    }
   ],
   "source": [
    "# Посчитаем количество ошибок:\n",
    "np.sum(np.abs(np.around(predict(th, X)) - Y))"
   ]
  },
  {
   "cell_type": "markdown",
   "id": "89645537",
   "metadata": {},
   "source": [
    "### Обучим методом rmsprop:"
   ]
  },
  {
   "cell_type": "code",
   "execution_count": 328,
   "id": "29a15820",
   "metadata": {},
   "outputs": [],
   "source": [
    "lr = 0.05\n",
    "th = [-0.44394065,  0.01092931, -1.6787832 ,  0.18464182,  0.97016149]\n",
    "loss_rmsprop = []\n",
    "gamma = 0.99\n",
    "eps = 1e-8"
   ]
  },
  {
   "cell_type": "code",
   "execution_count": 329,
   "id": "a716d630",
   "metadata": {},
   "outputs": [],
   "source": [
    "sq_grad = np.zeros(5)\n",
    "grad = np.zeros(5)"
   ]
  },
  {
   "cell_type": "code",
   "execution_count": 330,
   "id": "65b35786",
   "metadata": {},
   "outputs": [],
   "source": [
    "for _ in range(n_epochs):\n",
    "    sigm = predict(th, X)\n",
    "    loss_value = - np.mean(np.log(sigm) * Y + np.log(1 - sigm) * (1 - Y))\n",
    "    loss_rmsprop.append(loss_value)\n",
    "    \n",
    "    \n",
    "    grad[0] = np.sum(sigm - Y)/len(sigm)\n",
    "    for i in range (1,5):\n",
    "        grad[i] = np.sum((sigm - Y) * X[:, i-1])/len(sigm)\n",
    "    \n",
    "    sq_grad = gamma * sq_grad + (1 - gamma)  * grad ** 2 \n",
    "    th -= lr * grad / np.sqrt(sq_grad + eps)\n"
   ]
  },
  {
   "cell_type": "code",
   "execution_count": 331,
   "id": "61194ba8",
   "metadata": {},
   "outputs": [
    {
     "data": {
      "text/plain": [
       "4.0"
      ]
     },
     "execution_count": 331,
     "metadata": {},
     "output_type": "execute_result"
    }
   ],
   "source": [
    "# Посчитаем количество ошибок:\n",
    "np.sum(np.abs(np.around(predict(th, X)) - Y))"
   ]
  },
  {
   "cell_type": "markdown",
   "id": "14a36ce3",
   "metadata": {},
   "source": [
    "### Сравнение скорости убывания ошибки"
   ]
  },
  {
   "cell_type": "code",
   "execution_count": 332,
   "id": "1a474214",
   "metadata": {},
   "outputs": [
    {
     "data": {
      "image/png": "[encoded data removed]",
      "text/plain": [
       "<Figure size 432x288 with 1 Axes>"
      ]
     },
     "metadata": {
      "needs_background": "light"
     },
     "output_type": "display_data"
    }
   ],
   "source": [
    "plt.plot(loss_gradient, label='Gradient method loss' )\n",
    "plt.plot(loss_nest_moment, label='Nesterov momentum method loss' )\n",
    "plt.plot(loss_rmsprop, label='RMSPROP method loss' )\n",
    "plt.xlabel('Step number')\n",
    "plt.ylabel('Loss value')\n",
    "plt.legend()\n",
    "plt.show()"
   ]
  },
  {
   "cell_type": "code",
   "execution_count": null,
   "id": "46ae4ed3",
   "metadata": {},
   "outputs": [],
   "source": []
  }
 ],
 "metadata": {
  "kernelspec": {
   "display_name": "Python 3",
   "language": "python",
   "name": "python3"
  },
  "language_info": {
   "codemirror_mode": {
    "name": "ipython",
    "version": 3
   },
   "file_extension": ".py",
   "mimetype": "text/x-python",
   "name": "python",
   "nbconvert_exporter": "python",
   "pygments_lexer": "ipython3",
   "version": "3.6.9"
  }
 },
 "nbformat": 4,
 "nbformat_minor": 5
}
