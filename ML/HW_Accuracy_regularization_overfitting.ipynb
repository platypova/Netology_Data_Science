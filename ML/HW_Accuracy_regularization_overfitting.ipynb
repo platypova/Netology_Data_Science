{
 "cells": [
  {
   "cell_type": "markdown",
   "id": "e10ed757",
   "metadata": {},
   "source": [
    "# Домашняя работа \"Оценка точности модели, переобучение, регуляризация\""
   ]
  },
  {
   "cell_type": "markdown",
   "id": "7c38019b",
   "metadata": {},
   "source": [
    "Задание:   \n",
    "Посчитать tpr и fpr в ноутбуке к лекции.  \n",
    "Убедиться, что график ROC AUC получается таким же, как и штатными средствами.  \n",
    "Построить график Precision - Recall на этих же данных.  "
   ]
  },
  {
   "cell_type": "markdown",
   "id": "11792e96",
   "metadata": {},
   "source": [
    "### 1. Посчитать tpr и fpr в ноутбуке к лекции."
   ]
  },
  {
   "cell_type": "code",
   "execution_count": 313,
   "id": "5146f5df",
   "metadata": {},
   "outputs": [],
   "source": [
    "import pandas as pd\n",
    "import matplotlib.pyplot as plt\n",
    "import numpy as np"
   ]
  },
  {
   "cell_type": "code",
   "execution_count": 314,
   "id": "6efab2eb",
   "metadata": {},
   "outputs": [
    {
     "data": {
      "text/html": [
       "<div>\n",
       "<style scoped>\n",
       "    .dataframe tbody tr th:only-of-type {\n",
       "        vertical-align: middle;\n",
       "    }\n",
       "\n",
       "    .dataframe tbody tr th {\n",
       "        vertical-align: top;\n",
       "    }\n",
       "\n",
       "    .dataframe thead th {\n",
       "        text-align: right;\n",
       "    }\n",
       "</style>\n",
       "<table border=\"1\" class=\"dataframe\">\n",
       "  <thead>\n",
       "    <tr style=\"text-align: right;\">\n",
       "      <th></th>\n",
       "      <th>rate_marriage</th>\n",
       "      <th>age</th>\n",
       "      <th>yrs_married</th>\n",
       "      <th>children</th>\n",
       "      <th>religious</th>\n",
       "      <th>educ</th>\n",
       "      <th>occupation</th>\n",
       "      <th>occupation_husb</th>\n",
       "      <th>affair</th>\n",
       "    </tr>\n",
       "  </thead>\n",
       "  <tbody>\n",
       "    <tr>\n",
       "      <th>0</th>\n",
       "      <td>3.0</td>\n",
       "      <td>32.0</td>\n",
       "      <td>9.0</td>\n",
       "      <td>3.0</td>\n",
       "      <td>3.0</td>\n",
       "      <td>17.0</td>\n",
       "      <td>2.0</td>\n",
       "      <td>5.0</td>\n",
       "      <td>1</td>\n",
       "    </tr>\n",
       "    <tr>\n",
       "      <th>1</th>\n",
       "      <td>3.0</td>\n",
       "      <td>27.0</td>\n",
       "      <td>13.0</td>\n",
       "      <td>3.0</td>\n",
       "      <td>1.0</td>\n",
       "      <td>14.0</td>\n",
       "      <td>3.0</td>\n",
       "      <td>4.0</td>\n",
       "      <td>1</td>\n",
       "    </tr>\n",
       "    <tr>\n",
       "      <th>2</th>\n",
       "      <td>4.0</td>\n",
       "      <td>22.0</td>\n",
       "      <td>2.5</td>\n",
       "      <td>0.0</td>\n",
       "      <td>1.0</td>\n",
       "      <td>16.0</td>\n",
       "      <td>3.0</td>\n",
       "      <td>5.0</td>\n",
       "      <td>1</td>\n",
       "    </tr>\n",
       "    <tr>\n",
       "      <th>3</th>\n",
       "      <td>4.0</td>\n",
       "      <td>37.0</td>\n",
       "      <td>16.5</td>\n",
       "      <td>4.0</td>\n",
       "      <td>3.0</td>\n",
       "      <td>16.0</td>\n",
       "      <td>5.0</td>\n",
       "      <td>5.0</td>\n",
       "      <td>1</td>\n",
       "    </tr>\n",
       "    <tr>\n",
       "      <th>4</th>\n",
       "      <td>5.0</td>\n",
       "      <td>27.0</td>\n",
       "      <td>9.0</td>\n",
       "      <td>1.0</td>\n",
       "      <td>1.0</td>\n",
       "      <td>14.0</td>\n",
       "      <td>3.0</td>\n",
       "      <td>4.0</td>\n",
       "      <td>1</td>\n",
       "    </tr>\n",
       "  </tbody>\n",
       "</table>\n",
       "</div>"
      ],
      "text/plain": [
       "   rate_marriage   age  yrs_married  children  religious  educ  occupation  \\\n",
       "0            3.0  32.0          9.0       3.0        3.0  17.0         2.0   \n",
       "1            3.0  27.0         13.0       3.0        1.0  14.0         3.0   \n",
       "2            4.0  22.0          2.5       0.0        1.0  16.0         3.0   \n",
       "3            4.0  37.0         16.5       4.0        3.0  16.0         5.0   \n",
       "4            5.0  27.0          9.0       1.0        1.0  14.0         3.0   \n",
       "\n",
       "   occupation_husb  affair  \n",
       "0              5.0       1  \n",
       "1              4.0       1  \n",
       "2              5.0       1  \n",
       "3              5.0       1  \n",
       "4              4.0       1  "
      ]
     },
     "execution_count": 314,
     "metadata": {},
     "output_type": "execute_result"
    }
   ],
   "source": [
    "data = pd.read_csv('affair_data.csv')\n",
    "data.head()"
   ]
  },
  {
   "cell_type": "code",
   "execution_count": 315,
   "id": "d60e2a1a",
   "metadata": {},
   "outputs": [],
   "source": [
    "from sklearn.linear_model import LogisticRegression\n",
    "from sklearn.model_selection import train_test_split"
   ]
  },
  {
   "cell_type": "markdown",
   "id": "2cf3cfb0",
   "metadata": {},
   "source": [
    "Формируем набор признаков и целевую переменную:"
   ]
  },
  {
   "cell_type": "code",
   "execution_count": 316,
   "id": "9cbea9f6",
   "metadata": {},
   "outputs": [
    {
     "data": {
      "text/html": [
       "<div>\n",
       "<style scoped>\n",
       "    .dataframe tbody tr th:only-of-type {\n",
       "        vertical-align: middle;\n",
       "    }\n",
       "\n",
       "    .dataframe tbody tr th {\n",
       "        vertical-align: top;\n",
       "    }\n",
       "\n",
       "    .dataframe thead th {\n",
       "        text-align: right;\n",
       "    }\n",
       "</style>\n",
       "<table border=\"1\" class=\"dataframe\">\n",
       "  <thead>\n",
       "    <tr style=\"text-align: right;\">\n",
       "      <th></th>\n",
       "      <th>rate_marriage</th>\n",
       "      <th>age</th>\n",
       "      <th>yrs_married</th>\n",
       "      <th>children</th>\n",
       "      <th>religious</th>\n",
       "      <th>educ</th>\n",
       "      <th>occupation</th>\n",
       "      <th>occupation_husb</th>\n",
       "    </tr>\n",
       "  </thead>\n",
       "  <tbody>\n",
       "    <tr>\n",
       "      <th>0</th>\n",
       "      <td>3.0</td>\n",
       "      <td>32.0</td>\n",
       "      <td>9.0</td>\n",
       "      <td>3.0</td>\n",
       "      <td>3.0</td>\n",
       "      <td>17.0</td>\n",
       "      <td>2.0</td>\n",
       "      <td>5.0</td>\n",
       "    </tr>\n",
       "    <tr>\n",
       "      <th>1</th>\n",
       "      <td>3.0</td>\n",
       "      <td>27.0</td>\n",
       "      <td>13.0</td>\n",
       "      <td>3.0</td>\n",
       "      <td>1.0</td>\n",
       "      <td>14.0</td>\n",
       "      <td>3.0</td>\n",
       "      <td>4.0</td>\n",
       "    </tr>\n",
       "  </tbody>\n",
       "</table>\n",
       "</div>"
      ],
      "text/plain": [
       "   rate_marriage   age  yrs_married  children  religious  educ  occupation  \\\n",
       "0            3.0  32.0          9.0       3.0        3.0  17.0         2.0   \n",
       "1            3.0  27.0         13.0       3.0        1.0  14.0         3.0   \n",
       "\n",
       "   occupation_husb  \n",
       "0              5.0  \n",
       "1              4.0  "
      ]
     },
     "execution_count": 316,
     "metadata": {},
     "output_type": "execute_result"
    }
   ],
   "source": [
    "X = data[data.columns[:-1]]\n",
    "X.head(2)"
   ]
  },
  {
   "cell_type": "code",
   "execution_count": 317,
   "id": "375935e8",
   "metadata": {},
   "outputs": [],
   "source": [
    "Y = data['affair']"
   ]
  },
  {
   "cell_type": "code",
   "execution_count": 318,
   "id": "64acbcf1",
   "metadata": {},
   "outputs": [],
   "source": [
    "model = LogisticRegression()"
   ]
  },
  {
   "cell_type": "code",
   "execution_count": 319,
   "id": "73dfd920",
   "metadata": {},
   "outputs": [
    {
     "data": {
      "text/plain": [
       "LogisticRegression()"
      ]
     },
     "execution_count": 319,
     "metadata": {},
     "output_type": "execute_result"
    }
   ],
   "source": [
    "X_train, X_test, Y_train, Y_test = train_test_split(X, Y, test_size = 0.3, random_state = 0)\n",
    "model.fit(X_train, Y_train)"
   ]
  },
  {
   "cell_type": "code",
   "execution_count": 320,
   "id": "a6f3215d",
   "metadata": {},
   "outputs": [],
   "source": [
    "predictions = model.predict_proba(X_test)"
   ]
  },
  {
   "cell_type": "code",
   "execution_count": 344,
   "id": "03f3fefa",
   "metadata": {},
   "outputs": [],
   "source": [
    "thresh_gen = np.arange(1.999,0,-0.001)\n",
    "tpr_gen = []\n",
    "fpr_gen = []\n",
    "precision = []\n",
    "recall = []"
   ]
  },
  {
   "cell_type": "code",
   "execution_count": 345,
   "id": "0641a7e0",
   "metadata": {},
   "outputs": [],
   "source": [
    "tp = 0 # True positive\n",
    "fp = 0 # False positive\n",
    "fn = 0 # False negative\n",
    "tn = 0 # True negative\n",
    "\n",
    "predictions = model.predict_proba(X_test)\n",
    "\n",
    "for thr in thresh_gen:\n",
    "    tp = 0 # True positive\n",
    "    fp = 0 # False positive\n",
    "    fn = 0 # False negative\n",
    "    tn = 0 # True negative\n",
    "    for predicted_prob, actual in zip(predictions[:, 1],Y_test):    \n",
    "        if predicted_prob >= thr:\n",
    "            predicted = 1\n",
    "        else:\n",
    "            predicted = 0\n",
    "\n",
    "        if predicted == 1:\n",
    "            if actual == 1:\n",
    "                tp += 1\n",
    "            else:\n",
    "                fp += 1\n",
    "\n",
    "        else:\n",
    "            if actual == 1:\n",
    "                fn += 1\n",
    "            else:\n",
    "                tn += 1\n",
    "    tpr = tp/(tp+fn)\n",
    "    fpr = fp/(fp+tn)\n",
    "    if (tp+fp)!=0 and (tp+fn)!=0:\n",
    "        precision.append(tp/(tp+fp))\n",
    "        recall.append(tp/(tp+fn))\n",
    "    tpr_gen.append(tpr)\n",
    "    fpr_gen.append(fpr)"
   ]
  },
  {
   "cell_type": "code",
   "execution_count": 346,
   "id": "6727f1b9",
   "metadata": {},
   "outputs": [
    {
     "data": {
      "text/plain": [
       "array([[0.37442486, 0.62557514],\n",
       "       [0.92523133, 0.07476867],\n",
       "       [0.68436963, 0.31563037],\n",
       "       ...,\n",
       "       [0.54059867, 0.45940133],\n",
       "       [0.79790212, 0.20209788],\n",
       "       [0.77284695, 0.22715305]])"
      ]
     },
     "execution_count": 346,
     "metadata": {},
     "output_type": "execute_result"
    }
   ],
   "source": [
    "predictions"
   ]
  },
  {
   "cell_type": "markdown",
   "id": "34d9508e",
   "metadata": {},
   "source": [
    "### tpr"
   ]
  },
  {
   "cell_type": "code",
   "execution_count": 347,
   "id": "d29d7774",
   "metadata": {},
   "outputs": [
    {
     "data": {
      "text/plain": [
       "1.0"
      ]
     },
     "execution_count": 347,
     "metadata": {},
     "output_type": "execute_result"
    }
   ],
   "source": [
    "max(tpr_gen)"
   ]
  },
  {
   "cell_type": "code",
   "execution_count": 348,
   "id": "9e343099",
   "metadata": {},
   "outputs": [
    {
     "data": {
      "text/plain": [
       "0.0"
      ]
     },
     "execution_count": 348,
     "metadata": {},
     "output_type": "execute_result"
    }
   ],
   "source": [
    "min(tpr_gen)"
   ]
  },
  {
   "cell_type": "markdown",
   "id": "82f61a11",
   "metadata": {},
   "source": [
    "### fpr"
   ]
  },
  {
   "cell_type": "code",
   "execution_count": 349,
   "id": "097d603b",
   "metadata": {},
   "outputs": [
    {
     "data": {
      "text/plain": [
       "1.0"
      ]
     },
     "execution_count": 349,
     "metadata": {},
     "output_type": "execute_result"
    }
   ],
   "source": [
    "max(fpr_gen)"
   ]
  },
  {
   "cell_type": "code",
   "execution_count": 350,
   "id": "1238d961",
   "metadata": {},
   "outputs": [
    {
     "data": {
      "text/plain": [
       "0.0"
      ]
     },
     "execution_count": 350,
     "metadata": {},
     "output_type": "execute_result"
    }
   ],
   "source": [
    "min(fpr_gen)"
   ]
  },
  {
   "cell_type": "markdown",
   "id": "af5e5c46",
   "metadata": {},
   "source": [
    "### 2. Убедиться, что график ROC AUC получается таким же, как и штатными средствами.  "
   ]
  },
  {
   "cell_type": "code",
   "execution_count": 351,
   "id": "0b6ee811",
   "metadata": {},
   "outputs": [],
   "source": [
    "# посчитаем ROC-кривую (Receiver Operating Characteristic)\n",
    "from sklearn.metrics import roc_curve"
   ]
  },
  {
   "cell_type": "code",
   "execution_count": 352,
   "id": "a0e9b5df",
   "metadata": {},
   "outputs": [],
   "source": [
    "# получаем значения false и true positive rate для различных значений порога\n",
    "fpr_calc, tpr_calc, thres = roc_curve( Y_test, predictions[:, 1] )"
   ]
  },
  {
   "cell_type": "code",
   "execution_count": 353,
   "id": "3b6be158",
   "metadata": {},
   "outputs": [
    {
     "data": {
      "text/plain": [
       "[<matplotlib.lines.Line2D at 0x7f5247cb3240>]"
      ]
     },
     "execution_count": 353,
     "metadata": {},
     "output_type": "execute_result"
    },
    {
     "data": {
      "image/png": "[encoded data removed]",
      "text/plain": [
       "<Figure size 432x288 with 1 Axes>"
      ]
     },
     "metadata": {
      "needs_background": "light"
     },
     "output_type": "display_data"
    }
   ],
   "source": [
    "plt.plot(fpr_calc, tpr_calc)\n",
    "plt.plot(fpr_gen,tpr_gen)"
   ]
  },
  {
   "cell_type": "markdown",
   "id": "daf0423b",
   "metadata": {},
   "source": [
    "### 3. Построить график Precision - Recall на этих же данных."
   ]
  },
  {
   "cell_type": "code",
   "execution_count": 354,
   "id": "14378061",
   "metadata": {},
   "outputs": [
    {
     "data": {
      "text/plain": [
       "[<matplotlib.lines.Line2D at 0x7f5247bab400>]"
      ]
     },
     "execution_count": 354,
     "metadata": {},
     "output_type": "execute_result"
    },
    {
     "data": {
      "image/png": "[encoded data removed]",
      "text/plain": [
       "<Figure size 432x288 with 1 Axes>"
      ]
     },
     "metadata": {
      "needs_background": "light"
     },
     "output_type": "display_data"
    }
   ],
   "source": [
    "plt.plot(precision, recall)"
   ]
  },
  {
   "cell_type": "code",
   "execution_count": null,
   "id": "f2dc8a8f",
   "metadata": {},
   "outputs": [],
   "source": []
  }
 ],
 "metadata": {
  "kernelspec": {
   "display_name": "Python 3",
   "language": "python",
   "name": "python3"
  },
  "language_info": {
   "codemirror_mode": {
    "name": "ipython",
    "version": 3
   },
   "file_extension": ".py",
   "mimetype": "text/x-python",
   "name": "python",
   "nbconvert_exporter": "python",
   "pygments_lexer": "ipython3",
   "version": "3.6.9"
  }
 },
 "nbformat": 4,
 "nbformat_minor": 5
}
