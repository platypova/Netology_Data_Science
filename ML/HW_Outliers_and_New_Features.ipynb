{
 "cells": [
  {
   "cell_type": "markdown",
   "id": "32446719",
   "metadata": {},
   "source": [
    "# Домашнее задание к лекции \"Поиск выбросов и генерация новых признаков\" обновленное"
   ]
  },
  {
   "cell_type": "markdown",
   "id": "7893de07",
   "metadata": {},
   "source": [
    "Задачи:  \n",
    "\n",
    "Взять датасет  \n",
    "\n",
    "Провести EDA с упором на пропущенные значения и выбросы  \n",
    "Обучить простую модель несколько раз (см. ниже) и сравнить качество.  \n",
    "При обучении модели постепенно фильтровать выбросы и заполнять пропуски. При фильтрации выбросов и заполнении пропусков при необходимости обосновывать выбранные методы.  \n",
    "Сгенерировать не менее новых 5 признаков (генерация с помощью PolynomialFeatures считать как один признак) и обучить модель после каждого добавления нового признака для контроля качества.  \n",
    "Построить изменения качества график качества модели на каждом шаге (после обработки каждого признака и после каждого добавления нового признака)  \n",
    "Используйте столбцы  \n",
    "[‘full_sq’, ‘life_sq’, ‘floor’, ‘max_floor’, ‘material’, ‘build_year’, ‘num_room’, ‘kitch_sq’,\n",
    "‘state’, ‘area_m’, ‘raion_popul’, ‘green_zone_part’, ‘indust_part’, ‘preschool_education_centers_raion’,\n",
    "‘school_education_centers_raion’, ‘hospital_beds_raion’, ‘healthcare_centers_raion’, ‘sport_objects_raion’,\n",
    "‘additional_education_raion’, ‘shopping_centers_raion’, ‘office_raion’, ‘ID_metro’, ‘metro_min_walk’, ‘kindergarten_km’,\n",
    "‘school_km’, ‘park_km’, ‘green_zone_km’, ‘industrial_km’, ‘water_km’, ‘mkad_km’, ‘ttk_km’, ‘sadovoe_km’, ‘bulvar_ring_km’,\n",
    "‘kremlin_km’, ‘ts_km’, ‘big_market_km’,‘market_shop_km’, ‘fitness_km’, ‘university_km’, ‘workplaces_km’, ‘shopping_centers_km’,\n",
    "‘office_km’, ‘additional_education_raion’, ‘preschool_km’, ‘price_doc’"
   ]
  },
  {
   "cell_type": "code",
   "execution_count": null,
   "id": "f546a0f4",
   "metadata": {},
   "outputs": [],
   "source": []
  },
  {
   "cell_type": "code",
   "execution_count": null,
   "id": "4579567e",
   "metadata": {},
   "outputs": [],
   "source": []
  },
  {
   "cell_type": "code",
   "execution_count": null,
   "id": "957f7774",
   "metadata": {},
   "outputs": [],
   "source": []
  },
  {
   "cell_type": "code",
   "execution_count": null,
   "id": "10e9b1b7",
   "metadata": {},
   "outputs": [],
   "source": []
  },
  {
   "cell_type": "code",
   "execution_count": null,
   "id": "17932bb5",
   "metadata": {},
   "outputs": [],
   "source": []
  }
 ],
 "metadata": {
  "kernelspec": {
   "display_name": "Python 3",
   "language": "python",
   "name": "python3"
  },
  "language_info": {
   "codemirror_mode": {
    "name": "ipython",
    "version": 3
   },
   "file_extension": ".py",
   "mimetype": "text/x-python",
   "name": "python",
   "nbconvert_exporter": "python",
   "pygments_lexer": "ipython3",
   "version": "3.6.9"
  }
 },
 "nbformat": 4,
 "nbformat_minor": 5
}
