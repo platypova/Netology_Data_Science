{
 "cells": [
  {
   "cell_type": "markdown",
   "id": "97726244",
   "metadata": {},
   "source": [
    "# Задание"
   ]
  },
  {
   "cell_type": "markdown",
   "id": "9cea2c3f",
   "metadata": {},
   "source": [
    "Необходимо запустить практическую часть занятия, и посмотреть самому то, о чём говорили на лекции.  \n",
    "По образу практики, попробуйте создать искусственный датасет с лишними столбцами.  \n",
    "Целевую метку, при правильной обработке данных, формируйте таким образом, чтобы без затруднений её смогла описать линейная модель.  \n",
    "Ориентируйтесь на то, что было показано во время занятия, и каждый шаг описывайте в markdown.  \n",
    "Здесь важно видеть ваш ход мысли. Не бойтесь ошибиться или написать не то.\n",
    "Данное задание не имеет какого-то “правильного” решения.   \n",
    "Цель - достичь базового понимания проблемы. Чем больше вы фантазируете, тем лучше :) \n",
    "Тем не менее, старайтесь представить те ситуации, которые по-вашему мнению могли бы быть в реальных данных.   Успеха!  "
   ]
  },
  {
   "cell_type": "code",
   "execution_count": 211,
   "id": "ff27d1e0",
   "metadata": {},
   "outputs": [],
   "source": [
    "import numpy as np\n",
    "import pandas as pd\n",
    "import seaborn as sns\n",
    "\n",
    "from sklearn.linear_model import LinearRegression"
   ]
  },
  {
   "cell_type": "markdown",
   "id": "489f95c2",
   "metadata": {},
   "source": [
    "### Создадим датасет"
   ]
  },
  {
   "cell_type": "code",
   "execution_count": 214,
   "id": "e50b6e5b",
   "metadata": {},
   "outputs": [
    {
     "data": {
      "text/html": [
       "<div>\n",
       "<style scoped>\n",
       "    .dataframe tbody tr th:only-of-type {\n",
       "        vertical-align: middle;\n",
       "    }\n",
       "\n",
       "    .dataframe tbody tr th {\n",
       "        vertical-align: top;\n",
       "    }\n",
       "\n",
       "    .dataframe thead th {\n",
       "        text-align: right;\n",
       "    }\n",
       "</style>\n",
       "<table border=\"1\" class=\"dataframe\">\n",
       "  <thead>\n",
       "    <tr style=\"text-align: right;\">\n",
       "      <th></th>\n",
       "      <th>breed_id</th>\n",
       "      <th>operations_through_life</th>\n",
       "      <th>number_of_owners</th>\n",
       "      <th>had_kittens</th>\n",
       "      <th>cat_age</th>\n",
       "    </tr>\n",
       "  </thead>\n",
       "  <tbody>\n",
       "    <tr>\n",
       "      <th>0</th>\n",
       "      <td>13</td>\n",
       "      <td>1</td>\n",
       "      <td>3</td>\n",
       "      <td>0</td>\n",
       "      <td>4</td>\n",
       "    </tr>\n",
       "    <tr>\n",
       "      <th>1</th>\n",
       "      <td>15</td>\n",
       "      <td>2</td>\n",
       "      <td>1</td>\n",
       "      <td>0</td>\n",
       "      <td>19</td>\n",
       "    </tr>\n",
       "    <tr>\n",
       "      <th>2</th>\n",
       "      <td>14</td>\n",
       "      <td>3</td>\n",
       "      <td>1</td>\n",
       "      <td>1</td>\n",
       "      <td>9</td>\n",
       "    </tr>\n",
       "    <tr>\n",
       "      <th>3</th>\n",
       "      <td>17</td>\n",
       "      <td>5</td>\n",
       "      <td>2</td>\n",
       "      <td>0</td>\n",
       "      <td>15</td>\n",
       "    </tr>\n",
       "    <tr>\n",
       "      <th>4</th>\n",
       "      <td>14</td>\n",
       "      <td>2</td>\n",
       "      <td>2</td>\n",
       "      <td>1</td>\n",
       "      <td>6</td>\n",
       "    </tr>\n",
       "  </tbody>\n",
       "</table>\n",
       "</div>"
      ],
      "text/plain": [
       "   breed_id  operations_through_life  number_of_owners  had_kittens  cat_age\n",
       "0        13                        1                 3            0        4\n",
       "1        15                        2                 1            0       19\n",
       "2        14                        3                 1            1        9\n",
       "3        17                        5                 2            0       15\n",
       "4        14                        2                 2            1        6"
      ]
     },
     "execution_count": 214,
     "metadata": {},
     "output_type": "execute_result"
    }
   ],
   "source": [
    "# Создаём датасет про кошек\n",
    "n_samples = 1000\n",
    "\n",
    "breed_id = np.random.choice(20, n_samples) # id породы\n",
    "operations_through_life = np.random.choice(5, n_samples)+1 # операций за жизнь\n",
    "number_of_owners =  np.random.choice((1,2,3), n_samples) # количество хозяев за жизнь\n",
    "had_kittens = np.random.choice(2, n_samples) # были ли котята\n",
    "\n",
    "cat_age = np.random.choice(range(1,21), n_samples)+3 # сколько кошка прожила\n",
    "\n",
    "data = pd.DataFrame({'breed_id':breed_id,'operations_through_life': operations_through_life, 'number_of_owners': number_of_owners, 'had_kittens': had_kittens, 'cat_age': cat_age})\n",
    "data.head(5)"
   ]
  },
  {
   "cell_type": "markdown",
   "id": "9ab43f00",
   "metadata": {},
   "source": [
    "### Применим модель линейной регрессии"
   ]
  },
  {
   "cell_type": "code",
   "execution_count": 215,
   "id": "108b5daa",
   "metadata": {},
   "outputs": [
    {
     "name": "stdout",
     "output_type": "stream",
     "text": [
      "Weights: [ 0.01346302 -0.09986858 -0.01620007  0.00724702]\n",
      "Bias: 13.898645940875502\n",
      "Error: 4.931064917228037\n"
     ]
    }
   ],
   "source": [
    "from sklearn.metrics import mean_absolute_error\n",
    "\n",
    "X = data[['breed_id', 'operations_through_life', 'number_of_owners','had_kittens']]\n",
    "y = data['cat_age']\n",
    "reg = LinearRegression().fit(X, y)\n",
    "print('Weights: {}'.format(reg.coef_))\n",
    "print('Bias: {}'.format(reg.intercept_))\n",
    "\n",
    "pred_values = reg.predict(data[['breed_id', 'operations_through_life', 'number_of_owners','had_kittens']])\n",
    "print('Error: {}'.format(mean_absolute_error(pred_values, y)))"
   ]
  },
  {
   "cell_type": "markdown",
   "id": "fb26ee90",
   "metadata": {},
   "source": [
    "Видим большую ошибку Error и Bias. Постараемся их уменьшть"
   ]
  },
  {
   "cell_type": "markdown",
   "id": "f99fd684",
   "metadata": {},
   "source": [
    "1. Что если id породы ухудшает классификацию? Можно попробовать масштабировать этот признак."
   ]
  },
  {
   "cell_type": "code",
   "execution_count": 216,
   "id": "9ed01ca1",
   "metadata": {},
   "outputs": [],
   "source": [
    "data['breed_id'] = (data['breed_id'] - data['breed_id'].min())/(data['breed_id'].max() - data['breed_id'].min())"
   ]
  },
  {
   "cell_type": "code",
   "execution_count": 217,
   "id": "9896fe93",
   "metadata": {},
   "outputs": [
    {
     "data": {
      "text/html": [
       "<div>\n",
       "<style scoped>\n",
       "    .dataframe tbody tr th:only-of-type {\n",
       "        vertical-align: middle;\n",
       "    }\n",
       "\n",
       "    .dataframe tbody tr th {\n",
       "        vertical-align: top;\n",
       "    }\n",
       "\n",
       "    .dataframe thead th {\n",
       "        text-align: right;\n",
       "    }\n",
       "</style>\n",
       "<table border=\"1\" class=\"dataframe\">\n",
       "  <thead>\n",
       "    <tr style=\"text-align: right;\">\n",
       "      <th></th>\n",
       "      <th>breed_id</th>\n",
       "      <th>operations_through_life</th>\n",
       "      <th>number_of_owners</th>\n",
       "      <th>had_kittens</th>\n",
       "      <th>cat_age</th>\n",
       "    </tr>\n",
       "  </thead>\n",
       "  <tbody>\n",
       "    <tr>\n",
       "      <th>0</th>\n",
       "      <td>0.684211</td>\n",
       "      <td>1</td>\n",
       "      <td>3</td>\n",
       "      <td>0</td>\n",
       "      <td>4</td>\n",
       "    </tr>\n",
       "    <tr>\n",
       "      <th>1</th>\n",
       "      <td>0.789474</td>\n",
       "      <td>2</td>\n",
       "      <td>1</td>\n",
       "      <td>0</td>\n",
       "      <td>19</td>\n",
       "    </tr>\n",
       "    <tr>\n",
       "      <th>2</th>\n",
       "      <td>0.736842</td>\n",
       "      <td>3</td>\n",
       "      <td>1</td>\n",
       "      <td>1</td>\n",
       "      <td>9</td>\n",
       "    </tr>\n",
       "    <tr>\n",
       "      <th>3</th>\n",
       "      <td>0.894737</td>\n",
       "      <td>5</td>\n",
       "      <td>2</td>\n",
       "      <td>0</td>\n",
       "      <td>15</td>\n",
       "    </tr>\n",
       "    <tr>\n",
       "      <th>4</th>\n",
       "      <td>0.736842</td>\n",
       "      <td>2</td>\n",
       "      <td>2</td>\n",
       "      <td>1</td>\n",
       "      <td>6</td>\n",
       "    </tr>\n",
       "  </tbody>\n",
       "</table>\n",
       "</div>"
      ],
      "text/plain": [
       "   breed_id  operations_through_life  number_of_owners  had_kittens  cat_age\n",
       "0  0.684211                        1                 3            0        4\n",
       "1  0.789474                        2                 1            0       19\n",
       "2  0.736842                        3                 1            1        9\n",
       "3  0.894737                        5                 2            0       15\n",
       "4  0.736842                        2                 2            1        6"
      ]
     },
     "execution_count": 217,
     "metadata": {},
     "output_type": "execute_result"
    }
   ],
   "source": [
    "data.head()"
   ]
  },
  {
   "cell_type": "code",
   "execution_count": 218,
   "id": "31537fbf",
   "metadata": {},
   "outputs": [
    {
     "name": "stdout",
     "output_type": "stream",
     "text": [
      "Weights: [ 0.25579735 -0.09986858 -0.01620007  0.00724702]\n",
      "Bias: 13.898645940875502\n",
      "Error: 4.931064917228037\n"
     ]
    }
   ],
   "source": [
    "X = data[['breed_id', 'operations_through_life', 'number_of_owners','had_kittens']]\n",
    "y = data['cat_age']\n",
    "reg = LinearRegression().fit(X, y)\n",
    "print('Weights: {}'.format(reg.coef_))\n",
    "print('Bias: {}'.format(reg.intercept_))\n",
    "\n",
    "pred_values = reg.predict(data[['breed_id', 'operations_through_life', 'number_of_owners','had_kittens']])\n",
    "print('Error: {}'.format(mean_absolute_error(pred_values, y)))"
   ]
  },
  {
   "cell_type": "markdown",
   "id": "5632752a",
   "metadata": {},
   "source": [
    "2. Попробуем заменить operations_through_life на бинарный признак: 0 - не было операций, 1 - были."
   ]
  },
  {
   "cell_type": "code",
   "execution_count": 219,
   "id": "dccb67f4",
   "metadata": {},
   "outputs": [],
   "source": [
    "data.loc[data[\"operations_through_life\"] > 0, \"operations_through_life\"] = 1"
   ]
  },
  {
   "cell_type": "code",
   "execution_count": 220,
   "id": "787d807a",
   "metadata": {},
   "outputs": [
    {
     "data": {
      "text/html": [
       "<div>\n",
       "<style scoped>\n",
       "    .dataframe tbody tr th:only-of-type {\n",
       "        vertical-align: middle;\n",
       "    }\n",
       "\n",
       "    .dataframe tbody tr th {\n",
       "        vertical-align: top;\n",
       "    }\n",
       "\n",
       "    .dataframe thead th {\n",
       "        text-align: right;\n",
       "    }\n",
       "</style>\n",
       "<table border=\"1\" class=\"dataframe\">\n",
       "  <thead>\n",
       "    <tr style=\"text-align: right;\">\n",
       "      <th></th>\n",
       "      <th>breed_id</th>\n",
       "      <th>operations_through_life</th>\n",
       "      <th>number_of_owners</th>\n",
       "      <th>had_kittens</th>\n",
       "      <th>cat_age</th>\n",
       "    </tr>\n",
       "  </thead>\n",
       "  <tbody>\n",
       "    <tr>\n",
       "      <th>0</th>\n",
       "      <td>0.684211</td>\n",
       "      <td>1</td>\n",
       "      <td>3</td>\n",
       "      <td>0</td>\n",
       "      <td>4</td>\n",
       "    </tr>\n",
       "    <tr>\n",
       "      <th>1</th>\n",
       "      <td>0.789474</td>\n",
       "      <td>1</td>\n",
       "      <td>1</td>\n",
       "      <td>0</td>\n",
       "      <td>19</td>\n",
       "    </tr>\n",
       "    <tr>\n",
       "      <th>2</th>\n",
       "      <td>0.736842</td>\n",
       "      <td>1</td>\n",
       "      <td>1</td>\n",
       "      <td>1</td>\n",
       "      <td>9</td>\n",
       "    </tr>\n",
       "    <tr>\n",
       "      <th>3</th>\n",
       "      <td>0.894737</td>\n",
       "      <td>1</td>\n",
       "      <td>2</td>\n",
       "      <td>0</td>\n",
       "      <td>15</td>\n",
       "    </tr>\n",
       "    <tr>\n",
       "      <th>4</th>\n",
       "      <td>0.736842</td>\n",
       "      <td>1</td>\n",
       "      <td>2</td>\n",
       "      <td>1</td>\n",
       "      <td>6</td>\n",
       "    </tr>\n",
       "  </tbody>\n",
       "</table>\n",
       "</div>"
      ],
      "text/plain": [
       "   breed_id  operations_through_life  number_of_owners  had_kittens  cat_age\n",
       "0  0.684211                        1                 3            0        4\n",
       "1  0.789474                        1                 1            0       19\n",
       "2  0.736842                        1                 1            1        9\n",
       "3  0.894737                        1                 2            0       15\n",
       "4  0.736842                        1                 2            1        6"
      ]
     },
     "execution_count": 220,
     "metadata": {},
     "output_type": "execute_result"
    }
   ],
   "source": [
    "data.head()"
   ]
  },
  {
   "cell_type": "code",
   "execution_count": 221,
   "id": "6b152102",
   "metadata": {},
   "outputs": [
    {
     "name": "stdout",
     "output_type": "stream",
     "text": [
      "Weights: [ 2.40990150e-01  6.50521303e-19 -1.90157836e-02  2.51027763e-02]\n",
      "Bias: 13.595021349231777\n",
      "Error: 4.932971977304715\n"
     ]
    }
   ],
   "source": [
    "X = data[['breed_id', 'operations_through_life', 'number_of_owners','had_kittens']]\n",
    "y = data['cat_age']\n",
    "reg = LinearRegression().fit(X, y)\n",
    "print('Weights: {}'.format(reg.coef_))\n",
    "print('Bias: {}'.format(reg.intercept_))\n",
    "\n",
    "pred_values = reg.predict(data[['breed_id', 'operations_through_life', 'number_of_owners','had_kittens']])\n",
    "print('Error: {}'.format(mean_absolute_error(pred_values, y)))"
   ]
  },
  {
   "cell_type": "markdown",
   "id": "4b78f97e",
   "metadata": {},
   "source": [
    "3. Добавим признак"
   ]
  },
  {
   "cell_type": "code",
   "execution_count": 222,
   "id": "a11c39f3",
   "metadata": {},
   "outputs": [],
   "source": [
    "data['new_id'] = data['number_of_owners']*data['breed_id']"
   ]
  },
  {
   "cell_type": "code",
   "execution_count": 223,
   "id": "107f56fe",
   "metadata": {},
   "outputs": [
    {
     "name": "stdout",
     "output_type": "stream",
     "text": [
      "Weights: [0.16454523 0.         0.02596999]\n",
      "Bias: 13.514609042660494\n",
      "Error: 4.9311890810871715\n"
     ]
    }
   ],
   "source": [
    "X = data[['new_id', 'operations_through_life','had_kittens']]\n",
    "y = data['cat_age']\n",
    "reg = LinearRegression().fit(X, y)\n",
    "print('Weights: {}'.format(reg.coef_))\n",
    "print('Bias: {}'.format(reg.intercept_))\n",
    "\n",
    "pred_values = reg.predict(data[['new_id', 'operations_through_life','had_kittens']])\n",
    "print('Error: {}'.format(mean_absolute_error(pred_values, y)))"
   ]
  },
  {
   "cell_type": "code",
   "execution_count": 224,
   "id": "bf2b6f70",
   "metadata": {},
   "outputs": [
    {
     "name": "stdout",
     "output_type": "stream",
     "text": [
      "Weights: [0.1649416]\n",
      "Bias: 13.527619339083556\n",
      "Error: 4.931419258692611\n"
     ]
    }
   ],
   "source": [
    "X = data[['new_id']]\n",
    "y = data['cat_age']\n",
    "reg = LinearRegression().fit(X, y)\n",
    "print('Weights: {}'.format(reg.coef_))\n",
    "print('Bias: {}'.format(reg.intercept_))\n",
    "\n",
    "pred_values = reg.predict(data[['new_id']])\n",
    "print('Error: {}'.format(mean_absolute_error(pred_values, y)))"
   ]
  },
  {
   "cell_type": "code",
   "execution_count": null,
   "id": "b646b908",
   "metadata": {},
   "outputs": [],
   "source": []
  },
  {
   "cell_type": "code",
   "execution_count": null,
   "id": "8156fd14",
   "metadata": {},
   "outputs": [],
   "source": []
  }
 ],
 "metadata": {
  "kernelspec": {
   "display_name": "Python 3",
   "language": "python",
   "name": "python3"
  },
  "language_info": {
   "codemirror_mode": {
    "name": "ipython",
    "version": 3
   },
   "file_extension": ".py",
   "mimetype": "text/x-python",
   "name": "python",
   "nbconvert_exporter": "python",
   "pygments_lexer": "ipython3",
   "version": "3.6.9"
  }
 },
 "nbformat": 4,
 "nbformat_minor": 5
}
