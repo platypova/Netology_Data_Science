{
 "cells": [
  {
   "cell_type": "markdown",
   "id": "7b3baf4b",
   "metadata": {},
   "source": [
    "# Домашнее задание «Деревья решений»"
   ]
  },
  {
   "cell_type": "markdown",
   "id": "06370e80",
   "metadata": {},
   "source": [
    "Для выполнения домашнего задания необходимо взять файл boston house-prices datase (sklearn.datasets.load_boston) и построить модель.  \n",
    "По аналогии задания к лекции «Классификация: Логистическая регрессия и SVM».  \n",
    "А именно построить модель регрессии, дерево решений, оптимизировать параметры и сравнить результаты.  "
   ]
  },
  {
   "cell_type": "code",
   "execution_count": 285,
   "id": "c943a323",
   "metadata": {},
   "outputs": [],
   "source": [
    "from sklearn.datasets import load_boston\n",
    "import pandas as pd\n",
    "import seaborn as sns\n",
    "import matplotlib.pyplot as plt\n",
    "\n",
    "from sklearn.model_selection import train_test_split\n",
    "from sklearn.linear_model import LogisticRegression\n",
    "from sklearn.metrics import mean_absolute_error\n",
    "\n",
    "import numpy as np\n",
    "from sklearn.tree import DecisionTreeRegressor"
   ]
  },
  {
   "cell_type": "code",
   "execution_count": 286,
   "id": "75dc6b9b",
   "metadata": {},
   "outputs": [
    {
     "name": "stdout",
     "output_type": "stream",
     "text": [
      "(506, 13)\n"
     ]
    }
   ],
   "source": [
    "import warnings\n",
    "from sklearn.datasets import load_boston\n",
    "with warnings.catch_warnings():\n",
    "# You should probably not use this dataset.\n",
    "    warnings.filterwarnings(\"ignore\")\n",
    "    X, y = load_boston(return_X_y=True)\n",
    "    print(X.shape)"
   ]
  },
  {
   "cell_type": "code",
   "execution_count": 287,
   "id": "c2820644",
   "metadata": {},
   "outputs": [],
   "source": [
    " X_train, X_test, y_train, y_test = train_test_split(X, y, test_size=0.7, random_state=42 )  "
   ]
  },
  {
   "cell_type": "markdown",
   "id": "eccfe164",
   "metadata": {},
   "source": [
    "# Decision tree regressor"
   ]
  },
  {
   "cell_type": "markdown",
   "id": "a01bf9c5",
   "metadata": {},
   "source": [
    "### Создадим и обучим модель (для разных параметров):"
   ]
  },
  {
   "cell_type": "markdown",
   "id": "ae7e575e",
   "metadata": {},
   "source": [
    "#### для разных глубин"
   ]
  },
  {
   "cell_type": "code",
   "execution_count": 291,
   "id": "c35d45cd",
   "metadata": {},
   "outputs": [],
   "source": [
    "# Обучим модель для набора параметров:\n",
    "list_depth = [1,2,3,4,5,7,10,15,20] #\n",
    "dt_regs = {}\n",
    "for i in list_depth:\n",
    "    dt_regs[f'depth={i}'] = DecisionTreeRegressor(max_depth=i,splitter = 'best').fit(X, y)\n",
    "dt_regs['depth=inf'] = DecisionTreeRegressor().fit(X, y)\n",
    "\n",
    "# Оценим точность:\n",
    "pred_list = {}\n",
    "score_list = {}\n",
    "for key, cur_dt_reg in dt_regs.items():\n",
    "          pred_list[key] = cur_dt_reg.predict(X_test)\n",
    "          score_list[key] = cur_dt_reg.score(X_test,y_test)"
   ]
  },
  {
   "cell_type": "code",
   "execution_count": 292,
   "id": "f854ee77",
   "metadata": {},
   "outputs": [
    {
     "data": {
      "text/plain": [
       "{'depth=1': DecisionTreeRegressor(max_depth=1),\n",
       " 'depth=2': DecisionTreeRegressor(max_depth=2),\n",
       " 'depth=3': DecisionTreeRegressor(max_depth=3),\n",
       " 'depth=4': DecisionTreeRegressor(max_depth=4),\n",
       " 'depth=5': DecisionTreeRegressor(max_depth=5),\n",
       " 'depth=7': DecisionTreeRegressor(max_depth=7),\n",
       " 'depth=10': DecisionTreeRegressor(max_depth=10),\n",
       " 'depth=15': DecisionTreeRegressor(max_depth=15),\n",
       " 'depth=20': DecisionTreeRegressor(max_depth=20),\n",
       " 'depth=inf': DecisionTreeRegressor()}"
      ]
     },
     "execution_count": 292,
     "metadata": {},
     "output_type": "execute_result"
    }
   ],
   "source": [
    "dt_regs"
   ]
  },
  {
   "cell_type": "code",
   "execution_count": 293,
   "id": "3a626254",
   "metadata": {},
   "outputs": [
    {
     "data": {
      "text/plain": [
       "{'depth=1': 0.44507578947320237,\n",
       " 'depth=2': 0.6818666256045802,\n",
       " 'depth=3': 0.8239213702176373,\n",
       " 'depth=4': 0.8823541601088111,\n",
       " 'depth=5': 0.9185063106253819,\n",
       " 'depth=7': 0.9656613386857749,\n",
       " 'depth=10': 0.99066639887331,\n",
       " 'depth=15': 0.9999179571335317,\n",
       " 'depth=20': 1.0,\n",
       " 'depth=inf': 1.0}"
      ]
     },
     "execution_count": 293,
     "metadata": {},
     "output_type": "execute_result"
    }
   ],
   "source": [
    "score_list"
   ]
  },
  {
   "cell_type": "markdown",
   "id": "671a70a3",
   "metadata": {},
   "source": [
    "#### splitter = 'random' (the strategy used to choose the split at each node)"
   ]
  },
  {
   "cell_type": "code",
   "execution_count": 294,
   "id": "a1ec9e1f",
   "metadata": {},
   "outputs": [],
   "source": [
    "# Обучим модель для набора параметров и для параметра splitter = 'random':\n",
    "list_depth = [1,2,3,4,5,7,10,15,20] #\n",
    "dt_regs = {}\n",
    "for i in list_depth:\n",
    "    dt_regs[f'depth={i}'] = DecisionTreeRegressor(max_depth=i,splitter = 'random').fit(X, y)\n",
    "dt_regs['depth=inf'] = DecisionTreeRegressor().fit(X, y)\n",
    "\n",
    "# Оценим точность:\n",
    "pred_list = {}\n",
    "score_list = {}\n",
    "for key, cur_dt_reg in dt_regs.items():\n",
    "          pred_list[key] = cur_dt_reg.predict(X_test)\n",
    "          score_list[key] = cur_dt_reg.score(X_test,y_test)"
   ]
  },
  {
   "cell_type": "code",
   "execution_count": 295,
   "id": "40e4e84f",
   "metadata": {},
   "outputs": [
    {
     "data": {
      "text/plain": [
       "{'depth=1': 0.24748860282078067,\n",
       " 'depth=2': 0.5103261362786995,\n",
       " 'depth=3': 0.6460210038278282,\n",
       " 'depth=4': 0.6070854313810948,\n",
       " 'depth=5': 0.8401920197473641,\n",
       " 'depth=7': 0.8957277270118934,\n",
       " 'depth=10': 0.9736737308253132,\n",
       " 'depth=15': 0.9980931493188954,\n",
       " 'depth=20': 0.9999949964970349,\n",
       " 'depth=inf': 1.0}"
      ]
     },
     "execution_count": 295,
     "metadata": {},
     "output_type": "execute_result"
    }
   ],
   "source": [
    "score_list"
   ]
  },
  {
   "cell_type": "markdown",
   "id": "6e31742e",
   "metadata": {},
   "source": [
    "#### min_samples_split (the minimum number of samples required to split an internal node)"
   ]
  },
  {
   "cell_type": "code",
   "execution_count": 298,
   "id": "ce569e3e",
   "metadata": {},
   "outputs": [],
   "source": [
    "# Обучим модель для набора параметров min_samples_split и глубины = 10\n",
    "list_depth = [10] #\n",
    "min_samples_split_list = [2,5,10,100]\n",
    "dt_regs = {}\n",
    "for i in min_samples_split_list:\n",
    "    dt_regs[f'min_samples_split={i}'] = DecisionTreeRegressor(max_depth=list_depth[0],min_samples_split = i).fit(X, y)\n",
    "\n",
    "\n",
    "# Оценим точность:\n",
    "pred_list = {}\n",
    "score_list = {}\n",
    "for key, cur_dt_reg in dt_regs.items():\n",
    "          pred_list[key] = cur_dt_reg.predict(X_test)\n",
    "          score_list[key] = cur_dt_reg.score(X_test,y_test)"
   ]
  },
  {
   "cell_type": "code",
   "execution_count": 299,
   "id": "8abd24be",
   "metadata": {},
   "outputs": [
    {
     "data": {
      "text/plain": [
       "{'min_samples_split=2': 0.99066639887331,\n",
       " 'min_samples_split=5': 0.9830519445684944,\n",
       " 'min_samples_split=10': 0.9701116461127501,\n",
       " 'min_samples_split=100': 0.7705782257687888}"
      ]
     },
     "execution_count": 299,
     "metadata": {},
     "output_type": "execute_result"
    }
   ],
   "source": [
    "score_list"
   ]
  },
  {
   "cell_type": "markdown",
   "id": "2a1f5df0",
   "metadata": {},
   "source": [
    "#### min_samples_leaf (the minimum number of samples required to be at a leaf node)"
   ]
  },
  {
   "cell_type": "code",
   "execution_count": 300,
   "id": "4d4c9a17",
   "metadata": {},
   "outputs": [],
   "source": [
    "# Обучим модель для набора параметров и глубины = 10\n",
    "list_depth = [10] #\n",
    "min_samples_leaf_list = [1,2,5,10]\n",
    "dt_regs = {}\n",
    "for i in min_samples_leaf_list:\n",
    "    dt_regs[f'min_samples_leaf={i}'] = DecisionTreeRegressor(max_depth=list_depth[0],min_samples_leaf = i).fit(X, y)\n",
    "\n",
    "\n",
    "# Оценим точность:\n",
    "pred_list = {}\n",
    "score_list = {}\n",
    "for key, cur_dt_reg in dt_regs.items():\n",
    "          pred_list[key] = cur_dt_reg.predict(X_test)\n",
    "          score_list[key] = cur_dt_reg.score(X_test,y_test)"
   ]
  },
  {
   "cell_type": "code",
   "execution_count": 301,
   "id": "5555bd65",
   "metadata": {},
   "outputs": [
    {
     "data": {
      "text/plain": [
       "{'min_samples_leaf=1': 0.99066639887331,\n",
       " 'min_samples_leaf=2': 0.9721006273470689,\n",
       " 'min_samples_leaf=5': 0.9405892957190891,\n",
       " 'min_samples_leaf=10': 0.868429357517685}"
      ]
     },
     "execution_count": 301,
     "metadata": {},
     "output_type": "execute_result"
    }
   ],
   "source": [
    "score_list"
   ]
  },
  {
   "cell_type": "markdown",
   "id": "e1b955fc",
   "metadata": {},
   "source": [
    "#### max_features (the number of features to consider when looking for the best split)"
   ]
  },
  {
   "cell_type": "code",
   "execution_count": 302,
   "id": "d9e21453",
   "metadata": {},
   "outputs": [],
   "source": [
    "# Обучим модель для набора параметров и глубины = 10\n",
    "list_depth = [10] #\n",
    "max_features_list = [1,2,5,10,13,'auto','sqrt','log2']\n",
    "dt_regs = {}\n",
    "for i in max_features_list:\n",
    "    dt_regs[f'max_features={i}'] = DecisionTreeRegressor(max_depth=list_depth[0],max_features = i).fit(X, y)\n",
    "\n",
    "# Оценим точность:\n",
    "pred_list = {}\n",
    "score_list = {}\n",
    "for key, cur_dt_reg in dt_regs.items():\n",
    "          pred_list[key] = cur_dt_reg.predict(X_test)\n",
    "          score_list[key] = cur_dt_reg.score(X_test,y_test)"
   ]
  },
  {
   "cell_type": "code",
   "execution_count": 303,
   "id": "aed8a398",
   "metadata": {},
   "outputs": [
    {
     "data": {
      "text/plain": [
       "{'max_features=1': 0.9147890159381655,\n",
       " 'max_features=2': 0.9799729141313872,\n",
       " 'max_features=5': 0.9760514717699496,\n",
       " 'max_features=10': 0.9899188798313252,\n",
       " 'max_features=13': 0.9906763238546012,\n",
       " 'max_features=auto': 0.99066639887331,\n",
       " 'max_features=sqrt': 0.9855358445962024,\n",
       " 'max_features=log2': 0.9771334143845279}"
      ]
     },
     "execution_count": 303,
     "metadata": {},
     "output_type": "execute_result"
    }
   ],
   "source": [
    "score_list"
   ]
  },
  {
   "cell_type": "markdown",
   "id": "06740e52",
   "metadata": {},
   "source": [
    "Видим, что лучшее качество получается при max_features=13 (автоматический выбор совпадает. При уменьшении качество падает), min_samples_leaf = 1 (с увеличением качество падает), min_samples_split = 2 (c увеличением качество падает), глубине 15 и больше. "
   ]
  },
  {
   "cell_type": "code",
   "execution_count": null,
   "id": "9918cf3c",
   "metadata": {},
   "outputs": [],
   "source": []
  }
 ],
 "metadata": {
  "kernelspec": {
   "display_name": "Python 3",
   "language": "python",
   "name": "python3"
  },
  "language_info": {
   "codemirror_mode": {
    "name": "ipython",
    "version": 3
   },
   "file_extension": ".py",
   "mimetype": "text/x-python",
   "name": "python",
   "nbconvert_exporter": "python",
   "pygments_lexer": "ipython3",
   "version": "3.6.9"
  }
 },
 "nbformat": 4,
 "nbformat_minor": 5
}
