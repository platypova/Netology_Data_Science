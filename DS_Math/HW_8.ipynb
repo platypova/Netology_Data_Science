{
  "nbformat": 4,
  "nbformat_minor": 0,
  "metadata": {
    "colab": {
      "name": "HW_8",
      "provenance": [],
      "collapsed_sections": []
    },
    "kernelspec": {
      "name": "python3",
      "display_name": "Python 3"
    }
  },
  "cells": [
    {
      "cell_type": "markdown",
      "metadata": {
        "id": "SEdVAbjPgX8D"
      },
      "source": [
        "# Домашнее задание \"Теория вероятности. Непрерывные Случайные Величины\"."
      ]
    },
    {
      "cell_type": "markdown",
      "metadata": {
        "id": "Qjivof7Qgd3B"
      },
      "source": [
        "## Уровень 0:"
      ]
    },
    {
      "cell_type": "markdown",
      "metadata": {
        "id": "trb7_Xw0gUED"
      },
      "source": [
        "- Задание 1:\n"
      ]
    },
    {
      "cell_type": "markdown",
      "metadata": {
        "id": "6ot79sTTgUG-"
      },
      "source": [
        "Получить интуицию, на что влияют параметры распределений. Построить по 5 функций плотностей с разными параметрами для каждого распределения: нормальное, экспоненциальное, Стьюдента на одном графике.\n"
      ]
    },
    {
      "cell_type": "markdown",
      "metadata": {
        "id": "Y_VK7nODgjew"
      },
      "source": [
        "## Уровень 1:"
      ]
    },
    {
      "cell_type": "markdown",
      "metadata": {
        "id": "bERZ4fYMgjg1"
      },
      "source": [
        "- Задание 2"
      ]
    },
    {
      "cell_type": "markdown",
      "metadata": {
        "id": "MIqTa8B0gji6"
      },
      "source": [
        "Непрерывная случайная величина задана плотностью распределения:$$ f(\\xi) = C, \\xi \\in [0;5];f(\\xi) = 0, \\xi \\notin [0;5]$$Найдите C, математическое ожидание $\\xi$ а также вероятность попадания  в отрезок $[3.5;7]$, т.е. P(3.5 &lt; $\\xi$ &lt; 7)."
      ]
    },
    {
      "cell_type": "markdown",
      "metadata": {
        "id": "8h9Agrz6gjkn"
      },
      "source": [
        "- Задание 3\n"
      ]
    },
    {
      "cell_type": "markdown",
      "metadata": {
        "id": "nLmtrsxkgUJQ"
      },
      "source": [
        "Известно, что светофор горит 54 секунды красным, 4 секунды жёлтым и 28 секунд зелёным. Посчитайте, какое количество информации несёт сообщение о цвете светофора в текущий момент. А что будет в случае 28, 28 и 28 секунд для каждого цвета?"
      ]
    }
  ]
}