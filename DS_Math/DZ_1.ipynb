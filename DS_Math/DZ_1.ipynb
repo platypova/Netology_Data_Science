{
 "cells": [
  {
   "cell_type": "markdown",
   "id": "eb8bffa9",
   "metadata": {},
   "source": [
    "# Домашнее задание \"Производная функции нескольких аргументов\"."
   ]
  },
  {
   "cell_type": "code",
   "execution_count": 120,
   "id": "b63dcfb3",
   "metadata": {},
   "outputs": [],
   "source": [
    "import numpy as np\n",
    "from scipy.optimize import approx_fprime"
   ]
  },
  {
   "cell_type": "markdown",
   "id": "4c0242c2",
   "metadata": {},
   "source": [
    "### Уровень 0:"
   ]
  },
  {
   "cell_type": "markdown",
   "id": "21f1f356",
   "metadata": {},
   "source": [
    "Посчитайте частные производные функций:"
   ]
  },
  {
   "cell_type": "markdown",
   "id": "9132f3f2",
   "metadata": {},
   "source": [
    "\n",
    "1) $f(x,y)=2x^2y^3 + 1/x + y^2x + 7$, а для этой функции также градиент в точке $(1,2)$\n",
    "\n",
    "2) $f(x,y)=x^2y - sin(xy) + cos(x^2) + 6y$"
   ]
  },
  {
   "cell_type": "markdown",
   "id": "96e514fd",
   "metadata": {},
   "source": [
    "### Ответ:"
   ]
  },
  {
   "cell_type": "markdown",
   "id": "f44671a6",
   "metadata": {},
   "source": [
    "1) $df/dx=4xy^3 -1/x^(-2)+ y^2$"
   ]
  },
  {
   "cell_type": "markdown",
   "id": "c87954f6",
   "metadata": {},
   "source": [
    "$df/dy=6x^2y^2 + 2yx$"
   ]
  },
  {
   "cell_type": "markdown",
   "id": "09574e18",
   "metadata": {},
   "source": [
    "Градиент: (47,28). Модуль градиента: 54.7"
   ]
  },
  {
   "cell_type": "markdown",
   "id": "6ac20652",
   "metadata": {},
   "source": [
    "2) $df/dx =2xy - y*cos(xy) - 2x*sin(x^2)$"
   ]
  },
  {
   "cell_type": "markdown",
   "id": "9b614389",
   "metadata": {},
   "source": [
    "$df/dy =x^2 - x*cos(xy) + 6$"
   ]
  },
  {
   "cell_type": "markdown",
   "id": "98785621",
   "metadata": {},
   "source": [
    "### Уровень 1:"
   ]
  },
  {
   "cell_type": "markdown",
   "id": "81f91c44",
   "metadata": {},
   "source": [
    "Градиентный спуск своими руками:"
   ]
  },
  {
   "cell_type": "code",
   "execution_count": 444,
   "id": "8d1af71b",
   "metadata": {},
   "outputs": [],
   "source": [
    "def f(x):\n",
    "    return (x[0]**2) + (x[1]**2)"
   ]
  },
  {
   "cell_type": "code",
   "execution_count": 445,
   "id": "85f52ec4",
   "metadata": {},
   "outputs": [],
   "source": [
    "x = np.array([100, 200])\n",
    "learning_rate = 0.1"
   ]
  },
  {
   "cell_type": "code",
   "execution_count": 446,
   "id": "d87bdf25",
   "metadata": {},
   "outputs": [],
   "source": [
    "#функция вычисдения градиента:\n",
    "def grad_f(x):\n",
    "    return np.array([2*x[0],2*x[1]])"
   ]
  },
  {
   "cell_type": "code",
   "execution_count": 447,
   "id": "956fd860",
   "metadata": {},
   "outputs": [],
   "source": [
    "i_end = 0"
   ]
  },
  {
   "cell_type": "code",
   "execution_count": 448,
   "id": "3f62bf9b",
   "metadata": {},
   "outputs": [],
   "source": [
    "for i in range(100):\n",
    "    # Calculate gradient\n",
    "    grad = grad_f(x)    \n",
    "    # Update x with gradient\n",
    "    x_old = x\n",
    "    x = x_old - grad_f(x_old)*learning_rate\n",
    "    i_end = i\n",
    "    if np.linalg.norm(grad_f(x)) <= 1e-5:\n",
    "        break  "
   ]
  },
  {
   "cell_type": "code",
   "execution_count": 449,
   "id": "5d68094b",
   "metadata": {},
   "outputs": [
    {
     "data": {
      "text/plain": [
       "78"
      ]
     },
     "execution_count": 449,
     "metadata": {},
     "output_type": "execute_result"
    }
   ],
   "source": [
    "# шаг, на котором найден миниум:\n",
    "i_end"
   ]
  },
  {
   "cell_type": "code",
   "execution_count": 450,
   "id": "15c160d5",
   "metadata": {},
   "outputs": [
    {
     "name": "stdout",
     "output_type": "stream",
     "text": [
      "Минимум достигается в:  [2.20855883e-06 4.41711766e-06]\n",
      "Значение функции в минимуме:  2.4388660549343713e-11\n"
     ]
    }
   ],
   "source": [
    "print(\"Минимум достигается в: \", x)\n",
    "print(\"Значение функции в минимуме: \", f(x))"
   ]
  },
  {
   "cell_type": "code",
   "execution_count": 451,
   "id": "6ed0f883",
   "metadata": {},
   "outputs": [],
   "source": [
    "# Проверка с помощью встроенной функции numpy:"
   ]
  },
  {
   "cell_type": "code",
   "execution_count": 452,
   "id": "f520a674",
   "metadata": {},
   "outputs": [],
   "source": [
    "import scipy.optimize"
   ]
  },
  {
   "cell_type": "code",
   "execution_count": 453,
   "id": "74638272",
   "metadata": {},
   "outputs": [],
   "source": [
    "x0 = np.array([100, 200])"
   ]
  },
  {
   "cell_type": "code",
   "execution_count": 454,
   "id": "3267ed39",
   "metadata": {},
   "outputs": [
    {
     "name": "stdout",
     "output_type": "stream",
     "text": [
      "Optimization terminated successfully.\n",
      "         Current function value: 0.000000\n",
      "         Iterations: 85\n",
      "         Function evaluations: 164\n"
     ]
    }
   ],
   "source": [
    "res = scipy.optimize.minimize(f,x0,method ='nelder-mead',options = {'xtol':1e-8,'disp':True})"
   ]
  },
  {
   "cell_type": "code",
   "execution_count": 455,
   "id": "531cd5a3",
   "metadata": {},
   "outputs": [
    {
     "data": {
      "text/plain": [
       " final_simplex: (array([[ 3.31391559e-09, -1.82888492e-09],\n",
       "       [-3.91522747e-09, -3.79451217e-09],\n",
       "       [-4.97134432e-09,  7.91645290e-09]]), array([1.43268566e-17, 2.97273287e-17, 8.73844908e-17]))\n",
       "           fun: 1.4326856592347756e-17\n",
       "       message: 'Optimization terminated successfully.'\n",
       "          nfev: 164\n",
       "           nit: 85\n",
       "        status: 0\n",
       "       success: True\n",
       "             x: array([ 3.31391559e-09, -1.82888492e-09])"
      ]
     },
     "execution_count": 455,
     "metadata": {},
     "output_type": "execute_result"
    }
   ],
   "source": [
    "res"
   ]
  },
  {
   "cell_type": "code",
   "execution_count": null,
   "id": "a886d641",
   "metadata": {},
   "outputs": [],
   "source": []
  }
 ],
 "metadata": {
  "kernelspec": {
   "display_name": "Python 3",
   "language": "python",
   "name": "python3"
  },
  "language_info": {
   "codemirror_mode": {
    "name": "ipython",
    "version": 3
   },
   "file_extension": ".py",
   "mimetype": "text/x-python",
   "name": "python",
   "nbconvert_exporter": "python",
   "pygments_lexer": "ipython3",
   "version": "3.6.9"
  }
 },
 "nbformat": 4,
 "nbformat_minor": 5
}
