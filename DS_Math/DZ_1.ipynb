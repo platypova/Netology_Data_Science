{
 "cells": [
  {
   "cell_type": "markdown",
   "id": "eb8bffa9",
   "metadata": {},
   "source": [
    "# Домашнее задание \"Производная функции нескольких аргументов\"."
   ]
  },
  {
   "cell_type": "code",
   "execution_count": 1,
   "id": "b63dcfb3",
   "metadata": {},
   "outputs": [],
   "source": [
    "import numpy as np\n",
    "from scipy.optimize import approx_fprime"
   ]
  },
  {
   "cell_type": "markdown",
   "id": "ecd88bf4",
   "metadata": {},
   "source": [
    "### Уровень 0:"
   ]
  },
  {
   "cell_type": "markdown",
   "id": "37909f74",
   "metadata": {},
   "source": [
    "Посчитайте частные производные функций:"
   ]
  },
  {
   "cell_type": "markdown",
   "id": "c48cb951",
   "metadata": {},
   "source": [
    "\n",
    "1) $f(x,y)=2x^2y^3 + 1/x + y^2x + 7$, а для этой функции также градиент в точке $(1,2)$\n",
    "\n",
    "2) $f(x,y)=x^2y - sin(xy) + cos(x^2) + 6y$"
   ]
  },
  {
   "cell_type": "markdown",
   "id": "2d33b9a6",
   "metadata": {},
   "source": [
    "### Ответ:"
   ]
  },
  {
   "cell_type": "markdown",
   "id": "a6d3f18e",
   "metadata": {},
   "source": [
    "1) $df/dx=4xy^3 -1/x^(-2)+ y^2$"
   ]
  },
  {
   "cell_type": "markdown",
   "id": "0945244e",
   "metadata": {},
   "source": [
    "$df/dy=6x^2y^2 + 2yx$"
   ]
  },
  {
   "cell_type": "markdown",
   "id": "50d85046",
   "metadata": {},
   "source": [
    "Градиент: (47,28). Модуль градиента: 54.7"
   ]
  },
  {
   "cell_type": "markdown",
   "id": "a1c95464",
   "metadata": {},
   "source": [
    "2) $df/dx =2xy - y*cos(xy) - 2x*sin(x^2)$"
   ]
  },
  {
   "cell_type": "markdown",
   "id": "9a98f6d4",
   "metadata": {},
   "source": [
    "$df/dy =x^2 - x*cos(xy) + 6$"
   ]
  },
  {
   "cell_type": "code",
   "execution_count": null,
   "id": "838d68da",
   "metadata": {},
   "outputs": [],
   "source": []
  }
 ],
 "metadata": {
  "kernelspec": {
   "display_name": "Python 3",
   "language": "python",
   "name": "python3"
  },
  "language_info": {
   "codemirror_mode": {
    "name": "ipython",
    "version": 3
   },
   "file_extension": ".py",
   "mimetype": "text/x-python",
   "name": "python",
   "nbconvert_exporter": "python",
   "pygments_lexer": "ipython3",
   "version": "3.6.9"
  }
 },
 "nbformat": 4,
 "nbformat_minor": 5
}
