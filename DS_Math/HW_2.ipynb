{
  "nbformat": 4,
  "nbformat_minor": 0,
  "metadata": {
    "colab": {
      "name": "HW_2",
      "provenance": [],
      "collapsed_sections": []
    },
    "kernelspec": {
      "name": "python3",
      "display_name": "Python 3"
    }
  },
  "cells": [
    {
      "cell_type": "markdown",
      "metadata": {
        "id": "SVe9_TI3OEzz"
      },
      "source": [
        "# Домашнее задание \"Линейная алгебра. Матрицы\"."
      ]
    },
    {
      "cell_type": "markdown",
      "metadata": {
        "id": "5y1_BdobOJhL"
      },
      "source": [
        "### Уровень 0:"
      ]
    },
    {
      "cell_type": "markdown",
      "metadata": {
        "id": "T6OsnFW8Nds0"
      },
      "source": [
        " - Создайте матрицу 3 на 3, заполненную числами от 1 до 9\n",
        " - Прибавьте к ней матрицу с единицами на диагонале\n",
        " - Умножьте полученную матрицу на вектор (1, 2, 3)\n",
        " - Посчитайте обратную матрицу к полученной в результате прибавления матрице"
      ]
    },
    {
      "cell_type": "markdown",
      "metadata": {
        "id": "_BAj6HboOLrk"
      },
      "source": [
        "### Уровень 1:"
      ]
    },
    {
      "cell_type": "markdown",
      "metadata": {
        "id": "RiADgeYcOPQF"
      },
      "source": [
        "Дан объект в 2d пространстве:\n",
        "\n",
        "\n",
        "\n",
        "```\n",
        "import numpy as np\n",
        "import matplotlib.pyplot as plt\n",
        "\n",
        "A = [\n",
        "[-100, -100, 1],\n",
        "[-100, 100, 1],\n",
        "[100, 100, 1],\n",
        "[0, 0, 1],\n",
        "[100, -100, 1],\n",
        "[-100, -100, 1]\n",
        "]\n",
        "\n",
        "A = np.array(A)\n",
        "x = A[:,0]\n",
        "y = A[:,1]\n",
        "\n",
        "plt.plot(x, y)\n",
        "plt.ylim([-200, 200])\n",
        "plt.xlim([-200, 200])\n",
        "```\n",
        "\n",
        "\n",
        "При помощи матричных операций выполните:\n",
        "- Уменьшить объект в два раза\n",
        "- Повернуть на 130 градусов\n",
        "- Отразить объект относительно прямой y=x\n",
        "- Выполнить смещение объекта и масштабирование (применить 2 матрицы трансформаций). Смещение на (200, 300) и масштабирование на (0.5, 1.2)\n",
        "\n"
      ]
    }
  ]
}
