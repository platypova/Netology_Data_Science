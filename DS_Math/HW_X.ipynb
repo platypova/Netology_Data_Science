{
 "cells": [
  {
   "cell_type": "markdown",
   "metadata": {
    "id": "g1hQiFW7isGe"
   },
   "source": [
    "# Итоговая работа."
   ]
  },
  {
   "cell_type": "code",
   "execution_count": 148,
   "metadata": {
    "id": "NyZ7GotDi1Mp"
   },
   "outputs": [],
   "source": [
    "import matplotlib.pyplot as plt\n",
    "import numpy as np\n",
    "\n",
    "from scipy.optimize import minimize\n",
    "%matplotlib inline"
   ]
  },
  {
   "cell_type": "markdown",
   "metadata": {
    "id": "VZFf_auXisJd"
   },
   "source": [
    "## Задание 1"
   ]
  },
  {
   "cell_type": "markdown",
   "metadata": {
    "id": "ABMPXsuhisMO"
   },
   "source": [
    "Дана матрица рейтингов фильмов (строки - пользователи (10 человек), столбцы - фильмы (15 фильмов))"
   ]
  },
  {
   "cell_type": "code",
   "execution_count": 149,
   "metadata": {
    "id": "D4_Vshevi-4P"
   },
   "outputs": [],
   "source": [
    "raitings = np.array([[ 4,  4,  9,  4,  1,  6, 10,  7,  9,  6,  9,  2,  8,  6,  6],\n",
    "                     [ 9,  2,  5, 10,  7,  8, 10,  5,  6,  2,  1,  6,  8,  9,  7],\n",
    "                     [ 1,  6,  8,  8,  4,  9,  3,  8, 10,  5,  2,  6,  8,  1,  6],\n",
    "                     [ 6,  1,  9,  7,  7,  9,  2,  3,  5,  1,  6,  6,  3,  2,  7],\n",
    "                     [ 3,  7,  3,  5,  7,  9,  9,  6,  2,  9,  1,  2,  8, 10,  6],\n",
    "                     [ 8,  3,  7,  3,  8,  6,  1,  8,  8,  6,  1,  9,  4, 10,  1],\n",
    "                     [ 9,  8,  4,  8,  8, 10,  6,  1,  1,  2,  9,  5,  2,  7,  2],\n",
    "                     [ 4,  1,  6,  4,  3, 10,  4,  4,  2,  8,  7,  9,  3,  8,  3],\n",
    "                     [ 2,  7,  7,  6, 10,  6,  8,  9,  8,  6, 10,  1,  7, 10,  4],\n",
    "                     [ 5, 10,  8,  8,  9,  7,  2,  9,  9, 10,  8,  8,  8,  6, 10]])"
   ]
  },
  {
   "cell_type": "markdown",
   "metadata": {},
   "source": [
    "**a)** Необходимо найти наиболее похожего пользователя по косинусной метрике для каждого из (ответ: 10 пар вида (x, y), где y - наиболее похожий пользователь на пользователя x)."
   ]
  },
  {
   "cell_type": "code",
   "execution_count": 154,
   "metadata": {},
   "outputs": [],
   "source": [
    "import sklearn.metrics as skm"
   ]
  },
  {
   "cell_type": "code",
   "execution_count": 155,
   "metadata": {},
   "outputs": [],
   "source": [
    "pairs = []\n",
    "for i in range(raitings.shape[0]):\n",
    "    pair =[0,0]\n",
    "    pair[0] = i\n",
    "    for k in range(raitings.shape[0]):\n",
    "        if k!=i:\n",
    "            dist1 = skm.pairwise_distances([raitings[i],raitings[k]], metric='correlation')[0][1]\n",
    "            if k > 0:\n",
    "                dist2 = skm.pairwise_distances([raitings[i],raitings[k-1]], metric='correlation')[0][1]\n",
    "                if dist1<dist2:\n",
    "                    pair[1] = k\n",
    "            else:\n",
    "                pair[1] = k\n",
    "    pairs.append(pair)"
   ]
  },
  {
   "cell_type": "markdown",
   "metadata": {},
   "source": [
    "### Ответ:"
   ]
  },
  {
   "cell_type": "code",
   "execution_count": 156,
   "metadata": {},
   "outputs": [
    {
     "data": {
      "text/plain": [
       "[[0, 8],\n",
       " [1, 6],\n",
       " [2, 9],\n",
       " [3, 9],\n",
       " [4, 8],\n",
       " [5, 9],\n",
       " [6, 3],\n",
       " [7, 5],\n",
       " [8, 6],\n",
       " [9, 8]]"
      ]
     },
     "execution_count": 156,
     "metadata": {},
     "output_type": "execute_result"
    }
   ],
   "source": [
    "pairs"
   ]
  },
  {
   "cell_type": "markdown",
   "metadata": {},
   "source": [
    "\n",
    "**b)** Предположим, вы захотели сжать признаковые описания пользователя с 15 фильмов, до, скажем, 5-ти признаков, как вы это сделаете?"
   ]
  },
  {
   "cell_type": "code",
   "execution_count": 157,
   "metadata": {},
   "outputs": [],
   "source": [
    "import sklearn.decomposition as skd"
   ]
  },
  {
   "cell_type": "markdown",
   "metadata": {},
   "source": [
    "### Используем для нахождения решения Метод главных компонент"
   ]
  },
  {
   "cell_type": "code",
   "execution_count": 158,
   "metadata": {},
   "outputs": [],
   "source": [
    "raitings_t = raitings.transpose()"
   ]
  },
  {
   "cell_type": "code",
   "execution_count": 159,
   "metadata": {},
   "outputs": [],
   "source": [
    "pca = skd.PCA(n_components=5)\n",
    "res = pca.fit(raitings_t)"
   ]
  },
  {
   "cell_type": "code",
   "execution_count": 160,
   "metadata": {},
   "outputs": [
    {
     "data": {
      "text/plain": [
       "(5, 10)"
      ]
     },
     "execution_count": 160,
     "metadata": {},
     "output_type": "execute_result"
    }
   ],
   "source": [
    "res.components_.shape"
   ]
  },
  {
   "cell_type": "code",
   "execution_count": 161,
   "metadata": {},
   "outputs": [],
   "source": [
    "res_t = res.components_.transpose()"
   ]
  },
  {
   "cell_type": "markdown",
   "metadata": {},
   "source": [
    "Ответ - результирующая матрица 10x5:"
   ]
  },
  {
   "cell_type": "code",
   "execution_count": 163,
   "metadata": {},
   "outputs": [
    {
     "data": {
      "text/plain": [
       "array([[-0.31358117,  0.25476945,  0.19083908, -0.21852297, -0.60245219],\n",
       "       [ 0.3183522 ,  0.08797986, -0.28039111, -0.69901139,  0.05207337],\n",
       "       [-0.39842075, -0.33594044, -0.12926785, -0.35226532, -0.07047864],\n",
       "       [ 0.1931435 , -0.467029  ,  0.24678578, -0.29060791, -0.24058591],\n",
       "       [ 0.06775794,  0.5158211 , -0.43943666, -0.08501525,  0.09401811],\n",
       "       [ 0.16034486, -0.314959  , -0.67517295,  0.26343614, -0.18599837],\n",
       "       [ 0.62693275,  0.08089786,  0.36874421,  0.11698808,  0.04529902],\n",
       "       [ 0.28148124, -0.11655789, -0.14584713,  0.23289713, -0.62204756],\n",
       "       [-0.15598735,  0.39127865,  0.03216844,  0.18804452, -0.29591552],\n",
       "       [-0.278146  , -0.24058312, -0.01031015,  0.27417652,  0.22692497]])"
      ]
     },
     "execution_count": 163,
     "metadata": {},
     "output_type": "execute_result"
    }
   ],
   "source": [
    "res_t"
   ]
  },
  {
   "cell_type": "code",
   "execution_count": null,
   "metadata": {},
   "outputs": [],
   "source": []
  },
  {
   "cell_type": "markdown",
   "metadata": {
    "id": "QRJEo5ydjFjG"
   },
   "source": [
    "## Задание 2"
   ]
  },
  {
   "cell_type": "markdown",
   "metadata": {
    "id": "39rGnTIojFlV"
   },
   "source": [
    "\n",
    "Вычислите производную $tg^2(sin(x) + cos(2x+3))$ в точке $x_0=1$ (на python и на бумаге)."
   ]
  },
  {
   "cell_type": "markdown",
   "metadata": {},
   "source": [
    "Производная, вычисленная вручную:"
   ]
  },
  {
   "cell_type": "markdown",
   "metadata": {},
   "source": [
    "$2sin(sin(x) + cos(2x+3))*1/(cos^3(sin(x) + cos(2x+3)))*(cos(x)-2*sin(2x+3))$"
   ]
  },
  {
   "cell_type": "markdown",
   "metadata": {},
   "source": [
    "Значение в заданной точке:"
   ]
  },
  {
   "cell_type": "code",
   "execution_count": 187,
   "metadata": {},
   "outputs": [],
   "source": [
    "from math import sin, cos, tan"
   ]
  },
  {
   "cell_type": "code",
   "execution_count": 188,
   "metadata": {},
   "outputs": [],
   "source": [
    "x = 1"
   ]
  },
  {
   "cell_type": "code",
   "execution_count": 189,
   "metadata": {},
   "outputs": [
    {
     "data": {
      "text/plain": [
       "55.385917635337854"
      ]
     },
     "execution_count": 189,
     "metadata": {},
     "output_type": "execute_result"
    }
   ],
   "source": [
    "df = (2*sin(sin(1)+cos(5))/((cos(sin(1)+cos(5)))**3))*(cos(1)-2*sin(5))\n",
    "df"
   ]
  },
  {
   "cell_type": "markdown",
   "metadata": {},
   "source": [
    "Производная, вычисленная с помощью python:"
   ]
  },
  {
   "cell_type": "code",
   "execution_count": 190,
   "metadata": {},
   "outputs": [],
   "source": [
    "from scipy.misc import derivative"
   ]
  },
  {
   "cell_type": "code",
   "execution_count": 191,
   "metadata": {},
   "outputs": [],
   "source": [
    "def f(x):\n",
    "    return (tan(sin(x) + cos(2*x+3)))**2"
   ]
  },
  {
   "cell_type": "code",
   "execution_count": 192,
   "metadata": {},
   "outputs": [
    {
     "data": {
      "text/plain": [
       "55.3859176464222"
      ]
     },
     "execution_count": 192,
     "metadata": {},
     "output_type": "execute_result"
    }
   ],
   "source": [
    "derivative(f, 1.0, dx=1e-6)"
   ]
  },
  {
   "cell_type": "markdown",
   "metadata": {
    "id": "T1y3_xiwjFpC"
   },
   "source": [
    "## Задание 3"
   ]
  },
  {
   "cell_type": "markdown",
   "metadata": {
    "id": "1EyIA1IQjU7w"
   },
   "source": [
    "Дана функция с неизвестными параметрами a и b, вам также известны значения функции fx в точках x. Найдите оптимальные параметры a, b, минимизирующие абсолютную ошибку **error**."
   ]
  },
  {
   "cell_type": "code",
   "execution_count": 274,
   "metadata": {},
   "outputs": [],
   "source": [
    "from scipy.optimize import minimize "
   ]
  },
  {
   "cell_type": "code",
   "execution_count": 275,
   "metadata": {
    "id": "eoBdc8Pwjhmk"
   },
   "outputs": [],
   "source": [
    "def f(x, a, b):\n",
    "    return np.e**a * np.sin(b*x) + x"
   ]
  },
  {
   "cell_type": "code",
   "execution_count": 276,
   "metadata": {
    "id": "nftvBKK2jho9"
   },
   "outputs": [],
   "source": [
    "x = np.array([0.        , 0.26315789, 0.52631579, 0.78947368, 1.05263158,\n",
    "              1.31578947, 1.57894737, 1.84210526, 2.10526316, 2.36842105,\n",
    "              2.63157895, 2.89473684, 3.15789474, 3.42105263, 3.68421053,\n",
    "              3.94736842, 4.21052632, 4.47368421, 4.73684211, 5.        ])"
   ]
  },
  {
   "cell_type": "code",
   "execution_count": 277,
   "metadata": {
    "id": "Dk9sBWrKjhrH"
   },
   "outputs": [],
   "source": [
    "fx = np.array([  0.        , -12.01819092, -18.90968634, -17.68786571,\n",
    "                -8.7529108 ,   4.27524517,  16.06801336,  21.81250213,\n",
    "                19.22059845,   9.48411207,  -3.22273056, -13.48576488,\n",
    "               -16.91096359, -11.95866834,  -0.58630088,  12.56873816,\n",
    "                22.12489421,  24.20292139,  18.04522521,   6.33211092])"
   ]
  },
  {
   "cell_type": "code",
   "execution_count": 278,
   "metadata": {
    "id": "X_4afDeijht2"
   },
   "outputs": [
    {
     "data": {
      "image/png": "[encoded data removed]",
      "text/plain": [
       "<Figure size 432x288 with 1 Axes>"
      ]
     },
     "metadata": {
      "needs_background": "light"
     },
     "output_type": "display_data"
    }
   ],
   "source": [
    "plt.plot(x, fx)\n",
    "plt.show()"
   ]
  },
  {
   "cell_type": "code",
   "execution_count": 279,
   "metadata": {
    "id": "oXoGpFu0i-6g"
   },
   "outputs": [],
   "source": [
    "def error(params):\n",
    "    print(np.sum(np.abs(fx - f(x, params[0], params[1]))))\n",
    "    return np.sum(np.abs(fx - f(x, params[0], params[1])))"
   ]
  },
  {
   "cell_type": "markdown",
   "metadata": {},
   "source": [
    "    • scipy.optimize.minimize (+ method=’COBYLA’)\n",
    "    • scipy.optimize.differential_evolution (+ scipy.optimize.Bounds)"
   ]
  },
  {
   "cell_type": "code",
   "execution_count": 303,
   "metadata": {},
   "outputs": [],
   "source": [
    "ab0 = [10,10]"
   ]
  },
  {
   "cell_type": "code",
   "execution_count": 304,
   "metadata": {},
   "outputs": [
    {
     "name": "stdout",
     "output_type": "stream",
     "text": [
      "264690.5499731483\n",
      "436369.8832472551\n",
      "264546.2740045753\n",
      "160454.91257056146\n",
      "102796.03365362305\n",
      "92743.75754935962\n",
      "15365.888159176993\n",
      "15638.005175925495\n",
      "12945.23700447241\n",
      "4854.0971168696315\n",
      "14041.974289237236\n",
      "1165.2094633605104\n",
      "270.22891441652985\n",
      "243.43875098856432\n",
      "245.89489419172227\n",
      "244.50162722713438\n",
      "244.63036752454138\n",
      "244.88055354324786\n",
      "245.98064723837444\n",
      "245.82463438988165\n",
      "530.3934240117019\n",
      "242.36302072836997\n",
      "240.1782122681151\n",
      "239.18584907023114\n",
      "243.98336391948465\n",
      "247.64037055068937\n",
      "233.61572609251553\n",
      "245.6135904637077\n",
      "246.24092612886082\n",
      "238.19047297963147\n",
      "246.21813965120086\n",
      "235.18504122904503\n",
      "236.11824823633938\n",
      "234.34421228569647\n",
      "231.64985921938663\n",
      "229.99083813416254\n",
      "234.89717737648584\n",
      "232.5941790000444\n",
      "228.64284863542386\n",
      "226.11849137987474\n",
      "220.8550893297052\n",
      "211.48884201999888\n",
      "204.4586500492504\n",
      "190.2831650748604\n",
      "122.16928850707416\n",
      "71.6897451561679\n",
      "364.117330007591\n",
      "173.90884861648723\n",
      "189.61782976453043\n",
      "52.18328296267008\n",
      "799.7137486962547\n",
      "107.23138225708044\n",
      "292.15752554002563\n",
      "53.144082309205594\n",
      "120.29298592732597\n",
      "21.804484508374916\n",
      "91.80666563653546\n",
      "37.28809016188139\n",
      "12.096319226332037\n",
      "41.66774639533936\n",
      "51.74762256815511\n",
      "17.07308393569955\n",
      "28.963037874997646\n",
      "8.82106610768989\n",
      "22.613276510781724\n",
      "7.590774722663889\n",
      "24.946669709382373\n",
      "3.1936646763833743\n",
      "11.214993406964588\n",
      "4.4231022538502165\n",
      "5.63757815949583\n",
      "2.3023826217683574\n",
      "8.432622882646378\n",
      "1.1987913422760572\n",
      "4.280553301145926\n",
      "1.4600227488335378\n",
      "2.1993301343095633\n",
      "1.078747587564771\n",
      "3.101702698677554\n",
      "0.43440850794336683\n",
      "1.6997344507335361\n",
      "0.6867429558322042\n",
      "0.4302661011537001\n",
      "1.1876149216069383\n",
      "1.1402546838849341\n",
      "0.22994872021196144\n",
      "0.6892871037220312\n",
      "0.16111700241273041\n",
      "0.6114636553556254\n",
      "0.16946027907481298\n",
      "0.4477648000115888\n",
      "0.06054804563026828\n",
      "0.24591380404088437\n",
      "0.07485120150823743\n",
      "0.1792221099907323\n",
      "0.07653222764568568\n",
      "0.09417619595494564\n",
      "0.034768954660972184\n",
      "0.11497673684403242\n",
      "0.0279012228462987\n",
      "0.11378171109087809\n",
      "0.01697659508300209\n",
      "0.03198355105448236\n",
      "0.01564924104988119\n",
      "0.04941612170090437\n",
      "0.010294690875332968\n",
      "0.029239364926693767\n",
      "0.008373640364544244\n",
      "0.00706160053633198\n",
      "0.017941480827702527\n",
      "0.012288990311387415\n",
      "0.004648611836919336\n",
      "0.017000872194312677\n",
      "0.002262927645281465\n",
      "0.009894099114159616\n",
      "0.0033440832397868547\n",
      "0.002854297261963623\n",
      "0.006658955504255104\n",
      "0.0010775154289408562\n",
      "0.0033361201832358134\n",
      "0.0014079042221899485\n",
      "0.0036043708435720134\n",
      "0.0008926364012662447\n",
      "0.0012867326030185922\n",
      "0.0006130710173657405\n",
      "0.0017939350041764612\n",
      "0.0003766256353996411\n",
      "0.0017164374228162416\n",
      "0.0003015051739003738\n",
      "0.000442750151604443\n",
      "0.0001787951367013818\n",
      "0.0007297911463650664\n",
      "0.00010237094903331467\n",
      "0.00040241536902296815\n",
      "0.000132932769610683\n",
      "0.00017593215495548264\n",
      "8.982892002773468e-05\n",
      "0.00026132256108457597\n",
      "4.750676940368237e-05\n",
      "0.00016947345037721107\n",
      "5.777360383607544e-05\n",
      "3.253495111366078e-05\n",
      "8.991047323281265e-05\n",
      "9.587665593180361e-05\n",
      "2.350558762032051e-05\n",
      "6.240891007092131e-05\n",
      "2.14451365367907e-05\n",
      "5.561803274467536e-05\n",
      "1.680851979024567e-05\n",
      "3.760078708747727e-05\n",
      "1.4794878224755337e-05\n",
      "2.3893403689356774e-05\n",
      "1.5098451492612242e-05\n",
      "2.4888957224966646e-05\n",
      "1.3573394774368808e-05\n",
      "1.4232413032999602e-05\n",
      "1.5577720258619365e-05\n",
      "1.342144378835286e-05\n",
      "1.389274909247007e-05\n",
      "1.3472500941524856e-05\n",
      "1.4289887521279354e-05\n",
      "1.325117738648629e-05\n",
      "Optimization terminated successfully.\n",
      "         Current function value: 0.000013\n",
      "         Iterations: 81\n",
      "         Function evaluations: 162\n"
     ]
    }
   ],
   "source": [
    "res = minimize(error,ab0,method ='nelder-mead',options = {'xtol':1e-8,'disp':True})"
   ]
  },
  {
   "cell_type": "code",
   "execution_count": 305,
   "metadata": {},
   "outputs": [
    {
     "data": {
      "text/plain": [
       "array([ 3.        , 21.37610416])"
      ]
     },
     "execution_count": 305,
     "metadata": {},
     "output_type": "execute_result"
    }
   ],
   "source": [
    "res.x"
   ]
  },
  {
   "cell_type": "code",
   "execution_count": 306,
   "metadata": {},
   "outputs": [
    {
     "data": {
      "text/plain": [
       " final_simplex: (array([[ 3.        , 21.37610416],\n",
       "       [ 3.00000001, 21.37610417],\n",
       "       [ 3.        , 21.37610416]]), array([1.32511774e-05, 1.34214438e-05, 1.34725009e-05]))\n",
       "           fun: 1.325117738648629e-05\n",
       "       message: 'Optimization terminated successfully.'\n",
       "          nfev: 162\n",
       "           nit: 81\n",
       "        status: 0\n",
       "       success: True\n",
       "             x: array([ 3.        , 21.37610416])"
      ]
     },
     "execution_count": 306,
     "metadata": {},
     "output_type": "execute_result"
    }
   ],
   "source": [
    "res"
   ]
  },
  {
   "cell_type": "code",
   "execution_count": 307,
   "metadata": {},
   "outputs": [
    {
     "data": {
      "text/plain": [
       "array([  0.        , -12.01819254, -18.90968628, -17.68786494,\n",
       "        -8.75291106,   4.2752469 ,  16.06801302,  21.81250228,\n",
       "        19.22059875,   9.48411069,  -3.22272981, -13.48576561,\n",
       "       -16.9109636 , -11.95866758,  -0.58630193,  12.56873904,\n",
       "        22.12489363,  24.20292121,  18.04522624,   6.33211023])"
      ]
     },
     "execution_count": 307,
     "metadata": {},
     "output_type": "execute_result"
    }
   ],
   "source": [
    "f(x, res.x[0], res.x[1])"
   ]
  },
  {
   "cell_type": "code",
   "execution_count": 308,
   "metadata": {},
   "outputs": [
    {
     "data": {
      "text/plain": [
       "array([  0.        , -12.01819092, -18.90968634, -17.68786571,\n",
       "        -8.7529108 ,   4.27524517,  16.06801336,  21.81250213,\n",
       "        19.22059845,   9.48411207,  -3.22273056, -13.48576488,\n",
       "       -16.91096359, -11.95866834,  -0.58630088,  12.56873816,\n",
       "        22.12489421,  24.20292139,  18.04522521,   6.33211092])"
      ]
     },
     "execution_count": 308,
     "metadata": {},
     "output_type": "execute_result"
    }
   ],
   "source": [
    "fx"
   ]
  },
  {
   "cell_type": "code",
   "execution_count": null,
   "metadata": {},
   "outputs": [],
   "source": []
  },
  {
   "cell_type": "code",
   "execution_count": null,
   "metadata": {},
   "outputs": [],
   "source": []
  },
  {
   "cell_type": "markdown",
   "metadata": {
    "id": "4AXJ_r5UjrY5"
   },
   "source": [
    "## Задание 4"
   ]
  },
  {
   "cell_type": "markdown",
   "metadata": {
    "id": "zRnYGwhXjtQB"
   },
   "source": [
    "Создайте собственную дискретную случайную величину с 20 значениями. Сгенерируйте 1000 выборок размера 50. Посчитайте среднее для каждой выборки. Постройте гистограмму распределения средних."
   ]
  },
  {
   "cell_type": "markdown",
   "metadata": {
    "id": "KJWpqOvPjt1E"
   },
   "source": [
    "## Задание 5"
   ]
  },
  {
   "cell_type": "markdown",
   "metadata": {
    "id": "48ezmZDMjvIY"
   },
   "source": [
    "Найдите собственные значения и собственные вектора матрицы (на python и на бумаге):"
   ]
  },
  {
   "cell_type": "markdown",
   "metadata": {
    "id": "509GRSXskfQt"
   },
   "source": [
    "\n",
    "\n",
    "```\n",
    "m = np.array([[1, 4],\n",
    "              [1, 1]])\n",
    "print(m)\n",
    "```\n",
    "\n"
   ]
  },
  {
   "cell_type": "code",
   "execution_count": null,
   "metadata": {},
   "outputs": [],
   "source": []
  }
 ],
 "metadata": {
  "colab": {
   "name": "HW_X",
   "provenance": []
  },
  "kernelspec": {
   "display_name": "Python 3",
   "language": "python",
   "name": "python3"
  },
  "language_info": {
   "codemirror_mode": {
    "name": "ipython",
    "version": 3
   },
   "file_extension": ".py",
   "mimetype": "text/x-python",
   "name": "python",
   "nbconvert_exporter": "python",
   "pygments_lexer": "ipython3",
   "version": "3.6.9"
  }
 },
 "nbformat": 4,
 "nbformat_minor": 1
}
