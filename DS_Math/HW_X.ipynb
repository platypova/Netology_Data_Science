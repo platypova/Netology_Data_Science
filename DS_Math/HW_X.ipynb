{
 "cells": [
  {
   "cell_type": "markdown",
   "metadata": {
    "id": "g1hQiFW7isGe"
   },
   "source": [
    "# Итоговая работа."
   ]
  },
  {
   "cell_type": "code",
   "execution_count": 148,
   "metadata": {
    "id": "NyZ7GotDi1Mp"
   },
   "outputs": [],
   "source": [
    "import matplotlib.pyplot as plt\n",
    "import numpy as np\n",
    "\n",
    "from scipy.optimize import minimize\n",
    "%matplotlib inline"
   ]
  },
  {
   "cell_type": "markdown",
   "metadata": {
    "id": "VZFf_auXisJd"
   },
   "source": [
    "## Задание 1"
   ]
  },
  {
   "cell_type": "markdown",
   "metadata": {
    "id": "ABMPXsuhisMO"
   },
   "source": [
    "Дана матрица рейтингов фильмов (строки - пользователи (10 человек), столбцы - фильмы (15 фильмов))"
   ]
  },
  {
   "cell_type": "code",
   "execution_count": 149,
   "metadata": {
    "id": "D4_Vshevi-4P"
   },
   "outputs": [],
   "source": [
    "raitings = np.array([[ 4,  4,  9,  4,  1,  6, 10,  7,  9,  6,  9,  2,  8,  6,  6],\n",
    "                     [ 9,  2,  5, 10,  7,  8, 10,  5,  6,  2,  1,  6,  8,  9,  7],\n",
    "                     [ 1,  6,  8,  8,  4,  9,  3,  8, 10,  5,  2,  6,  8,  1,  6],\n",
    "                     [ 6,  1,  9,  7,  7,  9,  2,  3,  5,  1,  6,  6,  3,  2,  7],\n",
    "                     [ 3,  7,  3,  5,  7,  9,  9,  6,  2,  9,  1,  2,  8, 10,  6],\n",
    "                     [ 8,  3,  7,  3,  8,  6,  1,  8,  8,  6,  1,  9,  4, 10,  1],\n",
    "                     [ 9,  8,  4,  8,  8, 10,  6,  1,  1,  2,  9,  5,  2,  7,  2],\n",
    "                     [ 4,  1,  6,  4,  3, 10,  4,  4,  2,  8,  7,  9,  3,  8,  3],\n",
    "                     [ 2,  7,  7,  6, 10,  6,  8,  9,  8,  6, 10,  1,  7, 10,  4],\n",
    "                     [ 5, 10,  8,  8,  9,  7,  2,  9,  9, 10,  8,  8,  8,  6, 10]])"
   ]
  },
  {
   "cell_type": "markdown",
   "metadata": {},
   "source": [
    "**a)** Необходимо найти наиболее похожего пользователя по косинусной метрике для каждого из (ответ: 10 пар вида (x, y), где y - наиболее похожий пользователь на пользователя x)."
   ]
  },
  {
   "cell_type": "code",
   "execution_count": 154,
   "metadata": {},
   "outputs": [],
   "source": [
    "import sklearn.metrics as skm"
   ]
  },
  {
   "cell_type": "code",
   "execution_count": 155,
   "metadata": {},
   "outputs": [],
   "source": [
    "pairs = []\n",
    "for i in range(raitings.shape[0]):\n",
    "    pair =[0,0]\n",
    "    pair[0] = i\n",
    "    for k in range(raitings.shape[0]):\n",
    "        if k!=i:\n",
    "            dist1 = skm.pairwise_distances([raitings[i],raitings[k]], metric='correlation')[0][1]\n",
    "            if k > 0:\n",
    "                dist2 = skm.pairwise_distances([raitings[i],raitings[k-1]], metric='correlation')[0][1]\n",
    "                if dist1<dist2:\n",
    "                    pair[1] = k\n",
    "            else:\n",
    "                pair[1] = k\n",
    "    pairs.append(pair)"
   ]
  },
  {
   "cell_type": "markdown",
   "metadata": {},
   "source": [
    "### Ответ:"
   ]
  },
  {
   "cell_type": "code",
   "execution_count": 156,
   "metadata": {},
   "outputs": [
    {
     "data": {
      "text/plain": [
       "[[0, 8],\n",
       " [1, 6],\n",
       " [2, 9],\n",
       " [3, 9],\n",
       " [4, 8],\n",
       " [5, 9],\n",
       " [6, 3],\n",
       " [7, 5],\n",
       " [8, 6],\n",
       " [9, 8]]"
      ]
     },
     "execution_count": 156,
     "metadata": {},
     "output_type": "execute_result"
    }
   ],
   "source": [
    "pairs"
   ]
  },
  {
   "cell_type": "markdown",
   "metadata": {},
   "source": [
    "\n",
    "**b)** Предположим, вы захотели сжать признаковые описания пользователя с 15 фильмов, до, скажем, 5-ти признаков, как вы это сделаете?"
   ]
  },
  {
   "cell_type": "code",
   "execution_count": 157,
   "metadata": {},
   "outputs": [],
   "source": [
    "import sklearn.decomposition as skd"
   ]
  },
  {
   "cell_type": "markdown",
   "metadata": {},
   "source": [
    "### Используем для нахождения решения Метод главных компонент"
   ]
  },
  {
   "cell_type": "code",
   "execution_count": 158,
   "metadata": {},
   "outputs": [],
   "source": [
    "raitings_t = raitings.transpose()"
   ]
  },
  {
   "cell_type": "code",
   "execution_count": 159,
   "metadata": {},
   "outputs": [],
   "source": [
    "pca = skd.PCA(n_components=5)\n",
    "res = pca.fit(raitings_t)"
   ]
  },
  {
   "cell_type": "code",
   "execution_count": 160,
   "metadata": {},
   "outputs": [
    {
     "data": {
      "text/plain": [
       "(5, 10)"
      ]
     },
     "execution_count": 160,
     "metadata": {},
     "output_type": "execute_result"
    }
   ],
   "source": [
    "res.components_.shape"
   ]
  },
  {
   "cell_type": "code",
   "execution_count": 161,
   "metadata": {},
   "outputs": [],
   "source": [
    "res_t = res.components_.transpose()"
   ]
  },
  {
   "cell_type": "markdown",
   "metadata": {},
   "source": [
    "Ответ - результирующая матрица 10x5:"
   ]
  },
  {
   "cell_type": "code",
   "execution_count": 163,
   "metadata": {},
   "outputs": [
    {
     "data": {
      "text/plain": [
       "array([[-0.31358117,  0.25476945,  0.19083908, -0.21852297, -0.60245219],\n",
       "       [ 0.3183522 ,  0.08797986, -0.28039111, -0.69901139,  0.05207337],\n",
       "       [-0.39842075, -0.33594044, -0.12926785, -0.35226532, -0.07047864],\n",
       "       [ 0.1931435 , -0.467029  ,  0.24678578, -0.29060791, -0.24058591],\n",
       "       [ 0.06775794,  0.5158211 , -0.43943666, -0.08501525,  0.09401811],\n",
       "       [ 0.16034486, -0.314959  , -0.67517295,  0.26343614, -0.18599837],\n",
       "       [ 0.62693275,  0.08089786,  0.36874421,  0.11698808,  0.04529902],\n",
       "       [ 0.28148124, -0.11655789, -0.14584713,  0.23289713, -0.62204756],\n",
       "       [-0.15598735,  0.39127865,  0.03216844,  0.18804452, -0.29591552],\n",
       "       [-0.278146  , -0.24058312, -0.01031015,  0.27417652,  0.22692497]])"
      ]
     },
     "execution_count": 163,
     "metadata": {},
     "output_type": "execute_result"
    }
   ],
   "source": [
    "res_t"
   ]
  },
  {
   "cell_type": "code",
   "execution_count": null,
   "metadata": {},
   "outputs": [],
   "source": []
  },
  {
   "cell_type": "markdown",
   "metadata": {
    "id": "QRJEo5ydjFjG"
   },
   "source": [
    "## Задание 2"
   ]
  },
  {
   "cell_type": "markdown",
   "metadata": {
    "id": "39rGnTIojFlV"
   },
   "source": [
    "\n",
    "Вычислите производную $tg^2(sin(x) + cos(2x+3))$ в точке $x_0=1$ (на python и на бумаге)."
   ]
  },
  {
   "cell_type": "markdown",
   "metadata": {},
   "source": [
    "Производная, вычисленная вручную:"
   ]
  },
  {
   "cell_type": "markdown",
   "metadata": {},
   "source": [
    "$2sin(sin(x) + cos(2x+3))*1/(cos^3(sin(x) + cos(2x+3)))*(cos(x)-2*sin(2x+3))$"
   ]
  },
  {
   "cell_type": "markdown",
   "metadata": {},
   "source": [
    "Значение в заданной точке:"
   ]
  },
  {
   "cell_type": "code",
   "execution_count": 167,
   "metadata": {},
   "outputs": [],
   "source": [
    "from math import sin, cos"
   ]
  },
  {
   "cell_type": "code",
   "execution_count": 168,
   "metadata": {},
   "outputs": [],
   "source": [
    "x = 1"
   ]
  },
  {
   "cell_type": "code",
   "execution_count": 176,
   "metadata": {},
   "outputs": [
    {
     "data": {
      "text/plain": [
       "55.385917635337854"
      ]
     },
     "execution_count": 176,
     "metadata": {},
     "output_type": "execute_result"
    }
   ],
   "source": [
    "df = (2*sin(sin(1)+cos(5))/((cos(sin(1)+cos(5)))**3))*(cos(1)-2*sin(5))\n",
    "df"
   ]
  },
  {
   "cell_type": "markdown",
   "metadata": {},
   "source": [
    "Производная, вычисленная с помощью python:"
   ]
  },
  {
   "cell_type": "code",
   "execution_count": 179,
   "metadata": {},
   "outputs": [],
   "source": [
    "from scipy.misc import derivative"
   ]
  },
  {
   "cell_type": "code",
   "execution_count": 180,
   "metadata": {},
   "outputs": [],
   "source": [
    "def f(x):\n",
    "    return sin(x) + cx**2"
   ]
  },
  {
   "cell_type": "code",
   "execution_count": 181,
   "metadata": {},
   "outputs": [
    {
     "data": {
      "text/plain": [
       "4.999999999921734"
      ]
     },
     "execution_count": 181,
     "metadata": {},
     "output_type": "execute_result"
    }
   ],
   "source": [
    "derivative(f, 1.0, dx=1e-6)"
   ]
  },
  {
   "cell_type": "markdown",
   "metadata": {
    "id": "T1y3_xiwjFpC"
   },
   "source": [
    "## Задание 3"
   ]
  },
  {
   "cell_type": "markdown",
   "metadata": {
    "id": "1EyIA1IQjU7w"
   },
   "source": [
    "Дана функция с неизвестными параметрами a и b, вам также известны значения функции fx в точках x. Найдите оптимальные параметры a, b, минимизирующие абсолютную ошибку **error**."
   ]
  },
  {
   "cell_type": "code",
   "execution_count": null,
   "metadata": {
    "id": "eoBdc8Pwjhmk"
   },
   "outputs": [],
   "source": [
    "def f(x, a, b):\n",
    "    return np.e**a * np.sin(b*x) + x"
   ]
  },
  {
   "cell_type": "code",
   "execution_count": null,
   "metadata": {
    "id": "nftvBKK2jho9"
   },
   "outputs": [],
   "source": [
    "x = np.array([0.        , 0.26315789, 0.52631579, 0.78947368, 1.05263158,\n",
    "              1.31578947, 1.57894737, 1.84210526, 2.10526316, 2.36842105,\n",
    "              2.63157895, 2.89473684, 3.15789474, 3.42105263, 3.68421053,\n",
    "              3.94736842, 4.21052632, 4.47368421, 4.73684211, 5.        ])"
   ]
  },
  {
   "cell_type": "code",
   "execution_count": null,
   "metadata": {
    "id": "Dk9sBWrKjhrH"
   },
   "outputs": [],
   "source": [
    "fx = np.array([  0.        , -12.01819092, -18.90968634, -17.68786571,\n",
    "                -8.7529108 ,   4.27524517,  16.06801336,  21.81250213,\n",
    "                19.22059845,   9.48411207,  -3.22273056, -13.48576488,\n",
    "               -16.91096359, -11.95866834,  -0.58630088,  12.56873816,\n",
    "                22.12489421,  24.20292139,  18.04522521,   6.33211092])"
   ]
  },
  {
   "cell_type": "code",
   "execution_count": null,
   "metadata": {
    "id": "X_4afDeijht2"
   },
   "outputs": [],
   "source": [
    "plt.plot(x, fx)\n",
    "plt.show()"
   ]
  },
  {
   "cell_type": "code",
   "execution_count": null,
   "metadata": {
    "id": "oXoGpFu0i-6g"
   },
   "outputs": [],
   "source": [
    "def error(params):\n",
    "    return np.sum(np.abs(fx - f(x, params[0], params[1])))"
   ]
  },
  {
   "cell_type": "markdown",
   "metadata": {
    "id": "4AXJ_r5UjrY5"
   },
   "source": [
    "## Задание 4"
   ]
  },
  {
   "cell_type": "markdown",
   "metadata": {
    "id": "zRnYGwhXjtQB"
   },
   "source": [
    "Создайте собственную дискретную случайную величину с 20 значениями. Сгенерируйте 1000 выборок размера 50. Посчитайте среднее для каждой выборки. Постройте гистограмму распределения средних."
   ]
  },
  {
   "cell_type": "markdown",
   "metadata": {
    "id": "KJWpqOvPjt1E"
   },
   "source": [
    "## Задание 5"
   ]
  },
  {
   "cell_type": "markdown",
   "metadata": {
    "id": "48ezmZDMjvIY"
   },
   "source": [
    "Найдите собственные значения и собственные вектора матрицы (на python и на бумаге):"
   ]
  },
  {
   "cell_type": "markdown",
   "metadata": {
    "id": "509GRSXskfQt"
   },
   "source": [
    "\n",
    "\n",
    "```\n",
    "m = np.array([[1, 4],\n",
    "              [1, 1]])\n",
    "print(m)\n",
    "```\n",
    "\n"
   ]
  }
 ],
 "metadata": {
  "colab": {
   "name": "HW_X",
   "provenance": []
  },
  "kernelspec": {
   "display_name": "Python 3",
   "language": "python",
   "name": "python3"
  },
  "language_info": {
   "codemirror_mode": {
    "name": "ipython",
    "version": 3
   },
   "file_extension": ".py",
   "mimetype": "text/x-python",
   "name": "python",
   "nbconvert_exporter": "python",
   "pygments_lexer": "ipython3",
   "version": "3.6.9"
  }
 },
 "nbformat": 4,
 "nbformat_minor": 1
}
