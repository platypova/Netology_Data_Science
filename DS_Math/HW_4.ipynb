{
  "nbformat": 4,
  "nbformat_minor": 0,
  "metadata": {
    "colab": {
      "name": "HW_4",
      "provenance": []
    },
    "kernelspec": {
      "name": "python3",
      "display_name": "Python 3"
    }
  },
  "cells": [
    {
      "cell_type": "markdown",
      "metadata": {
        "id": "XCh60YYHSun4"
      },
      "source": [
        "# Домашнее задание \"Математический анализ. Производная\".\n"
      ]
    },
    {
      "cell_type": "markdown",
      "metadata": {
        "id": "dYJjLWBaSur5"
      },
      "source": [
        "### Уровень 0:\n"
      ]
    },
    {
      "cell_type": "markdown",
      "metadata": {
        "id": "jIOhN-AuSuqU"
      },
      "source": [
        "Посчитайте значение первой и второй производной функции:\n",
        "\n",
        "$f(x) = x^5 + 4sin(2x) + cos(3x+3)$ \n",
        "\n",
        "В точке x = 1.\n",
        "\n"
      ]
    },
    {
      "cell_type": "markdown",
      "metadata": {
        "id": "gzEtleVuSuln"
      },
      "source": [
        "### Уровень 1:\n"
      ]
    },
    {
      "cell_type": "markdown",
      "metadata": {
        "id": "1CL3dzNyS_og"
      },
      "source": [
        "Постройте график первой и второй производной функции:\n",
        "\n",
        "$f(x) = sin^5(2x+1)$\n",
        "\n",
        "На отрезке [-5; 5]."
      ]
    }
  ]
}
