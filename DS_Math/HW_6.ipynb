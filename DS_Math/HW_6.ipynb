{
  "nbformat": 4,
  "nbformat_minor": 0,
  "metadata": {
    "colab": {
      "name": "HW_6",
      "provenance": [],
      "collapsed_sections": []
    },
    "kernelspec": {
      "name": "python3",
      "display_name": "Python 3"
    }
  },
  "cells": [
    {
      "cell_type": "markdown",
      "metadata": {
        "id": "fnTx5JrSddQV"
      },
      "source": [
        "# Домашнее задание \"Теория оптимизации\"."
      ]
    },
    {
      "cell_type": "markdown",
      "metadata": {
        "id": "Gwx7jfeReY-R"
      },
      "source": [
        "### Задание."
      ]
    },
    {
      "cell_type": "markdown",
      "metadata": {
        "id": "4JhHuyKfddSw"
      },
      "source": [
        "При фиксированном seed=42 поразбирайтесь и поэкспериментируйте с параметрами алгоритма дифференциальной эволюции: strategy, popsize, tol, mutation, recombination и updating.\n",
        "\n",
        "Постройте графики количества итераций оптимизации функции ackley от значения параметра."
      ]
    },
    {
      "cell_type": "markdown",
      "metadata": {
        "id": "AoJvQgnVddUy"
      },
      "source": [
        "### Дополнительное задание."
      ]
    },
    {
      "cell_type": "markdown",
      "metadata": {
        "id": "0G9zpm2ZddWr"
      },
      "source": [
        "Найти множество параметров (strategy=..., ..., updating=...), которые требуют минимального количества итераций."
      ]
    },
    {
      "cell_type": "code",
      "metadata": {
        "id": "mKoDq1O9epjS"
      },
      "source": [
        "import numpy as np\n",
        "from scipy.optimize import differential_evolution"
      ],
      "execution_count": 1,
      "outputs": []
    },
    {
      "cell_type": "code",
      "metadata": {
        "id": "2BlN34tSeplM",
        "outputId": "086f6737-3509-4971-dea7-6ee184c96e8e",
        "colab": {
          "base_uri": "https://localhost:8080/"
        }
      },
      "source": [
        "def ackley(x):\n",
        "    arg1 = -0.2 * np.sqrt(0.5 * (x[0] ** 2 + x[1] ** 2))\n",
        "    arg2 = 0.5 * (np.cos(2. * np.pi * x[0]) + np.cos(2. * np.pi * x[1]))\n",
        "    return -20. * np.exp(arg1) - np.exp(arg2) + 20. + np.e\n",
        "\n",
        "bounds = [(-10, 10), (-10, 10)]\n",
        "\n",
        "result = differential_evolution(ackley, bounds, seed=42)\n",
        "result"
      ],
      "execution_count": 2,
      "outputs": [
        {
          "output_type": "execute_result",
          "data": {
            "text/plain": [
              "     fun: 4.440892098500626e-16\n",
              " message: 'Optimization terminated successfully.'\n",
              "    nfev: 2793\n",
              "     nit: 90\n",
              " success: True\n",
              "       x: array([0., 0.])"
            ]
          },
          "metadata": {
            "tags": []
          },
          "execution_count": 2
        }
      ]
    }
  ]
}