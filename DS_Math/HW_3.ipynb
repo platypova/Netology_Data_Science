{
  "nbformat": 4,
  "nbformat_minor": 0,
  "metadata": {
    "colab": {
      "name": "HW_3",
      "provenance": [],
      "collapsed_sections": []
    },
    "kernelspec": {
      "name": "python3",
      "display_name": "Python 3"
    }
  },
  "cells": [
    {
      "cell_type": "markdown",
      "metadata": {
        "id": "pqJ3l8E1PXFU"
      },
      "source": [
        "# Домашнее задание \"Продвинутая линейная алгебра\"."
      ]
    },
    {
      "cell_type": "markdown",
      "metadata": {
        "id": "xV6YXX6VPjiM"
      },
      "source": [
        "### Уровень 0:"
      ]
    },
    {
      "cell_type": "markdown",
      "metadata": {
        "id": "sdJhzn3YPCZG"
      },
      "source": [
        "Придумайте матрицы, которые обладают следующими свойствами:\n",
        "\n",
        "a) Диагональная, ортогональная, но не единичная(!)\n",
        "\n",
        "b) Верхнетреугольная, ортогональная\n",
        "\n",
        "c) Нижнетреугольная, ортогональная\n",
        "\n",
        "d) Матрица, у которой определитель = 1, и все элементы не равны 0\n",
        "\n",
        "P.S. Во всех пунктах ответом должна быть ненулевая матрица размерности не менее 2!\n"
      ]
    },
    {
      "cell_type": "markdown",
      "metadata": {
        "id": "DoobuSBZQl6d"
      },
      "source": [
        "Найдите собственные значения и собственные вектора матриц:\n",
        "\n",
        "```\n",
        "m = np.array([[2, 2],\n",
        "              [1, 3]])\n",
        "print(m)\n",
        "```"
      ]
    },
    {
      "cell_type": "markdown",
      "metadata": {
        "id": "1IymnLDrPCXH"
      },
      "source": [
        "### Уровень 1:"
      ]
    },
    {
      "cell_type": "markdown",
      "metadata": {
        "id": "iJPawZAEPpJO"
      },
      "source": [
        "\n",
        "Найдите спектральное разложение матрицы:\n",
        "\n",
        "```\n",
        "m = np.array([[1, 2],\n",
        "              [2,3]])\n",
        "print(m)\n",
        "```\n"
      ]
    },
    {
      "cell_type": "markdown",
      "metadata": {
        "id": "V9fcRZltQoRu"
      },
      "source": [
        "Постройте зависимость качества восстановления рукописных цифр (MNIST) в зависимости от различного количества компонент PCA. В качестве метрики различия предлагаю использовать MSE.*\n",
        "\n",
        "\n"
      ]
    },
    {
      "cell_type": "markdown",
      "metadata": {
        "id": "pH2vOABpSMSQ"
      },
      "source": [
        "\n",
        "--------------------------------------------------------------------------------"
      ]
    },
    {
      "cell_type": "markdown",
      "metadata": {
        "id": "d1qAqmOMSMUd"
      },
      "source": [
        "У PCA есть метод transform и inverse_transofrm. Первый - снижает размерность, второй - восстанавливает оригинальные данные с потерей информации.\n",
        "Надо посчитать насколько в среднем точно восстанавливается оригинальная картинка в зависимости от количества компонент в PCA."
      ]
    },
    {
      "cell_type": "markdown",
      "metadata": {
        "id": "THD2Cd1ySPOQ"
      },
      "source": [
        ""
      ]
    },
    {
      "cell_type": "markdown",
      "metadata": {
        "id": "tosUSbt0QqYG"
      },
      "source": [
        "В качестве справки можно использовать:\n",
        "\n",
        "https://scikit-learn.org/stable/modules/generated/sklearn.decomposition.PCA.html - Документация по PCA\n",
        "\n",
        "https://scikit-learn.org/stable/modules/generated/sklearn.metrics.mean_squared_error.html - Документация по MSE\n",
        "\n",
        "Картинки цифр можно взять отсюда - https://scikit-learn.org/stable/modules/generated/sklearn.datasets.load_digits.html\n"
      ]
    }
  ]
}