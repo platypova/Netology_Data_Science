{
 "cells": [
  {
   "cell_type": "markdown",
   "metadata": {},
   "source": [
    "# Домашнее задание к лекции \"Введение в типы данных и циклы. Часть 1\""
   ]
  },
  {
   "cell_type": "markdown",
   "metadata": {},
   "source": [
    "### Задание 1 "
   ]
  },
  {
   "cell_type": "markdown",
   "metadata": {},
   "source": [
    "Дана переменная, в которой хранится слово из латинских букв. Напишите код, который выводит на экран:  \n",
    "\n",
    "среднюю букву, если число букв в слове нечетное;  \n",
    "две средних буквы, если число букв четное.  \n",
    "Примеры работы программы:  \n",
    "\n",
    "word = 'test'  \n",
    "Результат:  \n",
    "es  \n",
    "\n",
    "word = 'testing'  \n",
    "Результат:  \n",
    "t  "
   ]
  },
  {
   "cell_type": "code",
   "execution_count": 27,
   "metadata": {},
   "outputs": [],
   "source": [
    "def middle_letters(word):\n",
    "    \n",
    "    if (len(word) % 2) == 0:\n",
    "        return str(word[ - int((len(word) / 2 + 1))] + word[ - int(len(word) / 2)])\n",
    "    else:\n",
    "        return word[- (int(len(word) / 2) + 1)]"
   ]
  },
  {
   "cell_type": "code",
   "execution_count": 28,
   "metadata": {},
   "outputs": [
    {
     "name": "stdout",
     "output_type": "stream",
     "text": [
      "Apple\n",
      "p\n"
     ]
    }
   ],
   "source": [
    "a = input()\n",
    "print(middle_letters(a))"
   ]
  },
  {
   "cell_type": "markdown",
   "metadata": {},
   "source": [
    "### Задание 2"
   ]
  },
  {
   "cell_type": "markdown",
   "metadata": {},
   "source": [
    "Напишите программу, которая последовательно запрашивает у пользователя числа (по одному за раз) и после первого нуля выводит сумму всех ранее введенных чисел.  \n",
    "\n",
    "Примеры работы программы:  \n",
    "\n",
    "Введите число:    \n",
    "1  \n",
    "\n",
    "Введите число:    \n",
    "4  \n",
    "\n",
    "Введите число:    \n",
    "6  \n",
    "\n",
    "Введите число:    \n",
    "0  \n",
    "Результат:  \n",
    "11  \n",
    "\n",
    "Введите число:    \n",
    "0  \n",
    "Результат:  \n",
    "0  "
   ]
  },
  {
   "cell_type": "code",
   "execution_count": 5,
   "metadata": {},
   "outputs": [
    {
     "name": "stdout",
     "output_type": "stream",
     "text": [
      "Введите число:\n",
      "1\n",
      "Введите число:\n",
      "2\n",
      "Введите число:\n",
      "3\n",
      "Введите число:\n",
      "4\n",
      "Введите число:\n",
      "5\n",
      "Введите число:\n",
      "0\n",
      "Результат:\n",
      "15.0\n"
     ]
    }
   ],
   "source": [
    "sumnum = 0\n",
    "\n",
    "print('Введите число:')\n",
    "a = input()\n",
    "\n",
    "while int(a) != 0:\n",
    "    sumnum = sumnum + float(a)\n",
    "    print('Введите число:')\n",
    "    a = input() \n",
    "\n",
    "print('Результат:')\n",
    "print(sumnum)"
   ]
  },
  {
   "cell_type": "markdown",
   "metadata": {},
   "source": [
    "### Задание 3"
   ]
  },
  {
   "cell_type": "markdown",
   "metadata": {},
   "source": [
    "Мы делаем MVP dating-сервиса, и у нас есть список парней и девушек.  \n",
    "Выдвигаем гипотезу: лучшие рекомендации мы получим, если просто отсортируем имена по алфавиту и познакомим людей с одинаковыми индексами после сортировки! Но мы не будем никого знакомить, если кто-то может остаться без пары:  \n",
    "\n",
    "Примеры работы программы:  \n",
    "\n",
    "boys = ['Peter', 'Alex', 'John', 'Arthur', 'Richard']  \n",
    "girls = ['Kate', 'Liza', 'Kira', 'Emma', 'Trisha']  \n",
    "Результат:  \n",
    "\n",
    "Идеальные пары:    \n",
    "Alex и Emma    \n",
    "Arthur и Kate    \n",
    "John и Kira    \n",
    "Peter и Liza    \n",
    "Richard и Trisha  \n",
    "boys = ['Peter', 'Alex', 'John', 'Arthur', 'Richard', 'Michael']  \n",
    "girls = ['Kate', 'Liza', 'Kira', 'Emma', 'Trisha']  \n",
    "Результат:  \n",
    "Внимание, кто-то может остаться без пары!  "
   ]
  },
  {
   "cell_type": "code",
   "execution_count": 25,
   "metadata": {},
   "outputs": [],
   "source": [
    "boys = ['Peter', 'Alex','John', 'Arthur', 'Richard']\n",
    "girls = ['Kate', 'Liza', 'Kira', 'Emma', 'Trisha']"
   ]
  },
  {
   "cell_type": "code",
   "execution_count": 26,
   "metadata": {},
   "outputs": [
    {
     "name": "stdout",
     "output_type": "stream",
     "text": [
      "Идеальные пары:\n",
      "Alex  и  Emma\n",
      "Arthur  и  Kate\n",
      "John  и  Kira\n",
      "Peter  и  Liza\n",
      "Richard  и  Trisha\n"
     ]
    }
   ],
   "source": [
    "if len(boys) != len(girls):\n",
    "    print('Внимание, кто-то может остаться без пары!')\n",
    "else:\n",
    "    boys.sort()\n",
    "    girls.sort()\n",
    "    print('Идеальные пары:')\n",
    "    for i in range(len(boys)):\n",
    "        print(boys[i],' и ',girls[i])\n",
    "    "
   ]
  },
  {
   "cell_type": "markdown",
   "metadata": {},
   "source": [
    "### Задание 4"
   ]
  },
  {
   "cell_type": "markdown",
   "metadata": {},
   "source": [
    "У нас есть список, содержащий информацию о среднедневной температуре в Фаренгейтах за произвольный период по странам (структура данных в примере). Необходимо написать код, который рассчитает среднюю температуру за период в Цельсиях(!) для каждой страны.  \n",
    "\n",
    "Пример работы программы:  \n",
    "\n",
    "countries_temperature = [  \n",
    "    ['Thailand', [75.2, 77, 78.8, 73.4, 68, 75.2, 77]],  \n",
    "    ['Germany', [57.2, 55.4, 59, 59, 53.6]],  \n",
    "    ['Russia', [35.6, 37.4, 39.2, 41, 42.8, 39.2, 35.6]],  \n",
    "    ['Poland', [50, 50, 53.6, 57.2, 55.4, 55.4]]  \n",
    "]  \n",
    "Результат:  \n",
    "\n",
    "Средняя температура в странах:  \n",
    "Thailand  -  23.9 С  \n",
    "Germany  -  13.8 С  \n",
    "Russia  -  3.7 С  \n",
    "Poland  -  12.0 С  \n"
   ]
  },
  {
   "cell_type": "code",
   "execution_count": 23,
   "metadata": {},
   "outputs": [],
   "source": [
    "countries_temperature = [\n",
    "['Thailand', [75.2, 77, 78.8, 73.4, 68, 75.2, 77]],\n",
    "['Germany', [57.2, 55.4, 59, 59, 53.6]],\n",
    "['Russia', [35.6, 37.4, 39.2, 41, 42.8, 39.2, 35.6]],\n",
    "['Poland', [50, 50, 53.6, 57.2, 55.4, 55.4]]\n",
    "]"
   ]
  },
  {
   "cell_type": "code",
   "execution_count": 24,
   "metadata": {},
   "outputs": [
    {
     "name": "stdout",
     "output_type": "stream",
     "text": [
      "Средняя температура в странах:\n",
      "Thailand - 23.9 C\n",
      "Germany - 13.8 C\n",
      "Russia - 3.7 C\n",
      "Poland - 12.0 C\n"
     ]
    }
   ],
   "source": [
    "print('Средняя температура в странах:')\n",
    "for i in range(len(countries_temperature)):\n",
    "    avg_temp = (sum(countries_temperature[i][1])/len(countries_temperature[i][1])-32)*5/9\n",
    "    print(countries_temperature[i][0],'-','%.1f'%avg_temp, 'C')\n",
    "    "
   ]
  },
  {
   "cell_type": "code",
   "execution_count": null,
   "metadata": {},
   "outputs": [],
   "source": []
  }
 ],
 "metadata": {
  "kernelspec": {
   "display_name": "Python 3",
   "language": "python",
   "name": "python3"
  },
  "language_info": {
   "codemirror_mode": {
    "name": "ipython",
    "version": 3
   },
   "file_extension": ".py",
   "mimetype": "text/x-python",
   "name": "python",
   "nbconvert_exporter": "python",
   "pygments_lexer": "ipython3",
   "version": "3.7.5"
  }
 },
 "nbformat": 4,
 "nbformat_minor": 2
}
