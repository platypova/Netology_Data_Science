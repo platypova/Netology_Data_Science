{
 "cells": [
  {
   "cell_type": "markdown",
   "metadata": {},
   "source": [
    "# Домашнее задание «Библиотека Pandas»"
   ]
  },
  {
   "cell_type": "markdown",
   "metadata": {},
   "source": [
    "## Преподаватель: Константин Башевой"
   ]
  },
  {
   "cell_type": "markdown",
   "metadata": {},
   "source": [
    "## Домашнее задание"
   ]
  },
  {
   "cell_type": "markdown",
   "metadata": {},
   "source": [
    "## Задание 1  "
   ]
  },
  {
   "cell_type": "markdown",
   "metadata": {},
   "source": [
    "Скачайте с сайта https://grouplens.org/datasets/movielens/ датасет любого размера. Определите какому фильму было выставлено больше всего оценок 5.0."
   ]
  },
  {
   "cell_type": "code",
   "execution_count": 19,
   "metadata": {},
   "outputs": [],
   "source": [
    "import pandas as pd\n",
    "import glob"
   ]
  },
  {
   "cell_type": "code",
   "execution_count": 20,
   "metadata": {},
   "outputs": [],
   "source": [
    "from zipfile import ZipFile\n",
    "from io import StringIO"
   ]
  },
  {
   "cell_type": "code",
   "execution_count": 21,
   "metadata": {},
   "outputs": [],
   "source": [
    "from zipfile import ZipFile\n",
    "import io\n",
    "from urllib.request import urlopen"
   ]
  },
  {
   "cell_type": "code",
   "execution_count": 22,
   "metadata": {},
   "outputs": [],
   "source": [
    "r = urlopen(\"http://files.grouplens.org/datasets/movielens/ml-25m.zip\").read()\n",
    "file = ZipFile(io.BytesIO(r))"
   ]
  },
  {
   "cell_type": "code",
   "execution_count": 23,
   "metadata": {},
   "outputs": [],
   "source": [
    "movies_csv = file.open(\"ml-25m/movies.csv\")\n",
    "movies = pd.read_csv(movies_csv)\n",
    "ratings_csv = file.open(\"ml-25m/ratings.csv\")\n",
    "ratings = pd.read_csv(ratings_csv)"
   ]
  },
  {
   "cell_type": "code",
   "execution_count": 24,
   "metadata": {},
   "outputs": [],
   "source": [
    "RatingsFive = ratings.copy()\n",
    "RatingsFive = RatingsFive[RatingsFive['rating'] == 5.0]\n",
    "MaxFiveMovieId = RatingsFive['movieId'].value_counts().keys()[0]\n",
    "MaxFiveMovieTitle = movies[movies['movieId'] == MaxFiveMovieId]['title'].values[0]"
   ]
  },
  {
   "cell_type": "code",
   "execution_count": 25,
   "metadata": {},
   "outputs": [
    {
     "name": "stdout",
     "output_type": "stream",
     "text": [
      "Фильм с наибольшим количеством оценок 5.0: Shawshank Redemption, The (1994) , movieId = 318\n"
     ]
    }
   ],
   "source": [
    "print('Фильм с наибольшим количеством оценок 5.0:', MaxFiveMovieTitle, ', movieId =', MaxFiveMovieId)"
   ]
  },
  {
   "cell_type": "markdown",
   "metadata": {},
   "source": [
    "## Задание 2"
   ]
  },
  {
   "cell_type": "markdown",
   "metadata": {},
   "source": [
    "По данным файла power.csv посчитайте суммарное потребление стран Прибалтики (Латвия, Литва и Эстония) категорий 4, 12 и 21 за период с 2005 по 2010 года. Не учитывайте в расчетах отрицательные значения quantity."
   ]
  },
  {
   "cell_type": "code",
   "execution_count": 54,
   "metadata": {},
   "outputs": [],
   "source": [
    "power = pd.read_csv('Data/pandas_basics/power.csv')"
   ]
  },
  {
   "cell_type": "code",
   "execution_count": 55,
   "metadata": {},
   "outputs": [],
   "source": [
    "SelectedPower = power.copy()\n",
    "SelectedPower = power[power['country'].isin(['Lithuania','Latvia','Estonia'])]\n",
    "SelectedPower = SelectedPower[SelectedPower['category'].isin([4,12,21])]\n",
    "SelectedPower = SelectedPower[(SelectedPower['year'] >= 2005) & (SelectedPower['year'] <= 2010)]\n"
   ]
  },
  {
   "cell_type": "code",
   "execution_count": 56,
   "metadata": {},
   "outputs": [
    {
     "name": "stdout",
     "output_type": "stream",
     "text": [
      "Суммарное потребление стран Прибалтики (Латвия, Литва и Эстония) категорий 4, 12 и 21 за период с 2005 по 2010 года:  240481.0\n"
     ]
    }
   ],
   "source": [
    "print('Суммарное потребление стран Прибалтики (Латвия, Литва и Эстония) категорий 4, 12 и 21 за период с 2005 по 2010 года: ', SelectedPower['quantity'].sum())"
   ]
  },
  {
   "cell_type": "markdown",
   "metadata": {},
   "source": [
    "## Задание 3"
   ]
  },
  {
   "cell_type": "markdown",
   "metadata": {},
   "source": [
    "Выберите страницу любого сайта с табличными данными. Импортируйте таблицы в pandas dataframe.  \n",
    "Примеры страниц (необязательно брать именно эти):  \n",
    "https://fortrader.org/quotes  \n",
    "https://www.finanz.ru/valyuty/v-realnom-vremeni  "
   ]
  },
  {
   "cell_type": "code",
   "execution_count": 57,
   "metadata": {},
   "outputs": [],
   "source": [
    "import html5lib"
   ]
  },
  {
   "cell_type": "code",
   "execution_count": 58,
   "metadata": {},
   "outputs": [],
   "source": [
    "page_url = 'https://www.finanz.ru/valyuty/v-realnom-vremeni'\n",
    "tables = pd.read_html(page_url, encoding='utf-8')"
   ]
  },
  {
   "cell_type": "code",
   "execution_count": 59,
   "metadata": {},
   "outputs": [],
   "source": [
    "ImportedDataramesList = []\n",
    "\n",
    "for i in range(len(tables)):\n",
    "    ImportedDataramesList.append(pd.DataFrame(tables[i]))"
   ]
  },
  {
   "cell_type": "code",
   "execution_count": 60,
   "metadata": {},
   "outputs": [
    {
     "data": {
      "text/plain": [
       "3"
      ]
     },
     "execution_count": 60,
     "metadata": {},
     "output_type": "execute_result"
    }
   ],
   "source": [
    "len(ImportedDataramesList)"
   ]
  },
  {
   "cell_type": "code",
   "execution_count": 61,
   "metadata": {},
   "outputs": [
    {
     "data": {
      "text/html": [
       "<div>\n",
       "<style scoped>\n",
       "    .dataframe tbody tr th:only-of-type {\n",
       "        vertical-align: middle;\n",
       "    }\n",
       "\n",
       "    .dataframe tbody tr th {\n",
       "        vertical-align: top;\n",
       "    }\n",
       "\n",
       "    .dataframe thead th {\n",
       "        text-align: right;\n",
       "    }\n",
       "</style>\n",
       "<table border=\"1\" class=\"dataframe\">\n",
       "  <thead>\n",
       "    <tr style=\"text-align: right;\">\n",
       "      <th></th>\n",
       "      <th>0</th>\n",
       "      <th>1</th>\n",
       "      <th>2</th>\n",
       "      <th>3</th>\n",
       "      <th>4</th>\n",
       "      <th>5</th>\n",
       "      <th>6</th>\n",
       "      <th>7</th>\n",
       "      <th>8</th>\n",
       "      <th>9</th>\n",
       "      <th>10</th>\n",
       "      <th>11</th>\n",
       "    </tr>\n",
       "  </thead>\n",
       "  <tbody>\n",
       "    <tr>\n",
       "      <th>0</th>\n",
       "      <td>ММВБ</td>\n",
       "      <td>3 540</td>\n",
       "      <td>0,9%</td>\n",
       "      <td>Nasdaq</td>\n",
       "      <td>13 320</td>\n",
       "      <td>-0,6%</td>\n",
       "      <td>Биткойн</td>\n",
       "      <td>61 094</td>\n",
       "      <td>-0,3%</td>\n",
       "      <td>USD/RUB</td>\n",
       "      <td>735640</td>\n",
       "      <td>0,0%</td>\n",
       "    </tr>\n",
       "    <tr>\n",
       "      <th>1</th>\n",
       "      <td>РТС</td>\n",
       "      <td>1 520</td>\n",
       "      <td>1,0%</td>\n",
       "      <td>S&amp;P500</td>\n",
       "      <td>3 943</td>\n",
       "      <td>0,1%</td>\n",
       "      <td>Нефть</td>\n",
       "      <td>692</td>\n",
       "      <td>-0,6%</td>\n",
       "      <td>EUR/RUB</td>\n",
       "      <td>875570</td>\n",
       "      <td>0,0%</td>\n",
       "    </tr>\n",
       "    <tr>\n",
       "      <th>2</th>\n",
       "      <td>Dow</td>\n",
       "      <td>32 779</td>\n",
       "      <td>0,9%</td>\n",
       "      <td>FTSE100</td>\n",
       "      <td>6 761</td>\n",
       "      <td>0,4%</td>\n",
       "      <td>Золото</td>\n",
       "      <td>1 727</td>\n",
       "      <td>0,2%</td>\n",
       "      <td>EUR/USD</td>\n",
       "      <td>11954</td>\n",
       "      <td>0,0%</td>\n",
       "    </tr>\n",
       "  </tbody>\n",
       "</table>\n",
       "</div>"
      ],
      "text/plain": [
       "     0       1     2        3       4      5        6       7      8   \\\n",
       "0  ММВБ   3 540  0,9%   Nasdaq  13 320  -0,6%  Биткойн  61 094  -0,3%   \n",
       "1   РТС   1 520  1,0%   S&P500   3 943   0,1%    Нефть     692  -0,6%   \n",
       "2   Dow  32 779  0,9%  FTSE100   6 761   0,4%   Золото   1 727   0,2%   \n",
       "\n",
       "        9       10    11  \n",
       "0  USD/RUB  735640  0,0%  \n",
       "1  EUR/RUB  875570  0,0%  \n",
       "2  EUR/USD   11954  0,0%  "
      ]
     },
     "execution_count": 61,
     "metadata": {},
     "output_type": "execute_result"
    }
   ],
   "source": [
    "ImportedDataramesList[0].head(3)"
   ]
  },
  {
   "cell_type": "code",
   "execution_count": 62,
   "metadata": {},
   "outputs": [
    {
     "data": {
      "text/html": [
       "<div>\n",
       "<style scoped>\n",
       "    .dataframe tbody tr th:only-of-type {\n",
       "        vertical-align: middle;\n",
       "    }\n",
       "\n",
       "    .dataframe tbody tr th {\n",
       "        vertical-align: top;\n",
       "    }\n",
       "\n",
       "    .dataframe thead th {\n",
       "        text-align: right;\n",
       "    }\n",
       "</style>\n",
       "<table border=\"1\" class=\"dataframe\">\n",
       "  <thead>\n",
       "    <tr style=\"text-align: right;\">\n",
       "      <th></th>\n",
       "      <th>Unnamed: 0</th>\n",
       "      <th>Рубль</th>\n",
       "      <th>Предложение</th>\n",
       "      <th>Спрос</th>\n",
       "      <th>Предыдущее закрытие</th>\n",
       "      <th>%</th>\n",
       "      <th>Абсолютное значение</th>\n",
       "      <th>Время</th>\n",
       "    </tr>\n",
       "  </thead>\n",
       "  <tbody>\n",
       "    <tr>\n",
       "      <th>0</th>\n",
       "      <td>NaN</td>\n",
       "      <td>GBP/RUB</td>\n",
       "      <td>1024086</td>\n",
       "      <td>-</td>\n",
       "      <td>1019706</td>\n",
       "      <td>0,43 %</td>\n",
       "      <td>04380</td>\n",
       "      <td>13.03.2021</td>\n",
       "    </tr>\n",
       "    <tr>\n",
       "      <th>1</th>\n",
       "      <td>NaN</td>\n",
       "      <td>EUR/RUB</td>\n",
       "      <td>875570</td>\n",
       "      <td>-</td>\n",
       "      <td>875570</td>\n",
       "      <td>0,00 %</td>\n",
       "      <td>00000</td>\n",
       "      <td>13.03.2021</td>\n",
       "    </tr>\n",
       "    <tr>\n",
       "      <th>2</th>\n",
       "      <td>NaN</td>\n",
       "      <td>USD/RUB</td>\n",
       "      <td>735640</td>\n",
       "      <td>-</td>\n",
       "      <td>735640</td>\n",
       "      <td>0,00 %</td>\n",
       "      <td>00000</td>\n",
       "      <td>13.03.2021</td>\n",
       "    </tr>\n",
       "    <tr>\n",
       "      <th>3</th>\n",
       "      <td>NaN</td>\n",
       "      <td>JPY/RUB</td>\n",
       "      <td>06750</td>\n",
       "      <td>-</td>\n",
       "      <td>06719</td>\n",
       "      <td>0,46 %</td>\n",
       "      <td>00031</td>\n",
       "      <td>13.03.2021</td>\n",
       "    </tr>\n",
       "    <tr>\n",
       "      <th>4</th>\n",
       "      <td>NaN</td>\n",
       "      <td>CNY/RUB</td>\n",
       "      <td>113027</td>\n",
       "      <td>-</td>\n",
       "      <td>112561</td>\n",
       "      <td>0,41 %</td>\n",
       "      <td>00467</td>\n",
       "      <td>13.03.2021</td>\n",
       "    </tr>\n",
       "    <tr>\n",
       "      <th>5</th>\n",
       "      <td>NaN</td>\n",
       "      <td>CHF/RUB</td>\n",
       "      <td>791371</td>\n",
       "      <td>-</td>\n",
       "      <td>787996</td>\n",
       "      <td>0,43 %</td>\n",
       "      <td>03375</td>\n",
       "      <td>13.03.2021</td>\n",
       "    </tr>\n",
       "    <tr>\n",
       "      <th>6</th>\n",
       "      <td>NaN</td>\n",
       "      <td>Евро</td>\n",
       "      <td>Предложение</td>\n",
       "      <td>Спрос</td>\n",
       "      <td>Предыдущее закрытие</td>\n",
       "      <td>%</td>\n",
       "      <td>Абсолютное значение</td>\n",
       "      <td>Время</td>\n",
       "    </tr>\n",
       "    <tr>\n",
       "      <th>7</th>\n",
       "      <td>NaN</td>\n",
       "      <td>EUR/USD</td>\n",
       "      <td>11954</td>\n",
       "      <td>-</td>\n",
       "      <td>11954</td>\n",
       "      <td>0,00 %</td>\n",
       "      <td>00001</td>\n",
       "      <td>13.03.2021</td>\n",
       "    </tr>\n",
       "    <tr>\n",
       "      <th>8</th>\n",
       "      <td>NaN</td>\n",
       "      <td>EUR/GBP</td>\n",
       "      <td>08593</td>\n",
       "      <td>-</td>\n",
       "      <td>08593</td>\n",
       "      <td>0,00 %</td>\n",
       "      <td>00000</td>\n",
       "      <td>13.03.2021</td>\n",
       "    </tr>\n",
       "    <tr>\n",
       "      <th>9</th>\n",
       "      <td>NaN</td>\n",
       "      <td>EUR/JPY</td>\n",
       "      <td>1303150</td>\n",
       "      <td>-</td>\n",
       "      <td>1303150</td>\n",
       "      <td>0,00 %</td>\n",
       "      <td>00000</td>\n",
       "      <td>13.03.2021</td>\n",
       "    </tr>\n",
       "  </tbody>\n",
       "</table>\n",
       "</div>"
      ],
      "text/plain": [
       "   Unnamed: 0    Рубль  Предложение  Спрос  Предыдущее закрытие       %  \\\n",
       "0         NaN  GBP/RUB      1024086      -              1019706  0,43 %   \n",
       "1         NaN  EUR/RUB       875570      -               875570  0,00 %   \n",
       "2         NaN  USD/RUB       735640      -               735640  0,00 %   \n",
       "3         NaN  JPY/RUB        06750      -                06719  0,46 %   \n",
       "4         NaN  CNY/RUB       113027      -               112561  0,41 %   \n",
       "5         NaN  CHF/RUB       791371      -               787996  0,43 %   \n",
       "6         NaN     Евро  Предложение  Спрос  Предыдущее закрытие       %   \n",
       "7         NaN  EUR/USD        11954      -                11954  0,00 %   \n",
       "8         NaN  EUR/GBP        08593      -                08593  0,00 %   \n",
       "9         NaN  EUR/JPY      1303150      -              1303150  0,00 %   \n",
       "\n",
       "   Абсолютное значение       Время  \n",
       "0                04380  13.03.2021  \n",
       "1                00000  13.03.2021  \n",
       "2                00000  13.03.2021  \n",
       "3                00031  13.03.2021  \n",
       "4                00467  13.03.2021  \n",
       "5                03375  13.03.2021  \n",
       "6  Абсолютное значение       Время  \n",
       "7                00001  13.03.2021  \n",
       "8                00000  13.03.2021  \n",
       "9                00000  13.03.2021  "
      ]
     },
     "execution_count": 62,
     "metadata": {},
     "output_type": "execute_result"
    }
   ],
   "source": [
    "ImportedDataramesList[1].head(10)"
   ]
  },
  {
   "cell_type": "code",
   "execution_count": 63,
   "metadata": {},
   "outputs": [
    {
     "data": {
      "text/html": [
       "<div>\n",
       "<style scoped>\n",
       "    .dataframe tbody tr th:only-of-type {\n",
       "        vertical-align: middle;\n",
       "    }\n",
       "\n",
       "    .dataframe tbody tr th {\n",
       "        vertical-align: top;\n",
       "    }\n",
       "\n",
       "    .dataframe thead th {\n",
       "        text-align: right;\n",
       "    }\n",
       "</style>\n",
       "<table border=\"1\" class=\"dataframe\">\n",
       "  <thead>\n",
       "    <tr style=\"text-align: right;\">\n",
       "      <th></th>\n",
       "      <th>0</th>\n",
       "      <th>1</th>\n",
       "      <th>2</th>\n",
       "      <th>3</th>\n",
       "      <th>4</th>\n",
       "      <th>5</th>\n",
       "      <th>6</th>\n",
       "      <th>7</th>\n",
       "      <th>8</th>\n",
       "      <th>9</th>\n",
       "    </tr>\n",
       "  </thead>\n",
       "  <tbody>\n",
       "    <tr>\n",
       "      <th>0</th>\n",
       "      <td>Имя и фамилия</td>\n",
       "      <td>Город</td>\n",
       "      <td>NaN</td>\n",
       "      <td>NaN</td>\n",
       "      <td>NaN</td>\n",
       "      <td>NaN</td>\n",
       "      <td>NaN</td>\n",
       "      <td>NaN</td>\n",
       "      <td>NaN</td>\n",
       "      <td>NaN</td>\n",
       "    </tr>\n",
       "    <tr>\n",
       "      <th>1</th>\n",
       "      <td>Телефон</td>\n",
       "      <td>Email</td>\n",
       "      <td>NaN</td>\n",
       "      <td>NaN</td>\n",
       "      <td>NaN</td>\n",
       "      <td>NaN</td>\n",
       "      <td>NaN</td>\n",
       "      <td>NaN</td>\n",
       "      <td>NaN</td>\n",
       "      <td>NaN</td>\n",
       "    </tr>\n",
       "    <tr>\n",
       "      <th>2</th>\n",
       "      <td>NaN</td>\n",
       "      <td>NaN</td>\n",
       "      <td>Спасибо! Ваша заявка отправлена Финансовый кон...</td>\n",
       "      <td>Спасибо! Ваша заявка отправлена Финансовый кон...</td>\n",
       "      <td>ошибка: не удалось создать заявку в журнале за...</td>\n",
       "      <td>ошибка: не удалось создать заявку в журнале за...</td>\n",
       "      <td>ошибка: не POST-запрос</td>\n",
       "      <td>ошибка: не POST-запрос</td>\n",
       "      <td>Просим Вас согласиться на передачу и обработку...</td>\n",
       "      <td>Просим Вас согласиться на передачу и обработку...</td>\n",
       "    </tr>\n",
       "    <tr>\n",
       "      <th>3</th>\n",
       "      <td>Я даю согласие на обработку своих персональных...</td>\n",
       "      <td>Я даю согласие на обработку своих персональных...</td>\n",
       "      <td>NaN</td>\n",
       "      <td>NaN</td>\n",
       "      <td>NaN</td>\n",
       "      <td>NaN</td>\n",
       "      <td>NaN</td>\n",
       "      <td>NaN</td>\n",
       "      <td>NaN</td>\n",
       "      <td>NaN</td>\n",
       "    </tr>\n",
       "  </tbody>\n",
       "</table>\n",
       "</div>"
      ],
      "text/plain": [
       "                                                   0  \\\n",
       "0                                      Имя и фамилия   \n",
       "1                                            Телефон   \n",
       "2                                                NaN   \n",
       "3  Я даю согласие на обработку своих персональных...   \n",
       "\n",
       "                                                   1  \\\n",
       "0                                              Город   \n",
       "1                                              Email   \n",
       "2                                                NaN   \n",
       "3  Я даю согласие на обработку своих персональных...   \n",
       "\n",
       "                                                   2  \\\n",
       "0                                                NaN   \n",
       "1                                                NaN   \n",
       "2  Спасибо! Ваша заявка отправлена Финансовый кон...   \n",
       "3                                                NaN   \n",
       "\n",
       "                                                   3  \\\n",
       "0                                                NaN   \n",
       "1                                                NaN   \n",
       "2  Спасибо! Ваша заявка отправлена Финансовый кон...   \n",
       "3                                                NaN   \n",
       "\n",
       "                                                   4  \\\n",
       "0                                                NaN   \n",
       "1                                                NaN   \n",
       "2  ошибка: не удалось создать заявку в журнале за...   \n",
       "3                                                NaN   \n",
       "\n",
       "                                                   5                       6  \\\n",
       "0                                                NaN                     NaN   \n",
       "1                                                NaN                     NaN   \n",
       "2  ошибка: не удалось создать заявку в журнале за...  ошибка: не POST-запрос   \n",
       "3                                                NaN                     NaN   \n",
       "\n",
       "                        7                                                  8  \\\n",
       "0                     NaN                                                NaN   \n",
       "1                     NaN                                                NaN   \n",
       "2  ошибка: не POST-запрос  Просим Вас согласиться на передачу и обработку...   \n",
       "3                     NaN                                                NaN   \n",
       "\n",
       "                                                   9  \n",
       "0                                                NaN  \n",
       "1                                                NaN  \n",
       "2  Просим Вас согласиться на передачу и обработку...  \n",
       "3                                                NaN  "
      ]
     },
     "execution_count": 63,
     "metadata": {},
     "output_type": "execute_result"
    }
   ],
   "source": [
    "ImportedDataramesList[2].head(5)"
   ]
  },
  {
   "cell_type": "code",
   "execution_count": null,
   "metadata": {},
   "outputs": [],
   "source": []
  }
 ],
 "metadata": {
  "kernelspec": {
   "display_name": "Python 3",
   "language": "python",
   "name": "python3"
  },
  "language_info": {
   "codemirror_mode": {
    "name": "ipython",
    "version": 3
   },
   "file_extension": ".py",
   "mimetype": "text/x-python",
   "name": "python",
   "nbconvert_exporter": "python",
   "pygments_lexer": "ipython3",
   "version": "3.7.5"
  }
 },
 "nbformat": 4,
 "nbformat_minor": 2
}
