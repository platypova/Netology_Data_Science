{
 "cells": [
  {
   "cell_type": "markdown",
   "metadata": {},
   "source": [
    "# Домашнее задание к лекции \"Функции\""
   ]
  },
  {
   "cell_type": "markdown",
   "metadata": {},
   "source": [
    "Вам нужно помочь секретарю автоматизировать работу. Для этого нужно написать программу, которая будет на основе хранимых данных исполнять пользовательские команды. \n",
    "\n",
    "Исходные данные имеют следующую структуру: \n",
    "\n",
    "перечень всех документов  \n",
    "documents = [ \n",
    " {'type': 'passport', 'number': '2207 876234', 'name': 'Василий Гупкин'},  \n",
    " {'type': 'invoice', 'number': '11-2', 'name': 'Геннадий Покемонов'},  \n",
    " {'type': 'insurance', 'number': '10006', 'name': 'Аристарх Павлов'}  \n",
    "]  \n",
    "перечень полок, на которых хранятся документы (если документ есть в documents, то он обязательно должен быть и в directories)  \n",
    "directories = {  \n",
    " '1': ['2207 876234', '11-2'],  \n",
    " '2': ['10006'],  \n",
    " '3': []  \n",
    "}  \n",
    "Общие требования к программе:  \n",
    "\n",
    "код должен быть грамотно декомпозирован (каждая функция отвечает за свою конкретную задачу, дублирующийся функционал переиспользуется,  а его код не повторяется); \n",
    "в коде отсутствуют глобальные переменные (за исключением documents и directories); \n",
    "пользовательский ввод обрабатывается в цикле while до тех пор, пока пользователь явно не завершит программу (вводом команды \"q\"). "
   ]
  },
  {
   "cell_type": "markdown",
   "metadata": {},
   "source": [
    "## Задание 1"
   ]
  },
  {
   "cell_type": "markdown",
   "metadata": {},
   "source": [
    "### Пункт 1. Пользователь по команде \"p\" может узнать владельца документа по его номеру\n",
    "Примеры работы:"
   ]
  },
  {
   "cell_type": "markdown",
   "metadata": {},
   "source": [
    "1.  \n",
    "\n",
    "Введите команду:  \n",
    "p  \n",
    "\n",
    "Введите номер документа:  \n",
    "10006  \n",
    "Результат:  \n",
    "Владелец документа: Аристарх Павлов  \n",
    "\n",
    "2.  \n",
    "\n",
    "Введите команду:  \n",
    "p  \n",
    "\n",
    "Введите номер документа:  \n",
    "12345  \n",
    "Результат:  \n",
    "Документ не найден в базе  "
   ]
  },
  {
   "cell_type": "code",
   "execution_count": 104,
   "metadata": {},
   "outputs": [],
   "source": [
    "documents = [ {'type': 'passport', 'number': '2207 876234', 'name': 'Василий Гупкин'},\n",
    "{'type': 'invoice', 'number': '11-2', 'name': 'Геннадий Покемонов'},\n",
    "{'type': 'insurance', 'number': '10006', 'name': 'Аристарх Павлов'}\n",
    "]"
   ]
  },
  {
   "cell_type": "code",
   "execution_count": 105,
   "metadata": {},
   "outputs": [],
   "source": [
    "directories = {\n",
    "'1': ['2207 876234', '11-2'],\n",
    "'2': ['10006'],\n",
    "'3': []\n",
    "}"
   ]
  },
  {
   "cell_type": "code",
   "execution_count": 106,
   "metadata": {},
   "outputs": [],
   "source": [
    "def get_doc_owner(doc_num):\n",
    "    \n",
    "    for doc in documents:       \n",
    "        if doc['number'] == doc_num:         \n",
    "            return doc['name']\n",
    "        \n",
    "    return 'Документ не найден в базе'"
   ]
  },
  {
   "cell_type": "code",
   "execution_count": 107,
   "metadata": {},
   "outputs": [],
   "source": [
    "def process_command_p():\n",
    "    print('Введите номер документа:')\n",
    "    doc_number = input() \n",
    "    print('Результат:')\n",
    "    print(get_doc_owner(doc_number))"
   ]
  },
  {
   "cell_type": "code",
   "execution_count": 108,
   "metadata": {},
   "outputs": [
    {
     "name": "stdout",
     "output_type": "stream",
     "text": [
      "Введите команду:\n",
      "p\n",
      "Введите номер документа:\n",
      "10006\n",
      "Результат:\n",
      "Аристарх Павлов\n"
     ]
    }
   ],
   "source": [
    "print('Введите команду:')\n",
    "command_code = input()\n",
    "if command_code == 'p': \n",
    "    process_command_p()\n",
    "    "
   ]
  },
  {
   "cell_type": "markdown",
   "metadata": {},
   "source": [
    "### Пункт 2. Пользователь по команде \"s\" может по номеру документа узнать на какой полке он хранится"
   ]
  },
  {
   "cell_type": "markdown",
   "metadata": {},
   "source": [
    "Примеры работы:  \n",
    "\n",
    "1.  \n",
    "\n",
    "Введите команду:  \n",
    "s  \n",
    "\n",
    "Введите номер документа:  \n",
    "10006  \n",
    "Результат:  \n",
    "Документ хранится на полке: 2  \n",
    "\n",
    "2.  \n",
    "\n",
    "Введите команду:  \n",
    "p  \n",
    "  \n",
    "Введите номер документа:  \n",
    "12345  \n",
    "Результат:  \n",
    "Документ не найден в базе  "
   ]
  },
  {
   "cell_type": "code",
   "execution_count": 90,
   "metadata": {},
   "outputs": [],
   "source": [
    "def get_dir_num(doc_num):\n",
    "    \n",
    "    for dirr in directories.keys(): \n",
    "        if doc_num in directories[dirr]:   \n",
    "            return dirr\n",
    "        \n",
    "    return 'Документ не найден в базе'"
   ]
  },
  {
   "cell_type": "code",
   "execution_count": 91,
   "metadata": {},
   "outputs": [],
   "source": [
    "def process_command_s():\n",
    "    print('Введите номер документа:')\n",
    "    doc_number = input() \n",
    "    print('Результат:')\n",
    "    print(get_dir_num(doc_number))"
   ]
  },
  {
   "cell_type": "code",
   "execution_count": 102,
   "metadata": {},
   "outputs": [
    {
     "name": "stdout",
     "output_type": "stream",
     "text": [
      "Введите команду:\n",
      "s\n",
      "Введите номер документа:\n",
      "123\n",
      "Результат:\n",
      "Документ не найден в базе\n"
     ]
    }
   ],
   "source": [
    "print('Введите команду:')\n",
    "command_code = input()\n",
    "if command_code == 's': \n",
    "    process_command_s()"
   ]
  },
  {
   "cell_type": "markdown",
   "metadata": {},
   "source": [
    "### Пункт 3. Пользователь по команде \"l\" может увидеть полную информацию по всем документам"
   ]
  },
  {
   "cell_type": "markdown",
   "metadata": {},
   "source": [
    "Пример работы:  \n",
    "\n",
    "Введите команду:  \n",
    "l  \n",
    "Результат:  \n",
    "\n",
    "№: 2207 876234, тип: passport, владелец: Василий Гупкин, полка хранения: 1  \n",
    "№: 11-2, тип: invoice, владелец: Геннадий Покемонов, полка хранения: 1  \n",
    "№: 10006, тип: insurance, владелец: Аристарх Павлов, полка хранения: 2  "
   ]
  },
  {
   "cell_type": "code",
   "execution_count": 93,
   "metadata": {},
   "outputs": [],
   "source": [
    "def get_full_info():    \n",
    "    for doc in documents:\n",
    "        print('№: ',doc['number'],', тип:',doc['type'],', владелец: ',doc['name'],', полка хранения:',get_dir_num(doc['number']))\n"
   ]
  },
  {
   "cell_type": "code",
   "execution_count": 94,
   "metadata": {},
   "outputs": [],
   "source": [
    "def process_command_l():\n",
    "    print('Результат:')\n",
    "    print(get_full_info())"
   ]
  },
  {
   "cell_type": "code",
   "execution_count": 100,
   "metadata": {},
   "outputs": [
    {
     "name": "stdout",
     "output_type": "stream",
     "text": [
      "Введите команду:\n",
      "l\n",
      "Результат:\n",
      "№:  2207 876234 , тип: passport , владелец:  Василий Гупкин , полка хранения: 1\n",
      "№:  11-2 , тип: invoice , владелец:  Геннадий Покемонов , полка хранения: 1\n",
      "№:  10006 , тип: insurance , владелец:  Аристарх Павлов , полка хранения: 2\n",
      "None\n"
     ]
    }
   ],
   "source": [
    "print('Введите команду:')\n",
    "command_code = input()\n",
    "if command_code == 'l': \n",
    "    process_command_l()"
   ]
  },
  {
   "cell_type": "markdown",
   "metadata": {},
   "source": [
    "### Пункт 4. Пользователь по команде \"ads\" может добавить новую полку"
   ]
  },
  {
   "cell_type": "markdown",
   "metadata": {},
   "source": [
    "Примеры работы:  \n",
    "\n",
    "1.  \n",
    "\n",
    "Введите команду:  \n",
    "ads  \n",
    "\n",
    "Введите номер полки:  \n",
    "10  \n",
    "Результат:  \n",
    "Полка добавлена. Текущий перечень полок: 1, 2, 3, 10.  \n",
    "\n",
    "2.  \n",
    "\n",
    "Введите команду:  \n",
    "ads  \n",
    "\n",
    "Введите номер полки:  \n",
    "1  \n",
    "Результат:  \n",
    "Такая полка уже существует. Текущий перечень полок: 1, 2, 3.  "
   ]
  },
  {
   "cell_type": "code",
   "execution_count": 96,
   "metadata": {},
   "outputs": [],
   "source": [
    "def process_command_ads(dir_num):\n",
    "    \n",
    "    if dir_num not in directories.keys():\n",
    "        directories[dir_num] = []\n",
    "        return str('Полка добавлена. Текущий перечень полок: ' + ', '.join(directories.keys()) + '.')\n",
    "    else:\n",
    "        return str('Такая полка уже существует. Текущий перечень полок: ' + ', '.join(directories.keys()) + '.')\n"
   ]
  },
  {
   "cell_type": "code",
   "execution_count": 101,
   "metadata": {},
   "outputs": [
    {
     "name": "stdout",
     "output_type": "stream",
     "text": [
      "Введите команду:\n",
      "ads\n",
      "Введите номер полки:\n",
      "3\n",
      "Такая полка уже существует. Текущий перечень полок: 1, 2, 3.\n"
     ]
    }
   ],
   "source": [
    "print('Введите команду:')\n",
    "command_code = input()\n",
    "if command_code == 'ads': \n",
    "    print('Введите номер полки:')\n",
    "    dir_num = input()\n",
    "    print(process_command_ads(dir_num))"
   ]
  },
  {
   "cell_type": "markdown",
   "metadata": {},
   "source": [
    "### Пункт 5. Пользователь по команде \"ds\" может удалить существующую полку из данных (только если она пустая)"
   ]
  },
  {
   "cell_type": "markdown",
   "metadata": {},
   "source": [
    "Примеры работы:  \n",
    "\n",
    "1.  \n",
    "\n",
    "Введите команду:  \n",
    "ds  \n",
    "\n",
    "Введите номер полки:  \n",
    "3  \n",
    "Результат:  \n",
    "Полка удалена. Текущий перечень полок: 1, 2.  \n",
    "\n",
    "2.  \n",
    "\n",
    "Введите команду:  \n",
    "ds  \n",
    "\n",
    "Введите номер полки:  \n",
    "1  \n",
    "Результат:  \n",
    "На полке есть документа, удалите их перед удалением полки. Текущий перечень полок: 1, 2, 3.  \n",
    "\n",
    "3.  \n",
    "\n",
    "Введите команду:  \n",
    "ds  \n",
    "\n",
    "Введите номер полки:  \n",
    "4  \n",
    "Результат:  \n",
    "Такой полки не существует. Текущий перечень полок: 1, 2, 3.  "
   ]
  },
  {
   "cell_type": "code",
   "execution_count": 98,
   "metadata": {},
   "outputs": [],
   "source": [
    "def process_command_ds(dir_num):\n",
    "    \n",
    "    if dir_num not in directories.keys():\n",
    "        return str('Такой полки не существует. Текущий перечень полок: ' + ', '.join(directories.keys()) + '.')\n",
    "    \n",
    "    else:\n",
    "        if directories[dir_num] == []:\n",
    "            directories.pop(dir_num, None)\n",
    "            return str('Полка удалена. Текущий перечень полок: ' + ', '.join(directories.keys()) + '.')\n",
    "        else:\n",
    "            return str('На полке есть документы, удалите их перед удалением полки.  Текущий перечень полок: ' + ', '.join(directories.keys()) + '.')\n",
    "        \n",
    "        \n"
   ]
  },
  {
   "cell_type": "code",
   "execution_count": 99,
   "metadata": {},
   "outputs": [
    {
     "name": "stdout",
     "output_type": "stream",
     "text": [
      "Введите команду:\n",
      "ds\n",
      "Введите номер полки:\n",
      "1\n",
      "На полке есть документы, удалите их перед удалением полки.  Текущий перечень полок: 1, 2, 3.\n"
     ]
    }
   ],
   "source": [
    "print('Введите команду:')\n",
    "command_code = input()\n",
    "if command_code == 'ds': \n",
    "    print('Введите номер полки:')\n",
    "    dir_num = input()\n",
    "    print(process_command_ds(dir_num))"
   ]
  },
  {
   "cell_type": "code",
   "execution_count": null,
   "metadata": {},
   "outputs": [],
   "source": []
  }
 ],
 "metadata": {
  "kernelspec": {
   "display_name": "Python 3",
   "language": "python",
   "name": "python3"
  },
  "language_info": {
   "codemirror_mode": {
    "name": "ipython",
    "version": 3
   },
   "file_extension": ".py",
   "mimetype": "text/x-python",
   "name": "python",
   "nbconvert_exporter": "python",
   "pygments_lexer": "ipython3",
   "version": "3.7.5"
  }
 },
 "nbformat": 4,
 "nbformat_minor": 2
}
