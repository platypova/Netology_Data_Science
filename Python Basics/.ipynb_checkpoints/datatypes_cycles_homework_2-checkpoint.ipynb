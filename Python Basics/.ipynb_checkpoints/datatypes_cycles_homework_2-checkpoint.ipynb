{
 "cells": [
  {
   "cell_type": "markdown",
   "metadata": {},
   "source": [
    "# Домашнее задание к лекции \"Введение в типы данных и циклы. Часть 2\"\n"
   ]
  },
  {
   "cell_type": "markdown",
   "metadata": {},
   "source": [
    "## Задание 1 "
   ]
  },
  {
   "cell_type": "markdown",
   "metadata": {},
   "source": [
    "Дана переменная, в которой хранится словарь, содержащий гео-метки для каждого пользователя (пример структуры данных приведен ниже).  Вам необходимо написать программу, которая выведет на экран множество уникальных гео-меток всех пользователей. \n",
    "\n",
    "Пример работы программы: \n",
    "\n",
    "ids = {'user1': [213, 213, 213, 15, 213],  \n",
    "        'user2': [54, 54, 119, 119, 119],  \n",
    "        'user3': [213, 98, 98, 35]} \n",
    "       \n",
    "Результат: {98, 35, 15, 213, 54, 119} \n",
    "\n"
   ]
  },
  {
   "cell_type": "code",
   "execution_count": 18,
   "metadata": {},
   "outputs": [],
   "source": [
    "def unique_markers(ids):\n",
    "    unique_ids = set()\n",
    "    for id_set in ids.values():\n",
    "        for id_item in id_set:\n",
    "            unique_ids.add(id_item)\n",
    "    return unique_ids"
   ]
  },
  {
   "cell_type": "code",
   "execution_count": 19,
   "metadata": {},
   "outputs": [],
   "source": [
    "ids = {'user1': [213, 213, 213, 15, 213],\n",
    "'user2': [54, 54, 119, 119, 119],\n",
    "'user3': [213, 98, 98, 35]}"
   ]
  },
  {
   "cell_type": "code",
   "execution_count": 20,
   "metadata": {},
   "outputs": [
    {
     "name": "stdout",
     "output_type": "stream",
     "text": [
      "Результат: {98, 35, 15, 213, 54, 119}\n"
     ]
    }
   ],
   "source": [
    "print('Результат:',unique_markers(ids))"
   ]
  },
  {
   "cell_type": "markdown",
   "metadata": {},
   "source": [
    "## Задание 2"
   ]
  },
  {
   "cell_type": "markdown",
   "metadata": {},
   "source": [
    "Дана переменная, в которой хранится список поисковых запросов пользователя (пример структуры данных приведен ниже). Вам необходимо написать программу, которая выведет на экран распределение количества слов в запросах в требуемом виде. \n",
    "\n",
    "Пример работы программы: \n",
    "\n",
    "queries = [\n",
    "    'смотреть сериалы онлайн',\n",
    "    'новости спорта',\n",
    "    'афиша кино',\n",
    "    'курс доллара',\n",
    "    'сериалы этим летом',\n",
    "    'курс по питону',\n",
    "    'сериалы про спорт',\n",
    "]\n",
    "Результат: \n",
    "\n",
    "Поисковых запросов, содержащих 2 слов(а): 42.86% \n",
    "Поисковых запросов, содержащих 3 слов(а): 57.14% "
   ]
  },
  {
   "cell_type": "code",
   "execution_count": 57,
   "metadata": {},
   "outputs": [],
   "source": [
    "def words_distribution(queries_list):\n",
    "     \n",
    "    queries_lengths = []\n",
    "    result = ''\n",
    "    \n",
    "    for query in queries_list:\n",
    "        queries_lengths.append(len(query.split(' ')))\n",
    "        \n",
    "    for length in set(queries_lengths):\n",
    "        \n",
    "        result = result + str('Поисковых запросов, содержащих ' + str(length) + ' слов(а): ' + '%.2f'%float((queries_lengths.count(length)/len(queries_list))*100) + '% ')\n",
    " \n",
    "    return result"
   ]
  },
  {
   "cell_type": "code",
   "execution_count": 58,
   "metadata": {},
   "outputs": [],
   "source": [
    "queries = [ 'смотреть сериалы онлайн', 'новости спорта', 'афиша кино', 'курс доллара', 'сериалы этим летом', 'курс по питону', 'сериалы про спорт', ]"
   ]
  },
  {
   "cell_type": "code",
   "execution_count": 59,
   "metadata": {},
   "outputs": [
    {
     "name": "stdout",
     "output_type": "stream",
     "text": [
      "Результат: Поисковых запросов, содержащих 2 слов(а): 42.86% Поисковых запросов, содержащих 3 слов(а): 57.14% \n"
     ]
    }
   ],
   "source": [
    "print('Результат:',words_distribution(queries))"
   ]
  },
  {
   "cell_type": "markdown",
   "metadata": {},
   "source": [
    "## Задание 3"
   ]
  },
  {
   "cell_type": "markdown",
   "metadata": {},
   "source": [
    "Дана переменная, в которой хранится информация о затратах и доходе рекламных кампаний по различным источникам.  \n",
    "Необходимо дополнить исходную структуру показателем ROI, который рассчитаем по формуле: (revenue / cost - 1) * 100 \n",
    "\n",
    "Пример работы программы: \n",
    "\n",
    "results = { \n",
    "    'vk': {'revenue': 103, 'cost': 98},\\\n",
    "    'yandex': {'revenue': 179, 'cost': 153},\\\n",
    "    'facebook': {'revenue': 103, 'cost': 110},\\\n",
    "    'adwords': {'revenue': 35, 'cost': 34},\\\n",
    "    'twitter': {'revenue': 11, 'cost': 24},\\\n",
    "}  \n",
    "Результат:  \n",
    "\n",
    "{ \n",
    "'adwords': {'cost': 34, 'revenue': 35, 'ROI': 2.94},\\\n",
    "'facebook': {'cost': 110, 'revenue': 103, 'ROI': -6.36},\\\n",
    "'twitter': {'cost': 24, 'revenue': 11, 'ROI': -54.17},\\\n",
    "'vk': {'cost': 98, 'revenue': 103, 'ROI': 5.1},\\\n",
    "'yandex': {'cost': 153, 'revenue': 179, 'ROI': 16.99}\\\n",
    " }  "
   ]
  },
  {
   "cell_type": "code",
   "execution_count": 73,
   "metadata": {},
   "outputs": [],
   "source": [
    "def add_roi(result):\n",
    "    \n",
    "    for key in result.keys():\n",
    "        result[key]['ROI'] = round((result[key]['revenue']/result[key]['cost']-1)*100,2)\n",
    "    \n",
    "    return result"
   ]
  },
  {
   "cell_type": "code",
   "execution_count": 74,
   "metadata": {},
   "outputs": [],
   "source": [
    "results = { 'vk': {'revenue': 103, 'cost': 98},\n",
    "'yandex': {'revenue': 179, 'cost': 153},\n",
    "'facebook': {'revenue': 103, 'cost': 110},\n",
    "'adwords': {'revenue': 35, 'cost': 34},\n",
    "'twitter': {'revenue': 11, 'cost': 24},\n",
    "}"
   ]
  },
  {
   "cell_type": "code",
   "execution_count": 81,
   "metadata": {},
   "outputs": [
    {
     "name": "stdout",
     "output_type": "stream",
     "text": [
      "Результат: \n"
     ]
    },
    {
     "data": {
      "text/plain": [
       "{'vk': {'revenue': 103, 'cost': 98, 'ROI': 5.1},\n",
       " 'yandex': {'revenue': 179, 'cost': 153, 'ROI': 16.99},\n",
       " 'facebook': {'revenue': 103, 'cost': 110, 'ROI': -6.36},\n",
       " 'adwords': {'revenue': 35, 'cost': 34, 'ROI': 2.94},\n",
       " 'twitter': {'revenue': 11, 'cost': 24, 'ROI': -54.17}}"
      ]
     },
     "execution_count": 81,
     "metadata": {},
     "output_type": "execute_result"
    }
   ],
   "source": [
    "print('Результат: ')\n",
    "add_roi(results)"
   ]
  },
  {
   "cell_type": "markdown",
   "metadata": {},
   "source": [
    "## Задание 4"
   ]
  },
  {
   "cell_type": "markdown",
   "metadata": {},
   "source": [
    "Дана переменная, в которой хранится статистика рекламных каналов по объемам продаж (пример структуры данных приведен ниже). Напишите программу, которая возвращает название канала с максимальным объемом продаж. \n",
    "\n",
    "Пример работы программы: \n",
    "\n",
    "stats = {'facebook': 55, 'yandex': 115, 'vk': 120, 'google': 99, 'email': 42, 'ok': 98} \n",
    "\n",
    "Результат: Максимальный объем продаж на рекламном канале: vk "
   ]
  },
  {
   "cell_type": "code",
   "execution_count": 104,
   "metadata": {},
   "outputs": [],
   "source": [
    "def max_value(stats):\n",
    "    \n",
    "    for key in stats.keys():\n",
    "        if stats[key] == max(stats.values()):\n",
    "            return str('Максимальный объем продаж на рекламном канале: ' + key)\n",
    "    "
   ]
  },
  {
   "cell_type": "code",
   "execution_count": 109,
   "metadata": {},
   "outputs": [],
   "source": [
    "stats = {'facebook': 55, 'yandex': 115, 'vk': 120, 'google': 99, 'email': 42, 'ok': 98} "
   ]
  },
  {
   "cell_type": "code",
   "execution_count": 110,
   "metadata": {},
   "outputs": [
    {
     "name": "stdout",
     "output_type": "stream",
     "text": [
      "Результат: Максимальный объем продаж на рекламном канале: vk\n"
     ]
    }
   ],
   "source": [
    "print('Результат:' , max_value(stats))"
   ]
  }
 ],
 "metadata": {
  "kernelspec": {
   "display_name": "Python 3",
   "language": "python",
   "name": "python3"
  },
  "language_info": {
   "codemirror_mode": {
    "name": "ipython",
    "version": 3
   },
   "file_extension": ".py",
   "mimetype": "text/x-python",
   "name": "python",
   "nbconvert_exporter": "python",
   "pygments_lexer": "ipython3",
   "version": "3.7.5"
  }
 },
 "nbformat": 4,
 "nbformat_minor": 2
}
