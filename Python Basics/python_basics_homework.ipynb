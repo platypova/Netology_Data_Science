{
 "cells": [
  {
   "cell_type": "markdown",
   "metadata": {},
   "source": [
    "# Домашнее задание к лекции \"Основы Python\""
   ]
  },
  {
   "cell_type": "markdown",
   "metadata": {},
   "source": [
    "## Задание выполнено Латыповой Полиной"
   ]
  },
  {
   "cell_type": "markdown",
   "metadata": {},
   "source": [
    "## Задание 1 "
   ]
  },
  {
   "cell_type": "markdown",
   "metadata": {},
   "source": [
    "Даны 2 переменных, в которых хранятся строки произвольной длины: <em>phrase_1</em> и <em>phrase_2</em>.\n",
    "Напишите код, который проверяет какая из этих строк длиннее.\n",
    "\n",
    "Примеры работы программы:\n",
    "\n",
    "phrase_1 = 'Насколько проще было бы писать программы, если бы не заказчики'  \n",
    "phrase_2 = '640Кб должно хватить для любых задач. Билл Гейтс (по легенде)'  \n",
    "\n",
    "Результат:  \n",
    "Фраза 1 длиннее фразы 2\n",
    "\n",
    "phrase_1 = '640Кб должно хватить для любых задач. Билл Гейтс (по легенде)'  \n",
    "phrase_2 = 'Насколько проще было бы писать программы, если бы не заказчики'  \n",
    "\n",
    "Результат:    \n",
    "Фраза 2 длиннее фразы 1  \n",
    "\n",
    "phrase_1 = 'Насколько проще было бы писать программы, если бы не заказчики'  \n",
    "phrase_2 = 'Насколько проще было бы писать программы, если бы не заказчики'   \n",
    "\n",
    "Результат:    \n",
    "Фразы равной длины  "
   ]
  },
  {
   "cell_type": "code",
   "execution_count": 30,
   "metadata": {},
   "outputs": [],
   "source": [
    "def compare_strings(phrase_1,phrase_2):\n",
    "    # функция сравнения длин строк\n",
    "    if len(phrase_1)>len(phrase_2):\n",
    "        return 'Фраза 1 длиннее фразы 2'\n",
    "    elif len(phrase_2)>len(phrase_1):\n",
    "        return 'Фраза 2 длиннее фразы 1'\n",
    "    else:\n",
    "        return 'Фразы равной длины'"
   ]
  },
  {
   "cell_type": "code",
   "execution_count": 31,
   "metadata": {},
   "outputs": [
    {
     "data": {
      "text/plain": [
       "'Фраза 1 длиннее фразы 2'"
      ]
     },
     "execution_count": 31,
     "metadata": {},
     "output_type": "execute_result"
    }
   ],
   "source": [
    "phrase_1 = 'Насколько проще было бы писать программы, если бы не заказчики'\n",
    "phrase_2 = '640Кб должно хватить для любых задач. Билл Гейтс (по легенде)' \n",
    "compare_strings(phrase_1,phrase_2)"
   ]
  },
  {
   "cell_type": "code",
   "execution_count": 32,
   "metadata": {},
   "outputs": [
    {
     "data": {
      "text/plain": [
       "'Фраза 2 длиннее фразы 1'"
      ]
     },
     "execution_count": 32,
     "metadata": {},
     "output_type": "execute_result"
    }
   ],
   "source": [
    "phrase_1 = '640Кб должно хватить для любых задач. Билл Гейтс (по легенде)'\n",
    "phrase_2 = 'Насколько проще было бы писать программы, если бы не заказчики' \n",
    "compare_strings(phrase_1,phrase_2)"
   ]
  },
  {
   "cell_type": "code",
   "execution_count": 33,
   "metadata": {},
   "outputs": [
    {
     "data": {
      "text/plain": [
       "'Фразы равной длины'"
      ]
     },
     "execution_count": 33,
     "metadata": {},
     "output_type": "execute_result"
    }
   ],
   "source": [
    "phrase_1 = 'Насколько проще было бы писать программы, если бы не заказчики'\n",
    "phrase_2 = 'Насколько проще было бы писать программы, если бы не заказчики' \n",
    "compare_strings(phrase_1,phrase_2)"
   ]
  },
  {
   "cell_type": "markdown",
   "metadata": {},
   "source": [
    "# Задание 2"
   ]
  },
  {
   "cell_type": "markdown",
   "metadata": {},
   "source": [
    "Дана переменная, в которой хранится четырехзначное число (год). Необходимо написать программу, которая выведет, является ли данный год високосным или обычным.  \n",
    "\n",
    "Пример работы программы:  \n",
    "\n",
    "year = 2020  \n",
    "Результат:  \n",
    "Високосный год  \n",
    "\n",
    "year = 2019  \n",
    "Результат:  \n",
    "Обычный год  "
   ]
  },
  {
   "cell_type": "code",
   "execution_count": 34,
   "metadata": {},
   "outputs": [],
   "source": [
    "def check_leap_year(year):\n",
    "    # функция определения високосного года\n",
    "    if year%4 == 0:\n",
    "        return 'Високосный год'\n",
    "    else:\n",
    "        return 'Обычный год'\n"
   ]
  },
  {
   "cell_type": "code",
   "execution_count": 35,
   "metadata": {},
   "outputs": [
    {
     "data": {
      "text/plain": [
       "'Високосный год'"
      ]
     },
     "execution_count": 35,
     "metadata": {},
     "output_type": "execute_result"
    }
   ],
   "source": [
    "check_leap_year(2020)"
   ]
  },
  {
   "cell_type": "code",
   "execution_count": 36,
   "metadata": {},
   "outputs": [
    {
     "data": {
      "text/plain": [
       "'Обычный год'"
      ]
     },
     "execution_count": 36,
     "metadata": {},
     "output_type": "execute_result"
    }
   ],
   "source": [
    "check_leap_year(2019)"
   ]
  },
  {
   "cell_type": "markdown",
   "metadata": {},
   "source": [
    "# Задание 3"
   ]
  },
  {
   "cell_type": "markdown",
   "metadata": {},
   "source": [
    "Необходимо написать программу, которая будет запрашивать у пользователя месяц и дату рождения и выводить соответствующий знак зодиака.  \n",
    "\n",
    "Пример работы программы:  \n",
    "\n",
    "Введите день:  \n",
    "30  \n",
    "\n",
    "Введите месяц:  \n",
    "Август  \n",
    "Результат:  \n",
    "Ваш знак зодиака: Дева  \n",
    "\n",
    "Введите день:  \n",
    "29  \n",
    "\n",
    "Введите месяц:  \n",
    "Октябрь  \n",
    "Результат:  \n",
    "Ваш знак зодиака: Скорпион  "
   ]
  },
  {
   "cell_type": "code",
   "execution_count": 120,
   "metadata": {},
   "outputs": [],
   "source": [
    "from ipywidgets  import *\n",
    "from IPython.display import display\n",
    "import time"
   ]
  },
  {
   "cell_type": "code",
   "execution_count": 136,
   "metadata": {},
   "outputs": [],
   "source": [
    "def define_zodiak(nday,nmonth):\n",
    "    \n",
    "    zodiak = \"\"\n",
    "    nday = int(nday)\n",
    "    \n",
    "    if nmonth == 'Январь':\n",
    "        if nday <20:\n",
    "            return 'Козерог'\n",
    "        else:\n",
    "            return 'Водолей'\n",
    "    \n",
    "    if nmonth == 'Февраль':\n",
    "        if nday <19:\n",
    "            return 'Водолей'\n",
    "        else:\n",
    "            return 'Рыбы'\n",
    "\n",
    "    if nmonth == 'Март':\n",
    "        if nday <20:\n",
    "            return 'Рыбы'\n",
    "        else:\n",
    "            return 'Овен'\n",
    "    \n",
    "    if nmonth == 'Апрель':\n",
    "        if nday <20:\n",
    "            return 'Овен'\n",
    "        else:\n",
    "            return 'Телец'\n",
    "    \n",
    "    if nmonth == 'Май':\n",
    "        if nday <22:\n",
    "            return 'Телец'\n",
    "        else:\n",
    "            return 'Близнецы'\n",
    "    \n",
    "    if nmonth == 'Июнь':\n",
    "        if nday <22:\n",
    "            return 'Близнецы'\n",
    "        else:\n",
    "            return 'Рак'\n",
    "    \n",
    "    if nmonth == 'Июль':\n",
    "        if nday <23:\n",
    "            return 'Рак'\n",
    "        else:\n",
    "            return 'Лев'\n",
    "        \n",
    "    if nmonth == 'Август':\n",
    "        if nday <23:\n",
    "            return 'Лев'\n",
    "        else:\n",
    "            return 'Дева'\n",
    "        \n",
    "    if nmonth == 'Сентябрь':\n",
    "        if nday <23:\n",
    "            return 'Дева'\n",
    "        else:\n",
    "            return 'Весы'\n",
    "        \n",
    "    if nmonth == 'Октябрь':\n",
    "        if nday <23:\n",
    "            return 'Весы'\n",
    "        else:\n",
    "            return 'Скорпион'\n",
    "        \n",
    "    if nmonth == 'Ноябрь':\n",
    "        if nday <22:\n",
    "            return 'Скорпион'\n",
    "        else:\n",
    "            return 'Стрелец'\n",
    "        \n",
    "    if nmonth == 'Декабрь':\n",
    "        if nday <22:\n",
    "            return 'Стрелец'\n",
    "        else:\n",
    "            return 'Козерог'\n",
    "            \n",
    "    \n",
    "    return zodiak"
   ]
  },
  {
   "cell_type": "code",
   "execution_count": 137,
   "metadata": {},
   "outputs": [],
   "source": [
    "layout=Layout(width='50%', height='80px'),"
   ]
  },
  {
   "cell_type": "code",
   "execution_count": 134,
   "metadata": {},
   "outputs": [
    {
     "name": "stdout",
     "output_type": "stream",
     "text": [
      "Введите день:\n"
     ]
    },
    {
     "data": {
      "application/vnd.jupyter.widget-view+json": {
       "model_id": "93b8cf4906ce4ee8a270fe2f981fbbf4",
       "version_major": 2,
       "version_minor": 0
      },
      "text/plain": [
       "Text(value='', placeholder='')"
      ]
     },
     "metadata": {},
     "output_type": "display_data"
    },
    {
     "name": "stdout",
     "output_type": "stream",
     "text": [
      "Введите месяц:\n"
     ]
    },
    {
     "data": {
      "application/vnd.jupyter.widget-view+json": {
       "model_id": "1da02db1e2ad45deaa356561829546fd",
       "version_major": 2,
       "version_minor": 0
      },
      "text/plain": [
       "Text(value='', placeholder='')"
      ]
     },
     "metadata": {},
     "output_type": "display_data"
    }
   ],
   "source": [
    "inp_day = ipywidgets.Text(\n",
    "value='',\n",
    "placeholder='',\n",
    "description='',\n",
    "disabled=False)\n",
    "print('Введите день:')\n",
    "display(inp_day)\n",
    "inp_month = ipywidgets.Text(\n",
    "value='',\n",
    "placeholder='',\n",
    "description='',\n",
    "disabled=False)\n",
    "print('Введите месяц:')\n",
    "display(inp_month)"
   ]
  },
  {
   "cell_type": "code",
   "execution_count": 138,
   "metadata": {},
   "outputs": [
    {
     "name": "stdout",
     "output_type": "stream",
     "text": [
      "Ваш знак зодиака: Стрелец\n"
     ]
    }
   ],
   "source": [
    "print('Ваш знак зодиака: '+ define_zodiak(inp_day.value, inp_month.value))"
   ]
  },
  {
   "cell_type": "markdown",
   "metadata": {},
   "source": [
    "# Задание 4"
   ]
  },
  {
   "cell_type": "markdown",
   "metadata": {},
   "source": [
    "Вам нужно написать программу для подбора упаковок по размерам товара. Размеры (ширина, длина, высота) хранятся в переменных (в сантиметрах):  \n",
    "\n",
    "Используйте следующие правила:  \n",
    "\n",
    "если каждое из трех измерений менее 15 сантиметров, то выведите на экран \"Коробка №1\";  \n",
    "если хотя бы одно из измерений больше 15 сантиметров, но менее 50 сантиметров, то выводите \"Коробка №2\";  \n",
    "если длина товара больше 2 метров, то выводите \"Упаковка для лыж\";  \n",
    "во всех остальных случаях выводите \"Стандартная коробка №3\".  \n",
    "Пример работы программы:  \n",
    "\n",
    "width = 15  \n",
    "length = 50  \n",
    "height = 15  \n",
    "Результат:  \n",
    "Стандартная коробка №3  \n",
    "\n",
    "width = 45  \n",
    "length = 205  \n",
    "height = 45  \n",
    "Результат:  \n",
    "Ищите упаковку для лыж  "
   ]
  },
  {
   "cell_type": "code",
   "execution_count": 150,
   "metadata": {},
   "outputs": [],
   "source": [
    "def box_type(width, length, height):\n",
    "    \n",
    "    minlength = 15\n",
    "    middlelength = 50\n",
    "    maxlength = 200\n",
    "    \n",
    "    if (width<minlength) & (length<minlength) & (height<minlength):\n",
    "        return \"Коробка №1\"\n",
    "    \n",
    "    if (width>minlength) & (width<middlelength):\n",
    "        return \"Коробка №2\"\n",
    "    \n",
    "    if (length>minlength) & (length<middlelength):\n",
    "        return \"Коробка №2\"\n",
    "\n",
    "    if (height>minlength) & (height<middlelength):\n",
    "        return \"Коробка №2\"\n",
    "    \n",
    "    if length>maxlength:\n",
    "        return \"Упаковка для лыж\" "
   ]
  },
  {
   "cell_type": "code",
   "execution_count": 147,
   "metadata": {},
   "outputs": [
    {
     "data": {
      "application/vnd.jupyter.widget-view+json": {
       "model_id": "81b4662599604082b062d7ae154cffea",
       "version_major": 2,
       "version_minor": 0
      },
      "text/plain": [
       "Text(value='', description='width = ', placeholder='')"
      ]
     },
     "metadata": {},
     "output_type": "display_data"
    },
    {
     "data": {
      "application/vnd.jupyter.widget-view+json": {
       "model_id": "b6cf841f807c440e9311b679607ee931",
       "version_major": 2,
       "version_minor": 0
      },
      "text/plain": [
       "Text(value='', description='length = ', placeholder='')"
      ]
     },
     "metadata": {},
     "output_type": "display_data"
    },
    {
     "data": {
      "application/vnd.jupyter.widget-view+json": {
       "model_id": "755cd3e6cf7747fc8aa76abea0c1cd70",
       "version_major": 2,
       "version_minor": 0
      },
      "text/plain": [
       "Text(value='', description='height = ', placeholder='')"
      ]
     },
     "metadata": {},
     "output_type": "display_data"
    }
   ],
   "source": [
    "inpw = ipywidgets.Text(\n",
    "value='',\n",
    "placeholder='',\n",
    "description='width = ',\n",
    "disabled=False)\n",
    "display(inpw)\n",
    "inpl = ipywidgets.Text(\n",
    "value='',\n",
    "placeholder='',\n",
    "description='length = ',\n",
    "disabled=False)\n",
    "display(inpl)\n",
    "inph = ipywidgets.Text(\n",
    "value='',\n",
    "placeholder='',\n",
    "description='height = ',\n",
    "disabled=False)\n",
    "display(inph)\n",
    "inph = widgets.BoundedIntText(\n",
    "    value=7,\n",
    "    step=1,\n",
    "    description='Text:',\n",
    "    disabled=False\n",
    ")"
   ]
  },
  {
   "cell_type": "code",
   "execution_count": 151,
   "metadata": {},
   "outputs": [
    {
     "name": "stdout",
     "output_type": "stream",
     "text": [
      "Результат: Упаковка для лыж\n"
     ]
    }
   ],
   "source": [
    "print('Результат: '+ box_type(int(inpw.value), int(inpl.value),int(inph.value)))"
   ]
  },
  {
   "cell_type": "markdown",
   "metadata": {},
   "source": [
    "# Задание 5 (необязательное)"
   ]
  },
  {
   "cell_type": "markdown",
   "metadata": {},
   "source": [
    "Дана переменная, в которой хранится шестизначное число (номер проездного билета). Напишите программу, которая будет определять, является ли данный билет \"счастливым\". Билет считается счастливым, если сумма первых трех цифр совпадает с суммой последних трех цифр номера.  \n",
    "\n",
    "Примеры работы программы:  \n",
    "\n",
    "number = 123456  \n",
    "Результат:  \n",
    "Неасчастливый билет  \n",
    "\n",
    "number = 123321  \n",
    "Результат:  \n",
    "Счастливый билет  "
   ]
  },
  {
   "cell_type": "code",
   "execution_count": 176,
   "metadata": {},
   "outputs": [],
   "source": [
    "def check_ticket(ticket_number):\n",
    "    # Функция, определяющая, счастливый ли билет\n",
    "    sum_a = 0\n",
    "    sum_b = 0\n",
    "    ticket_number = str(ticket_number)\n",
    "    \n",
    "    for i in range(int(len(ticket_number)/2)):\n",
    "        sum_a = sum_a + int(ticket_number[i])\n",
    "        sum_b = sum_b + int(ticket_number[i+int(len(ticket_number)/2)])\n",
    "    \n",
    "    if sum_a == sum_b:\n",
    "        return \"Счастливый\"\n",
    "    else:\n",
    "        return \"Несчастливый\""
   ]
  },
  {
   "cell_type": "code",
   "execution_count": 177,
   "metadata": {},
   "outputs": [],
   "source": [
    "# Введите номер билета:\n",
    "number = 123321"
   ]
  },
  {
   "cell_type": "code",
   "execution_count": 178,
   "metadata": {},
   "outputs": [
    {
     "name": "stdout",
     "output_type": "stream",
     "text": [
      "Результат: Счастливый\n"
     ]
    }
   ],
   "source": [
    "print('Результат: '+check_ticket(number))"
   ]
  }
 ],
 "metadata": {
  "kernelspec": {
   "display_name": "Python 3",
   "language": "python",
   "name": "python3"
  },
  "language_info": {
   "codemirror_mode": {
    "name": "ipython",
    "version": 3
   },
   "file_extension": ".py",
   "mimetype": "text/x-python",
   "name": "python",
   "nbconvert_exporter": "python",
   "pygments_lexer": "ipython3",
   "version": "3.7.5"
  }
 },
 "nbformat": 4,
 "nbformat_minor": 2
}
