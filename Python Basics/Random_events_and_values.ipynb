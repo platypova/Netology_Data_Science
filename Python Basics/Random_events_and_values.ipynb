{
 "cells": [
  {
   "cell_type": "markdown",
   "metadata": {},
   "source": [
    "# Домашнее задание к лекции «Случайные события. Случайные величины»\n"
   ]
  },
  {
   "cell_type": "markdown",
   "metadata": {},
   "source": [
    "Вопросы по заданию  \n",
    "Преподаватель: Олег Булыгин  \n",
    "Домашнее задание к лекции.  \n",
    "http://prntscr.com/uh35yg  \n",
    "  \n",
    "Смоделировать игру против лотерейного автомата типа “777”. Игрок платит 1 руб., после чего выпадает случайное целое число, равномерно распределенное от 0 до 999. При некоторых значениях числа игрок получает выигрыш (см. справа)  \n",
    "\n",
    "Выгодна ли игра игроку?  \n",
    "\n",
    "Сколько в среднем приобретает  \n",
    "или теряет игрок за одну игру?  \n",
    "\n",
    "777: 200 руб.  \n",
    "999: 100 руб.  \n",
    "555: 50 руб.  \n",
    "333: 15 руб.  \n",
    "111: 10 руб.  \n",
    "'77: 5 руб.  \n",
    "''7: 3 руб.  \n",
    "'00: 2 руб.  \n",
    "''0: 1 руб.  "
   ]
  },
  {
   "cell_type": "code",
   "execution_count": 43,
   "metadata": {},
   "outputs": [],
   "source": [
    "import numpy as np"
   ]
  },
  {
   "cell_type": "code",
   "execution_count": 81,
   "metadata": {},
   "outputs": [],
   "source": [
    "successfull = {777:200, 999:100, 555:50, 333:15, 111:10}"
   ]
  },
  {
   "cell_type": "code",
   "execution_count": 96,
   "metadata": {},
   "outputs": [],
   "source": [
    "trials = 100000    # Количество попыток\n",
    "money = 0"
   ]
  },
  {
   "cell_type": "code",
   "execution_count": 97,
   "metadata": {},
   "outputs": [],
   "source": [
    "gain = 0"
   ]
  },
  {
   "cell_type": "code",
   "execution_count": 98,
   "metadata": {},
   "outputs": [],
   "source": [
    "for i in range(trials):\n",
    "    money -= 1\n",
    "    random_score = np.random.randint(0, 1000)    # Случайное количество очков от 1 до 6\n",
    "    if random_score in successfull.keys():\n",
    "        money += successfull[random_score]\n",
    "        gain += successfull[random_score]\n",
    "    elif random_score % 100 == 0:\n",
    "        money += 2\n",
    "        gain += 2\n",
    "    elif random_score % 10 == 0:\n",
    "        money += 1\n",
    "        gain += 1\n",
    "    elif int(str(random_score)[-2:]) == 77:\n",
    "        money += 5\n",
    "        gain += 5\n",
    "    elif int(str(random_score)[-1]) == 7:\n",
    "        money += 5\n",
    "        gain += 5"
   ]
  },
  {
   "cell_type": "code",
   "execution_count": 99,
   "metadata": {},
   "outputs": [
    {
     "data": {
      "text/plain": [
       "-3505"
      ]
     },
     "execution_count": 99,
     "metadata": {},
     "output_type": "execute_result"
    }
   ],
   "source": [
    "money"
   ]
  },
  {
   "cell_type": "markdown",
   "metadata": {},
   "source": [
    "В среднем игрок приобретает за игру:"
   ]
  },
  {
   "cell_type": "code",
   "execution_count": 42,
   "metadata": {},
   "outputs": [
    {
     "data": {
      "text/plain": [
       "0.96633"
      ]
     },
     "execution_count": 42,
     "metadata": {},
     "output_type": "execute_result"
    }
   ],
   "source": [
    "gain/trials"
   ]
  },
  {
   "cell_type": "markdown",
   "metadata": {},
   "source": [
    "В среднем игрок теряет за игру: 1"
   ]
  },
  {
   "cell_type": "markdown",
   "metadata": {},
   "source": [
    "Вывод: в среднем игра не выгодна игроку. Однако при моделировании N игр мы можем как получить большой выигрыш, так и много потерять."
   ]
  },
  {
   "cell_type": "code",
   "execution_count": null,
   "metadata": {},
   "outputs": [],
   "source": []
  }
 ],
 "metadata": {
  "kernelspec": {
   "display_name": "Python 3",
   "language": "python",
   "name": "python3"
  },
  "language_info": {
   "codemirror_mode": {
    "name": "ipython",
    "version": 3
   },
   "file_extension": ".py",
   "mimetype": "text/x-python",
   "name": "python",
   "nbconvert_exporter": "python",
   "pygments_lexer": "ipython3",
   "version": "3.7.5"
  }
 },
 "nbformat": 4,
 "nbformat_minor": 2
}
